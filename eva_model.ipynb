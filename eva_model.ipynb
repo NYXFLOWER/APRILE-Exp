{
 "cells": [
  {
   "cell_type": "code",
   "execution_count": 1,
   "metadata": {},
   "outputs": [],
   "source": [
    "from src.layers import *\n",
    "from src.utils import process_edges, auprc_auroc_ap\n",
    "from sklearn.metrics import roc_curve, auc, precision_recall_curve, average_precision_score\n",
    "import matplotlib.pyplot as plt\n",
    "from scipy imporinterp\n",
    "from collections import OrderedDict\n",
    "import numpy as np\n",
    "from umap import UMAP"
   ]
  },
  {
   "cell_type": "code",
   "execution_count": 2,
   "metadata": {},
   "outputs": [
    {
     "output_type": "stream",
     "name": "stdout",
     "text": [
      "go-basic.obo: fmt(1.2) rel(2021-05-01) 47,284 GO Terms\n",
      "  EXISTS: gene2go\n",
      "HMS:0:00:06.084110 335,858 annotations, 20,671 genes, 18,441 GOs, 1 taxids READ: gene2go \n",
      "\n",
      "Load BP Gene Ontology Analysis ...\n",
      "fisher module not installed.  Falling back on scipy.stats.fisher_exact\n",
      " 81% 16,936 of 20,913 population items found in association\n",
      "\n",
      "Load CC Gene Ontology Analysis ...\n",
      "fisher module not installed.  Falling back on scipy.stats.fisher_exact\n",
      " 85% 17,872 of 20,913 population items found in association\n",
      "\n",
      "Load MF Gene Ontology Analysis ...\n",
      "fisher module not installed.  Falling back on scipy.stats.fisher_exact\n",
      " 83% 17,408 of 20,913 population items found in association\n"
     ]
    },
    {
     "output_type": "execute_result",
     "data": {
      "text/plain": [
       "Model(\n",
       "  (pp): PP(\n",
       "    (conv_list): ModuleList(\n",
       "      (0): myGCN(64, 32)\n",
       "      (1): myGCN(32, 32)\n",
       "    )\n",
       "  )\n",
       "  (pd): PD(\n",
       "    (conv): myGCN(128, 128)\n",
       "  )\n",
       "  (mip): MultiInnerProductDecoder()\n",
       ")"
      ]
     },
     "metadata": {},
     "execution_count": 2
    }
   ],
   "source": [
    "pose = Pose(data_dir, device='cpu')\n",
    "\n",
    "model = pose.model\n",
    "model.eval()\n"
   ]
  },
  {
   "cell_type": "code",
   "execution_count": 6,
   "metadata": {},
   "outputs": [],
   "source": [
    "def evaluate(mod: str, pos_score: torch.Tensor, neg_score: torch.Tensor) -> np.array:\n",
    "    assert mod in {'train', 'test'}, \"'idx' should in {'train', 'test'}\"\n",
    "    \n",
    "    record = np.zeros((3, gdata.n_et))\n",
    "    fpr = dict()\n",
    "    tpr = dict()\n",
    "    roc_auc = dict()\n",
    "    precision = dict()\n",
    "    recall = dict()\n",
    "    average_precision = dict()\n",
    "    \n",
    "    for i in range(getattr(gdata, f'{mod}_range').shape[0]):\n",
    "        [start, end] = getattr(gdata, f'{mod}_range')[i]\n",
    "        p_s = pos_score[start: end]\n",
    "        n_s = neg_score[start: end]\n",
    "\n",
    "        pos_target = torch.ones(p_s.shape[0])\n",
    "        neg_target = torch.zeros(n_s.shape[0])\n",
    "\n",
    "        score = torch.cat([p_s, n_s])\n",
    "        target = torch.cat([pos_target, neg_target])\n",
    "\n",
    "        # auprc_auroc_ap\n",
    "        record[0, i], record[1, i], record[2, i] = auprc_auroc_ap(target, score)\n",
    "        \n",
    "        # auroc\n",
    "        fpr[i], tpr[i], _ = roc_curve(target.detach().numpy(), score.detach().numpy())\n",
    "        roc_auc[i] = auc(fpr[i], tpr[i])\n",
    "        # auprc\n",
    "        precision[i], recall[i], _ = precision_recall_curve(target.detach().numpy(), score.detach().numpy())\n",
    "\n",
    "    return record, fpr, tpr, roc_auc, precision, recall, average_precision"
   ]
  },
  {
   "cell_type": "code",
   "execution_count": 7,
   "metadata": {},
   "outputs": [],
   "source": [
    "pp_static_edge_weights = torch.ones((gdata.pp_index.shape[1]))\n",
    "pd_static_edge_weights = torch.ones((gdata.pd_index.shape[1]))\n",
    "test_neg_index = typed_negative_sampling(gdata.test_idx, gdata.n_drug, gdata.test_range)\n",
    "\n",
    "z = model.pp(gdata.p_feat, gdata.pp_index, pp_static_edge_weights)\n",
    "z = model.pd(z, gdata.pd_index, pd_static_edge_weights)\n",
    "\n",
    "pos_score = model.mip(z, gdata.test_idx, gdata.test_et)\n",
    "neg_score = model.mip(z, test_neg_index, gdata.test_et)\n",
    "\n",
    "record, fpr, tpr, roc_auc, precision, recall, average_precision = evaluate('test', pos_score, neg_score)\n",
    "y_score = torch.cat((pos_score, neg_score)).detach().numpy()\n",
    "y_test = torch.cat((torch.ones(pos_score.shape[0]), torch.zeros(neg_score.shape[0]))).detach().numpy()\n",
    "\n",
    "# Compute micro-average ROC curve and ROC area\n",
    "fpr[\"micro\"], tpr[\"micro\"], _ = roc_curve(y_test, y_score)\n",
    "roc_auc[\"micro\"] = auc(fpr[\"micro\"], tpr[\"micro\"])\n",
    "\n",
    "# # Compute macro-average ROC curve and ROC area\n",
    "\n",
    "# # First aggregate all false positive rates\n",
    "# n_classes = record.shape[1]\n",
    "# all_fpr = np.unique(np.concatenate([fpr[i] for i in range(n_classes)]))\n",
    "\n",
    "# # Then interpolate all ROC curves at this points\n",
    "# mean_tpr = np.zeros_like(all_fpr)\n",
    "# for i in range(n_classes):\n",
    "#     mean_tpr += interp(all_fpr, fpr[i], tpr[i])\n",
    "\n",
    "# # Finally average it and compute AUC\n",
    "# mean_tpr /= n_classes\n",
    "\n",
    "# fpr[\"macro\"] = all_fpr\n",
    "# tpr[\"macro\"] = mean_tpr\n",
    "# roc_auc[\"macro\"] = auc(fpr[\"macro\"], tpr[\"macro\"])"
   ]
  },
  {
   "cell_type": "code",
   "execution_count": 10,
   "metadata": {},
   "outputs": [],
   "source": [
    "pp_static_edge_weights = torch.ones((gdata.pp_index.shape[1]))\n",
    "pd_static_edge_weights = torch.ones((gdata.pd_index.shape[1]))\n",
    "train_neg_index = typed_negative_sampling(gdata.train_idx, gdata.n_drug, gdata.train_range)\n",
    "\n",
    "z = model.pp(gdata.p_feat, gdata.pp_index, pp_static_edge_weights)\n",
    "z = model.pd(z, gdata.pd_index, pd_static_edge_weights)\n",
    "\n",
    "pos_score_train = model.mip(z, gdata.train_idx, gdata.train_et)\n",
    "neg_score_train = model.mip(z, train_neg_index, gdata.train_et)\n",
    "\n",
    "y_score_train = torch.cat((pos_score_train, neg_score_train)).detach().numpy()\n",
    "y_test_train = torch.cat((torch.ones(pos_score_train.shape[0]), torch.zeros(neg_score_train.shape[0]))).detach().numpy()\n",
    "\n",
    "record_train, fpr_train, tpr_train, roc_auc_train, _, _, _ = evaluate('train', pos_score_train, neg_score_train)\n",
    "\n",
    "# Compute micro-average ROC curve and ROC area_train\n",
    "fpr_train[\"micro\"], tpr_train[\"micro\"], _ = roc_curve(y_test_train, y_score_train)\n",
    "roc_auc_train[\"micro\"] = auc(fpr_train[\"micro\"], tpr_train[\"micro\"])"
   ]
  },
  {
   "cell_type": "code",
   "execution_count": null,
   "metadata": {},
   "outputs": [],
   "source": [
    "plt.figure()\n",
    "plt.plot(fpr_train[\"micro\"], tpr_train[\"micro\"],\n",
    "         label='Train - Mi-ROC curve (area = {0:0.4f})'\n",
    "               ''.format(roc_auc_train[\"micro\"]),\n",
    "         color='darkblue', linestyle='-', linewidth=2, alpha=0.5)\n",
    "\n",
    "# plt.plot(fpr_train[\"macro\"], tpr_train[\"macro\"],\n",
    "#          label='Test - Ma-ROC curve for test (area = {0:0.2f})'\n",
    "#                ''.format(roc_auc_train[\"macro\"]),\n",
    "#          color='darkorange', linestyle='dashdot', linewidth=2)\n",
    "\n",
    "plt.plot(fpr[\"micro\"], tpr[\"micro\"],\n",
    "         label='Test - Mi-ROC curve (area = {0:0.4f})'\n",
    "               ''.format(roc_auc[\"micro\"]),\n",
    "         color='darkorange', linestyle='-', linewidth=2, alpha=0.5)\n",
    "\n",
    "plt.plot(fpr[\"macro\"], tpr[\"macro\"],\n",
    "         label='Test - Ma-ROC curve for test (area = {0:0.4f})'\n",
    "               ''.format(roc_auc[\"macro\"]),\n",
    "         color='darkorange', linestyle='dashdot', linewidth=2, alpha=0.5)\n",
    "\n",
    "plt.plot([0, 1], [0, 1], 'k--', lw=lw)\n",
    "plt.xlim([0.0, 1.0])\n",
    "plt.ylim([0.0, 1.05])\n",
    "plt.xlabel('False Positive Rate')\n",
    "plt.ylabel('True Positive Rate')\n",
    "plt.title('Some extension of Receiver operating characteristic to multi-class')\n",
    "plt.legend(loc=\"lower right\")\n",
    "plt.show()\n"
   ]
  },
  {
   "cell_type": "code",
   "execution_count": 86,
   "metadata": {},
   "outputs": [
    {
     "data": {
      "text/plain": [
       "(array([0.85682845, 0.88356708, 0.85718549]),\n",
       " array([0.7946841 , 0.83275441, 0.79720226]))"
      ]
     },
     "execution_count": 86,
     "metadata": {},
     "output_type": "execute_result"
    }
   ],
   "source": [
    "record_train.mean(axis=1), record.mean(axis=1)"
   ]
  },
  {
   "cell_type": "code",
   "execution_count": 95,
   "metadata": {},
   "outputs": [
    {
     "name": "stdout",
     "output_type": "stream",
     "text": [
      "micro-prc - train - 0.8345149626588475\n",
      "micro-prc - test - 0.8347589294847769\n"
     ]
    }
   ],
   "source": [
    "y, xx, _ = precision_recall_curve(y_test_train, y_score_train)\n",
    "auprc = auc(xx, y)\n",
    "print(f\"micro-prc - train - {auprc}\")\n",
    "y, xx, _ = precision_recall_curve(y_test, y_score)\n",
    "auprc = auc(xx, y)\n",
    "print(f\"micro-prc - test - {auprc}\")"
   ]
  },
  {
   "cell_type": "markdown",
   "metadata": {},
   "source": [
    "### side effect embedding learned from pose-pred\n",
    "\n"
   ]
  },
  {
   "cell_type": "code",
   "execution_count": 8,
   "metadata": {},
   "outputs": [
    {
     "output_type": "execute_result",
     "data": {
      "text/plain": [
       "(861, 160)"
      ]
     },
     "metadata": {},
     "execution_count": 8
    }
   ],
   "source": [
    "# get trined embedding of side effects\n",
    "side_effect_embedding = model.mip.weight.data.numpy()\n",
    "side_effect_embedding.shape"
   ]
  },
  {
   "cell_type": "code",
   "execution_count": 3,
   "metadata": {},
   "outputs": [
    {
     "output_type": "execute_result",
     "data": {
      "text/plain": [
       "          side effect catagory                                catagory name\n",
       "0         atelectasis      C08                   respiratory tract diseases\n",
       "1           back ache      C23  pathological conditions, signs and symptoms\n",
       "2          lung edema      C08                   respiratory tract diseases\n",
       "3            acidosis      C18           nutritional and metabolic diseases\n",
       "4            peliosis      C06                    digestive system diseases\n",
       "..                ...      ...                                          ...\n",
       "838  corneal abrasion      C10                      nervous system diseases\n",
       "839  corneal abrasion      C11                                 eye diseases\n",
       "840  corneal abrasion      C26                          wounds and injuries\n",
       "841            bunion      C05                     musculoskeletal diseases\n",
       "842        asthenopia      C11                                 eye diseases\n",
       "\n",
       "[843 rows x 3 columns]"
      ],
      "text/html": "<div>\n<style scoped>\n    .dataframe tbody tr th:only-of-type {\n        vertical-align: middle;\n    }\n\n    .dataframe tbody tr th {\n        vertical-align: top;\n    }\n\n    .dataframe thead th {\n        text-align: right;\n    }\n</style>\n<table border=\"1\" class=\"dataframe\">\n  <thead>\n    <tr style=\"text-align: right;\">\n      <th></th>\n      <th>side effect</th>\n      <th>catagory</th>\n      <th>catagory name</th>\n    </tr>\n  </thead>\n  <tbody>\n    <tr>\n      <th>0</th>\n      <td>atelectasis</td>\n      <td>C08</td>\n      <td>respiratory tract diseases</td>\n    </tr>\n    <tr>\n      <th>1</th>\n      <td>back ache</td>\n      <td>C23</td>\n      <td>pathological conditions, signs and symptoms</td>\n    </tr>\n    <tr>\n      <th>2</th>\n      <td>lung edema</td>\n      <td>C08</td>\n      <td>respiratory tract diseases</td>\n    </tr>\n    <tr>\n      <th>3</th>\n      <td>acidosis</td>\n      <td>C18</td>\n      <td>nutritional and metabolic diseases</td>\n    </tr>\n    <tr>\n      <th>4</th>\n      <td>peliosis</td>\n      <td>C06</td>\n      <td>digestive system diseases</td>\n    </tr>\n    <tr>\n      <th>...</th>\n      <td>...</td>\n      <td>...</td>\n      <td>...</td>\n    </tr>\n    <tr>\n      <th>838</th>\n      <td>corneal abrasion</td>\n      <td>C10</td>\n      <td>nervous system diseases</td>\n    </tr>\n    <tr>\n      <th>839</th>\n      <td>corneal abrasion</td>\n      <td>C11</td>\n      <td>eye diseases</td>\n    </tr>\n    <tr>\n      <th>840</th>\n      <td>corneal abrasion</td>\n      <td>C26</td>\n      <td>wounds and injuries</td>\n    </tr>\n    <tr>\n      <th>841</th>\n      <td>bunion</td>\n      <td>C05</td>\n      <td>musculoskeletal diseases</td>\n    </tr>\n    <tr>\n      <th>842</th>\n      <td>asthenopia</td>\n      <td>C11</td>\n      <td>eye diseases</td>\n    </tr>\n  </tbody>\n</table>\n<p>843 rows × 3 columns</p>\n</div>"
     },
     "metadata": {},
     "execution_count": 3
    }
   ],
   "source": [
    "# load side effect catagory\n",
    "se_c = pandas.read_csv('index-map/side_effect+catagory.tsv', sep='\\t')\n",
    "se_c"
   ]
  },
  {
   "cell_type": "code",
   "execution_count": 4,
   "metadata": {},
   "outputs": [],
   "source": [
    "# side effect mapping\n",
    "se_name2idx, se_idx2name = {}, {}\n",
    "for se, idx in gdata.side_effect_name_to_idx.items():\n",
    "    se = se.lower()\n",
    "    se_name2idx[se] = idx\n",
    "    se_idx2name[idx] = se"
   ]
  },
  {
   "cell_type": "code",
   "execution_count": 5,
   "metadata": {},
   "outputs": [],
   "source": [
    "cata2se, cata2name = OrderedDict(), OrderedDict()\n",
    "for se, ca, na in se_c.values:\n",
    "    if ca == 'C23':\n",
    "        ca = 'S'\n",
    "    if cata2se.get(ca) is None:\n",
    "        cata2se[ca] = []\n",
    "    if cata2name.get(ca) is None:\n",
    "        cata2name[ca] = na\n",
    "    cata2se[ca].append(se_name2idx[se.lower()])\n",
    "    se_set = set()\n",
    "\n",
    "# update symptom cata\n",
    "for ca, ses in cata2se.items():\n",
    "    if ca == 'S':\n",
    "        continue\n",
    "    se_set.update(set(ses))\n",
    "se_all = set(range(gdata.n_et))\n",
    "se_tmp = (se_all - se_set) | set(cata2se['S'])\n",
    "cata2se['S'] = list(se_tmp)\n"
   ]
  },
  {
   "cell_type": "code",
   "execution_count": 6,
   "metadata": {},
   "outputs": [],
   "source": [
    "v = list(cata2se.values())[0]"
   ]
  },
  {
   "cell_type": "code",
   "execution_count": 9,
   "metadata": {},
   "outputs": [],
   "source": [
    "se_ca_embed = np.concatenate([side_effect_embedding[v].mean(axis=0) for v in list(cata2se.values())]).reshape((-1, side_effect_embedding.shape[1]))\n",
    "se_ca_embed = np.concatenate((se_ca_embed, side_effect_embedding[cata2se['F']]), axis=0)"
   ]
  },
  {
   "cell_type": "code",
   "execution_count": 13,
   "metadata": {},
   "outputs": [],
   "source": [
    "ca_embed = se_ca_embed[:22]"
   ]
  },
  {
   "cell_type": "code",
   "execution_count": 14,
   "metadata": {},
   "outputs": [
    {
     "output_type": "execute_result",
     "data": {
      "text/plain": [
       "           x          y category  n_se  \\\n",
       "8   4.737510   8.858061      C01    50   \n",
       "10  6.224280   8.271191      C04    32   \n",
       "17  6.210504   8.924448      C05    38   \n",
       "3   4.216232   9.131621      C06    55   \n",
       "18  6.037347   8.604804      C07    18   \n",
       "0   4.183841   9.743940      C08    39   \n",
       "16  4.940152  11.090220      C09    21   \n",
       "9   4.262570  11.085861      C10    96   \n",
       "11  4.915984  10.317763      C11    24   \n",
       "12  4.903810   9.444127      C12    30   \n",
       "13  5.278651   9.622085      C13    39   \n",
       "4   4.428204   8.473840      C14    68   \n",
       "7   4.164100   8.717392      C15    23   \n",
       "21  5.260113   8.542829      C16     6   \n",
       "15  6.699581   8.731540      C17    44   \n",
       "2   5.208558   8.968893      C18    32   \n",
       "19  5.700172   9.978020      C19    17   \n",
       "5   5.737392   7.886411      C20    19   \n",
       "6   6.476809   9.600780      C25     7   \n",
       "14  5.991090  11.384032      C26    16   \n",
       "20  6.708154  11.197752        F     9   \n",
       "1   5.752867   9.234724        S   485   \n",
       "\n",
       "                                              cat_all color  \n",
       "8                                      C01-infections     C  \n",
       "10                                      C04-neoplasms     C  \n",
       "17                       C05-musculoskeletal diseases     C  \n",
       "3                       C06-digestive system diseases     C  \n",
       "18                        C07-stomatognathic diseases     C  \n",
       "0                      C08-respiratory tract diseases     C  \n",
       "16                  C09-otorhinolaryngologic diseases     C  \n",
       "9                         C10-nervous system diseases     C  \n",
       "11                                   C11-eye diseases     C  \n",
       "12                       C12-male urogenital diseases     C  \n",
       "13  C13-female urogenital diseases and pregnancy c...     C  \n",
       "4                         C14-cardiovascular diseases     C  \n",
       "7                    C15-hemic and lymphatic diseases     C  \n",
       "21  C16-congenital, hereditary, and neonatal disea...     C  \n",
       "15            C17-skin and connective tissue diseases     C  \n",
       "2              C18-nutritional and metabolic diseases     C  \n",
       "19                      C19-endocrine system diseases     C  \n",
       "5                          C20-immune system diseases     C  \n",
       "6                    C25-chemically-induced disorders     C  \n",
       "14                            C26-wounds and injuries     C  \n",
       "20                                F-mental discorders     F  \n",
       "1       S-pathological conditions, signs and symptoms     S  "
      ],
      "text/html": "<div>\n<style scoped>\n    .dataframe tbody tr th:only-of-type {\n        vertical-align: middle;\n    }\n\n    .dataframe tbody tr th {\n        vertical-align: top;\n    }\n\n    .dataframe thead th {\n        text-align: right;\n    }\n</style>\n<table border=\"1\" class=\"dataframe\">\n  <thead>\n    <tr style=\"text-align: right;\">\n      <th></th>\n      <th>x</th>\n      <th>y</th>\n      <th>category</th>\n      <th>n_se</th>\n      <th>cat_all</th>\n      <th>color</th>\n    </tr>\n  </thead>\n  <tbody>\n    <tr>\n      <th>8</th>\n      <td>4.737510</td>\n      <td>8.858061</td>\n      <td>C01</td>\n      <td>50</td>\n      <td>C01-infections</td>\n      <td>C</td>\n    </tr>\n    <tr>\n      <th>10</th>\n      <td>6.224280</td>\n      <td>8.271191</td>\n      <td>C04</td>\n      <td>32</td>\n      <td>C04-neoplasms</td>\n      <td>C</td>\n    </tr>\n    <tr>\n      <th>17</th>\n      <td>6.210504</td>\n      <td>8.924448</td>\n      <td>C05</td>\n      <td>38</td>\n      <td>C05-musculoskeletal diseases</td>\n      <td>C</td>\n    </tr>\n    <tr>\n      <th>3</th>\n      <td>4.216232</td>\n      <td>9.131621</td>\n      <td>C06</td>\n      <td>55</td>\n      <td>C06-digestive system diseases</td>\n      <td>C</td>\n    </tr>\n    <tr>\n      <th>18</th>\n      <td>6.037347</td>\n      <td>8.604804</td>\n      <td>C07</td>\n      <td>18</td>\n      <td>C07-stomatognathic diseases</td>\n      <td>C</td>\n    </tr>\n    <tr>\n      <th>0</th>\n      <td>4.183841</td>\n      <td>9.743940</td>\n      <td>C08</td>\n      <td>39</td>\n      <td>C08-respiratory tract diseases</td>\n      <td>C</td>\n    </tr>\n    <tr>\n      <th>16</th>\n      <td>4.940152</td>\n      <td>11.090220</td>\n      <td>C09</td>\n      <td>21</td>\n      <td>C09-otorhinolaryngologic diseases</td>\n      <td>C</td>\n    </tr>\n    <tr>\n      <th>9</th>\n      <td>4.262570</td>\n      <td>11.085861</td>\n      <td>C10</td>\n      <td>96</td>\n      <td>C10-nervous system diseases</td>\n      <td>C</td>\n    </tr>\n    <tr>\n      <th>11</th>\n      <td>4.915984</td>\n      <td>10.317763</td>\n      <td>C11</td>\n      <td>24</td>\n      <td>C11-eye diseases</td>\n      <td>C</td>\n    </tr>\n    <tr>\n      <th>12</th>\n      <td>4.903810</td>\n      <td>9.444127</td>\n      <td>C12</td>\n      <td>30</td>\n      <td>C12-male urogenital diseases</td>\n      <td>C</td>\n    </tr>\n    <tr>\n      <th>13</th>\n      <td>5.278651</td>\n      <td>9.622085</td>\n      <td>C13</td>\n      <td>39</td>\n      <td>C13-female urogenital diseases and pregnancy c...</td>\n      <td>C</td>\n    </tr>\n    <tr>\n      <th>4</th>\n      <td>4.428204</td>\n      <td>8.473840</td>\n      <td>C14</td>\n      <td>68</td>\n      <td>C14-cardiovascular diseases</td>\n      <td>C</td>\n    </tr>\n    <tr>\n      <th>7</th>\n      <td>4.164100</td>\n      <td>8.717392</td>\n      <td>C15</td>\n      <td>23</td>\n      <td>C15-hemic and lymphatic diseases</td>\n      <td>C</td>\n    </tr>\n    <tr>\n      <th>21</th>\n      <td>5.260113</td>\n      <td>8.542829</td>\n      <td>C16</td>\n      <td>6</td>\n      <td>C16-congenital, hereditary, and neonatal disea...</td>\n      <td>C</td>\n    </tr>\n    <tr>\n      <th>15</th>\n      <td>6.699581</td>\n      <td>8.731540</td>\n      <td>C17</td>\n      <td>44</td>\n      <td>C17-skin and connective tissue diseases</td>\n      <td>C</td>\n    </tr>\n    <tr>\n      <th>2</th>\n      <td>5.208558</td>\n      <td>8.968893</td>\n      <td>C18</td>\n      <td>32</td>\n      <td>C18-nutritional and metabolic diseases</td>\n      <td>C</td>\n    </tr>\n    <tr>\n      <th>19</th>\n      <td>5.700172</td>\n      <td>9.978020</td>\n      <td>C19</td>\n      <td>17</td>\n      <td>C19-endocrine system diseases</td>\n      <td>C</td>\n    </tr>\n    <tr>\n      <th>5</th>\n      <td>5.737392</td>\n      <td>7.886411</td>\n      <td>C20</td>\n      <td>19</td>\n      <td>C20-immune system diseases</td>\n      <td>C</td>\n    </tr>\n    <tr>\n      <th>6</th>\n      <td>6.476809</td>\n      <td>9.600780</td>\n      <td>C25</td>\n      <td>7</td>\n      <td>C25-chemically-induced disorders</td>\n      <td>C</td>\n    </tr>\n    <tr>\n      <th>14</th>\n      <td>5.991090</td>\n      <td>11.384032</td>\n      <td>C26</td>\n      <td>16</td>\n      <td>C26-wounds and injuries</td>\n      <td>C</td>\n    </tr>\n    <tr>\n      <th>20</th>\n      <td>6.708154</td>\n      <td>11.197752</td>\n      <td>F</td>\n      <td>9</td>\n      <td>F-mental discorders</td>\n      <td>F</td>\n    </tr>\n    <tr>\n      <th>1</th>\n      <td>5.752867</td>\n      <td>9.234724</td>\n      <td>S</td>\n      <td>485</td>\n      <td>S-pathological conditions, signs and symptoms</td>\n      <td>S</td>\n    </tr>\n  </tbody>\n</table>\n</div>"
     },
     "metadata": {},
     "execution_count": 14
    }
   ],
   "source": [
    "umap = UMAP(n_components=2, init='random', random_state=8)\n",
    "se_umap_np = umap.fit_transform(se_ca_embed)\n",
    "se_umap = pandas.DataFrame(se_umap_np[:22, :], columns=['x', 'y'])\n",
    "se_umap['category'] = [f\"{i}\" for i in cata2se.keys()]\n",
    "se_umap['n_se'] = [len(v) for v in cata2se.values()]\n",
    "se_umap['cat_all'] = [f\"{i}-{cata2name[i]}\" for i in cata2se.keys()]\n",
    "se_umap['color'] = [f\"{i[0]}\" for i in cata2se.keys()]\n",
    "se_umap.sort_values(by='category')\n",
    "\n"
   ]
  },
  {
   "cell_type": "code",
   "execution_count": 147,
   "metadata": {},
   "outputs": [
    {
     "data": {
      "text/plain": [
       "(22, 6)"
      ]
     },
     "execution_count": 147,
     "metadata": {},
     "output_type": "execute_result"
    }
   ],
   "source": []
  },
  {
   "cell_type": "code",
   "execution_count": 75,
   "metadata": {},
   "outputs": [],
   "source": [
    "se_umap.to_csv('se_embed_2d_pred.csv')"
   ]
  },
  {
   "cell_type": "code",
   "execution_count": 15,
   "metadata": {},
   "outputs": [],
   "source": [
    "import plotly.graph_objects as go\n",
    "import plotly.express as px"
   ]
  },
  {
   "cell_type": "code",
   "execution_count": 16,
   "metadata": {},
   "outputs": [],
   "source": [
    "# plot mental disorder\n",
    "se_umap_md = se_umap_np[22:]"
   ]
  },
  {
   "cell_type": "code",
   "execution_count": 156,
   "metadata": {},
   "outputs": [
    {
     "data": {
      "application/vnd.plotly.v1+json": {
       "config": {
        "plotlyServerURL": "https://plot.ly"
       },
       "data": [
        {
         "marker": {
          "color": [
           "rgb(93, 164, 214)",
           "rgb(44, 160, 101)",
           "rgb(93, 164, 214)",
           "rgb(93, 164, 214)",
           "rgb(93, 164, 214)",
           "rgb(93, 164, 214)",
           "rgb(93, 164, 214)",
           "rgb(93, 164, 214)",
           "rgb(93, 164, 214)",
           "rgb(93, 164, 214)",
           "rgb(93, 164, 214)",
           "rgb(93, 164, 214)",
           "rgb(93, 164, 214)",
           "rgb(93, 164, 214)",
           "rgb(93, 164, 214)",
           "rgb(93, 164, 214)",
           "rgb(93, 164, 214)",
           "rgb(93, 164, 214)",
           "rgb(93, 164, 214)",
           "rgb(93, 164, 214)",
           "rgb(255, 65, 54)",
           "rgb(93, 164, 214)"
          ],
          "opacity": 0.3,
          "size": [
           54.9534246919447,
           92.76223336406225,
           51.986038541995896,
           60.10999777848707,
           63.292615577641605,
           44.1665846874966,
           29.1886522358297,
           47.032413238937245,
           58.68034508142219,
           68.46522287201753,
           51.986038541995896,
           47.67080745521918,
           51.01796072493233,
           54.9534246919447,
           41.58883083359672,
           56.76284450877392,
           45.667836565851346,
           54.56379239589579,
           43.35557636844247,
           42.49820016084324,
           32.95836866004329,
           26.876392038420825
          ]
         },
         "mode": "markers+text",
         "text": [
          "C08",
          "S",
          "C18",
          "C06",
          "C14",
          "C20",
          "C25",
          "C15",
          "C01",
          "C10",
          "C04",
          "C11",
          "C12",
          "C13",
          "C26",
          "C17",
          "C09",
          "C05",
          "C07",
          "C19",
          "F",
          "C16"
         ],
         "textfont": {
          "family": "sans serif",
          "size": 15
         },
         "textposition": "middle center",
         "type": "scatter",
         "x": [
          4.183841228485107,
          5.752866744995117,
          5.208557605743408,
          4.216231822967529,
          4.428203582763672,
          5.737391948699951,
          6.476808547973633,
          4.16409969329834,
          4.737509727478027,
          4.262569904327393,
          6.224279880523682,
          4.915984153747559,
          4.903809547424316,
          5.278651237487793,
          5.991089820861816,
          6.699581146240234,
          4.940151691436768,
          6.210503578186035,
          6.037346839904785,
          5.700171947479248,
          6.708154201507568,
          5.260112762451172
         ],
         "y": [
          9.743940353393555,
          9.234724044799805,
          8.968893051147461,
          9.131621360778809,
          8.47383975982666,
          7.886410713195801,
          9.60077953338623,
          8.717391967773438,
          8.858060836791992,
          11.085861206054688,
          8.271190643310547,
          10.317763328552246,
          9.444127082824707,
          9.622084617614746,
          11.384032249450684,
          8.731539726257324,
          11.09022045135498,
          8.924448013305664,
          8.604804039001465,
          9.978019714355469,
          11.197751998901367,
          8.542828559875488
         ]
        },
        {
         "mode": "markers",
         "type": "scatter",
         "x": [
          4.3726115226745605,
          5.980833530426025,
          5.632668972015381,
          6.893798828125,
          5.3494181632995605,
          6.311934471130371,
          6.466938018798828,
          6.513947010040283,
          5.323134899139404
         ],
         "y": [
          10.582802772521973,
          10.580560684204102,
          11.058001518249512,
          10.405669212341309,
          10.485204696655273,
          10.052050590515137,
          11.47336196899414,
          10.867039680480957,
          11.48563289642334
         ]
        }
       ],
       "layout": {
        "plot_bgcolor": "#FFF",
        "template": {
         "data": {
          "bar": [
           {
            "error_x": {
             "color": "#2a3f5f"
            },
            "error_y": {
             "color": "#2a3f5f"
            },
            "marker": {
             "line": {
              "color": "#E5ECF6",
              "width": 0.5
             }
            },
            "type": "bar"
           }
          ],
          "barpolar": [
           {
            "marker": {
             "line": {
              "color": "#E5ECF6",
              "width": 0.5
             }
            },
            "type": "barpolar"
           }
          ],
          "carpet": [
           {
            "aaxis": {
             "endlinecolor": "#2a3f5f",
             "gridcolor": "white",
             "linecolor": "white",
             "minorgridcolor": "white",
             "startlinecolor": "#2a3f5f"
            },
            "baxis": {
             "endlinecolor": "#2a3f5f",
             "gridcolor": "white",
             "linecolor": "white",
             "minorgridcolor": "white",
             "startlinecolor": "#2a3f5f"
            },
            "type": "carpet"
           }
          ],
          "choropleth": [
           {
            "colorbar": {
             "outlinewidth": 0,
             "ticks": ""
            },
            "type": "choropleth"
           }
          ],
          "contour": [
           {
            "colorbar": {
             "outlinewidth": 0,
             "ticks": ""
            },
            "colorscale": [
             [
              0,
              "#0d0887"
             ],
             [
              0.1111111111111111,
              "#46039f"
             ],
             [
              0.2222222222222222,
              "#7201a8"
             ],
             [
              0.3333333333333333,
              "#9c179e"
             ],
             [
              0.4444444444444444,
              "#bd3786"
             ],
             [
              0.5555555555555556,
              "#d8576b"
             ],
             [
              0.6666666666666666,
              "#ed7953"
             ],
             [
              0.7777777777777778,
              "#fb9f3a"
             ],
             [
              0.8888888888888888,
              "#fdca26"
             ],
             [
              1,
              "#f0f921"
             ]
            ],
            "type": "contour"
           }
          ],
          "contourcarpet": [
           {
            "colorbar": {
             "outlinewidth": 0,
             "ticks": ""
            },
            "type": "contourcarpet"
           }
          ],
          "heatmap": [
           {
            "colorbar": {
             "outlinewidth": 0,
             "ticks": ""
            },
            "colorscale": [
             [
              0,
              "#0d0887"
             ],
             [
              0.1111111111111111,
              "#46039f"
             ],
             [
              0.2222222222222222,
              "#7201a8"
             ],
             [
              0.3333333333333333,
              "#9c179e"
             ],
             [
              0.4444444444444444,
              "#bd3786"
             ],
             [
              0.5555555555555556,
              "#d8576b"
             ],
             [
              0.6666666666666666,
              "#ed7953"
             ],
             [
              0.7777777777777778,
              "#fb9f3a"
             ],
             [
              0.8888888888888888,
              "#fdca26"
             ],
             [
              1,
              "#f0f921"
             ]
            ],
            "type": "heatmap"
           }
          ],
          "heatmapgl": [
           {
            "colorbar": {
             "outlinewidth": 0,
             "ticks": ""
            },
            "colorscale": [
             [
              0,
              "#0d0887"
             ],
             [
              0.1111111111111111,
              "#46039f"
             ],
             [
              0.2222222222222222,
              "#7201a8"
             ],
             [
              0.3333333333333333,
              "#9c179e"
             ],
             [
              0.4444444444444444,
              "#bd3786"
             ],
             [
              0.5555555555555556,
              "#d8576b"
             ],
             [
              0.6666666666666666,
              "#ed7953"
             ],
             [
              0.7777777777777778,
              "#fb9f3a"
             ],
             [
              0.8888888888888888,
              "#fdca26"
             ],
             [
              1,
              "#f0f921"
             ]
            ],
            "type": "heatmapgl"
           }
          ],
          "histogram": [
           {
            "marker": {
             "colorbar": {
              "outlinewidth": 0,
              "ticks": ""
             }
            },
            "type": "histogram"
           }
          ],
          "histogram2d": [
           {
            "colorbar": {
             "outlinewidth": 0,
             "ticks": ""
            },
            "colorscale": [
             [
              0,
              "#0d0887"
             ],
             [
              0.1111111111111111,
              "#46039f"
             ],
             [
              0.2222222222222222,
              "#7201a8"
             ],
             [
              0.3333333333333333,
              "#9c179e"
             ],
             [
              0.4444444444444444,
              "#bd3786"
             ],
             [
              0.5555555555555556,
              "#d8576b"
             ],
             [
              0.6666666666666666,
              "#ed7953"
             ],
             [
              0.7777777777777778,
              "#fb9f3a"
             ],
             [
              0.8888888888888888,
              "#fdca26"
             ],
             [
              1,
              "#f0f921"
             ]
            ],
            "type": "histogram2d"
           }
          ],
          "histogram2dcontour": [
           {
            "colorbar": {
             "outlinewidth": 0,
             "ticks": ""
            },
            "colorscale": [
             [
              0,
              "#0d0887"
             ],
             [
              0.1111111111111111,
              "#46039f"
             ],
             [
              0.2222222222222222,
              "#7201a8"
             ],
             [
              0.3333333333333333,
              "#9c179e"
             ],
             [
              0.4444444444444444,
              "#bd3786"
             ],
             [
              0.5555555555555556,
              "#d8576b"
             ],
             [
              0.6666666666666666,
              "#ed7953"
             ],
             [
              0.7777777777777778,
              "#fb9f3a"
             ],
             [
              0.8888888888888888,
              "#fdca26"
             ],
             [
              1,
              "#f0f921"
             ]
            ],
            "type": "histogram2dcontour"
           }
          ],
          "mesh3d": [
           {
            "colorbar": {
             "outlinewidth": 0,
             "ticks": ""
            },
            "type": "mesh3d"
           }
          ],
          "parcoords": [
           {
            "line": {
             "colorbar": {
              "outlinewidth": 0,
              "ticks": ""
             }
            },
            "type": "parcoords"
           }
          ],
          "pie": [
           {
            "automargin": true,
            "type": "pie"
           }
          ],
          "scatter": [
           {
            "marker": {
             "colorbar": {
              "outlinewidth": 0,
              "ticks": ""
             }
            },
            "type": "scatter"
           }
          ],
          "scatter3d": [
           {
            "line": {
             "colorbar": {
              "outlinewidth": 0,
              "ticks": ""
             }
            },
            "marker": {
             "colorbar": {
              "outlinewidth": 0,
              "ticks": ""
             }
            },
            "type": "scatter3d"
           }
          ],
          "scattercarpet": [
           {
            "marker": {
             "colorbar": {
              "outlinewidth": 0,
              "ticks": ""
             }
            },
            "type": "scattercarpet"
           }
          ],
          "scattergeo": [
           {
            "marker": {
             "colorbar": {
              "outlinewidth": 0,
              "ticks": ""
             }
            },
            "type": "scattergeo"
           }
          ],
          "scattergl": [
           {
            "marker": {
             "colorbar": {
              "outlinewidth": 0,
              "ticks": ""
             }
            },
            "type": "scattergl"
           }
          ],
          "scattermapbox": [
           {
            "marker": {
             "colorbar": {
              "outlinewidth": 0,
              "ticks": ""
             }
            },
            "type": "scattermapbox"
           }
          ],
          "scatterpolar": [
           {
            "marker": {
             "colorbar": {
              "outlinewidth": 0,
              "ticks": ""
             }
            },
            "type": "scatterpolar"
           }
          ],
          "scatterpolargl": [
           {
            "marker": {
             "colorbar": {
              "outlinewidth": 0,
              "ticks": ""
             }
            },
            "type": "scatterpolargl"
           }
          ],
          "scatterternary": [
           {
            "marker": {
             "colorbar": {
              "outlinewidth": 0,
              "ticks": ""
             }
            },
            "type": "scatterternary"
           }
          ],
          "surface": [
           {
            "colorbar": {
             "outlinewidth": 0,
             "ticks": ""
            },
            "colorscale": [
             [
              0,
              "#0d0887"
             ],
             [
              0.1111111111111111,
              "#46039f"
             ],
             [
              0.2222222222222222,
              "#7201a8"
             ],
             [
              0.3333333333333333,
              "#9c179e"
             ],
             [
              0.4444444444444444,
              "#bd3786"
             ],
             [
              0.5555555555555556,
              "#d8576b"
             ],
             [
              0.6666666666666666,
              "#ed7953"
             ],
             [
              0.7777777777777778,
              "#fb9f3a"
             ],
             [
              0.8888888888888888,
              "#fdca26"
             ],
             [
              1,
              "#f0f921"
             ]
            ],
            "type": "surface"
           }
          ],
          "table": [
           {
            "cells": {
             "fill": {
              "color": "#EBF0F8"
             },
             "line": {
              "color": "white"
             }
            },
            "header": {
             "fill": {
              "color": "#C8D4E3"
             },
             "line": {
              "color": "white"
             }
            },
            "type": "table"
           }
          ]
         },
         "layout": {
          "annotationdefaults": {
           "arrowcolor": "#2a3f5f",
           "arrowhead": 0,
           "arrowwidth": 1
          },
          "autotypenumbers": "strict",
          "coloraxis": {
           "colorbar": {
            "outlinewidth": 0,
            "ticks": ""
           }
          },
          "colorscale": {
           "diverging": [
            [
             0,
             "#8e0152"
            ],
            [
             0.1,
             "#c51b7d"
            ],
            [
             0.2,
             "#de77ae"
            ],
            [
             0.3,
             "#f1b6da"
            ],
            [
             0.4,
             "#fde0ef"
            ],
            [
             0.5,
             "#f7f7f7"
            ],
            [
             0.6,
             "#e6f5d0"
            ],
            [
             0.7,
             "#b8e186"
            ],
            [
             0.8,
             "#7fbc41"
            ],
            [
             0.9,
             "#4d9221"
            ],
            [
             1,
             "#276419"
            ]
           ],
           "sequential": [
            [
             0,
             "#0d0887"
            ],
            [
             0.1111111111111111,
             "#46039f"
            ],
            [
             0.2222222222222222,
             "#7201a8"
            ],
            [
             0.3333333333333333,
             "#9c179e"
            ],
            [
             0.4444444444444444,
             "#bd3786"
            ],
            [
             0.5555555555555556,
             "#d8576b"
            ],
            [
             0.6666666666666666,
             "#ed7953"
            ],
            [
             0.7777777777777778,
             "#fb9f3a"
            ],
            [
             0.8888888888888888,
             "#fdca26"
            ],
            [
             1,
             "#f0f921"
            ]
           ],
           "sequentialminus": [
            [
             0,
             "#0d0887"
            ],
            [
             0.1111111111111111,
             "#46039f"
            ],
            [
             0.2222222222222222,
             "#7201a8"
            ],
            [
             0.3333333333333333,
             "#9c179e"
            ],
            [
             0.4444444444444444,
             "#bd3786"
            ],
            [
             0.5555555555555556,
             "#d8576b"
            ],
            [
             0.6666666666666666,
             "#ed7953"
            ],
            [
             0.7777777777777778,
             "#fb9f3a"
            ],
            [
             0.8888888888888888,
             "#fdca26"
            ],
            [
             1,
             "#f0f921"
            ]
           ]
          },
          "colorway": [
           "#636efa",
           "#EF553B",
           "#00cc96",
           "#ab63fa",
           "#FFA15A",
           "#19d3f3",
           "#FF6692",
           "#B6E880",
           "#FF97FF",
           "#FECB52"
          ],
          "font": {
           "color": "#2a3f5f"
          },
          "geo": {
           "bgcolor": "white",
           "lakecolor": "white",
           "landcolor": "#E5ECF6",
           "showlakes": true,
           "showland": true,
           "subunitcolor": "white"
          },
          "hoverlabel": {
           "align": "left"
          },
          "hovermode": "closest",
          "mapbox": {
           "style": "light"
          },
          "paper_bgcolor": "white",
          "plot_bgcolor": "#E5ECF6",
          "polar": {
           "angularaxis": {
            "gridcolor": "white",
            "linecolor": "white",
            "ticks": ""
           },
           "bgcolor": "#E5ECF6",
           "radialaxis": {
            "gridcolor": "white",
            "linecolor": "white",
            "ticks": ""
           }
          },
          "scene": {
           "xaxis": {
            "backgroundcolor": "#E5ECF6",
            "gridcolor": "white",
            "gridwidth": 2,
            "linecolor": "white",
            "showbackground": true,
            "ticks": "",
            "zerolinecolor": "white"
           },
           "yaxis": {
            "backgroundcolor": "#E5ECF6",
            "gridcolor": "white",
            "gridwidth": 2,
            "linecolor": "white",
            "showbackground": true,
            "ticks": "",
            "zerolinecolor": "white"
           },
           "zaxis": {
            "backgroundcolor": "#E5ECF6",
            "gridcolor": "white",
            "gridwidth": 2,
            "linecolor": "white",
            "showbackground": true,
            "ticks": "",
            "zerolinecolor": "white"
           }
          },
          "shapedefaults": {
           "line": {
            "color": "#2a3f5f"
           }
          },
          "ternary": {
           "aaxis": {
            "gridcolor": "white",
            "linecolor": "white",
            "ticks": ""
           },
           "baxis": {
            "gridcolor": "white",
            "linecolor": "white",
            "ticks": ""
           },
           "bgcolor": "#E5ECF6",
           "caxis": {
            "gridcolor": "white",
            "linecolor": "white",
            "ticks": ""
           }
          },
          "title": {
           "x": 0.05
          },
          "xaxis": {
           "automargin": true,
           "gridcolor": "white",
           "linecolor": "white",
           "ticks": "",
           "title": {
            "standoff": 15
           },
           "zerolinecolor": "white",
           "zerolinewidth": 2
          },
          "yaxis": {
           "automargin": true,
           "gridcolor": "white",
           "linecolor": "white",
           "ticks": "",
           "title": {
            "standoff": 15
           },
           "zerolinecolor": "white",
           "zerolinewidth": 2
          }
         }
        },
        "xaxis": {
         "gridcolor": "#e0e0e0",
         "linecolor": "black",
         "mirror": true,
         "showline": true
        },
        "yaxis": {
         "gridcolor": "#e0e0e0",
         "linecolor": "black",
         "mirror": true,
         "showline": true
        }
       }
      },
      "text/html": [
       "<div>                            <div id=\"51d77358-4f5a-4841-9958-e20f1e90c1df\" class=\"plotly-graph-div\" style=\"height:525px; width:100%;\"></div>            <script type=\"text/javascript\">                require([\"plotly\"], function(Plotly) {                    window.PLOTLYENV=window.PLOTLYENV || {};                                    if (document.getElementById(\"51d77358-4f5a-4841-9958-e20f1e90c1df\")) {                    Plotly.newPlot(                        \"51d77358-4f5a-4841-9958-e20f1e90c1df\",                        [{\"marker\": {\"color\": [\"rgb(93, 164, 214)\", \"rgb(44, 160, 101)\", \"rgb(93, 164, 214)\", \"rgb(93, 164, 214)\", \"rgb(93, 164, 214)\", \"rgb(93, 164, 214)\", \"rgb(93, 164, 214)\", \"rgb(93, 164, 214)\", \"rgb(93, 164, 214)\", \"rgb(93, 164, 214)\", \"rgb(93, 164, 214)\", \"rgb(93, 164, 214)\", \"rgb(93, 164, 214)\", \"rgb(93, 164, 214)\", \"rgb(93, 164, 214)\", \"rgb(93, 164, 214)\", \"rgb(93, 164, 214)\", \"rgb(93, 164, 214)\", \"rgb(93, 164, 214)\", \"rgb(93, 164, 214)\", \"rgb(255, 65, 54)\", \"rgb(93, 164, 214)\"], \"opacity\": 0.3, \"size\": [54.9534246919447, 92.76223336406225, 51.986038541995896, 60.10999777848707, 63.292615577641605, 44.1665846874966, 29.1886522358297, 47.032413238937245, 58.68034508142219, 68.46522287201753, 51.986038541995896, 47.67080745521918, 51.01796072493233, 54.9534246919447, 41.58883083359672, 56.76284450877392, 45.667836565851346, 54.56379239589579, 43.35557636844247, 42.49820016084324, 32.95836866004329, 26.876392038420825]}, \"mode\": \"markers+text\", \"text\": [\"C08\", \"S\", \"C18\", \"C06\", \"C14\", \"C20\", \"C25\", \"C15\", \"C01\", \"C10\", \"C04\", \"C11\", \"C12\", \"C13\", \"C26\", \"C17\", \"C09\", \"C05\", \"C07\", \"C19\", \"F\", \"C16\"], \"textfont\": {\"family\": \"sans serif\", \"size\": 15}, \"textposition\": \"middle center\", \"type\": \"scatter\", \"x\": [4.183841228485107, 5.752866744995117, 5.208557605743408, 4.216231822967529, 4.428203582763672, 5.737391948699951, 6.476808547973633, 4.16409969329834, 4.737509727478027, 4.262569904327393, 6.224279880523682, 4.915984153747559, 4.903809547424316, 5.278651237487793, 5.991089820861816, 6.699581146240234, 4.940151691436768, 6.210503578186035, 6.037346839904785, 5.700171947479248, 6.708154201507568, 5.260112762451172], \"y\": [9.743940353393555, 9.234724044799805, 8.968893051147461, 9.131621360778809, 8.47383975982666, 7.886410713195801, 9.60077953338623, 8.717391967773438, 8.858060836791992, 11.085861206054688, 8.271190643310547, 10.317763328552246, 9.444127082824707, 9.622084617614746, 11.384032249450684, 8.731539726257324, 11.09022045135498, 8.924448013305664, 8.604804039001465, 9.978019714355469, 11.197751998901367, 8.542828559875488]}, {\"mode\": \"markers\", \"type\": \"scatter\", \"x\": [4.3726115226745605, 5.980833530426025, 5.632668972015381, 6.893798828125, 5.3494181632995605, 6.311934471130371, 6.466938018798828, 6.513947010040283, 5.323134899139404], \"y\": [10.582802772521973, 10.580560684204102, 11.058001518249512, 10.405669212341309, 10.485204696655273, 10.052050590515137, 11.47336196899414, 10.867039680480957, 11.48563289642334]}],                        {\"plot_bgcolor\": \"#FFF\", \"template\": {\"data\": {\"bar\": [{\"error_x\": {\"color\": \"#2a3f5f\"}, \"error_y\": {\"color\": \"#2a3f5f\"}, \"marker\": {\"line\": {\"color\": \"#E5ECF6\", \"width\": 0.5}}, \"type\": \"bar\"}], \"barpolar\": [{\"marker\": {\"line\": {\"color\": \"#E5ECF6\", \"width\": 0.5}}, \"type\": \"barpolar\"}], \"carpet\": [{\"aaxis\": {\"endlinecolor\": \"#2a3f5f\", \"gridcolor\": \"white\", \"linecolor\": \"white\", \"minorgridcolor\": \"white\", \"startlinecolor\": \"#2a3f5f\"}, \"baxis\": {\"endlinecolor\": \"#2a3f5f\", \"gridcolor\": \"white\", \"linecolor\": \"white\", \"minorgridcolor\": \"white\", \"startlinecolor\": \"#2a3f5f\"}, \"type\": \"carpet\"}], \"choropleth\": [{\"colorbar\": {\"outlinewidth\": 0, \"ticks\": \"\"}, \"type\": \"choropleth\"}], \"contour\": [{\"colorbar\": {\"outlinewidth\": 0, \"ticks\": \"\"}, \"colorscale\": [[0.0, \"#0d0887\"], [0.1111111111111111, \"#46039f\"], [0.2222222222222222, \"#7201a8\"], [0.3333333333333333, \"#9c179e\"], [0.4444444444444444, \"#bd3786\"], [0.5555555555555556, \"#d8576b\"], [0.6666666666666666, \"#ed7953\"], [0.7777777777777778, \"#fb9f3a\"], [0.8888888888888888, \"#fdca26\"], [1.0, \"#f0f921\"]], \"type\": \"contour\"}], \"contourcarpet\": [{\"colorbar\": {\"outlinewidth\": 0, \"ticks\": \"\"}, \"type\": \"contourcarpet\"}], \"heatmap\": [{\"colorbar\": {\"outlinewidth\": 0, \"ticks\": \"\"}, \"colorscale\": [[0.0, \"#0d0887\"], [0.1111111111111111, \"#46039f\"], [0.2222222222222222, \"#7201a8\"], [0.3333333333333333, \"#9c179e\"], [0.4444444444444444, \"#bd3786\"], [0.5555555555555556, \"#d8576b\"], [0.6666666666666666, \"#ed7953\"], [0.7777777777777778, \"#fb9f3a\"], [0.8888888888888888, \"#fdca26\"], [1.0, \"#f0f921\"]], \"type\": \"heatmap\"}], \"heatmapgl\": [{\"colorbar\": {\"outlinewidth\": 0, \"ticks\": \"\"}, \"colorscale\": [[0.0, \"#0d0887\"], [0.1111111111111111, \"#46039f\"], [0.2222222222222222, \"#7201a8\"], [0.3333333333333333, \"#9c179e\"], [0.4444444444444444, \"#bd3786\"], [0.5555555555555556, \"#d8576b\"], [0.6666666666666666, \"#ed7953\"], [0.7777777777777778, \"#fb9f3a\"], [0.8888888888888888, \"#fdca26\"], [1.0, \"#f0f921\"]], \"type\": \"heatmapgl\"}], \"histogram\": [{\"marker\": {\"colorbar\": {\"outlinewidth\": 0, \"ticks\": \"\"}}, \"type\": \"histogram\"}], \"histogram2d\": [{\"colorbar\": {\"outlinewidth\": 0, \"ticks\": \"\"}, \"colorscale\": [[0.0, \"#0d0887\"], [0.1111111111111111, \"#46039f\"], [0.2222222222222222, \"#7201a8\"], [0.3333333333333333, \"#9c179e\"], [0.4444444444444444, \"#bd3786\"], [0.5555555555555556, \"#d8576b\"], [0.6666666666666666, \"#ed7953\"], [0.7777777777777778, \"#fb9f3a\"], [0.8888888888888888, \"#fdca26\"], [1.0, \"#f0f921\"]], \"type\": \"histogram2d\"}], \"histogram2dcontour\": [{\"colorbar\": {\"outlinewidth\": 0, \"ticks\": \"\"}, \"colorscale\": [[0.0, \"#0d0887\"], [0.1111111111111111, \"#46039f\"], [0.2222222222222222, \"#7201a8\"], [0.3333333333333333, \"#9c179e\"], [0.4444444444444444, \"#bd3786\"], [0.5555555555555556, \"#d8576b\"], [0.6666666666666666, \"#ed7953\"], [0.7777777777777778, \"#fb9f3a\"], [0.8888888888888888, \"#fdca26\"], [1.0, \"#f0f921\"]], \"type\": \"histogram2dcontour\"}], \"mesh3d\": [{\"colorbar\": {\"outlinewidth\": 0, \"ticks\": \"\"}, \"type\": \"mesh3d\"}], \"parcoords\": [{\"line\": {\"colorbar\": {\"outlinewidth\": 0, \"ticks\": \"\"}}, \"type\": \"parcoords\"}], \"pie\": [{\"automargin\": true, \"type\": \"pie\"}], \"scatter\": [{\"marker\": {\"colorbar\": {\"outlinewidth\": 0, \"ticks\": \"\"}}, \"type\": \"scatter\"}], \"scatter3d\": [{\"line\": {\"colorbar\": {\"outlinewidth\": 0, \"ticks\": \"\"}}, \"marker\": {\"colorbar\": {\"outlinewidth\": 0, \"ticks\": \"\"}}, \"type\": \"scatter3d\"}], \"scattercarpet\": [{\"marker\": {\"colorbar\": {\"outlinewidth\": 0, \"ticks\": \"\"}}, \"type\": \"scattercarpet\"}], \"scattergeo\": [{\"marker\": {\"colorbar\": {\"outlinewidth\": 0, \"ticks\": \"\"}}, \"type\": \"scattergeo\"}], \"scattergl\": [{\"marker\": {\"colorbar\": {\"outlinewidth\": 0, \"ticks\": \"\"}}, \"type\": \"scattergl\"}], \"scattermapbox\": [{\"marker\": {\"colorbar\": {\"outlinewidth\": 0, \"ticks\": \"\"}}, \"type\": \"scattermapbox\"}], \"scatterpolar\": [{\"marker\": {\"colorbar\": {\"outlinewidth\": 0, \"ticks\": \"\"}}, \"type\": \"scatterpolar\"}], \"scatterpolargl\": [{\"marker\": {\"colorbar\": {\"outlinewidth\": 0, \"ticks\": \"\"}}, \"type\": \"scatterpolargl\"}], \"scatterternary\": [{\"marker\": {\"colorbar\": {\"outlinewidth\": 0, \"ticks\": \"\"}}, \"type\": \"scatterternary\"}], \"surface\": [{\"colorbar\": {\"outlinewidth\": 0, \"ticks\": \"\"}, \"colorscale\": [[0.0, \"#0d0887\"], [0.1111111111111111, \"#46039f\"], [0.2222222222222222, \"#7201a8\"], [0.3333333333333333, \"#9c179e\"], [0.4444444444444444, \"#bd3786\"], [0.5555555555555556, \"#d8576b\"], [0.6666666666666666, \"#ed7953\"], [0.7777777777777778, \"#fb9f3a\"], [0.8888888888888888, \"#fdca26\"], [1.0, \"#f0f921\"]], \"type\": \"surface\"}], \"table\": [{\"cells\": {\"fill\": {\"color\": \"#EBF0F8\"}, \"line\": {\"color\": \"white\"}}, \"header\": {\"fill\": {\"color\": \"#C8D4E3\"}, \"line\": {\"color\": \"white\"}}, \"type\": \"table\"}]}, \"layout\": {\"annotationdefaults\": {\"arrowcolor\": \"#2a3f5f\", \"arrowhead\": 0, \"arrowwidth\": 1}, \"autotypenumbers\": \"strict\", \"coloraxis\": {\"colorbar\": {\"outlinewidth\": 0, \"ticks\": \"\"}}, \"colorscale\": {\"diverging\": [[0, \"#8e0152\"], [0.1, \"#c51b7d\"], [0.2, \"#de77ae\"], [0.3, \"#f1b6da\"], [0.4, \"#fde0ef\"], [0.5, \"#f7f7f7\"], [0.6, \"#e6f5d0\"], [0.7, \"#b8e186\"], [0.8, \"#7fbc41\"], [0.9, \"#4d9221\"], [1, \"#276419\"]], \"sequential\": [[0.0, \"#0d0887\"], [0.1111111111111111, \"#46039f\"], [0.2222222222222222, \"#7201a8\"], [0.3333333333333333, \"#9c179e\"], [0.4444444444444444, \"#bd3786\"], [0.5555555555555556, \"#d8576b\"], [0.6666666666666666, \"#ed7953\"], [0.7777777777777778, \"#fb9f3a\"], [0.8888888888888888, \"#fdca26\"], [1.0, \"#f0f921\"]], \"sequentialminus\": [[0.0, \"#0d0887\"], [0.1111111111111111, \"#46039f\"], [0.2222222222222222, \"#7201a8\"], [0.3333333333333333, \"#9c179e\"], [0.4444444444444444, \"#bd3786\"], [0.5555555555555556, \"#d8576b\"], [0.6666666666666666, \"#ed7953\"], [0.7777777777777778, \"#fb9f3a\"], [0.8888888888888888, \"#fdca26\"], [1.0, \"#f0f921\"]]}, \"colorway\": [\"#636efa\", \"#EF553B\", \"#00cc96\", \"#ab63fa\", \"#FFA15A\", \"#19d3f3\", \"#FF6692\", \"#B6E880\", \"#FF97FF\", \"#FECB52\"], \"font\": {\"color\": \"#2a3f5f\"}, \"geo\": {\"bgcolor\": \"white\", \"lakecolor\": \"white\", \"landcolor\": \"#E5ECF6\", \"showlakes\": true, \"showland\": true, \"subunitcolor\": \"white\"}, \"hoverlabel\": {\"align\": \"left\"}, \"hovermode\": \"closest\", \"mapbox\": {\"style\": \"light\"}, \"paper_bgcolor\": \"white\", \"plot_bgcolor\": \"#E5ECF6\", \"polar\": {\"angularaxis\": {\"gridcolor\": \"white\", \"linecolor\": \"white\", \"ticks\": \"\"}, \"bgcolor\": \"#E5ECF6\", \"radialaxis\": {\"gridcolor\": \"white\", \"linecolor\": \"white\", \"ticks\": \"\"}}, \"scene\": {\"xaxis\": {\"backgroundcolor\": \"#E5ECF6\", \"gridcolor\": \"white\", \"gridwidth\": 2, \"linecolor\": \"white\", \"showbackground\": true, \"ticks\": \"\", \"zerolinecolor\": \"white\"}, \"yaxis\": {\"backgroundcolor\": \"#E5ECF6\", \"gridcolor\": \"white\", \"gridwidth\": 2, \"linecolor\": \"white\", \"showbackground\": true, \"ticks\": \"\", \"zerolinecolor\": \"white\"}, \"zaxis\": {\"backgroundcolor\": \"#E5ECF6\", \"gridcolor\": \"white\", \"gridwidth\": 2, \"linecolor\": \"white\", \"showbackground\": true, \"ticks\": \"\", \"zerolinecolor\": \"white\"}}, \"shapedefaults\": {\"line\": {\"color\": \"#2a3f5f\"}}, \"ternary\": {\"aaxis\": {\"gridcolor\": \"white\", \"linecolor\": \"white\", \"ticks\": \"\"}, \"baxis\": {\"gridcolor\": \"white\", \"linecolor\": \"white\", \"ticks\": \"\"}, \"bgcolor\": \"#E5ECF6\", \"caxis\": {\"gridcolor\": \"white\", \"linecolor\": \"white\", \"ticks\": \"\"}}, \"title\": {\"x\": 0.05}, \"xaxis\": {\"automargin\": true, \"gridcolor\": \"white\", \"linecolor\": \"white\", \"ticks\": \"\", \"title\": {\"standoff\": 15}, \"zerolinecolor\": \"white\", \"zerolinewidth\": 2}, \"yaxis\": {\"automargin\": true, \"gridcolor\": \"white\", \"linecolor\": \"white\", \"ticks\": \"\", \"title\": {\"standoff\": 15}, \"zerolinecolor\": \"white\", \"zerolinewidth\": 2}}}, \"xaxis\": {\"gridcolor\": \"#e0e0e0\", \"linecolor\": \"black\", \"mirror\": true, \"showline\": true}, \"yaxis\": {\"gridcolor\": \"#e0e0e0\", \"linecolor\": \"black\", \"mirror\": true, \"showline\": true}},                        {\"responsive\": true}                    ).then(function(){\n",
       "                            \n",
       "var gd = document.getElementById('51d77358-4f5a-4841-9958-e20f1e90c1df');\n",
       "var x = new MutationObserver(function (mutations, observer) {{\n",
       "        var display = window.getComputedStyle(gd).display;\n",
       "        if (!display || display === 'none') {{\n",
       "            console.log([gd, 'removed!']);\n",
       "            Plotly.purge(gd);\n",
       "            observer.disconnect();\n",
       "        }}\n",
       "}});\n",
       "\n",
       "// Listen for the removal of the full notebook cells\n",
       "var notebookContainer = gd.closest('#notebook-container');\n",
       "if (notebookContainer) {{\n",
       "    x.observe(notebookContainer, {childList: true});\n",
       "}}\n",
       "\n",
       "// Listen for the clearing of the current output cell\n",
       "var outputEl = gd.closest('.output');\n",
       "if (outputEl) {{\n",
       "    x.observe(outputEl, {childList: true});\n",
       "}}\n",
       "\n",
       "                        })                };                });            </script>        </div>"
      ]
     },
     "metadata": {},
     "output_type": "display_data"
    }
   ],
   "source": [
    "col_dict = {'C': 'rgb(93, 164, 214)', 'S': 'rgb(44, 160, 101)', 'F': 'rgb(255, 65, 54)'}\n",
    "fig = go.Figure(data=[go.Scatter(\n",
    "    x = se_umap['x'],\n",
    "    y = se_umap['y'],\n",
    "    mode = 'markers+text',\n",
    "    text = se_umap['category'],\n",
    "    textposition='middle center',\n",
    "    textfont=dict(\n",
    "        family=\"sans serif\",\n",
    "        size=15,\n",
    "        # color=\"LightSeaGreen\"\n",
    "    ),\n",
    "    marker = dict(color=[col_dict[i] for i in se_umap['color']], opacity=0.3, size=np.log(se_umap['n_se'])*15))])\n",
    "# fig = px.scatter(se_umap, x='x', y='y', color=[col_dict[i] for i in se_umap['color']], text='category', size='n_se', size_max=100, opacity=0.3)\n",
    "\n",
    "fig.add_trace(go.Scatter(\n",
    "    x = se_umap_md[:, 0],\n",
    "    y = se_umap_md[:, 1],\n",
    "    mode='markers'\n",
    "))\n",
    "\n",
    "fig.update_xaxes(gridcolor='#e0e0e0', showline=True, linecolor='black', mirror=True)\n",
    "fig.update_yaxes(gridcolor='#e0e0e0', showline=True, linecolor='black', mirror=True)\n",
    "fig.update_layout(plot_bgcolor='#FFF')\n",
    "fig.show()"
   ]
  },
  {
   "cell_type": "code",
   "execution_count": 17,
   "metadata": {},
   "outputs": [],
   "source": [
    "# average after umap\n",
    "umap = UMAP(n_components=2, init='random', random_state=8)\n",
    "se_umap_np = umap.fit_transform(side_effect_embedding)"
   ]
  },
  {
   "cell_type": "code",
   "execution_count": 18,
   "metadata": {},
   "outputs": [],
   "source": [
    "se_umap_np = (se_umap_np - se_umap_np.mean(axis=0))*10+10"
   ]
  },
  {
   "cell_type": "code",
   "execution_count": 19,
   "metadata": {},
   "outputs": [
    {
     "output_type": "execute_result",
     "data": {
      "text/plain": [
       "            x          y category  n_se  \\\n",
       "8    9.086743   7.471842      C01    50   \n",
       "10  13.716795  10.056763      C04    32   \n",
       "17  17.519848  13.967044      C05    38   \n",
       "3    8.308552   5.276290      C06    55   \n",
       "18  23.783897  12.842505      C07    18   \n",
       "0    9.170995   8.973595      C08    39   \n",
       "16  12.150425  16.570591      C09    21   \n",
       "9    5.474772  13.598949      C10    96   \n",
       "11   8.939240  16.282234      C11    24   \n",
       "12  10.514725   6.916021      C12    30   \n",
       "13  11.896503  10.410193      C13    39   \n",
       "4    7.222163   0.302137      C14    68   \n",
       "7    4.876615  -2.424417      C15    23   \n",
       "21  18.216923  13.266033      C16     6   \n",
       "15  13.920984   7.972413      C17    44   \n",
       "2    9.822960   8.535341      C18    32   \n",
       "19  10.411778  17.730890      C19    17   \n",
       "5   10.702909   7.753428      C20    19   \n",
       "6    4.185222  17.252052      C25     7   \n",
       "14  15.029292  22.785431      C26    16   \n",
       "20   7.902514  32.681877        F     9   \n",
       "1    9.607096   9.944313        S   485   \n",
       "\n",
       "                                              cat_all color  \n",
       "8                                    C01 - infections     C  \n",
       "10                                    C04 - neoplasms     C  \n",
       "17                     C05 - musculoskeletal diseases     C  \n",
       "3                     C06 - digestive system diseases     C  \n",
       "18                      C07 - stomatognathic diseases     C  \n",
       "0                    C08 - respiratory tract diseases     C  \n",
       "16                C09 - otorhinolaryngologic diseases     C  \n",
       "9                       C10 - nervous system diseases     C  \n",
       "11                                 C11 - eye diseases     C  \n",
       "12                     C12 - male urogenital diseases     C  \n",
       "13  C13 - female urogenital diseases and pregnancy...     C  \n",
       "4                       C14 - cardiovascular diseases     C  \n",
       "7                  C15 - hemic and lymphatic diseases     C  \n",
       "21  C16 - congenital, hereditary, and neonatal dis...     C  \n",
       "15          C17 - skin and connective tissue diseases     C  \n",
       "2            C18 - nutritional and metabolic diseases     C  \n",
       "19                    C19 - endocrine system diseases     C  \n",
       "5                        C20 - immune system diseases     C  \n",
       "6                  C25 - chemically-induced disorders     C  \n",
       "14                          C26 - wounds and injuries     C  \n",
       "20                              F - mental discorders     F  \n",
       "1     S - pathological conditions, signs and symptoms     S  "
      ],
      "text/html": "<div>\n<style scoped>\n    .dataframe tbody tr th:only-of-type {\n        vertical-align: middle;\n    }\n\n    .dataframe tbody tr th {\n        vertical-align: top;\n    }\n\n    .dataframe thead th {\n        text-align: right;\n    }\n</style>\n<table border=\"1\" class=\"dataframe\">\n  <thead>\n    <tr style=\"text-align: right;\">\n      <th></th>\n      <th>x</th>\n      <th>y</th>\n      <th>category</th>\n      <th>n_se</th>\n      <th>cat_all</th>\n      <th>color</th>\n    </tr>\n  </thead>\n  <tbody>\n    <tr>\n      <th>8</th>\n      <td>9.086743</td>\n      <td>7.471842</td>\n      <td>C01</td>\n      <td>50</td>\n      <td>C01 - infections</td>\n      <td>C</td>\n    </tr>\n    <tr>\n      <th>10</th>\n      <td>13.716795</td>\n      <td>10.056763</td>\n      <td>C04</td>\n      <td>32</td>\n      <td>C04 - neoplasms</td>\n      <td>C</td>\n    </tr>\n    <tr>\n      <th>17</th>\n      <td>17.519848</td>\n      <td>13.967044</td>\n      <td>C05</td>\n      <td>38</td>\n      <td>C05 - musculoskeletal diseases</td>\n      <td>C</td>\n    </tr>\n    <tr>\n      <th>3</th>\n      <td>8.308552</td>\n      <td>5.276290</td>\n      <td>C06</td>\n      <td>55</td>\n      <td>C06 - digestive system diseases</td>\n      <td>C</td>\n    </tr>\n    <tr>\n      <th>18</th>\n      <td>23.783897</td>\n      <td>12.842505</td>\n      <td>C07</td>\n      <td>18</td>\n      <td>C07 - stomatognathic diseases</td>\n      <td>C</td>\n    </tr>\n    <tr>\n      <th>0</th>\n      <td>9.170995</td>\n      <td>8.973595</td>\n      <td>C08</td>\n      <td>39</td>\n      <td>C08 - respiratory tract diseases</td>\n      <td>C</td>\n    </tr>\n    <tr>\n      <th>16</th>\n      <td>12.150425</td>\n      <td>16.570591</td>\n      <td>C09</td>\n      <td>21</td>\n      <td>C09 - otorhinolaryngologic diseases</td>\n      <td>C</td>\n    </tr>\n    <tr>\n      <th>9</th>\n      <td>5.474772</td>\n      <td>13.598949</td>\n      <td>C10</td>\n      <td>96</td>\n      <td>C10 - nervous system diseases</td>\n      <td>C</td>\n    </tr>\n    <tr>\n      <th>11</th>\n      <td>8.939240</td>\n      <td>16.282234</td>\n      <td>C11</td>\n      <td>24</td>\n      <td>C11 - eye diseases</td>\n      <td>C</td>\n    </tr>\n    <tr>\n      <th>12</th>\n      <td>10.514725</td>\n      <td>6.916021</td>\n      <td>C12</td>\n      <td>30</td>\n      <td>C12 - male urogenital diseases</td>\n      <td>C</td>\n    </tr>\n    <tr>\n      <th>13</th>\n      <td>11.896503</td>\n      <td>10.410193</td>\n      <td>C13</td>\n      <td>39</td>\n      <td>C13 - female urogenital diseases and pregnancy...</td>\n      <td>C</td>\n    </tr>\n    <tr>\n      <th>4</th>\n      <td>7.222163</td>\n      <td>0.302137</td>\n      <td>C14</td>\n      <td>68</td>\n      <td>C14 - cardiovascular diseases</td>\n      <td>C</td>\n    </tr>\n    <tr>\n      <th>7</th>\n      <td>4.876615</td>\n      <td>-2.424417</td>\n      <td>C15</td>\n      <td>23</td>\n      <td>C15 - hemic and lymphatic diseases</td>\n      <td>C</td>\n    </tr>\n    <tr>\n      <th>21</th>\n      <td>18.216923</td>\n      <td>13.266033</td>\n      <td>C16</td>\n      <td>6</td>\n      <td>C16 - congenital, hereditary, and neonatal dis...</td>\n      <td>C</td>\n    </tr>\n    <tr>\n      <th>15</th>\n      <td>13.920984</td>\n      <td>7.972413</td>\n      <td>C17</td>\n      <td>44</td>\n      <td>C17 - skin and connective tissue diseases</td>\n      <td>C</td>\n    </tr>\n    <tr>\n      <th>2</th>\n      <td>9.822960</td>\n      <td>8.535341</td>\n      <td>C18</td>\n      <td>32</td>\n      <td>C18 - nutritional and metabolic diseases</td>\n      <td>C</td>\n    </tr>\n    <tr>\n      <th>19</th>\n      <td>10.411778</td>\n      <td>17.730890</td>\n      <td>C19</td>\n      <td>17</td>\n      <td>C19 - endocrine system diseases</td>\n      <td>C</td>\n    </tr>\n    <tr>\n      <th>5</th>\n      <td>10.702909</td>\n      <td>7.753428</td>\n      <td>C20</td>\n      <td>19</td>\n      <td>C20 - immune system diseases</td>\n      <td>C</td>\n    </tr>\n    <tr>\n      <th>6</th>\n      <td>4.185222</td>\n      <td>17.252052</td>\n      <td>C25</td>\n      <td>7</td>\n      <td>C25 - chemically-induced disorders</td>\n      <td>C</td>\n    </tr>\n    <tr>\n      <th>14</th>\n      <td>15.029292</td>\n      <td>22.785431</td>\n      <td>C26</td>\n      <td>16</td>\n      <td>C26 - wounds and injuries</td>\n      <td>C</td>\n    </tr>\n    <tr>\n      <th>20</th>\n      <td>7.902514</td>\n      <td>32.681877</td>\n      <td>F</td>\n      <td>9</td>\n      <td>F - mental discorders</td>\n      <td>F</td>\n    </tr>\n    <tr>\n      <th>1</th>\n      <td>9.607096</td>\n      <td>9.944313</td>\n      <td>S</td>\n      <td>485</td>\n      <td>S - pathological conditions, signs and symptoms</td>\n      <td>S</td>\n    </tr>\n  </tbody>\n</table>\n</div>"
     },
     "metadata": {},
     "execution_count": 19
    }
   ],
   "source": [
    "se_ca_embed = np.concatenate([se_umap_np[v].mean(axis=0) for v in list(cata2se.values())]).reshape((-1, 2))\n",
    "se_umap = pandas.DataFrame(se_ca_embed, columns=['x', 'y'])\n",
    "se_umap['category'] = [f\"{i}\" for i in cata2se.keys()]\n",
    "se_umap['n_se'] = [len(v) for v in cata2se.values()]\n",
    "se_umap['cat_all'] = [f\"{i} - {cata2name[i]}\" for i in cata2se.keys()]\n",
    "se_umap['color'] = [f\"{i[0]}\" for i in cata2se.keys()]\n",
    "se_umap = se_umap.sort_values(by='category')\n",
    "se_umap"
   ]
  },
  {
   "cell_type": "code",
   "execution_count": 22,
   "metadata": {},
   "outputs": [
    {
     "output_type": "display_data",
     "data": {
      "application/vnd.plotly.v1+json": {
       "config": {
        "plotlyServerURL": "https://plot.ly"
       },
       "data": [
        {
         "marker": {
          "color": [
           "rgb(93, 164, 214)",
           "rgb(93, 164, 214)",
           "rgb(93, 164, 214)",
           "rgb(93, 164, 214)",
           "rgb(93, 164, 214)",
           "rgb(93, 164, 214)",
           "rgb(93, 164, 214)",
           "rgb(93, 164, 214)",
           "rgb(93, 164, 214)",
           "rgb(93, 164, 214)",
           "rgb(93, 164, 214)",
           "rgb(93, 164, 214)",
           "rgb(93, 164, 214)",
           "rgb(93, 164, 214)",
           "rgb(93, 164, 214)",
           "rgb(93, 164, 214)",
           "rgb(93, 164, 214)",
           "rgb(93, 164, 214)",
           "rgb(93, 164, 214)",
           "rgb(93, 164, 214)",
           "rgb(255, 65, 54)",
           "rgb(44, 160, 101)"
          ],
          "opacity": 0.3,
          "size": [
           58.68034508142219,
           51.986038541995896,
           54.56379239589579,
           60.10999777848707,
           43.35557636844247,
           54.9534246919447,
           45.667836565851346,
           68.46522287201753,
           47.67080745521918,
           51.01796072493233,
           54.9534246919447,
           63.292615577641605,
           47.032413238937245,
           26.876392038420825,
           56.76284450877392,
           51.986038541995896,
           42.49820016084324,
           44.1665846874966,
           29.1886522358297,
           41.58883083359672,
           32.95836866004329,
           92.76223336406225
          ]
         },
         "mode": "markers+text",
         "text": [
          "C01",
          "C04",
          "C05",
          "C06",
          "C07",
          "C08",
          "C09",
          "C10",
          "C11",
          "C12",
          "C13",
          "C14",
          "C15",
          "C16",
          "C17",
          "C18",
          "C19",
          "C20",
          "C25",
          "C26",
          "F",
          "S"
         ],
         "textfont": {
          "family": "sans serif",
          "size": 15
         },
         "textposition": "middle center",
         "type": "scatter",
         "x": [
          12.471841812133789,
          15.0567626953125,
          18.967044830322266,
          10.276289939880371,
          17.842504501342773,
          13.973594665527344,
          21.57059097290039,
          18.598949432373047,
          21.28223419189453,
          11.916021347045898,
          15.41019344329834,
          5.3021368980407715,
          2.575582981109619,
          18.266033172607422,
          12.972412109375,
          13.535341262817383,
          22.73089027404785,
          12.75342845916748,
          22.252052307128906,
          27.785430908203125,
          37.68187713623047,
          14.944313049316406
         ],
         "y": [
          9.086743354797363,
          13.716794967651367,
          17.519847869873047,
          8.308551788330078,
          23.783897399902344,
          9.170994758605957,
          12.15042495727539,
          5.474771976470947,
          8.939239501953125,
          10.514724731445312,
          11.896503448486328,
          7.222163200378418,
          4.876614570617676,
          18.216922760009766,
          13.920984268188477,
          9.822959899902344,
          10.411778450012207,
          10.702908515930176,
          4.185222148895264,
          15.029292106628418,
          7.90251350402832,
          9.607095718383789
         ]
        }
       ],
       "layout": {
        "height": 1000,
        "plot_bgcolor": "#FFF",
        "template": {
         "data": {
          "bar": [
           {
            "error_x": {
             "color": "#2a3f5f"
            },
            "error_y": {
             "color": "#2a3f5f"
            },
            "marker": {
             "line": {
              "color": "#E5ECF6",
              "width": 0.5
             }
            },
            "type": "bar"
           }
          ],
          "barpolar": [
           {
            "marker": {
             "line": {
              "color": "#E5ECF6",
              "width": 0.5
             }
            },
            "type": "barpolar"
           }
          ],
          "carpet": [
           {
            "aaxis": {
             "endlinecolor": "#2a3f5f",
             "gridcolor": "white",
             "linecolor": "white",
             "minorgridcolor": "white",
             "startlinecolor": "#2a3f5f"
            },
            "baxis": {
             "endlinecolor": "#2a3f5f",
             "gridcolor": "white",
             "linecolor": "white",
             "minorgridcolor": "white",
             "startlinecolor": "#2a3f5f"
            },
            "type": "carpet"
           }
          ],
          "choropleth": [
           {
            "colorbar": {
             "outlinewidth": 0,
             "ticks": ""
            },
            "type": "choropleth"
           }
          ],
          "contour": [
           {
            "colorbar": {
             "outlinewidth": 0,
             "ticks": ""
            },
            "colorscale": [
             [
              0,
              "#0d0887"
             ],
             [
              0.1111111111111111,
              "#46039f"
             ],
             [
              0.2222222222222222,
              "#7201a8"
             ],
             [
              0.3333333333333333,
              "#9c179e"
             ],
             [
              0.4444444444444444,
              "#bd3786"
             ],
             [
              0.5555555555555556,
              "#d8576b"
             ],
             [
              0.6666666666666666,
              "#ed7953"
             ],
             [
              0.7777777777777778,
              "#fb9f3a"
             ],
             [
              0.8888888888888888,
              "#fdca26"
             ],
             [
              1,
              "#f0f921"
             ]
            ],
            "type": "contour"
           }
          ],
          "contourcarpet": [
           {
            "colorbar": {
             "outlinewidth": 0,
             "ticks": ""
            },
            "type": "contourcarpet"
           }
          ],
          "heatmap": [
           {
            "colorbar": {
             "outlinewidth": 0,
             "ticks": ""
            },
            "colorscale": [
             [
              0,
              "#0d0887"
             ],
             [
              0.1111111111111111,
              "#46039f"
             ],
             [
              0.2222222222222222,
              "#7201a8"
             ],
             [
              0.3333333333333333,
              "#9c179e"
             ],
             [
              0.4444444444444444,
              "#bd3786"
             ],
             [
              0.5555555555555556,
              "#d8576b"
             ],
             [
              0.6666666666666666,
              "#ed7953"
             ],
             [
              0.7777777777777778,
              "#fb9f3a"
             ],
             [
              0.8888888888888888,
              "#fdca26"
             ],
             [
              1,
              "#f0f921"
             ]
            ],
            "type": "heatmap"
           }
          ],
          "heatmapgl": [
           {
            "colorbar": {
             "outlinewidth": 0,
             "ticks": ""
            },
            "colorscale": [
             [
              0,
              "#0d0887"
             ],
             [
              0.1111111111111111,
              "#46039f"
             ],
             [
              0.2222222222222222,
              "#7201a8"
             ],
             [
              0.3333333333333333,
              "#9c179e"
             ],
             [
              0.4444444444444444,
              "#bd3786"
             ],
             [
              0.5555555555555556,
              "#d8576b"
             ],
             [
              0.6666666666666666,
              "#ed7953"
             ],
             [
              0.7777777777777778,
              "#fb9f3a"
             ],
             [
              0.8888888888888888,
              "#fdca26"
             ],
             [
              1,
              "#f0f921"
             ]
            ],
            "type": "heatmapgl"
           }
          ],
          "histogram": [
           {
            "marker": {
             "colorbar": {
              "outlinewidth": 0,
              "ticks": ""
             }
            },
            "type": "histogram"
           }
          ],
          "histogram2d": [
           {
            "colorbar": {
             "outlinewidth": 0,
             "ticks": ""
            },
            "colorscale": [
             [
              0,
              "#0d0887"
             ],
             [
              0.1111111111111111,
              "#46039f"
             ],
             [
              0.2222222222222222,
              "#7201a8"
             ],
             [
              0.3333333333333333,
              "#9c179e"
             ],
             [
              0.4444444444444444,
              "#bd3786"
             ],
             [
              0.5555555555555556,
              "#d8576b"
             ],
             [
              0.6666666666666666,
              "#ed7953"
             ],
             [
              0.7777777777777778,
              "#fb9f3a"
             ],
             [
              0.8888888888888888,
              "#fdca26"
             ],
             [
              1,
              "#f0f921"
             ]
            ],
            "type": "histogram2d"
           }
          ],
          "histogram2dcontour": [
           {
            "colorbar": {
             "outlinewidth": 0,
             "ticks": ""
            },
            "colorscale": [
             [
              0,
              "#0d0887"
             ],
             [
              0.1111111111111111,
              "#46039f"
             ],
             [
              0.2222222222222222,
              "#7201a8"
             ],
             [
              0.3333333333333333,
              "#9c179e"
             ],
             [
              0.4444444444444444,
              "#bd3786"
             ],
             [
              0.5555555555555556,
              "#d8576b"
             ],
             [
              0.6666666666666666,
              "#ed7953"
             ],
             [
              0.7777777777777778,
              "#fb9f3a"
             ],
             [
              0.8888888888888888,
              "#fdca26"
             ],
             [
              1,
              "#f0f921"
             ]
            ],
            "type": "histogram2dcontour"
           }
          ],
          "mesh3d": [
           {
            "colorbar": {
             "outlinewidth": 0,
             "ticks": ""
            },
            "type": "mesh3d"
           }
          ],
          "parcoords": [
           {
            "line": {
             "colorbar": {
              "outlinewidth": 0,
              "ticks": ""
             }
            },
            "type": "parcoords"
           }
          ],
          "pie": [
           {
            "automargin": true,
            "type": "pie"
           }
          ],
          "scatter": [
           {
            "marker": {
             "colorbar": {
              "outlinewidth": 0,
              "ticks": ""
             }
            },
            "type": "scatter"
           }
          ],
          "scatter3d": [
           {
            "line": {
             "colorbar": {
              "outlinewidth": 0,
              "ticks": ""
             }
            },
            "marker": {
             "colorbar": {
              "outlinewidth": 0,
              "ticks": ""
             }
            },
            "type": "scatter3d"
           }
          ],
          "scattercarpet": [
           {
            "marker": {
             "colorbar": {
              "outlinewidth": 0,
              "ticks": ""
             }
            },
            "type": "scattercarpet"
           }
          ],
          "scattergeo": [
           {
            "marker": {
             "colorbar": {
              "outlinewidth": 0,
              "ticks": ""
             }
            },
            "type": "scattergeo"
           }
          ],
          "scattergl": [
           {
            "marker": {
             "colorbar": {
              "outlinewidth": 0,
              "ticks": ""
             }
            },
            "type": "scattergl"
           }
          ],
          "scattermapbox": [
           {
            "marker": {
             "colorbar": {
              "outlinewidth": 0,
              "ticks": ""
             }
            },
            "type": "scattermapbox"
           }
          ],
          "scatterpolar": [
           {
            "marker": {
             "colorbar": {
              "outlinewidth": 0,
              "ticks": ""
             }
            },
            "type": "scatterpolar"
           }
          ],
          "scatterpolargl": [
           {
            "marker": {
             "colorbar": {
              "outlinewidth": 0,
              "ticks": ""
             }
            },
            "type": "scatterpolargl"
           }
          ],
          "scatterternary": [
           {
            "marker": {
             "colorbar": {
              "outlinewidth": 0,
              "ticks": ""
             }
            },
            "type": "scatterternary"
           }
          ],
          "surface": [
           {
            "colorbar": {
             "outlinewidth": 0,
             "ticks": ""
            },
            "colorscale": [
             [
              0,
              "#0d0887"
             ],
             [
              0.1111111111111111,
              "#46039f"
             ],
             [
              0.2222222222222222,
              "#7201a8"
             ],
             [
              0.3333333333333333,
              "#9c179e"
             ],
             [
              0.4444444444444444,
              "#bd3786"
             ],
             [
              0.5555555555555556,
              "#d8576b"
             ],
             [
              0.6666666666666666,
              "#ed7953"
             ],
             [
              0.7777777777777778,
              "#fb9f3a"
             ],
             [
              0.8888888888888888,
              "#fdca26"
             ],
             [
              1,
              "#f0f921"
             ]
            ],
            "type": "surface"
           }
          ],
          "table": [
           {
            "cells": {
             "fill": {
              "color": "#EBF0F8"
             },
             "line": {
              "color": "white"
             }
            },
            "header": {
             "fill": {
              "color": "#C8D4E3"
             },
             "line": {
              "color": "white"
             }
            },
            "type": "table"
           }
          ]
         },
         "layout": {
          "annotationdefaults": {
           "arrowcolor": "#2a3f5f",
           "arrowhead": 0,
           "arrowwidth": 1
          },
          "autotypenumbers": "strict",
          "coloraxis": {
           "colorbar": {
            "outlinewidth": 0,
            "ticks": ""
           }
          },
          "colorscale": {
           "diverging": [
            [
             0,
             "#8e0152"
            ],
            [
             0.1,
             "#c51b7d"
            ],
            [
             0.2,
             "#de77ae"
            ],
            [
             0.3,
             "#f1b6da"
            ],
            [
             0.4,
             "#fde0ef"
            ],
            [
             0.5,
             "#f7f7f7"
            ],
            [
             0.6,
             "#e6f5d0"
            ],
            [
             0.7,
             "#b8e186"
            ],
            [
             0.8,
             "#7fbc41"
            ],
            [
             0.9,
             "#4d9221"
            ],
            [
             1,
             "#276419"
            ]
           ],
           "sequential": [
            [
             0,
             "#0d0887"
            ],
            [
             0.1111111111111111,
             "#46039f"
            ],
            [
             0.2222222222222222,
             "#7201a8"
            ],
            [
             0.3333333333333333,
             "#9c179e"
            ],
            [
             0.4444444444444444,
             "#bd3786"
            ],
            [
             0.5555555555555556,
             "#d8576b"
            ],
            [
             0.6666666666666666,
             "#ed7953"
            ],
            [
             0.7777777777777778,
             "#fb9f3a"
            ],
            [
             0.8888888888888888,
             "#fdca26"
            ],
            [
             1,
             "#f0f921"
            ]
           ],
           "sequentialminus": [
            [
             0,
             "#0d0887"
            ],
            [
             0.1111111111111111,
             "#46039f"
            ],
            [
             0.2222222222222222,
             "#7201a8"
            ],
            [
             0.3333333333333333,
             "#9c179e"
            ],
            [
             0.4444444444444444,
             "#bd3786"
            ],
            [
             0.5555555555555556,
             "#d8576b"
            ],
            [
             0.6666666666666666,
             "#ed7953"
            ],
            [
             0.7777777777777778,
             "#fb9f3a"
            ],
            [
             0.8888888888888888,
             "#fdca26"
            ],
            [
             1,
             "#f0f921"
            ]
           ]
          },
          "colorway": [
           "#636efa",
           "#EF553B",
           "#00cc96",
           "#ab63fa",
           "#FFA15A",
           "#19d3f3",
           "#FF6692",
           "#B6E880",
           "#FF97FF",
           "#FECB52"
          ],
          "font": {
           "color": "#2a3f5f"
          },
          "geo": {
           "bgcolor": "white",
           "lakecolor": "white",
           "landcolor": "#E5ECF6",
           "showlakes": true,
           "showland": true,
           "subunitcolor": "white"
          },
          "hoverlabel": {
           "align": "left"
          },
          "hovermode": "closest",
          "mapbox": {
           "style": "light"
          },
          "paper_bgcolor": "white",
          "plot_bgcolor": "#E5ECF6",
          "polar": {
           "angularaxis": {
            "gridcolor": "white",
            "linecolor": "white",
            "ticks": ""
           },
           "bgcolor": "#E5ECF6",
           "radialaxis": {
            "gridcolor": "white",
            "linecolor": "white",
            "ticks": ""
           }
          },
          "scene": {
           "xaxis": {
            "backgroundcolor": "#E5ECF6",
            "gridcolor": "white",
            "gridwidth": 2,
            "linecolor": "white",
            "showbackground": true,
            "ticks": "",
            "zerolinecolor": "white"
           },
           "yaxis": {
            "backgroundcolor": "#E5ECF6",
            "gridcolor": "white",
            "gridwidth": 2,
            "linecolor": "white",
            "showbackground": true,
            "ticks": "",
            "zerolinecolor": "white"
           },
           "zaxis": {
            "backgroundcolor": "#E5ECF6",
            "gridcolor": "white",
            "gridwidth": 2,
            "linecolor": "white",
            "showbackground": true,
            "ticks": "",
            "zerolinecolor": "white"
           }
          },
          "shapedefaults": {
           "line": {
            "color": "#2a3f5f"
           }
          },
          "ternary": {
           "aaxis": {
            "gridcolor": "white",
            "linecolor": "white",
            "ticks": ""
           },
           "baxis": {
            "gridcolor": "white",
            "linecolor": "white",
            "ticks": ""
           },
           "bgcolor": "#E5ECF6",
           "caxis": {
            "gridcolor": "white",
            "linecolor": "white",
            "ticks": ""
           }
          },
          "title": {
           "x": 0.05
          },
          "xaxis": {
           "automargin": true,
           "gridcolor": "white",
           "linecolor": "white",
           "ticks": "",
           "title": {
            "standoff": 15
           },
           "zerolinecolor": "white",
           "zerolinewidth": 2
          },
          "yaxis": {
           "automargin": true,
           "gridcolor": "white",
           "linecolor": "white",
           "ticks": "",
           "title": {
            "standoff": 15
           },
           "zerolinecolor": "white",
           "zerolinewidth": 2
          }
         }
        },
        "width": 800,
        "xaxis": {
         "gridcolor": "#e0e0e0",
         "linecolor": "black",
         "mirror": true,
         "range": [
          0,
          40
         ],
         "showline": true
        },
        "yaxis": {
         "gridcolor": "#e0e0e0",
         "linecolor": "black",
         "mirror": true,
         "range": [
          2.5,
          25
         ],
         "showline": true,
         "tickvals": [
          2.5,
          5,
          7.5,
          10,
          12.5,
          15,
          17.5,
          20,
          22.5,
          25
         ]
        }
       }
      },
      "text/html": "<div>                            <div id=\"63d56efe-d389-4575-8fff-17addea79387\" class=\"plotly-graph-div\" style=\"height:1000px; width:800px;\"></div>            <script type=\"text/javascript\">                require([\"plotly\"], function(Plotly) {                    window.PLOTLYENV=window.PLOTLYENV || {};                                    if (document.getElementById(\"63d56efe-d389-4575-8fff-17addea79387\")) {                    Plotly.newPlot(                        \"63d56efe-d389-4575-8fff-17addea79387\",                        [{\"marker\": {\"color\": [\"rgb(93, 164, 214)\", \"rgb(93, 164, 214)\", \"rgb(93, 164, 214)\", \"rgb(93, 164, 214)\", \"rgb(93, 164, 214)\", \"rgb(93, 164, 214)\", \"rgb(93, 164, 214)\", \"rgb(93, 164, 214)\", \"rgb(93, 164, 214)\", \"rgb(93, 164, 214)\", \"rgb(93, 164, 214)\", \"rgb(93, 164, 214)\", \"rgb(93, 164, 214)\", \"rgb(93, 164, 214)\", \"rgb(93, 164, 214)\", \"rgb(93, 164, 214)\", \"rgb(93, 164, 214)\", \"rgb(93, 164, 214)\", \"rgb(93, 164, 214)\", \"rgb(93, 164, 214)\", \"rgb(255, 65, 54)\", \"rgb(44, 160, 101)\"], \"opacity\": 0.3, \"size\": [58.68034508142219, 51.986038541995896, 54.56379239589579, 60.10999777848707, 43.35557636844247, 54.9534246919447, 45.667836565851346, 68.46522287201753, 47.67080745521918, 51.01796072493233, 54.9534246919447, 63.292615577641605, 47.032413238937245, 26.876392038420825, 56.76284450877392, 51.986038541995896, 42.49820016084324, 44.1665846874966, 29.1886522358297, 41.58883083359672, 32.95836866004329, 92.76223336406225]}, \"mode\": \"markers+text\", \"text\": [\"C01\", \"C04\", \"C05\", \"C06\", \"C07\", \"C08\", \"C09\", \"C10\", \"C11\", \"C12\", \"C13\", \"C14\", \"C15\", \"C16\", \"C17\", \"C18\", \"C19\", \"C20\", \"C25\", \"C26\", \"F\", \"S\"], \"textfont\": {\"family\": \"sans serif\", \"size\": 15}, \"textposition\": \"middle center\", \"type\": \"scatter\", \"x\": [12.471841812133789, 15.0567626953125, 18.967044830322266, 10.276289939880371, 17.842504501342773, 13.973594665527344, 21.57059097290039, 18.598949432373047, 21.28223419189453, 11.916021347045898, 15.41019344329834, 5.3021368980407715, 2.575582981109619, 18.266033172607422, 12.972412109375, 13.535341262817383, 22.73089027404785, 12.75342845916748, 22.252052307128906, 27.785430908203125, 37.68187713623047, 14.944313049316406], \"y\": [9.086743354797363, 13.716794967651367, 17.519847869873047, 8.308551788330078, 23.783897399902344, 9.170994758605957, 12.15042495727539, 5.474771976470947, 8.939239501953125, 10.514724731445312, 11.896503448486328, 7.222163200378418, 4.876614570617676, 18.216922760009766, 13.920984268188477, 9.822959899902344, 10.411778450012207, 10.702908515930176, 4.185222148895264, 15.029292106628418, 7.90251350402832, 9.607095718383789]}],                        {\"height\": 1000, \"plot_bgcolor\": \"#FFF\", \"template\": {\"data\": {\"bar\": [{\"error_x\": {\"color\": \"#2a3f5f\"}, \"error_y\": {\"color\": \"#2a3f5f\"}, \"marker\": {\"line\": {\"color\": \"#E5ECF6\", \"width\": 0.5}}, \"type\": \"bar\"}], \"barpolar\": [{\"marker\": {\"line\": {\"color\": \"#E5ECF6\", \"width\": 0.5}}, \"type\": \"barpolar\"}], \"carpet\": [{\"aaxis\": {\"endlinecolor\": \"#2a3f5f\", \"gridcolor\": \"white\", \"linecolor\": \"white\", \"minorgridcolor\": \"white\", \"startlinecolor\": \"#2a3f5f\"}, \"baxis\": {\"endlinecolor\": \"#2a3f5f\", \"gridcolor\": \"white\", \"linecolor\": \"white\", \"minorgridcolor\": \"white\", \"startlinecolor\": \"#2a3f5f\"}, \"type\": \"carpet\"}], \"choropleth\": [{\"colorbar\": {\"outlinewidth\": 0, \"ticks\": \"\"}, \"type\": \"choropleth\"}], \"contour\": [{\"colorbar\": {\"outlinewidth\": 0, \"ticks\": \"\"}, \"colorscale\": [[0.0, \"#0d0887\"], [0.1111111111111111, \"#46039f\"], [0.2222222222222222, \"#7201a8\"], [0.3333333333333333, \"#9c179e\"], [0.4444444444444444, \"#bd3786\"], [0.5555555555555556, \"#d8576b\"], [0.6666666666666666, \"#ed7953\"], [0.7777777777777778, \"#fb9f3a\"], [0.8888888888888888, \"#fdca26\"], [1.0, \"#f0f921\"]], \"type\": \"contour\"}], \"contourcarpet\": [{\"colorbar\": {\"outlinewidth\": 0, \"ticks\": \"\"}, \"type\": \"contourcarpet\"}], \"heatmap\": [{\"colorbar\": {\"outlinewidth\": 0, \"ticks\": \"\"}, \"colorscale\": [[0.0, \"#0d0887\"], [0.1111111111111111, \"#46039f\"], [0.2222222222222222, \"#7201a8\"], [0.3333333333333333, \"#9c179e\"], [0.4444444444444444, \"#bd3786\"], [0.5555555555555556, \"#d8576b\"], [0.6666666666666666, \"#ed7953\"], [0.7777777777777778, \"#fb9f3a\"], [0.8888888888888888, \"#fdca26\"], [1.0, \"#f0f921\"]], \"type\": \"heatmap\"}], \"heatmapgl\": [{\"colorbar\": {\"outlinewidth\": 0, \"ticks\": \"\"}, \"colorscale\": [[0.0, \"#0d0887\"], [0.1111111111111111, \"#46039f\"], [0.2222222222222222, \"#7201a8\"], [0.3333333333333333, \"#9c179e\"], [0.4444444444444444, \"#bd3786\"], [0.5555555555555556, \"#d8576b\"], [0.6666666666666666, \"#ed7953\"], [0.7777777777777778, \"#fb9f3a\"], [0.8888888888888888, \"#fdca26\"], [1.0, \"#f0f921\"]], \"type\": \"heatmapgl\"}], \"histogram\": [{\"marker\": {\"colorbar\": {\"outlinewidth\": 0, \"ticks\": \"\"}}, \"type\": \"histogram\"}], \"histogram2d\": [{\"colorbar\": {\"outlinewidth\": 0, \"ticks\": \"\"}, \"colorscale\": [[0.0, \"#0d0887\"], [0.1111111111111111, \"#46039f\"], [0.2222222222222222, \"#7201a8\"], [0.3333333333333333, \"#9c179e\"], [0.4444444444444444, \"#bd3786\"], [0.5555555555555556, \"#d8576b\"], [0.6666666666666666, \"#ed7953\"], [0.7777777777777778, \"#fb9f3a\"], [0.8888888888888888, \"#fdca26\"], [1.0, \"#f0f921\"]], \"type\": \"histogram2d\"}], \"histogram2dcontour\": [{\"colorbar\": {\"outlinewidth\": 0, \"ticks\": \"\"}, \"colorscale\": [[0.0, \"#0d0887\"], [0.1111111111111111, \"#46039f\"], [0.2222222222222222, \"#7201a8\"], [0.3333333333333333, \"#9c179e\"], [0.4444444444444444, \"#bd3786\"], [0.5555555555555556, \"#d8576b\"], [0.6666666666666666, \"#ed7953\"], [0.7777777777777778, \"#fb9f3a\"], [0.8888888888888888, \"#fdca26\"], [1.0, \"#f0f921\"]], \"type\": \"histogram2dcontour\"}], \"mesh3d\": [{\"colorbar\": {\"outlinewidth\": 0, \"ticks\": \"\"}, \"type\": \"mesh3d\"}], \"parcoords\": [{\"line\": {\"colorbar\": {\"outlinewidth\": 0, \"ticks\": \"\"}}, \"type\": \"parcoords\"}], \"pie\": [{\"automargin\": true, \"type\": \"pie\"}], \"scatter\": [{\"marker\": {\"colorbar\": {\"outlinewidth\": 0, \"ticks\": \"\"}}, \"type\": \"scatter\"}], \"scatter3d\": [{\"line\": {\"colorbar\": {\"outlinewidth\": 0, \"ticks\": \"\"}}, \"marker\": {\"colorbar\": {\"outlinewidth\": 0, \"ticks\": \"\"}}, \"type\": \"scatter3d\"}], \"scattercarpet\": [{\"marker\": {\"colorbar\": {\"outlinewidth\": 0, \"ticks\": \"\"}}, \"type\": \"scattercarpet\"}], \"scattergeo\": [{\"marker\": {\"colorbar\": {\"outlinewidth\": 0, \"ticks\": \"\"}}, \"type\": \"scattergeo\"}], \"scattergl\": [{\"marker\": {\"colorbar\": {\"outlinewidth\": 0, \"ticks\": \"\"}}, \"type\": \"scattergl\"}], \"scattermapbox\": [{\"marker\": {\"colorbar\": {\"outlinewidth\": 0, \"ticks\": \"\"}}, \"type\": \"scattermapbox\"}], \"scatterpolar\": [{\"marker\": {\"colorbar\": {\"outlinewidth\": 0, \"ticks\": \"\"}}, \"type\": \"scatterpolar\"}], \"scatterpolargl\": [{\"marker\": {\"colorbar\": {\"outlinewidth\": 0, \"ticks\": \"\"}}, \"type\": \"scatterpolargl\"}], \"scatterternary\": [{\"marker\": {\"colorbar\": {\"outlinewidth\": 0, \"ticks\": \"\"}}, \"type\": \"scatterternary\"}], \"surface\": [{\"colorbar\": {\"outlinewidth\": 0, \"ticks\": \"\"}, \"colorscale\": [[0.0, \"#0d0887\"], [0.1111111111111111, \"#46039f\"], [0.2222222222222222, \"#7201a8\"], [0.3333333333333333, \"#9c179e\"], [0.4444444444444444, \"#bd3786\"], [0.5555555555555556, \"#d8576b\"], [0.6666666666666666, \"#ed7953\"], [0.7777777777777778, \"#fb9f3a\"], [0.8888888888888888, \"#fdca26\"], [1.0, \"#f0f921\"]], \"type\": \"surface\"}], \"table\": [{\"cells\": {\"fill\": {\"color\": \"#EBF0F8\"}, \"line\": {\"color\": \"white\"}}, \"header\": {\"fill\": {\"color\": \"#C8D4E3\"}, \"line\": {\"color\": \"white\"}}, \"type\": \"table\"}]}, \"layout\": {\"annotationdefaults\": {\"arrowcolor\": \"#2a3f5f\", \"arrowhead\": 0, \"arrowwidth\": 1}, \"autotypenumbers\": \"strict\", \"coloraxis\": {\"colorbar\": {\"outlinewidth\": 0, \"ticks\": \"\"}}, \"colorscale\": {\"diverging\": [[0, \"#8e0152\"], [0.1, \"#c51b7d\"], [0.2, \"#de77ae\"], [0.3, \"#f1b6da\"], [0.4, \"#fde0ef\"], [0.5, \"#f7f7f7\"], [0.6, \"#e6f5d0\"], [0.7, \"#b8e186\"], [0.8, \"#7fbc41\"], [0.9, \"#4d9221\"], [1, \"#276419\"]], \"sequential\": [[0.0, \"#0d0887\"], [0.1111111111111111, \"#46039f\"], [0.2222222222222222, \"#7201a8\"], [0.3333333333333333, \"#9c179e\"], [0.4444444444444444, \"#bd3786\"], [0.5555555555555556, \"#d8576b\"], [0.6666666666666666, \"#ed7953\"], [0.7777777777777778, \"#fb9f3a\"], [0.8888888888888888, \"#fdca26\"], [1.0, \"#f0f921\"]], \"sequentialminus\": [[0.0, \"#0d0887\"], [0.1111111111111111, \"#46039f\"], [0.2222222222222222, \"#7201a8\"], [0.3333333333333333, \"#9c179e\"], [0.4444444444444444, \"#bd3786\"], [0.5555555555555556, \"#d8576b\"], [0.6666666666666666, \"#ed7953\"], [0.7777777777777778, \"#fb9f3a\"], [0.8888888888888888, \"#fdca26\"], [1.0, \"#f0f921\"]]}, \"colorway\": [\"#636efa\", \"#EF553B\", \"#00cc96\", \"#ab63fa\", \"#FFA15A\", \"#19d3f3\", \"#FF6692\", \"#B6E880\", \"#FF97FF\", \"#FECB52\"], \"font\": {\"color\": \"#2a3f5f\"}, \"geo\": {\"bgcolor\": \"white\", \"lakecolor\": \"white\", \"landcolor\": \"#E5ECF6\", \"showlakes\": true, \"showland\": true, \"subunitcolor\": \"white\"}, \"hoverlabel\": {\"align\": \"left\"}, \"hovermode\": \"closest\", \"mapbox\": {\"style\": \"light\"}, \"paper_bgcolor\": \"white\", \"plot_bgcolor\": \"#E5ECF6\", \"polar\": {\"angularaxis\": {\"gridcolor\": \"white\", \"linecolor\": \"white\", \"ticks\": \"\"}, \"bgcolor\": \"#E5ECF6\", \"radialaxis\": {\"gridcolor\": \"white\", \"linecolor\": \"white\", \"ticks\": \"\"}}, \"scene\": {\"xaxis\": {\"backgroundcolor\": \"#E5ECF6\", \"gridcolor\": \"white\", \"gridwidth\": 2, \"linecolor\": \"white\", \"showbackground\": true, \"ticks\": \"\", \"zerolinecolor\": \"white\"}, \"yaxis\": {\"backgroundcolor\": \"#E5ECF6\", \"gridcolor\": \"white\", \"gridwidth\": 2, \"linecolor\": \"white\", \"showbackground\": true, \"ticks\": \"\", \"zerolinecolor\": \"white\"}, \"zaxis\": {\"backgroundcolor\": \"#E5ECF6\", \"gridcolor\": \"white\", \"gridwidth\": 2, \"linecolor\": \"white\", \"showbackground\": true, \"ticks\": \"\", \"zerolinecolor\": \"white\"}}, \"shapedefaults\": {\"line\": {\"color\": \"#2a3f5f\"}}, \"ternary\": {\"aaxis\": {\"gridcolor\": \"white\", \"linecolor\": \"white\", \"ticks\": \"\"}, \"baxis\": {\"gridcolor\": \"white\", \"linecolor\": \"white\", \"ticks\": \"\"}, \"bgcolor\": \"#E5ECF6\", \"caxis\": {\"gridcolor\": \"white\", \"linecolor\": \"white\", \"ticks\": \"\"}}, \"title\": {\"x\": 0.05}, \"xaxis\": {\"automargin\": true, \"gridcolor\": \"white\", \"linecolor\": \"white\", \"ticks\": \"\", \"title\": {\"standoff\": 15}, \"zerolinecolor\": \"white\", \"zerolinewidth\": 2}, \"yaxis\": {\"automargin\": true, \"gridcolor\": \"white\", \"linecolor\": \"white\", \"ticks\": \"\", \"title\": {\"standoff\": 15}, \"zerolinecolor\": \"white\", \"zerolinewidth\": 2}}}, \"width\": 800, \"xaxis\": {\"gridcolor\": \"#e0e0e0\", \"linecolor\": \"black\", \"mirror\": true, \"range\": [0, 40], \"showline\": true}, \"yaxis\": {\"gridcolor\": \"#e0e0e0\", \"linecolor\": \"black\", \"mirror\": true, \"range\": [2.5, 25], \"showline\": true, \"tickvals\": [2.5, 5, 7.5, 10, 12.5, 15, 17.5, 20, 22.5, 25]}},                        {\"responsive\": true}                    ).then(function(){\n                            \nvar gd = document.getElementById('63d56efe-d389-4575-8fff-17addea79387');\nvar x = new MutationObserver(function (mutations, observer) {{\n        var display = window.getComputedStyle(gd).display;\n        if (!display || display === 'none') {{\n            console.log([gd, 'removed!']);\n            Plotly.purge(gd);\n            observer.disconnect();\n        }}\n}});\n\n// Listen for the removal of the full notebook cells\nvar notebookContainer = gd.closest('#notebook-container');\nif (notebookContainer) {{\n    x.observe(notebookContainer, {childList: true});\n}}\n\n// Listen for the clearing of the current output cell\nvar outputEl = gd.closest('.output');\nif (outputEl) {{\n    x.observe(outputEl, {childList: true});\n}}\n\n                        })                };                });            </script>        </div>"
     },
     "metadata": {}
    }
   ],
   "source": [
    "col_dict = {'C': 'rgb(93, 164, 214)', 'S': 'rgb(44, 160, 101)', 'F': 'rgb(255, 65, 54)'}\n",
    "fig = go.Figure(data=[go.Scatter(\n",
    "    x = se_umap['y'].values+5,\n",
    "    y = se_umap['x'],\n",
    "    mode = 'markers+text',\n",
    "    text = se_umap['category'],\n",
    "    textposition='middle center',\n",
    "    textfont=dict(\n",
    "        family=\"sans serif\",\n",
    "        size=15,\n",
    "        # color=\"LightSeaGreen\"\n",
    "    ),\n",
    "    marker = dict(color=[col_dict[i] for i in se_umap['color']], opacity=0.3, size=np.log(se_umap['n_se'])*15))])\n",
    "# fig = px.scatter(se_umap, x='x', y='y', color=[col_dict[i] for i in se_umap['color']], text='category', size='n_se', size_max=100, opacity=0.3)\n",
    "\n",
    "# se_umap_md = se_umap_np[cata2se['F']]\n",
    "# fig.add_trace(go.Scatter(\n",
    "#     x = se_umap_md[:, 1],\n",
    "#     y = se_umap_md[:, 0],\n",
    "#     mode='markers+text',\n",
    "\n",
    "# ))\n",
    "\n",
    "# se_umap_md = se_umap_np[cata2se['C07']]\n",
    "# fig.add_trace(go.Scatter(\n",
    "#     x = se_umap_md[:, 1],\n",
    "#     y = se_umap_md[:, 0],\n",
    "#     mode='markers+text',\n",
    "\n",
    "# ))\n",
    "\n",
    "# se_umap_md = se_umap_np[cata2se['S']]\n",
    "# fig.add_trace(go.Scatter(\n",
    "#     x = se_umap_md[:, 1],\n",
    "#     y = se_umap_md[:, 0],\n",
    "#     mode='markers+text',\n",
    "\n",
    "# ))\n",
    "\n",
    "fig.update_xaxes(range=(0, 40), gridcolor='#e0e0e0', showline=True, linecolor='black', mirror=True)\n",
    "fig.update_yaxes(range=(2.5, 25), tickvals=[2.5, 5,7.5, 10,12.5,15, 17.5, 20,22.5, 25], gridcolor='#e0e0e0', showline=True, linecolor='black', mirror=True)\n",
    "fig.update_layout(plot_bgcolor='#FFF', width=800, height=1000)\n",
    "fig.show()"
   ]
  },
  {
   "cell_type": "code",
   "execution_count": 236,
   "metadata": {},
   "outputs": [
    {
     "name": "stdout",
     "output_type": "stream",
     "text": [
      "C01 - infections\n",
      "C04 - neoplasms\n",
      "C05 - musculoskeletal diseases\n",
      "C06 - digestive system diseases\n",
      "C07 - stomatognathic diseases\n",
      "C08 - respiratory tract diseases\n",
      "C09 - otorhinolaryngologic diseases\n",
      "C10 - nervous system diseases\n",
      "C11 - eye diseases\n",
      "C12 - male urogenital diseases\n",
      "C13 - female urogenital diseases and pregnancy complications\n",
      "C14 - cardiovascular diseases\n",
      "C15 - hemic and lymphatic diseases\n",
      "C16 - congenital, hereditary, and neonatal diseases and abnormalities\n",
      "C17 - skin and connective tissue diseases\n",
      "C18 - nutritional and metabolic diseases\n",
      "C19 - endocrine system diseases\n",
      "C20 - immune system diseases\n",
      "C25 - chemically-induced disorders\n",
      "C26 - wounds and injuries\n",
      "F - mental discorders\n",
      "S - pathological conditions, signs and symptoms\n"
     ]
    }
   ],
   "source": [
    "for i in se_umap['cat_all'].values:\n",
    "    print(i)"
   ]
  },
  {
   "source": [
    "## overlapping between side effect categories\n"
   ],
   "cell_type": "markdown",
   "metadata": {}
  },
  {
   "cell_type": "code",
   "execution_count": 25,
   "metadata": {},
   "outputs": [
    {
     "output_type": "execute_result",
     "data": {
      "text/plain": [
       "            x          y category  n_se                          cat_all color\n",
       "8    9.086743   7.471842      C01    50                 C01 - infections     C\n",
       "10  13.716795  10.056763      C04    32                  C04 - neoplasms     C\n",
       "17  17.519848  13.967044      C05    38   C05 - musculoskeletal diseases     C\n",
       "3    8.308552   5.276290      C06    55  C06 - digestive system diseases     C\n",
       "18  23.783897  12.842505      C07    18    C07 - stomatognathic diseases     C"
      ],
      "text/html": "<div>\n<style scoped>\n    .dataframe tbody tr th:only-of-type {\n        vertical-align: middle;\n    }\n\n    .dataframe tbody tr th {\n        vertical-align: top;\n    }\n\n    .dataframe thead th {\n        text-align: right;\n    }\n</style>\n<table border=\"1\" class=\"dataframe\">\n  <thead>\n    <tr style=\"text-align: right;\">\n      <th></th>\n      <th>x</th>\n      <th>y</th>\n      <th>category</th>\n      <th>n_se</th>\n      <th>cat_all</th>\n      <th>color</th>\n    </tr>\n  </thead>\n  <tbody>\n    <tr>\n      <th>8</th>\n      <td>9.086743</td>\n      <td>7.471842</td>\n      <td>C01</td>\n      <td>50</td>\n      <td>C01 - infections</td>\n      <td>C</td>\n    </tr>\n    <tr>\n      <th>10</th>\n      <td>13.716795</td>\n      <td>10.056763</td>\n      <td>C04</td>\n      <td>32</td>\n      <td>C04 - neoplasms</td>\n      <td>C</td>\n    </tr>\n    <tr>\n      <th>17</th>\n      <td>17.519848</td>\n      <td>13.967044</td>\n      <td>C05</td>\n      <td>38</td>\n      <td>C05 - musculoskeletal diseases</td>\n      <td>C</td>\n    </tr>\n    <tr>\n      <th>3</th>\n      <td>8.308552</td>\n      <td>5.276290</td>\n      <td>C06</td>\n      <td>55</td>\n      <td>C06 - digestive system diseases</td>\n      <td>C</td>\n    </tr>\n    <tr>\n      <th>18</th>\n      <td>23.783897</td>\n      <td>12.842505</td>\n      <td>C07</td>\n      <td>18</td>\n      <td>C07 - stomatognathic diseases</td>\n      <td>C</td>\n    </tr>\n  </tbody>\n</table>\n</div>"
     },
     "metadata": {},
     "execution_count": 25
    }
   ],
   "source": [
    "se_umap.head()"
   ]
  },
  {
   "cell_type": "code",
   "execution_count": 84,
   "metadata": {},
   "outputs": [
    {
     "output_type": "execute_result",
     "data": {
      "text/plain": [
       "odict_keys(['C08', 'S', 'C18', 'C06', 'C14', 'C20', 'C25', 'C15', 'C01', 'C10', 'C04', 'C11', 'C12', 'C13', 'C26', 'C17', 'C09', 'C05', 'C07', 'C19', 'F', 'C16'])"
      ]
     },
     "metadata": {},
     "execution_count": 84
    }
   ],
   "source": [
    "cata2se.keys()"
   ]
  },
  {
   "cell_type": "code",
   "execution_count": 68,
   "metadata": {},
   "outputs": [],
   "source": [
    "n = se_umap.shape[0]\n",
    "cate_pair_dis_js = []\n",
    "for i in range(n):\n",
    "    for j in range(i+1, n):\n",
    "        # get category and coordinates\n",
    "        x1, y1, c1, _, _, _ = se_umap.iloc[i, :]\n",
    "        x2, y2, c2, _, _, _ = se_umap.iloc[j, :]\n",
    "\n",
    "        # get side effets\n",
    "        s1 = set(cata2se[c1])\n",
    "        s2 = set(cata2se[c2])\n",
    "\n",
    "        # compute distance\n",
    "        dis = np.sqrt((x1-x2)**2 + (y1-y2)**2)\n",
    "        \n",
    "        # compute jaccard similarity coefficient score\n",
    "        js = len(s1&s2) / len(s1) / len(s2)\n",
    "\n",
    "        if js < 1e-10:\n",
    "            continue\n",
    "\n",
    "        cate_pair_dis_js.append([c1, c2, dis, js])\n",
    "cate_pair_dis_js = pandas.DataFrame(cate_pair_dis_js)\n"
   ]
  },
  {
   "cell_type": "code",
   "execution_count": 69,
   "metadata": {},
   "outputs": [
    {
     "output_type": "execute_result",
     "data": {
      "text/plain": [
       "      0    1          2         3\n",
       "0   C01  C05  10.644478  0.001053\n",
       "1   C01  C06   2.329384  0.001818\n",
       "2   C01  C07  15.647695  0.003333\n",
       "3   C01  C08   1.504114  0.007179\n",
       "4   C01  C09   9.600697  0.003810\n",
       "..  ...  ...        ...       ...\n",
       "95  C17    S   4.743208  0.000281\n",
       "96  C18  C19   9.214382  0.003676\n",
       "97  C18    S   1.425412  0.000129\n",
       "98  C20  C25  11.519726  0.022556\n",
       "99  C20    S   2.449649  0.000109\n",
       "\n",
       "[100 rows x 4 columns]"
      ],
      "text/html": "<div>\n<style scoped>\n    .dataframe tbody tr th:only-of-type {\n        vertical-align: middle;\n    }\n\n    .dataframe tbody tr th {\n        vertical-align: top;\n    }\n\n    .dataframe thead th {\n        text-align: right;\n    }\n</style>\n<table border=\"1\" class=\"dataframe\">\n  <thead>\n    <tr style=\"text-align: right;\">\n      <th></th>\n      <th>0</th>\n      <th>1</th>\n      <th>2</th>\n      <th>3</th>\n    </tr>\n  </thead>\n  <tbody>\n    <tr>\n      <th>0</th>\n      <td>C01</td>\n      <td>C05</td>\n      <td>10.644478</td>\n      <td>0.001053</td>\n    </tr>\n    <tr>\n      <th>1</th>\n      <td>C01</td>\n      <td>C06</td>\n      <td>2.329384</td>\n      <td>0.001818</td>\n    </tr>\n    <tr>\n      <th>2</th>\n      <td>C01</td>\n      <td>C07</td>\n      <td>15.647695</td>\n      <td>0.003333</td>\n    </tr>\n    <tr>\n      <th>3</th>\n      <td>C01</td>\n      <td>C08</td>\n      <td>1.504114</td>\n      <td>0.007179</td>\n    </tr>\n    <tr>\n      <th>4</th>\n      <td>C01</td>\n      <td>C09</td>\n      <td>9.600697</td>\n      <td>0.003810</td>\n    </tr>\n    <tr>\n      <th>...</th>\n      <td>...</td>\n      <td>...</td>\n      <td>...</td>\n      <td>...</td>\n    </tr>\n    <tr>\n      <th>95</th>\n      <td>C17</td>\n      <td>S</td>\n      <td>4.743208</td>\n      <td>0.000281</td>\n    </tr>\n    <tr>\n      <th>96</th>\n      <td>C18</td>\n      <td>C19</td>\n      <td>9.214382</td>\n      <td>0.003676</td>\n    </tr>\n    <tr>\n      <th>97</th>\n      <td>C18</td>\n      <td>S</td>\n      <td>1.425412</td>\n      <td>0.000129</td>\n    </tr>\n    <tr>\n      <th>98</th>\n      <td>C20</td>\n      <td>C25</td>\n      <td>11.519726</td>\n      <td>0.022556</td>\n    </tr>\n    <tr>\n      <th>99</th>\n      <td>C20</td>\n      <td>S</td>\n      <td>2.449649</td>\n      <td>0.000109</td>\n    </tr>\n  </tbody>\n</table>\n<p>100 rows × 4 columns</p>\n</div>"
     },
     "metadata": {},
     "execution_count": 69
    }
   ],
   "source": [
    "cate_pair_dis_js"
   ]
  },
  {
   "cell_type": "code",
   "execution_count": 82,
   "metadata": {},
   "outputs": [
    {
     "output_type": "display_data",
     "data": {
      "application/vnd.plotly.v1+json": {
       "config": {
        "plotlyServerURL": "https://plot.ly"
       },
       "data": [
        {
         "marker": {
          "opacity": 0.3
         },
         "mode": "markers+text",
         "text": [
          "",
          "",
          "",
          "C01-C08",
          "",
          "",
          "",
          "",
          "",
          "",
          "",
          "",
          "",
          "",
          "",
          "",
          "",
          "",
          "",
          "",
          "",
          "",
          "",
          "",
          "",
          "C05-C16",
          "",
          "",
          "",
          "",
          "",
          "",
          "",
          "",
          "",
          "",
          "",
          "",
          "",
          "",
          "",
          "",
          "",
          "",
          "",
          "",
          "",
          "C08-C09",
          "",
          "",
          "",
          "",
          "",
          "",
          "",
          "",
          "",
          "",
          "",
          "",
          "",
          "",
          "",
          "",
          "",
          "",
          "",
          "",
          "",
          "",
          "",
          "C12-C13",
          "",
          "",
          "",
          "",
          "",
          "",
          "",
          "C13-C19",
          "",
          "",
          "",
          "",
          "",
          "",
          "",
          "",
          "C15-C20",
          "",
          "C16-C18",
          "",
          "C17-C20",
          "C17-C25",
          "",
          "",
          "",
          "",
          "C20-C25",
          ""
         ],
         "textfont": {
          "family": "sans serif",
          "size": 12
         },
         "textposition": "top center",
         "type": "scatter",
         "x": [
          10.644477517523296,
          2.3293840683486047,
          15.64769487006975,
          1.5041143346565786,
          9.600696914907441,
          7.11250905291819,
          8.811627050207587,
          1.5323404326271273,
          4.06554573119703,
          4.860088096790629,
          2.5266342436105234,
          7.218172487001408,
          4.673066714835768,
          8.970955229381103,
          4.48525473237677,
          1.8542854441444543,
          11.718914494718963,
          15.294726163397272,
          2.0943277316982747,
          8.355559124114567,
          3.793265103741935,
          4.111237385789726,
          6.364189290182373,
          12.050699493589663,
          8.887460051073589,
          0.9885997216459826,
          6.991954199778622,
          9.420481819279392,
          9.22386462995235,
          9.163340976310526,
          8.876599006379719,
          17.2259665791994,
          11.929845986882604,
          8.791869485500726,
          2.7488030381565673,
          6.263414587748865,
          5.091408316730622,
          3.5937233413179377,
          12.630939469186576,
          4.845271518553755,
          15.116394640312759,
          12.216231407957679,
          18.324745568917628,
          15.237966020805054,
          10.99976593867135,
          14.036059459322832,
          14.470011043869524,
          8.16035276216556,
          5.920808185911459,
          8.887750895806006,
          0.7855727785841848,
          1.958459938579757,
          1.0641796031428135,
          7.307187979346842,
          8.935192143515525,
          6.849241672262537,
          7.09761105851662,
          4.382071694507163,
          8.370343575148398,
          7.169853544984908,
          13.411136677468333,
          10.148715535125731,
          6.674343856310184,
          6.437931969110003,
          7.842418448630172,
          13.25444407402488,
          5.51656293359714,
          9.688700839588481,
          8.70925115135972,
          8.909562742285347,
          6.373011559330791,
          3.757466042573997,
          9.982309585260985,
          1.7608905621229956,
          10.815358886560043,
          3.161382776474789,
          6.935670179079926,
          3.1688007347445692,
          2.795470183444721,
          7.469739647995767,
          2.3363288073706623,
          3.596622670854576,
          16.998450871432176,
          10.183679729404737,
          17.718213032386206,
          8.224191989530254,
          9.932746591561296,
          12.024252332766407,
          11.727498881093886,
          13.242467564063492,
          9.635250824042709,
          9.228377228104105,
          3.225517880150465,
          13.449787245844774,
          14.854422647790214,
          4.743208392694415,
          9.214381634320077,
          1.4254118141831593,
          11.51972615056861,
          2.449649153372471
         ],
         "y": [
          0.0010526315789473684,
          0.0018181818181818182,
          0.003333333333333333,
          0.00717948717948718,
          0.0038095238095238095,
          0.00020833333333333335,
          0.0008333333333333334,
          0.0006666666666666666,
          0.0010256410256410256,
          0.002727272727272727,
          0.000288659793814433,
          0.002840909090909091,
          0.0008012820512820513,
          0.0009765625,
          0.0010416666666666667,
          0.002403846153846154,
          0.00045955882352941176,
          0.002717391304347826,
          0.002840909090909091,
          0.0055147058823529415,
          0.004934210526315789,
          0.00006443298969072165,
          0.0014619883040935672,
          0.001918859649122807,
          0.0010964912280701754,
          0.008771929824561403,
          0.0029904306220095694,
          0.003289473684210526,
          0.002770083102493075,
          0.001644736842105263,
          0.00032555615843733043,
          0.00101010101010101,
          0.0008658008658008658,
          0.0001893939393939394,
          0.0006060606060606061,
          0.0004662004662004662,
          0.0010695187165775401,
          0.0005681818181818182,
          0.0010695187165775401,
          0.00018744142455482662,
          0.0014245014245014244,
          0.0026455026455026454,
          0.0011574074074074073,
          0.0023148148148148147,
          0.0012626262626262625,
          0.0029239766081871343,
          0.0002290950744558992,
          0.01343101343101343,
          0.0013354700854700853,
          0.0007541478129713423,
          0.0008012820512820513,
          0.004048582995951417,
          0.00037007665873645254,
          0.004464285714285714,
          0.005012531328320802,
          0.002976190476190476,
          0.0009818360333824251,
          0.004340277777777778,
          0.0003472222222222222,
          0.00026709401709401707,
          0.0012254901960784314,
          0.00047348484848484844,
          0.0006510416666666666,
          0.0012254901960784314,
          0.001644736842105263,
          0.0026041666666666665,
          0.0010738831615120276,
          0.0009469696969696969,
          0.0021929824561403508,
          0.005208333333333333,
          0.0005154639175257732,
          0.023931623931623933,
          0.005555555555555556,
          0.003125,
          0.00392156862745098,
          0.00034364261168384877,
          0.004273504273504273,
          0.0005827505827505828,
          0.002403846153846154,
          0.0060331825037707384,
          0.00042294475284166,
          0.001278772378516624,
          0.0024509803921568627,
          0.0006684491978609625,
          0.0008650519031141869,
          0.002321981424148607,
          0.0005761067313523348,
          0.001358695652173913,
          0.011441647597254004,
          0.0004482294935006723,
          0.015625,
          0.00034364261168384877,
          0.007177033492822966,
          0.006493506493506494,
          0.0014204545454545455,
          0.0002811621368322399,
          0.003676470588235294,
          0.0001288659793814433,
          0.022556390977443608,
          0.00010851871947911014
         ]
        }
       ],
       "layout": {
        "plot_bgcolor": "#FFF",
        "template": {
         "data": {
          "bar": [
           {
            "error_x": {
             "color": "#2a3f5f"
            },
            "error_y": {
             "color": "#2a3f5f"
            },
            "marker": {
             "line": {
              "color": "#E5ECF6",
              "width": 0.5
             }
            },
            "type": "bar"
           }
          ],
          "barpolar": [
           {
            "marker": {
             "line": {
              "color": "#E5ECF6",
              "width": 0.5
             }
            },
            "type": "barpolar"
           }
          ],
          "carpet": [
           {
            "aaxis": {
             "endlinecolor": "#2a3f5f",
             "gridcolor": "white",
             "linecolor": "white",
             "minorgridcolor": "white",
             "startlinecolor": "#2a3f5f"
            },
            "baxis": {
             "endlinecolor": "#2a3f5f",
             "gridcolor": "white",
             "linecolor": "white",
             "minorgridcolor": "white",
             "startlinecolor": "#2a3f5f"
            },
            "type": "carpet"
           }
          ],
          "choropleth": [
           {
            "colorbar": {
             "outlinewidth": 0,
             "ticks": ""
            },
            "type": "choropleth"
           }
          ],
          "contour": [
           {
            "colorbar": {
             "outlinewidth": 0,
             "ticks": ""
            },
            "colorscale": [
             [
              0,
              "#0d0887"
             ],
             [
              0.1111111111111111,
              "#46039f"
             ],
             [
              0.2222222222222222,
              "#7201a8"
             ],
             [
              0.3333333333333333,
              "#9c179e"
             ],
             [
              0.4444444444444444,
              "#bd3786"
             ],
             [
              0.5555555555555556,
              "#d8576b"
             ],
             [
              0.6666666666666666,
              "#ed7953"
             ],
             [
              0.7777777777777778,
              "#fb9f3a"
             ],
             [
              0.8888888888888888,
              "#fdca26"
             ],
             [
              1,
              "#f0f921"
             ]
            ],
            "type": "contour"
           }
          ],
          "contourcarpet": [
           {
            "colorbar": {
             "outlinewidth": 0,
             "ticks": ""
            },
            "type": "contourcarpet"
           }
          ],
          "heatmap": [
           {
            "colorbar": {
             "outlinewidth": 0,
             "ticks": ""
            },
            "colorscale": [
             [
              0,
              "#0d0887"
             ],
             [
              0.1111111111111111,
              "#46039f"
             ],
             [
              0.2222222222222222,
              "#7201a8"
             ],
             [
              0.3333333333333333,
              "#9c179e"
             ],
             [
              0.4444444444444444,
              "#bd3786"
             ],
             [
              0.5555555555555556,
              "#d8576b"
             ],
             [
              0.6666666666666666,
              "#ed7953"
             ],
             [
              0.7777777777777778,
              "#fb9f3a"
             ],
             [
              0.8888888888888888,
              "#fdca26"
             ],
             [
              1,
              "#f0f921"
             ]
            ],
            "type": "heatmap"
           }
          ],
          "heatmapgl": [
           {
            "colorbar": {
             "outlinewidth": 0,
             "ticks": ""
            },
            "colorscale": [
             [
              0,
              "#0d0887"
             ],
             [
              0.1111111111111111,
              "#46039f"
             ],
             [
              0.2222222222222222,
              "#7201a8"
             ],
             [
              0.3333333333333333,
              "#9c179e"
             ],
             [
              0.4444444444444444,
              "#bd3786"
             ],
             [
              0.5555555555555556,
              "#d8576b"
             ],
             [
              0.6666666666666666,
              "#ed7953"
             ],
             [
              0.7777777777777778,
              "#fb9f3a"
             ],
             [
              0.8888888888888888,
              "#fdca26"
             ],
             [
              1,
              "#f0f921"
             ]
            ],
            "type": "heatmapgl"
           }
          ],
          "histogram": [
           {
            "marker": {
             "colorbar": {
              "outlinewidth": 0,
              "ticks": ""
             }
            },
            "type": "histogram"
           }
          ],
          "histogram2d": [
           {
            "colorbar": {
             "outlinewidth": 0,
             "ticks": ""
            },
            "colorscale": [
             [
              0,
              "#0d0887"
             ],
             [
              0.1111111111111111,
              "#46039f"
             ],
             [
              0.2222222222222222,
              "#7201a8"
             ],
             [
              0.3333333333333333,
              "#9c179e"
             ],
             [
              0.4444444444444444,
              "#bd3786"
             ],
             [
              0.5555555555555556,
              "#d8576b"
             ],
             [
              0.6666666666666666,
              "#ed7953"
             ],
             [
              0.7777777777777778,
              "#fb9f3a"
             ],
             [
              0.8888888888888888,
              "#fdca26"
             ],
             [
              1,
              "#f0f921"
             ]
            ],
            "type": "histogram2d"
           }
          ],
          "histogram2dcontour": [
           {
            "colorbar": {
             "outlinewidth": 0,
             "ticks": ""
            },
            "colorscale": [
             [
              0,
              "#0d0887"
             ],
             [
              0.1111111111111111,
              "#46039f"
             ],
             [
              0.2222222222222222,
              "#7201a8"
             ],
             [
              0.3333333333333333,
              "#9c179e"
             ],
             [
              0.4444444444444444,
              "#bd3786"
             ],
             [
              0.5555555555555556,
              "#d8576b"
             ],
             [
              0.6666666666666666,
              "#ed7953"
             ],
             [
              0.7777777777777778,
              "#fb9f3a"
             ],
             [
              0.8888888888888888,
              "#fdca26"
             ],
             [
              1,
              "#f0f921"
             ]
            ],
            "type": "histogram2dcontour"
           }
          ],
          "mesh3d": [
           {
            "colorbar": {
             "outlinewidth": 0,
             "ticks": ""
            },
            "type": "mesh3d"
           }
          ],
          "parcoords": [
           {
            "line": {
             "colorbar": {
              "outlinewidth": 0,
              "ticks": ""
             }
            },
            "type": "parcoords"
           }
          ],
          "pie": [
           {
            "automargin": true,
            "type": "pie"
           }
          ],
          "scatter": [
           {
            "marker": {
             "colorbar": {
              "outlinewidth": 0,
              "ticks": ""
             }
            },
            "type": "scatter"
           }
          ],
          "scatter3d": [
           {
            "line": {
             "colorbar": {
              "outlinewidth": 0,
              "ticks": ""
             }
            },
            "marker": {
             "colorbar": {
              "outlinewidth": 0,
              "ticks": ""
             }
            },
            "type": "scatter3d"
           }
          ],
          "scattercarpet": [
           {
            "marker": {
             "colorbar": {
              "outlinewidth": 0,
              "ticks": ""
             }
            },
            "type": "scattercarpet"
           }
          ],
          "scattergeo": [
           {
            "marker": {
             "colorbar": {
              "outlinewidth": 0,
              "ticks": ""
             }
            },
            "type": "scattergeo"
           }
          ],
          "scattergl": [
           {
            "marker": {
             "colorbar": {
              "outlinewidth": 0,
              "ticks": ""
             }
            },
            "type": "scattergl"
           }
          ],
          "scattermapbox": [
           {
            "marker": {
             "colorbar": {
              "outlinewidth": 0,
              "ticks": ""
             }
            },
            "type": "scattermapbox"
           }
          ],
          "scatterpolar": [
           {
            "marker": {
             "colorbar": {
              "outlinewidth": 0,
              "ticks": ""
             }
            },
            "type": "scatterpolar"
           }
          ],
          "scatterpolargl": [
           {
            "marker": {
             "colorbar": {
              "outlinewidth": 0,
              "ticks": ""
             }
            },
            "type": "scatterpolargl"
           }
          ],
          "scatterternary": [
           {
            "marker": {
             "colorbar": {
              "outlinewidth": 0,
              "ticks": ""
             }
            },
            "type": "scatterternary"
           }
          ],
          "surface": [
           {
            "colorbar": {
             "outlinewidth": 0,
             "ticks": ""
            },
            "colorscale": [
             [
              0,
              "#0d0887"
             ],
             [
              0.1111111111111111,
              "#46039f"
             ],
             [
              0.2222222222222222,
              "#7201a8"
             ],
             [
              0.3333333333333333,
              "#9c179e"
             ],
             [
              0.4444444444444444,
              "#bd3786"
             ],
             [
              0.5555555555555556,
              "#d8576b"
             ],
             [
              0.6666666666666666,
              "#ed7953"
             ],
             [
              0.7777777777777778,
              "#fb9f3a"
             ],
             [
              0.8888888888888888,
              "#fdca26"
             ],
             [
              1,
              "#f0f921"
             ]
            ],
            "type": "surface"
           }
          ],
          "table": [
           {
            "cells": {
             "fill": {
              "color": "#EBF0F8"
             },
             "line": {
              "color": "white"
             }
            },
            "header": {
             "fill": {
              "color": "#C8D4E3"
             },
             "line": {
              "color": "white"
             }
            },
            "type": "table"
           }
          ]
         },
         "layout": {
          "annotationdefaults": {
           "arrowcolor": "#2a3f5f",
           "arrowhead": 0,
           "arrowwidth": 1
          },
          "autotypenumbers": "strict",
          "coloraxis": {
           "colorbar": {
            "outlinewidth": 0,
            "ticks": ""
           }
          },
          "colorscale": {
           "diverging": [
            [
             0,
             "#8e0152"
            ],
            [
             0.1,
             "#c51b7d"
            ],
            [
             0.2,
             "#de77ae"
            ],
            [
             0.3,
             "#f1b6da"
            ],
            [
             0.4,
             "#fde0ef"
            ],
            [
             0.5,
             "#f7f7f7"
            ],
            [
             0.6,
             "#e6f5d0"
            ],
            [
             0.7,
             "#b8e186"
            ],
            [
             0.8,
             "#7fbc41"
            ],
            [
             0.9,
             "#4d9221"
            ],
            [
             1,
             "#276419"
            ]
           ],
           "sequential": [
            [
             0,
             "#0d0887"
            ],
            [
             0.1111111111111111,
             "#46039f"
            ],
            [
             0.2222222222222222,
             "#7201a8"
            ],
            [
             0.3333333333333333,
             "#9c179e"
            ],
            [
             0.4444444444444444,
             "#bd3786"
            ],
            [
             0.5555555555555556,
             "#d8576b"
            ],
            [
             0.6666666666666666,
             "#ed7953"
            ],
            [
             0.7777777777777778,
             "#fb9f3a"
            ],
            [
             0.8888888888888888,
             "#fdca26"
            ],
            [
             1,
             "#f0f921"
            ]
           ],
           "sequentialminus": [
            [
             0,
             "#0d0887"
            ],
            [
             0.1111111111111111,
             "#46039f"
            ],
            [
             0.2222222222222222,
             "#7201a8"
            ],
            [
             0.3333333333333333,
             "#9c179e"
            ],
            [
             0.4444444444444444,
             "#bd3786"
            ],
            [
             0.5555555555555556,
             "#d8576b"
            ],
            [
             0.6666666666666666,
             "#ed7953"
            ],
            [
             0.7777777777777778,
             "#fb9f3a"
            ],
            [
             0.8888888888888888,
             "#fdca26"
            ],
            [
             1,
             "#f0f921"
            ]
           ]
          },
          "colorway": [
           "#636efa",
           "#EF553B",
           "#00cc96",
           "#ab63fa",
           "#FFA15A",
           "#19d3f3",
           "#FF6692",
           "#B6E880",
           "#FF97FF",
           "#FECB52"
          ],
          "font": {
           "color": "#2a3f5f"
          },
          "geo": {
           "bgcolor": "white",
           "lakecolor": "white",
           "landcolor": "#E5ECF6",
           "showlakes": true,
           "showland": true,
           "subunitcolor": "white"
          },
          "hoverlabel": {
           "align": "left"
          },
          "hovermode": "closest",
          "mapbox": {
           "style": "light"
          },
          "paper_bgcolor": "white",
          "plot_bgcolor": "#E5ECF6",
          "polar": {
           "angularaxis": {
            "gridcolor": "white",
            "linecolor": "white",
            "ticks": ""
           },
           "bgcolor": "#E5ECF6",
           "radialaxis": {
            "gridcolor": "white",
            "linecolor": "white",
            "ticks": ""
           }
          },
          "scene": {
           "xaxis": {
            "backgroundcolor": "#E5ECF6",
            "gridcolor": "white",
            "gridwidth": 2,
            "linecolor": "white",
            "showbackground": true,
            "ticks": "",
            "zerolinecolor": "white"
           },
           "yaxis": {
            "backgroundcolor": "#E5ECF6",
            "gridcolor": "white",
            "gridwidth": 2,
            "linecolor": "white",
            "showbackground": true,
            "ticks": "",
            "zerolinecolor": "white"
           },
           "zaxis": {
            "backgroundcolor": "#E5ECF6",
            "gridcolor": "white",
            "gridwidth": 2,
            "linecolor": "white",
            "showbackground": true,
            "ticks": "",
            "zerolinecolor": "white"
           }
          },
          "shapedefaults": {
           "line": {
            "color": "#2a3f5f"
           }
          },
          "ternary": {
           "aaxis": {
            "gridcolor": "white",
            "linecolor": "white",
            "ticks": ""
           },
           "baxis": {
            "gridcolor": "white",
            "linecolor": "white",
            "ticks": ""
           },
           "bgcolor": "#E5ECF6",
           "caxis": {
            "gridcolor": "white",
            "linecolor": "white",
            "ticks": ""
           }
          },
          "title": {
           "x": 0.05
          },
          "xaxis": {
           "automargin": true,
           "gridcolor": "white",
           "linecolor": "white",
           "ticks": "",
           "title": {
            "standoff": 15
           },
           "zerolinecolor": "white",
           "zerolinewidth": 2
          },
          "yaxis": {
           "automargin": true,
           "gridcolor": "white",
           "linecolor": "white",
           "ticks": "",
           "title": {
            "standoff": 15
           },
           "zerolinecolor": "white",
           "zerolinewidth": 2
          }
         }
        },
        "xaxis": {
         "gridcolor": "#e0e0e0",
         "linecolor": "black",
         "mirror": true,
         "showline": true,
         "title": {
          "text": "embedding distance"
         },
         "zerolinecolor": "#e0e0e0"
        },
        "yaxis": {
         "gridcolor": "#e0e0e0",
         "linecolor": "black",
         "mirror": true,
         "showline": true,
         "title": {
          "text": "jaccard distance"
         },
         "zerolinecolor": "#e0e0e0"
        }
       }
      },
      "text/html": "<div>                            <div id=\"37d0e8f9-81b0-4e8c-b6c1-204f2fbbb312\" class=\"plotly-graph-div\" style=\"height:525px; width:100%;\"></div>            <script type=\"text/javascript\">                require([\"plotly\"], function(Plotly) {                    window.PLOTLYENV=window.PLOTLYENV || {};                                    if (document.getElementById(\"37d0e8f9-81b0-4e8c-b6c1-204f2fbbb312\")) {                    Plotly.newPlot(                        \"37d0e8f9-81b0-4e8c-b6c1-204f2fbbb312\",                        [{\"marker\": {\"opacity\": 0.3}, \"mode\": \"markers+text\", \"text\": [\"\", \"\", \"\", \"C01-C08\", \"\", \"\", \"\", \"\", \"\", \"\", \"\", \"\", \"\", \"\", \"\", \"\", \"\", \"\", \"\", \"\", \"\", \"\", \"\", \"\", \"\", \"C05-C16\", \"\", \"\", \"\", \"\", \"\", \"\", \"\", \"\", \"\", \"\", \"\", \"\", \"\", \"\", \"\", \"\", \"\", \"\", \"\", \"\", \"\", \"C08-C09\", \"\", \"\", \"\", \"\", \"\", \"\", \"\", \"\", \"\", \"\", \"\", \"\", \"\", \"\", \"\", \"\", \"\", \"\", \"\", \"\", \"\", \"\", \"\", \"C12-C13\", \"\", \"\", \"\", \"\", \"\", \"\", \"\", \"C13-C19\", \"\", \"\", \"\", \"\", \"\", \"\", \"\", \"\", \"C15-C20\", \"\", \"C16-C18\", \"\", \"C17-C20\", \"C17-C25\", \"\", \"\", \"\", \"\", \"C20-C25\", \"\"], \"textfont\": {\"family\": \"sans serif\", \"size\": 12}, \"textposition\": \"top center\", \"type\": \"scatter\", \"x\": [10.644477517523296, 2.3293840683486047, 15.64769487006975, 1.5041143346565786, 9.600696914907441, 7.11250905291819, 8.811627050207587, 1.5323404326271273, 4.06554573119703, 4.860088096790629, 2.5266342436105234, 7.218172487001408, 4.673066714835768, 8.970955229381103, 4.48525473237677, 1.8542854441444543, 11.718914494718963, 15.294726163397272, 2.0943277316982747, 8.355559124114567, 3.793265103741935, 4.111237385789726, 6.364189290182373, 12.050699493589663, 8.887460051073589, 0.9885997216459826, 6.991954199778622, 9.420481819279392, 9.22386462995235, 9.163340976310526, 8.876599006379719, 17.2259665791994, 11.929845986882604, 8.791869485500726, 2.7488030381565673, 6.263414587748865, 5.091408316730622, 3.5937233413179377, 12.630939469186576, 4.845271518553755, 15.116394640312759, 12.216231407957679, 18.324745568917628, 15.237966020805054, 10.99976593867135, 14.036059459322832, 14.470011043869524, 8.16035276216556, 5.920808185911459, 8.887750895806006, 0.7855727785841848, 1.958459938579757, 1.0641796031428135, 7.307187979346842, 8.935192143515525, 6.849241672262537, 7.09761105851662, 4.382071694507163, 8.370343575148398, 7.169853544984908, 13.411136677468333, 10.148715535125731, 6.674343856310184, 6.437931969110003, 7.842418448630172, 13.25444407402488, 5.51656293359714, 9.688700839588481, 8.70925115135972, 8.909562742285347, 6.373011559330791, 3.757466042573997, 9.982309585260985, 1.7608905621229956, 10.815358886560043, 3.161382776474789, 6.935670179079926, 3.1688007347445692, 2.795470183444721, 7.469739647995767, 2.3363288073706623, 3.596622670854576, 16.998450871432176, 10.183679729404737, 17.718213032386206, 8.224191989530254, 9.932746591561296, 12.024252332766407, 11.727498881093886, 13.242467564063492, 9.635250824042709, 9.228377228104105, 3.225517880150465, 13.449787245844774, 14.854422647790214, 4.743208392694415, 9.214381634320077, 1.4254118141831593, 11.51972615056861, 2.449649153372471], \"y\": [0.0010526315789473684, 0.0018181818181818182, 0.003333333333333333, 0.00717948717948718, 0.0038095238095238095, 0.00020833333333333335, 0.0008333333333333334, 0.0006666666666666666, 0.0010256410256410256, 0.002727272727272727, 0.000288659793814433, 0.002840909090909091, 0.0008012820512820513, 0.0009765625, 0.0010416666666666667, 0.002403846153846154, 0.00045955882352941176, 0.002717391304347826, 0.002840909090909091, 0.0055147058823529415, 0.004934210526315789, 6.443298969072165e-05, 0.0014619883040935672, 0.001918859649122807, 0.0010964912280701754, 0.008771929824561403, 0.0029904306220095694, 0.003289473684210526, 0.002770083102493075, 0.001644736842105263, 0.00032555615843733043, 0.00101010101010101, 0.0008658008658008658, 0.0001893939393939394, 0.0006060606060606061, 0.0004662004662004662, 0.0010695187165775401, 0.0005681818181818182, 0.0010695187165775401, 0.00018744142455482662, 0.0014245014245014244, 0.0026455026455026454, 0.0011574074074074073, 0.0023148148148148147, 0.0012626262626262625, 0.0029239766081871343, 0.0002290950744558992, 0.01343101343101343, 0.0013354700854700853, 0.0007541478129713423, 0.0008012820512820513, 0.004048582995951417, 0.00037007665873645254, 0.004464285714285714, 0.005012531328320802, 0.002976190476190476, 0.0009818360333824251, 0.004340277777777778, 0.0003472222222222222, 0.00026709401709401707, 0.0012254901960784314, 0.00047348484848484844, 0.0006510416666666666, 0.0012254901960784314, 0.001644736842105263, 0.0026041666666666665, 0.0010738831615120276, 0.0009469696969696969, 0.0021929824561403508, 0.005208333333333333, 0.0005154639175257732, 0.023931623931623933, 0.005555555555555556, 0.003125, 0.00392156862745098, 0.00034364261168384877, 0.004273504273504273, 0.0005827505827505828, 0.002403846153846154, 0.0060331825037707384, 0.00042294475284166, 0.001278772378516624, 0.0024509803921568627, 0.0006684491978609625, 0.0008650519031141869, 0.002321981424148607, 0.0005761067313523348, 0.001358695652173913, 0.011441647597254004, 0.0004482294935006723, 0.015625, 0.00034364261168384877, 0.007177033492822966, 0.006493506493506494, 0.0014204545454545455, 0.0002811621368322399, 0.003676470588235294, 0.0001288659793814433, 0.022556390977443608, 0.00010851871947911014]}],                        {\"plot_bgcolor\": \"#FFF\", \"template\": {\"data\": {\"bar\": [{\"error_x\": {\"color\": \"#2a3f5f\"}, \"error_y\": {\"color\": \"#2a3f5f\"}, \"marker\": {\"line\": {\"color\": \"#E5ECF6\", \"width\": 0.5}}, \"type\": \"bar\"}], \"barpolar\": [{\"marker\": {\"line\": {\"color\": \"#E5ECF6\", \"width\": 0.5}}, \"type\": \"barpolar\"}], \"carpet\": [{\"aaxis\": {\"endlinecolor\": \"#2a3f5f\", \"gridcolor\": \"white\", \"linecolor\": \"white\", \"minorgridcolor\": \"white\", \"startlinecolor\": \"#2a3f5f\"}, \"baxis\": {\"endlinecolor\": \"#2a3f5f\", \"gridcolor\": \"white\", \"linecolor\": \"white\", \"minorgridcolor\": \"white\", \"startlinecolor\": \"#2a3f5f\"}, \"type\": \"carpet\"}], \"choropleth\": [{\"colorbar\": {\"outlinewidth\": 0, \"ticks\": \"\"}, \"type\": \"choropleth\"}], \"contour\": [{\"colorbar\": {\"outlinewidth\": 0, \"ticks\": \"\"}, \"colorscale\": [[0.0, \"#0d0887\"], [0.1111111111111111, \"#46039f\"], [0.2222222222222222, \"#7201a8\"], [0.3333333333333333, \"#9c179e\"], [0.4444444444444444, \"#bd3786\"], [0.5555555555555556, \"#d8576b\"], [0.6666666666666666, \"#ed7953\"], [0.7777777777777778, \"#fb9f3a\"], [0.8888888888888888, \"#fdca26\"], [1.0, \"#f0f921\"]], \"type\": \"contour\"}], \"contourcarpet\": [{\"colorbar\": {\"outlinewidth\": 0, \"ticks\": \"\"}, \"type\": \"contourcarpet\"}], \"heatmap\": [{\"colorbar\": {\"outlinewidth\": 0, \"ticks\": \"\"}, \"colorscale\": [[0.0, \"#0d0887\"], [0.1111111111111111, \"#46039f\"], [0.2222222222222222, \"#7201a8\"], [0.3333333333333333, \"#9c179e\"], [0.4444444444444444, \"#bd3786\"], [0.5555555555555556, \"#d8576b\"], [0.6666666666666666, \"#ed7953\"], [0.7777777777777778, \"#fb9f3a\"], [0.8888888888888888, \"#fdca26\"], [1.0, \"#f0f921\"]], \"type\": \"heatmap\"}], \"heatmapgl\": [{\"colorbar\": {\"outlinewidth\": 0, \"ticks\": \"\"}, \"colorscale\": [[0.0, \"#0d0887\"], [0.1111111111111111, \"#46039f\"], [0.2222222222222222, \"#7201a8\"], [0.3333333333333333, \"#9c179e\"], [0.4444444444444444, \"#bd3786\"], [0.5555555555555556, \"#d8576b\"], [0.6666666666666666, \"#ed7953\"], [0.7777777777777778, \"#fb9f3a\"], [0.8888888888888888, \"#fdca26\"], [1.0, \"#f0f921\"]], \"type\": \"heatmapgl\"}], \"histogram\": [{\"marker\": {\"colorbar\": {\"outlinewidth\": 0, \"ticks\": \"\"}}, \"type\": \"histogram\"}], \"histogram2d\": [{\"colorbar\": {\"outlinewidth\": 0, \"ticks\": \"\"}, \"colorscale\": [[0.0, \"#0d0887\"], [0.1111111111111111, \"#46039f\"], [0.2222222222222222, \"#7201a8\"], [0.3333333333333333, \"#9c179e\"], [0.4444444444444444, \"#bd3786\"], [0.5555555555555556, \"#d8576b\"], [0.6666666666666666, \"#ed7953\"], [0.7777777777777778, \"#fb9f3a\"], [0.8888888888888888, \"#fdca26\"], [1.0, \"#f0f921\"]], \"type\": \"histogram2d\"}], \"histogram2dcontour\": [{\"colorbar\": {\"outlinewidth\": 0, \"ticks\": \"\"}, \"colorscale\": [[0.0, \"#0d0887\"], [0.1111111111111111, \"#46039f\"], [0.2222222222222222, \"#7201a8\"], [0.3333333333333333, \"#9c179e\"], [0.4444444444444444, \"#bd3786\"], [0.5555555555555556, \"#d8576b\"], [0.6666666666666666, \"#ed7953\"], [0.7777777777777778, \"#fb9f3a\"], [0.8888888888888888, \"#fdca26\"], [1.0, \"#f0f921\"]], \"type\": \"histogram2dcontour\"}], \"mesh3d\": [{\"colorbar\": {\"outlinewidth\": 0, \"ticks\": \"\"}, \"type\": \"mesh3d\"}], \"parcoords\": [{\"line\": {\"colorbar\": {\"outlinewidth\": 0, \"ticks\": \"\"}}, \"type\": \"parcoords\"}], \"pie\": [{\"automargin\": true, \"type\": \"pie\"}], \"scatter\": [{\"marker\": {\"colorbar\": {\"outlinewidth\": 0, \"ticks\": \"\"}}, \"type\": \"scatter\"}], \"scatter3d\": [{\"line\": {\"colorbar\": {\"outlinewidth\": 0, \"ticks\": \"\"}}, \"marker\": {\"colorbar\": {\"outlinewidth\": 0, \"ticks\": \"\"}}, \"type\": \"scatter3d\"}], \"scattercarpet\": [{\"marker\": {\"colorbar\": {\"outlinewidth\": 0, \"ticks\": \"\"}}, \"type\": \"scattercarpet\"}], \"scattergeo\": [{\"marker\": {\"colorbar\": {\"outlinewidth\": 0, \"ticks\": \"\"}}, \"type\": \"scattergeo\"}], \"scattergl\": [{\"marker\": {\"colorbar\": {\"outlinewidth\": 0, \"ticks\": \"\"}}, \"type\": \"scattergl\"}], \"scattermapbox\": [{\"marker\": {\"colorbar\": {\"outlinewidth\": 0, \"ticks\": \"\"}}, \"type\": \"scattermapbox\"}], \"scatterpolar\": [{\"marker\": {\"colorbar\": {\"outlinewidth\": 0, \"ticks\": \"\"}}, \"type\": \"scatterpolar\"}], \"scatterpolargl\": [{\"marker\": {\"colorbar\": {\"outlinewidth\": 0, \"ticks\": \"\"}}, \"type\": \"scatterpolargl\"}], \"scatterternary\": [{\"marker\": {\"colorbar\": {\"outlinewidth\": 0, \"ticks\": \"\"}}, \"type\": \"scatterternary\"}], \"surface\": [{\"colorbar\": {\"outlinewidth\": 0, \"ticks\": \"\"}, \"colorscale\": [[0.0, \"#0d0887\"], [0.1111111111111111, \"#46039f\"], [0.2222222222222222, \"#7201a8\"], [0.3333333333333333, \"#9c179e\"], [0.4444444444444444, \"#bd3786\"], [0.5555555555555556, \"#d8576b\"], [0.6666666666666666, \"#ed7953\"], [0.7777777777777778, \"#fb9f3a\"], [0.8888888888888888, \"#fdca26\"], [1.0, \"#f0f921\"]], \"type\": \"surface\"}], \"table\": [{\"cells\": {\"fill\": {\"color\": \"#EBF0F8\"}, \"line\": {\"color\": \"white\"}}, \"header\": {\"fill\": {\"color\": \"#C8D4E3\"}, \"line\": {\"color\": \"white\"}}, \"type\": \"table\"}]}, \"layout\": {\"annotationdefaults\": {\"arrowcolor\": \"#2a3f5f\", \"arrowhead\": 0, \"arrowwidth\": 1}, \"autotypenumbers\": \"strict\", \"coloraxis\": {\"colorbar\": {\"outlinewidth\": 0, \"ticks\": \"\"}}, \"colorscale\": {\"diverging\": [[0, \"#8e0152\"], [0.1, \"#c51b7d\"], [0.2, \"#de77ae\"], [0.3, \"#f1b6da\"], [0.4, \"#fde0ef\"], [0.5, \"#f7f7f7\"], [0.6, \"#e6f5d0\"], [0.7, \"#b8e186\"], [0.8, \"#7fbc41\"], [0.9, \"#4d9221\"], [1, \"#276419\"]], \"sequential\": [[0.0, \"#0d0887\"], [0.1111111111111111, \"#46039f\"], [0.2222222222222222, \"#7201a8\"], [0.3333333333333333, \"#9c179e\"], [0.4444444444444444, \"#bd3786\"], [0.5555555555555556, \"#d8576b\"], [0.6666666666666666, \"#ed7953\"], [0.7777777777777778, \"#fb9f3a\"], [0.8888888888888888, \"#fdca26\"], [1.0, \"#f0f921\"]], \"sequentialminus\": [[0.0, \"#0d0887\"], [0.1111111111111111, \"#46039f\"], [0.2222222222222222, \"#7201a8\"], [0.3333333333333333, \"#9c179e\"], [0.4444444444444444, \"#bd3786\"], [0.5555555555555556, \"#d8576b\"], [0.6666666666666666, \"#ed7953\"], [0.7777777777777778, \"#fb9f3a\"], [0.8888888888888888, \"#fdca26\"], [1.0, \"#f0f921\"]]}, \"colorway\": [\"#636efa\", \"#EF553B\", \"#00cc96\", \"#ab63fa\", \"#FFA15A\", \"#19d3f3\", \"#FF6692\", \"#B6E880\", \"#FF97FF\", \"#FECB52\"], \"font\": {\"color\": \"#2a3f5f\"}, \"geo\": {\"bgcolor\": \"white\", \"lakecolor\": \"white\", \"landcolor\": \"#E5ECF6\", \"showlakes\": true, \"showland\": true, \"subunitcolor\": \"white\"}, \"hoverlabel\": {\"align\": \"left\"}, \"hovermode\": \"closest\", \"mapbox\": {\"style\": \"light\"}, \"paper_bgcolor\": \"white\", \"plot_bgcolor\": \"#E5ECF6\", \"polar\": {\"angularaxis\": {\"gridcolor\": \"white\", \"linecolor\": \"white\", \"ticks\": \"\"}, \"bgcolor\": \"#E5ECF6\", \"radialaxis\": {\"gridcolor\": \"white\", \"linecolor\": \"white\", \"ticks\": \"\"}}, \"scene\": {\"xaxis\": {\"backgroundcolor\": \"#E5ECF6\", \"gridcolor\": \"white\", \"gridwidth\": 2, \"linecolor\": \"white\", \"showbackground\": true, \"ticks\": \"\", \"zerolinecolor\": \"white\"}, \"yaxis\": {\"backgroundcolor\": \"#E5ECF6\", \"gridcolor\": \"white\", \"gridwidth\": 2, \"linecolor\": \"white\", \"showbackground\": true, \"ticks\": \"\", \"zerolinecolor\": \"white\"}, \"zaxis\": {\"backgroundcolor\": \"#E5ECF6\", \"gridcolor\": \"white\", \"gridwidth\": 2, \"linecolor\": \"white\", \"showbackground\": true, \"ticks\": \"\", \"zerolinecolor\": \"white\"}}, \"shapedefaults\": {\"line\": {\"color\": \"#2a3f5f\"}}, \"ternary\": {\"aaxis\": {\"gridcolor\": \"white\", \"linecolor\": \"white\", \"ticks\": \"\"}, \"baxis\": {\"gridcolor\": \"white\", \"linecolor\": \"white\", \"ticks\": \"\"}, \"bgcolor\": \"#E5ECF6\", \"caxis\": {\"gridcolor\": \"white\", \"linecolor\": \"white\", \"ticks\": \"\"}}, \"title\": {\"x\": 0.05}, \"xaxis\": {\"automargin\": true, \"gridcolor\": \"white\", \"linecolor\": \"white\", \"ticks\": \"\", \"title\": {\"standoff\": 15}, \"zerolinecolor\": \"white\", \"zerolinewidth\": 2}, \"yaxis\": {\"automargin\": true, \"gridcolor\": \"white\", \"linecolor\": \"white\", \"ticks\": \"\", \"title\": {\"standoff\": 15}, \"zerolinecolor\": \"white\", \"zerolinewidth\": 2}}}, \"xaxis\": {\"gridcolor\": \"#e0e0e0\", \"linecolor\": \"black\", \"mirror\": true, \"showline\": true, \"title\": {\"text\": \"embedding distance\"}, \"zerolinecolor\": \"#e0e0e0\"}, \"yaxis\": {\"gridcolor\": \"#e0e0e0\", \"linecolor\": \"black\", \"mirror\": true, \"showline\": true, \"title\": {\"text\": \"jaccard distance\"}, \"zerolinecolor\": \"#e0e0e0\"}},                        {\"responsive\": true}                    ).then(function(){\n                            \nvar gd = document.getElementById('37d0e8f9-81b0-4e8c-b6c1-204f2fbbb312');\nvar x = new MutationObserver(function (mutations, observer) {{\n        var display = window.getComputedStyle(gd).display;\n        if (!display || display === 'none') {{\n            console.log([gd, 'removed!']);\n            Plotly.purge(gd);\n            observer.disconnect();\n        }}\n}});\n\n// Listen for the removal of the full notebook cells\nvar notebookContainer = gd.closest('#notebook-container');\nif (notebookContainer) {{\n    x.observe(notebookContainer, {childList: true});\n}}\n\n// Listen for the clearing of the current output cell\nvar outputEl = gd.closest('.output');\nif (outputEl) {{\n    x.observe(outputEl, {childList: true});\n}}\n\n                        })                };                });            </script>        </div>"
     },
     "metadata": {}
    }
   ],
   "source": [
    "fig = go.Figure(data=[go.Scatter(\n",
    "    x = cate_pair_dis_js.iloc[:, 2],\n",
    "    y = cate_pair_dis_js.iloc[:, 3],\n",
    "    mode = 'markers+text',\n",
    "    text = [f'{i}-{j}' if js > 0.006 else '' for i, j, _, js in cate_pair_dis_js.values],\n",
    "    textposition='top center',\n",
    "    textfont=dict(\n",
    "        family=\"sans serif\",\n",
    "        size=12,\n",
    "        # color=\"LightSeaGreen\"\n",
    "    ),\n",
    "    marker = dict(opacity=0.3))])\n",
    "\n",
    "fig.update_xaxes(gridcolor='#e0e0e0', zerolinecolor='#e0e0e0', showline=True, linecolor='black', mirror=True, title='embedding distance')\n",
    "fig.update_yaxes(gridcolor='#e0e0e0', zerolinecolor='#e0e0e0', showline=True, linecolor='black', mirror=True, title='jaccard distance')\n",
    "fig.update_layout(plot_bgcolor='#FFF')\n",
    "fig.show()"
   ]
  },
  {
   "cell_type": "code",
   "execution_count": null,
   "metadata": {},
   "outputs": [],
   "source": []
  }
 ],
 "metadata": {
  "kernelspec": {
   "name": "python3",
   "display_name": "Python 3.7.7 64-bit ('base': conda)"
  },
  "language_info": {
   "codemirror_mode": {
    "name": "ipython",
    "version": 3
   },
   "file_extension": ".py",
   "mimetype": "text/x-python",
   "name": "python",
   "nbconvert_exporter": "python",
   "pygments_lexer": "ipython3",
   "version": "3.7.7"
  },
  "metadata": {
   "interpreter": {
    "hash": "c9e12c2aa2a63fbe12359030747b7c40a17136352a67bab128bad9fbb5af5310"
   }
  },
  "interpreter": {
   "hash": "c9e12c2aa2a63fbe12359030747b7c40a17136352a67bab128bad9fbb5af5310"
  }
 },
 "nbformat": 4,
 "nbformat_minor": 4
}