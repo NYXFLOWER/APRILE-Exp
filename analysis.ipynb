{
 "cells": [
  {
   "cell_type": "markdown",
   "metadata": {},
   "source": [
    "# Paper next results\n",
    "- validate link between arrhythmia, myopathy, and the identified genes (SLCO1B1)\n",
    "- validate the drugs involved in arrhythmia\n",
    "    - run PoSe-Path on the drugs found in literature for arrhythmia; check for other side effects (and check in literature)\n",
    "- validate the other promising heart side effects\n",
    "    - explain (jointly) related side effects (having similar mechanisms) in the heart and across organs (e.g., heart muscle, other muscle\n",
    "- validate muscle (myopathy) since connected with cardiovascular disease\n",
    "- move on to validating liver (since SLCO1B1 is in liver), kidney, (brain)"
   ]
  },
  {
   "cell_type": "code",
   "execution_count": 1,
   "metadata": {},
   "outputs": [],
   "source": [
    "import goatools\n",
    "import pandas as pd\n",
    "import numpy as np\n",
    "import scipy.stats as stats\n",
    "import pubchempy\n",
    "import pickle\n",
    "\n",
    "from pubchempy import Compound\n",
    "\n",
    "# Get http://geneontology.org/ontology/go-basic.obo\n",
    "from goatools.base import download_go_basic_obo\n",
    "# Get ftp://ftp.ncbi.nlm.nih.gov/gene/DATA/gene2go.gz\n",
    "from goatools.base import download_ncbi_associations\n",
    "from goatools.obo_parser import GODag\n",
    "from __future__ import print_function\n",
    "from goatools.anno.genetogo_reader import Gene2GoReader\n",
    "from goatools.test_data.genes_NCBI_9606_ProteinCoding import GENEID2NT as GeneID2nt_hum\n",
    "from goatools.goea.go_enrichment_ns import GOEnrichmentStudyNS"
   ]
  },
  {
   "cell_type": "markdown",
   "metadata": {},
   "source": [
    "drugs = ['CID3883','CID4594','CID4679']"
   ]
  },
  {
   "cell_type": "code",
   "execution_count": 2,
   "metadata": {},
   "outputs": [],
   "source": [
    "#with open('../data/[91.0, 88.0]-[84.0, 84.0]-[28.0, 28.0]-1.0.pkl','rb') as f:\n",
    "#with open('results/out/pkl/all-all-28-1.0-0.99.pkl','rb') as f:\n",
    "#with open('results2/out/pkl/100,34,88-100,34,88-28-1.0-0.5.pkl','rb') as f:\n",
    "#with open('results3/out/pkl/147-all-all-3.0-0.96.pkl','rb') as f:\n",
    "with open('results3/out/pkl/all-all-508-3.0-0.97.pkl','rb') as f:\n",
    "    data = pickle.load(f)\n",
    "dmap = data.copy()"
   ]
  },
  {
   "cell_type": "code",
   "execution_count": 3,
   "metadata": {},
   "outputs": [],
   "source": [
    "with open('/home/laurence/git/posepath/PoSePath/src/tipexp_data.pkl','rb') as f:\n",
    "    mapping = pickle.load(f)"
   ]
  },
  {
   "cell_type": "code",
   "execution_count": 4,
   "metadata": {},
   "outputs": [],
   "source": [
    "# mapping.side_effect_idx_to_name"
   ]
  },
  {
   "cell_type": "code",
   "execution_count": 5,
   "metadata": {},
   "outputs": [],
   "source": [
    "idx1 = data['pp_idx'][0]\n",
    "idx2 = data['pp_idx'][1]"
   ]
  },
  {
   "cell_type": "code",
   "execution_count": 6,
   "metadata": {},
   "outputs": [],
   "source": [
    "data['pp_id'] = [[int(mapping.prot_idx_to_id[idx].replace('GeneID','')) for idx in idx1],\n",
    "                 [int(mapping.prot_idx_to_id[idx].replace('GeneID','')) for idx in idx2]]"
   ]
  },
  {
   "cell_type": "code",
   "execution_count": 7,
   "metadata": {},
   "outputs": [],
   "source": [
    "# data"
   ]
  },
  {
   "cell_type": "markdown",
   "metadata": {},
   "source": [
    "### Example 2: Clomipramine --> side effect --> PPI\n",
    "- Drug 1: 147 (Clomipramine)\n",
    "- Drug 2: 24 (all-->one)\n",
    "- Side effect: 376 (aortic regurgitation)"
   ]
  },
  {
   "cell_type": "markdown",
   "metadata": {},
   "source": [
    "Analyze after running below"
   ]
  },
  {
   "cell_type": "code",
   "execution_count": 8,
   "metadata": {},
   "outputs": [
    {
     "data": {
      "text/plain": [
       "{'Arrhythmia'}"
      ]
     },
     "execution_count": 8,
     "metadata": {},
     "output_type": "execute_result"
    }
   ],
   "source": [
    "set([mapping.side_effect_idx_to_name[k] for k in data['sd_idx']])"
   ]
  },
  {
   "cell_type": "code",
   "execution_count": 9,
   "metadata": {},
   "outputs": [],
   "source": [
    "d2 = [mapping.drug_idx_to_id[k] for k in data['drug2']]"
   ]
  },
  {
   "cell_type": "code",
   "execution_count": 10,
   "metadata": {},
   "outputs": [],
   "source": [
    "cids = [int(d.replace('CID','')) for d in d2]\n",
    "drugs = [Compound.from_cid(int(cid)) for cid in set(cids)]"
   ]
  },
  {
   "cell_type": "code",
   "execution_count": 11,
   "metadata": {},
   "outputs": [],
   "source": [
    "# drugs"
   ]
  },
  {
   "cell_type": "code",
   "execution_count": 12,
   "metadata": {},
   "outputs": [],
   "source": [
    "# drug_ids = [(d.cid, d.synonyms[0], d.iupac_name) for d in drugs]\n",
    "# drug_ids"
   ]
  },
  {
   "cell_type": "markdown",
   "metadata": {},
   "source": [
    "Find the side effects to run PoSe-Path"
   ]
  },
  {
   "cell_type": "code",
   "execution_count": 13,
   "metadata": {},
   "outputs": [],
   "source": [
    "hearts = ['arrhythmia','cardiac','heart','ventric','atri','aort']"
   ]
  },
  {
   "cell_type": "code",
   "execution_count": 14,
   "metadata": {},
   "outputs": [
    {
     "data": {
      "text/plain": [
       "[('heart attack', 186),\n",
       " ('arteriosclerotic heart disease', 202),\n",
       " ('Extrasystoles Ventricular', 239),\n",
       " ('Atrioventricular block first degree', 259),\n",
       " ('Cardiac decompensation', 287),\n",
       " ('heart rate increased', 327),\n",
       " ('aortic regurgitation', 358),\n",
       " ('cardiac murmur', 398),\n",
       " ('cardiac enlargement', 399),\n",
       " ('cardiac disease', 448),\n",
       " ('atrial septal defect', 453),\n",
       " ('atrial ectopic beats', 486),\n",
       " ('Arrhythmia', 508),\n",
       " ('Cardiac ischemia', 516),\n",
       " ('cardiac failure', 527),\n",
       " ('atrioventricular block second degree', 528),\n",
       " ('tachycardia ventricular', 535),\n",
       " ('atrial flutter', 538),\n",
       " ('cardiac valvulopathy', 560),\n",
       " ('Atrioventricular block complete', 562),\n",
       " ('ventricular fibrillation', 563),\n",
       " ('Cardiac tamponade', 580),\n",
       " ('Supraventricular tachycardia', 594),\n",
       " ('right heart failure', 615),\n",
       " ('aortic stenosis', 642),\n",
       " ('atrioventricular block', 656),\n",
       " ('congenital heart disease', 686),\n",
       " ('aortic aneurysm', 740),\n",
       " ('left ventricular hypertrophy', 773),\n",
       " ('Bradyarrhythmia', 791)]"
      ]
     },
     "execution_count": 14,
     "metadata": {},
     "output_type": "execute_result"
    }
   ],
   "source": [
    "ses = [(k,v) for k,v in mapping.side_effect_name_to_idx.items() \n",
    " if any([x.lower() in k.lower() for x in hearts])]\n",
    "ses"
   ]
  },
  {
   "cell_type": "code",
   "execution_count": 15,
   "metadata": {},
   "outputs": [],
   "source": [
    "len(mapping.side_effect_idx_to_name)\n",
    "name_to_idx = {v:k for k, v in mapping.side_effect_idx_to_name.items()}"
   ]
  },
  {
   "cell_type": "code",
   "execution_count": 16,
   "metadata": {},
   "outputs": [
    {
     "data": {
      "text/plain": [
       "'186,202,239,259,287,327,358,398,399,448,453,486,508,516,527,528,535,538,560,562,563,580,594,615,642,656,686,740,773,791'"
      ]
     },
     "execution_count": 16,
     "metadata": {},
     "output_type": "execute_result"
    }
   ],
   "source": [
    "','.join([str(x[1]) for x in ses])"
   ]
  },
  {
   "cell_type": "code",
   "execution_count": 17,
   "metadata": {},
   "outputs": [
    {
     "data": {
      "text/plain": [
       "[('Chronic Kidney Disease', 143),\n",
       " ('acute kidney failure', 144),\n",
       " ('kidney failure', 256),\n",
       " ('renal cyst', 277),\n",
       " ('adrenal insufficiency', 301),\n",
       " ('disorder Renal', 333),\n",
       " ('renal tubular acidosis', 501),\n",
       " ('renal mass', 690),\n",
       " ('hepatorenal syndrome', 711),\n",
       " ('kidney pain', 730),\n",
       " ('kidney transplant', 811)]"
      ]
     },
     "execution_count": 17,
     "metadata": {},
     "output_type": "execute_result"
    }
   ],
   "source": [
    "renal = ['kidne','renal']\n",
    "ses = [(k,v) for k,v in mapping.side_effect_name_to_idx.items() \n",
    " if any([x.lower() in k.lower() for x in renal])]\n",
    "ses"
   ]
  },
  {
   "cell_type": "code",
   "execution_count": 57,
   "metadata": {},
   "outputs": [
    {
     "data": {
      "text/plain": [
       "[('muscle spasm', 126),\n",
       " ('muscle paresis', 137),\n",
       " ('aching muscles', 175),\n",
       " ('muscle weakness', 190),\n",
       " ('Cardiomyopathy', 283),\n",
       " ('muscle strain', 416),\n",
       " ('muscle inflammation', 488),\n",
       " ('muscle disorder', 533)]"
      ]
     },
     "execution_count": 57,
     "metadata": {},
     "output_type": "execute_result"
    }
   ],
   "source": [
    "muscle = ['muscl','myopath']\n",
    "ses = [(k,v) for k,v in mapping.side_effect_name_to_idx.items() \n",
    " if any([x.lower() in k.lower() for x in muscle])]\n",
    "ses"
   ]
  },
  {
   "cell_type": "markdown",
   "metadata": {},
   "source": [
    "### Muscle / Heart / transporter genes\n",
    "https://ascpt.onlinelibrary.wiley.com/doi/abs/10.1038/clpt.2013.234\n",
    "\n",
    "\n",
    "https://www.ncbi.nlm.nih.gov/pubmed/29463526\n",
    "- potentially strong assocation between arrythmia and SLCO1B1 due to increased risk of prolonged QTc interval"
   ]
  },
  {
   "cell_type": "code",
   "execution_count": null,
   "metadata": {},
   "outputs": [],
   "source": []
  },
  {
   "cell_type": "markdown",
   "metadata": {},
   "source": [
    "### GO enrichment"
   ]
  },
  {
   "cell_type": "code",
   "execution_count": 18,
   "metadata": {},
   "outputs": [
    {
     "name": "stdout",
     "output_type": "stream",
     "text": [
      "  EXISTS: go-basic.obo\n",
      "  EXISTS: gene2go\n",
      "go-basic.obo: fmt(1.2) rel(2020-01-01) 47,337 GO Terms\n",
      "HMS:0:00:02.977681 323,107 annotations READ: gene2go \n",
      "1 taxids stored: 9606\n",
      "MF 17,384 annotated human genes\n",
      "BP 17,541 annotated human genes\n",
      "CC 18,648 annotated human genes\n",
      "\n",
      "Load BP Gene Ontology Analysis ...\n",
      "fisher module not installed.  Falling back on scipy.stats.fisher_exact\n",
      " 80% 16,711 of 20,913 population items found in association\n",
      "\n",
      "Load CC Gene Ontology Analysis ...\n",
      "fisher module not installed.  Falling back on scipy.stats.fisher_exact\n",
      " 85% 17,755 of 20,913 population items found in association\n",
      "\n",
      "Load MF Gene Ontology Analysis ...\n",
      "fisher module not installed.  Falling back on scipy.stats.fisher_exact\n",
      " 80% 16,699 of 20,913 population items found in association\n"
     ]
    }
   ],
   "source": [
    "\n",
    "obo_fname = download_go_basic_obo()\n",
    "\n",
    "\n",
    "fin_gene2go = download_ncbi_associations()\n",
    "\n",
    "obodag = GODag(\"go-basic.obo\")\n",
    "\n",
    "# Read NCBI's gene2go. Store annotations in a list of namedtuples\n",
    "objanno = Gene2GoReader(fin_gene2go, taxids=[9606])\n",
    "\n",
    "# Get namespace2association where:\n",
    "#    namespace is:\n",
    "#        BP: biological_process               \n",
    "#        MF: molecular_function\n",
    "#        CC: cellular_component\n",
    "#    assocation is a dict:\n",
    "#        key: NCBI GeneID\n",
    "#        value: A set of GO IDs associated with that gene\n",
    "ns2assoc = objanno.get_ns2assc()\n",
    "\n",
    "for nspc, id2gos in ns2assoc.items():\n",
    "    print(\"{NS} {N:,} annotated human genes\".format(NS=nspc, N=len(id2gos)))\n",
    "\n",
    "\n",
    "goeaobj = GOEnrichmentStudyNS(\n",
    "        GeneID2nt_hum.keys(), # List of human protein-acoding genes\n",
    "        ns2assoc, # geneid/GO associations\n",
    "        obodag, # Ontologies\n",
    "        propagate_counts = False,\n",
    "        alpha = 0.05, # default significance cut-off\n",
    "        methods = ['fdr_bh']) # defult multipletest correction method"
   ]
  },
  {
   "cell_type": "code",
   "execution_count": 19,
   "metadata": {},
   "outputs": [
    {
     "name": "stdout",
     "output_type": "stream",
     "text": [
      "\n",
      "Run BP Gene Ontology Analysis: current study set of 6 IDs ...\n",
      "100%      4 of      4 study items found in association\n",
      " 67%      4 of      6 study items found in population(20913)\n",
      "Calculating 12,189 uncorrected p-values using fisher_scipy_stats\n",
      "  12,189 GO terms are associated with 16,711 of 20,913 population items\n",
      "      18 GO terms are associated with      4 of      4 study items\n",
      "  METHOD fdr_bh:\n",
      "       4 GO terms found significant (< 0.05=alpha) (  4 enriched +   0 purified): statsmodels fdr_bh\n",
      "       4 study items associated with significant GO IDs (enriched)\n",
      "       0 study items associated with significant GO IDs (purified)\n",
      "\n",
      "Run CC Gene Ontology Analysis: current study set of 6 IDs ...\n",
      "100%      4 of      4 study items found in association\n",
      " 67%      4 of      6 study items found in population(20913)\n",
      "Calculating 1,731 uncorrected p-values using fisher_scipy_stats\n",
      "   1,731 GO terms are associated with 17,755 of 20,913 population items\n",
      "      12 GO terms are associated with      4 of      4 study items\n",
      "  METHOD fdr_bh:\n",
      "       1 GO terms found significant (< 0.05=alpha) (  1 enriched +   0 purified): statsmodels fdr_bh\n",
      "       3 study items associated with significant GO IDs (enriched)\n",
      "       0 study items associated with significant GO IDs (purified)\n",
      "\n",
      "Run MF Gene Ontology Analysis: current study set of 6 IDs ...\n",
      "100%      4 of      4 study items found in association\n",
      " 67%      4 of      6 study items found in population(20913)\n",
      "Calculating 4,164 uncorrected p-values using fisher_scipy_stats\n",
      "   4,164 GO terms are associated with 16,699 of 20,913 population items\n",
      "      15 GO terms are associated with      4 of      4 study items\n",
      "  METHOD fdr_bh:\n",
      "       3 GO terms found significant (< 0.05=alpha) (  3 enriched +   0 purified): statsmodels fdr_bh\n",
      "       4 study items associated with significant GO IDs (enriched)\n",
      "       0 study items associated with significant GO IDs (purified)\n"
     ]
    }
   ],
   "source": [
    "# 'p_' means \"pvalue\". 'fdr_bh' is the multipletest method we are currently using.\n",
    "geneids_study = data['pp_id'][0] + data['pp_id'][1] # geneid2symbol.keys()\n",
    "goea_results_all = goeaobj.run_study(geneids_study)"
   ]
  },
  {
   "cell_type": "code",
   "execution_count": 20,
   "metadata": {},
   "outputs": [],
   "source": [
    "goea_results_sig = [r for r in goea_results_all if r.p_fdr_bh < 0.05]"
   ]
  },
  {
   "cell_type": "code",
   "execution_count": 21,
   "metadata": {
    "scrolled": true
   },
   "outputs": [
    {
     "data": {
      "text/plain": [
       "8"
      ]
     },
     "execution_count": 21,
     "metadata": {},
     "output_type": "execute_result"
    }
   ],
   "source": [
    "len(goea_results_sig)"
   ]
  },
  {
   "cell_type": "code",
   "execution_count": 22,
   "metadata": {},
   "outputs": [
    {
     "data": {
      "text/plain": [
       "GOTerm('GO:0015721'):\n",
       "  id:GO:0015721\n",
       "  item_id:GO:0015721\n",
       "  name:bile acid and bile salt transport\n",
       "  namespace:biological_process\n",
       "  _parents: 3 items\n",
       "    GO:0015718\n",
       "    GO:0015850\n",
       "    GO:0006869\n",
       "  parents: 3 items\n",
       "    GO:0015850\tlevel-05\tdepth-05\torganic hydroxy compound transport [biological_process]\n",
       "    GO:0015718\tlevel-07\tdepth-08\tmonocarboxylic acid transport [biological_process]\n",
       "    GO:0006869\tlevel-05\tdepth-05\tlipid transport [biological_process]\n",
       "  children: 1 items\n",
       "    GO:0015722\tlevel-06\tdepth-10\tcanalicular bile acid transport [biological_process]\n",
       "  level:6\n",
       "  depth:9\n",
       "  is_obsolete:False\n",
       "  alt_ids: 0 items"
      ]
     },
     "execution_count": 22,
     "metadata": {},
     "output_type": "execute_result"
    }
   ],
   "source": [
    "g0 = goea_results_sig[0]\n",
    "g0.goterm"
   ]
  },
  {
   "cell_type": "code",
   "execution_count": 23,
   "metadata": {},
   "outputs": [
    {
     "data": {
      "text/plain": [
       "'biological_process'"
      ]
     },
     "execution_count": 23,
     "metadata": {},
     "output_type": "execute_result"
    }
   ],
   "source": [
    "g0.goterm.__dict__['namespace']"
   ]
  },
  {
   "cell_type": "code",
   "execution_count": 24,
   "metadata": {},
   "outputs": [],
   "source": [
    "import pandas as pd"
   ]
  },
  {
   "cell_type": "code",
   "execution_count": 25,
   "metadata": {},
   "outputs": [
    {
     "data": {
      "text/plain": [
       "0.00010470005154705395"
      ]
     },
     "execution_count": 25,
     "metadata": {},
     "output_type": "execute_result"
    }
   ],
   "source": [
    "g0.__dict__['p_fdr_bh']"
   ]
  },
  {
   "cell_type": "code",
   "execution_count": 26,
   "metadata": {},
   "outputs": [
    {
     "data": {
      "text/plain": [
       "{'a': 1, 'b': 2}"
      ]
     },
     "execution_count": 26,
     "metadata": {},
     "output_type": "execute_result"
    }
   ],
   "source": [
    "d1 = {'a':1}\n",
    "d1.update({'b':2})\n",
    "d1"
   ]
  },
  {
   "cell_type": "code",
   "execution_count": 27,
   "metadata": {},
   "outputs": [],
   "source": [
    "keys = ['name','namespace']\n",
    "df_go1 = pd.DataFrame([\n",
    "        {k:g.goterm.__dict__.get(k) for k in keys}\n",
    "        for g in goea_results_sig])\n",
    "df_p = pd.DataFrame([{'p_fdr_bh':g.__dict__['p_fdr_bh']} for g in goea_results_sig])\n",
    "df_go = df_go1.merge(df_p, left_index=True, right_index=True)"
   ]
  },
  {
   "cell_type": "code",
   "execution_count": 28,
   "metadata": {},
   "outputs": [
    {
     "data": {
      "text/html": [
       "<div>\n",
       "<style scoped>\n",
       "    .dataframe tbody tr th:only-of-type {\n",
       "        vertical-align: middle;\n",
       "    }\n",
       "\n",
       "    .dataframe tbody tr th {\n",
       "        vertical-align: top;\n",
       "    }\n",
       "\n",
       "    .dataframe thead th {\n",
       "        text-align: right;\n",
       "    }\n",
       "</style>\n",
       "<table border=\"1\" class=\"dataframe\">\n",
       "  <thead>\n",
       "    <tr style=\"text-align: right;\">\n",
       "      <th></th>\n",
       "      <th>name</th>\n",
       "      <th>p_fdr_bh</th>\n",
       "    </tr>\n",
       "    <tr>\n",
       "      <th>namespace</th>\n",
       "      <th></th>\n",
       "      <th></th>\n",
       "    </tr>\n",
       "  </thead>\n",
       "  <tbody>\n",
       "    <tr>\n",
       "      <th>biological_process</th>\n",
       "      <td>4</td>\n",
       "      <td>4</td>\n",
       "    </tr>\n",
       "    <tr>\n",
       "      <th>cellular_component</th>\n",
       "      <td>1</td>\n",
       "      <td>1</td>\n",
       "    </tr>\n",
       "    <tr>\n",
       "      <th>molecular_function</th>\n",
       "      <td>3</td>\n",
       "      <td>3</td>\n",
       "    </tr>\n",
       "  </tbody>\n",
       "</table>\n",
       "</div>"
      ],
      "text/plain": [
       "                    name  p_fdr_bh\n",
       "namespace                         \n",
       "biological_process     4         4\n",
       "cellular_component     1         1\n",
       "molecular_function     3         3"
      ]
     },
     "execution_count": 28,
     "metadata": {},
     "output_type": "execute_result"
    }
   ],
   "source": [
    "df_go.groupby('namespace').count()"
   ]
  },
  {
   "cell_type": "code",
   "execution_count": 45,
   "metadata": {},
   "outputs": [
    {
     "data": {
      "text/html": [
       "<div>\n",
       "<style scoped>\n",
       "    .dataframe tbody tr th:only-of-type {\n",
       "        vertical-align: middle;\n",
       "    }\n",
       "\n",
       "    .dataframe tbody tr th {\n",
       "        vertical-align: top;\n",
       "    }\n",
       "\n",
       "    .dataframe thead th {\n",
       "        text-align: right;\n",
       "    }\n",
       "</style>\n",
       "<table border=\"1\" class=\"dataframe\">\n",
       "  <thead>\n",
       "    <tr style=\"text-align: right;\">\n",
       "      <th></th>\n",
       "      <th>name</th>\n",
       "      <th>namespace</th>\n",
       "      <th>p_fdr_bh</th>\n",
       "    </tr>\n",
       "  </thead>\n",
       "  <tbody>\n",
       "    <tr>\n",
       "      <th>0</th>\n",
       "      <td>bile acid and bile salt transport</td>\n",
       "      <td>biological_process</td>\n",
       "      <td>0.000105</td>\n",
       "    </tr>\n",
       "    <tr>\n",
       "      <th>1</th>\n",
       "      <td>transmembrane transport</td>\n",
       "      <td>biological_process</td>\n",
       "      <td>0.000200</td>\n",
       "    </tr>\n",
       "    <tr>\n",
       "      <th>4</th>\n",
       "      <td>basolateral plasma membrane</td>\n",
       "      <td>cellular_component</td>\n",
       "      <td>0.005575</td>\n",
       "    </tr>\n",
       "    <tr>\n",
       "      <th>5</th>\n",
       "      <td>bile acid transmembrane transporter activity</td>\n",
       "      <td>molecular_function</td>\n",
       "      <td>0.006280</td>\n",
       "    </tr>\n",
       "    <tr>\n",
       "      <th>6</th>\n",
       "      <td>sodium-independent organic anion transmembrane...</td>\n",
       "      <td>molecular_function</td>\n",
       "      <td>0.006849</td>\n",
       "    </tr>\n",
       "    <tr>\n",
       "      <th>2</th>\n",
       "      <td>organic anion transport</td>\n",
       "      <td>biological_process</td>\n",
       "      <td>0.010025</td>\n",
       "    </tr>\n",
       "    <tr>\n",
       "      <th>3</th>\n",
       "      <td>sodium-independent organic anion transport</td>\n",
       "      <td>biological_process</td>\n",
       "      <td>0.010025</td>\n",
       "    </tr>\n",
       "    <tr>\n",
       "      <th>7</th>\n",
       "      <td>ATPase-coupled transmembrane transporter activity</td>\n",
       "      <td>molecular_function</td>\n",
       "      <td>0.037601</td>\n",
       "    </tr>\n",
       "  </tbody>\n",
       "</table>\n",
       "</div>"
      ],
      "text/plain": [
       "                                                name           namespace  \\\n",
       "0                  bile acid and bile salt transport  biological_process   \n",
       "1                            transmembrane transport  biological_process   \n",
       "4                        basolateral plasma membrane  cellular_component   \n",
       "5       bile acid transmembrane transporter activity  molecular_function   \n",
       "6  sodium-independent organic anion transmembrane...  molecular_function   \n",
       "2                            organic anion transport  biological_process   \n",
       "3         sodium-independent organic anion transport  biological_process   \n",
       "7  ATPase-coupled transmembrane transporter activity  molecular_function   \n",
       "\n",
       "   p_fdr_bh  \n",
       "0  0.000105  \n",
       "1  0.000200  \n",
       "4  0.005575  \n",
       "5  0.006280  \n",
       "6  0.006849  \n",
       "2  0.010025  \n",
       "3  0.010025  \n",
       "7  0.037601  "
      ]
     },
     "execution_count": 45,
     "metadata": {},
     "output_type": "execute_result"
    }
   ],
   "source": [
    "df_go.sort_values(['p_fdr_bh','namespace','name'])"
   ]
  },
  {
   "cell_type": "code",
   "execution_count": 29,
   "metadata": {},
   "outputs": [
    {
     "data": {
      "text/html": [
       "<div>\n",
       "<style scoped>\n",
       "    .dataframe tbody tr th:only-of-type {\n",
       "        vertical-align: middle;\n",
       "    }\n",
       "\n",
       "    .dataframe tbody tr th {\n",
       "        vertical-align: top;\n",
       "    }\n",
       "\n",
       "    .dataframe thead th {\n",
       "        text-align: right;\n",
       "    }\n",
       "</style>\n",
       "<table border=\"1\" class=\"dataframe\">\n",
       "  <thead>\n",
       "    <tr style=\"text-align: right;\">\n",
       "      <th></th>\n",
       "      <th>name</th>\n",
       "      <th>namespace</th>\n",
       "      <th>p_fdr_bh</th>\n",
       "    </tr>\n",
       "  </thead>\n",
       "  <tbody>\n",
       "    <tr>\n",
       "      <th>5</th>\n",
       "      <td>bile acid transmembrane transporter activity</td>\n",
       "      <td>molecular_function</td>\n",
       "      <td>0.006280</td>\n",
       "    </tr>\n",
       "    <tr>\n",
       "      <th>6</th>\n",
       "      <td>sodium-independent organic anion transmembrane...</td>\n",
       "      <td>molecular_function</td>\n",
       "      <td>0.006849</td>\n",
       "    </tr>\n",
       "    <tr>\n",
       "      <th>7</th>\n",
       "      <td>ATPase-coupled transmembrane transporter activity</td>\n",
       "      <td>molecular_function</td>\n",
       "      <td>0.037601</td>\n",
       "    </tr>\n",
       "  </tbody>\n",
       "</table>\n",
       "</div>"
      ],
      "text/plain": [
       "                                                name           namespace  \\\n",
       "5       bile acid transmembrane transporter activity  molecular_function   \n",
       "6  sodium-independent organic anion transmembrane...  molecular_function   \n",
       "7  ATPase-coupled transmembrane transporter activity  molecular_function   \n",
       "\n",
       "   p_fdr_bh  \n",
       "5  0.006280  \n",
       "6  0.006849  \n",
       "7  0.037601  "
      ]
     },
     "execution_count": 29,
     "metadata": {},
     "output_type": "execute_result"
    }
   ],
   "source": [
    "df_go[df_go.namespace=='molecular_function'].sort_values(\n",
    "    ['p_fdr_bh','namespace','name'])"
   ]
  },
  {
   "cell_type": "code",
   "execution_count": 30,
   "metadata": {},
   "outputs": [],
   "source": [
    "geneid2info = {v.GeneID: (v.Symbol,v.description) for k,v in GeneID2nt_hum.items()}"
   ]
  },
  {
   "cell_type": "code",
   "execution_count": 31,
   "metadata": {},
   "outputs": [
    {
     "data": {
      "text/plain": [
       "[('ABCB11', 'ATP binding cassette subfamily B member 11'),\n",
       " ('ABCC4', 'ATP binding cassette subfamily C member 4'),\n",
       " ('ABCC4', 'ATP binding cassette subfamily C member 4'),\n",
       " ('SLCO1B3', 'solute carrier organic anion transporter family member 1B3'),\n",
       " ('SLCO1B3', 'solute carrier organic anion transporter family member 1B3'),\n",
       " ('SLCO1B1', 'solute carrier organic anion transporter family member 1B1')]"
      ]
     },
     "execution_count": 31,
     "metadata": {},
     "output_type": "execute_result"
    }
   ],
   "source": [
    "[geneid2info[g] for g in geneids_study if g in geneid2info]"
   ]
  },
  {
   "cell_type": "markdown",
   "metadata": {},
   "source": [
    "## TODO: Separate out metabolic genes"
   ]
  },
  {
   "cell_type": "code",
   "execution_count": null,
   "metadata": {},
   "outputs": [],
   "source": []
  },
  {
   "cell_type": "code",
   "execution_count": null,
   "metadata": {},
   "outputs": [],
   "source": []
  },
  {
   "cell_type": "markdown",
   "metadata": {},
   "source": [
    "gg = goea_results_sig[0]\n",
    "gg.GO"
   ]
  },
  {
   "cell_type": "markdown",
   "metadata": {},
   "source": [
    "https://github.com/tanghaibao/goatools/blob/master/notebooks/goea_nbt3102.ipynb"
   ]
  },
  {
   "cell_type": "code",
   "execution_count": 32,
   "metadata": {},
   "outputs": [
    {
     "name": "stdout",
     "output_type": "stream",
     "text": [
      "    8 usr  40 GOs  WROTE: results3/out/go_enrich.png\n"
     ]
    }
   ],
   "source": [
    "from goatools.godag_plot import plot_gos, plot_results, plot_goid2goobj\n",
    "\n",
    "\n",
    "# Plot subset starting from these significant GO terms\n",
    "goid_subset = [g.GO for g in goea_results_sig] # [\n",
    "#     'GO:0003723', # MF D04 RNA binding (32 genes)\n",
    "#     'GO:0044822', # MF D05 poly(A) RNA binding (86 genes)\n",
    "#     'GO:0003729', # MF D06 mRNA binding (11 genes)\n",
    "#     'GO:0019843', # MF D05 rRNA binding (6 genes)\n",
    "#     'GO:0003746', # MF D06 translation elongation factor activity (5 genes)\n",
    "# ]\n",
    "plot_gos(\"results3/out/go_enrich.png\", \n",
    "    goid_subset, # Source GO ids\n",
    "    obodag, \n",
    "    goea_results=goea_results_all) # Use pvals for coloring\n",
    "# plot_results(\"nbt3102_BP.png\", goea_results_sig)"
   ]
  },
  {
   "cell_type": "code",
   "execution_count": 33,
   "metadata": {},
   "outputs": [],
   "source": [
    "geneid2symbol = {v.GeneID: v.Symbol for k,v in GeneID2nt_hum.items()}"
   ]
  },
  {
   "cell_type": "markdown",
   "metadata": {},
   "source": [
    "This plot contains GOEA results:\n",
    "\n",
    "- GO terms colored by P-value:\n",
    "    - pval < 0.005 (light red)\n",
    "    - pval < 0.01 (light orange)\n",
    "    - pval < 0.05 (yellow)\n",
    "    - pval > 0.05 (grey) Study terms that are not statistically significant\n",
    "- GO terms with study gene counts printed. e.g., \"32 genes\""
   ]
  },
  {
   "cell_type": "code",
   "execution_count": 34,
   "metadata": {},
   "outputs": [
    {
     "name": "stdout",
     "output_type": "stream",
     "text": [
      "    8 usr  40 GOs  WROTE: results3/out/go_enrich_symbols.pdf\n"
     ]
    }
   ],
   "source": [
    "plot_gos(\"results3/out/go_enrich_symbols.pdf\", \n",
    "    goid_subset, # Source GO ids\n",
    "    obodag,\n",
    "    goea_results=goea_results_all, # use pvals for coloring\n",
    "    # We can further configure the plot...\n",
    "    id2symbol=geneid2symbol, # Print study gene Symbols, not Entrez GeneIDs\n",
    "    study_items=6, # Only only 6 gene Symbols max on GO terms\n",
    "    items_p_line=3, # Print 3 genes per line\n",
    "    )"
   ]
  },
  {
   "cell_type": "code",
   "execution_count": 35,
   "metadata": {},
   "outputs": [
    {
     "data": {
      "text/plain": [
       "'3-(4-methylsulfonylphenyl)-4-phenyl-2H-furan-5-one'"
      ]
     },
     "execution_count": 35,
     "metadata": {},
     "output_type": "execute_result"
    }
   ],
   "source": [
    "c = Compound.from_cid(5090)\n",
    "c.iupac_name"
   ]
  },
  {
   "cell_type": "code",
   "execution_count": 36,
   "metadata": {},
   "outputs": [],
   "source": [
    "cids = [int(mapping.drug_idx_to_id[c].replace('CID','')) for c in data['pd_idx'][1]]\n",
    "drugs = [Compound.from_cid(int(cid)) for cid in set(cids)]"
   ]
  },
  {
   "cell_type": "code",
   "execution_count": 37,
   "metadata": {},
   "outputs": [
    {
     "data": {
      "text/plain": [
       "5732"
      ]
     },
     "execution_count": 37,
     "metadata": {},
     "output_type": "execute_result"
    }
   ],
   "source": [
    "drugs[0].cid"
   ]
  },
  {
   "cell_type": "code",
   "execution_count": 38,
   "metadata": {},
   "outputs": [
    {
     "data": {
      "text/plain": [
       "[Compound(5732),\n",
       " Compound(4170),\n",
       " Compound(3002190),\n",
       " Compound(5039),\n",
       " Compound(2162),\n",
       " Compound(3325)]"
      ]
     },
     "execution_count": 38,
     "metadata": {},
     "output_type": "execute_result"
    }
   ],
   "source": [
    "drugs"
   ]
  },
  {
   "cell_type": "code",
   "execution_count": 39,
   "metadata": {},
   "outputs": [
    {
     "data": {
      "text/plain": [
       "5732"
      ]
     },
     "execution_count": 39,
     "metadata": {},
     "output_type": "execute_result"
    }
   ],
   "source": [
    "dd = drugs[0]\n",
    "dd.cid"
   ]
  },
  {
   "cell_type": "code",
   "execution_count": 48,
   "metadata": {},
   "outputs": [
    {
     "ename": "KeyError",
     "evalue": "'CID152946'",
     "output_type": "error",
     "traceback": [
      "\u001b[0;31m---------------------------------------------------------------------------\u001b[0m",
      "\u001b[0;31mKeyError\u001b[0m                                  Traceback (most recent call last)",
      "\u001b[0;32m<ipython-input-48-2c663c3a0819>\u001b[0m in \u001b[0;36m<module>\u001b[0;34m()\u001b[0m\n\u001b[0;32m----> 1\u001b[0;31m \u001b[0mmapping\u001b[0m\u001b[0;34m.\u001b[0m\u001b[0mdrug_id_to_idx\u001b[0m\u001b[0;34m[\u001b[0m\u001b[0;34m'CID152946'\u001b[0m\u001b[0;34m]\u001b[0m\u001b[0;34m\u001b[0m\u001b[0;34m\u001b[0m\u001b[0m\n\u001b[0m",
      "\u001b[0;31mKeyError\u001b[0m: 'CID152946'"
     ]
    }
   ],
   "source": [
    "mapping.drug_id_to_idx['CID152946']"
   ]
  },
  {
   "cell_type": "code",
   "execution_count": 40,
   "metadata": {},
   "outputs": [
    {
     "data": {
      "text/plain": [
       "[(104,\n",
       "  5732,\n",
       "  'zolpidem',\n",
       "  'N,N-dimethyl-2-[6-methyl-2-(4-methylphenyl)imidazo[1,2-a]pyridin-3-yl]acetamide'),\n",
       " (155,\n",
       "  4170,\n",
       "  'metolazone',\n",
       "  '7-chloro-2-methyl-3-(2-methylphenyl)-4-oxo-1,2-dihydroquinazoline-6-sulfonamide'),\n",
       " (172,\n",
       "  3002190,\n",
       "  'Telithromycin',\n",
       "  '(1S,2R,5R,7R,8R,9R,11R,13R,14R)-8-[(2S,3R,4S,6R)-4-(dimethylamino)-3-hydroxy-6-methyloxan-2-yl]oxy-2-ethyl-9-methoxy-1,5,7,9,11,13-hexamethyl-15-[4-(4-pyridin-3-ylimidazol-1-yl)butyl]-3,17-dioxa-15-azabicyclo[12.3.0]heptadecane-4,6,12,16-tetrone'),\n",
       " (31,\n",
       "  5039,\n",
       "  'UNII-884KT10YB7',\n",
       "  \"1-N'-[2-[[5-[(dimethylamino)methyl]furan-2-yl]methylsulfanyl]ethyl]-1-N-methyl-2-nitroethene-1,1-diamine\"),\n",
       " (34,\n",
       "  2162,\n",
       "  'amlodipine',\n",
       "  '3-O-ethyl 5-O-methyl 2-(2-aminoethoxymethyl)-4-(2-chlorophenyl)-6-methyl-1,4-dihydropyridine-3,5-dicarboxylate'),\n",
       " (96,\n",
       "  3325,\n",
       "  'famotidine',\n",
       "  \"3-[[2-(diaminomethylideneamino)-1,3-thiazol-4-yl]methylsulfanyl]-N'-sulfamoylpropanimidamide\")]"
      ]
     },
     "execution_count": 40,
     "metadata": {},
     "output_type": "execute_result"
    }
   ],
   "source": [
    "drug_ids = [(mapping.drug_id_to_idx['CID{}'.format(d.cid)], d.cid, d.synonyms[0], d.iupac_name) for d in drugs]\n",
    "drug_ids"
   ]
  },
  {
   "cell_type": "code",
   "execution_count": 41,
   "metadata": {},
   "outputs": [],
   "source": [
    "fps = [d.fingerprint for d in drugs]"
   ]
  },
  {
   "cell_type": "code",
   "execution_count": 42,
   "metadata": {},
   "outputs": [
    {
     "data": {
      "text/plain": [
       "'ABCB1'"
      ]
     },
     "execution_count": 42,
     "metadata": {},
     "output_type": "execute_result"
    }
   ],
   "source": [
    "geneid2symbol[5243]"
   ]
  },
  {
   "cell_type": "markdown",
   "metadata": {},
   "source": [
    "# Zielinski et al. (2015) Nat Commun"
   ]
  },
  {
   "cell_type": "code",
   "execution_count": 43,
   "metadata": {},
   "outputs": [
    {
     "name": "stdout",
     "output_type": "stream",
     "text": [
      "147\n",
      "24\n"
     ]
    }
   ],
   "source": [
    "#mapping.drug_id_to_idx['CID3559'] # haloperidol\n",
    "#print(mapping.drug_id_to_idx['CID4091']) # metformin--doesn't exist\n",
    "print(mapping.drug_id_to_idx['CID2801']) # clomipramine\n",
    "print(mapping.drug_id_to_idx['CID5523']) # Ultram "
   ]
  },
  {
   "cell_type": "markdown",
   "metadata": {},
   "source": [
    "import binascii\n",
    "bs = binascii.unhexlify(fps[0])\n",
    "bs\n",
    "\n",
    "from scipy.spatial import distance\n",
    "\n",
    "bfps = [binascii.unhexlify(f) for f in fps]\n",
    "# distance.rogerstanimoto(bfps[0],bfps[2])\n",
    "\n",
    "bb = bfps[0]\n",
    "bb.\n",
    "\n",
    "bfps[0]\n",
    "\n",
    "bfps[2]\n",
    "\n",
    "# Data will be stored in this variable\n",
    "import os\n",
    "geneid2symbol = {}\n",
    "# Get xlsx filename where data is stored\n",
    "ROOT = os.path.dirname(os.getcwd()) # go up 1 level from current working directory\n",
    "din_xlsx = \"../data/nbt.3102-S4_GeneIDs.xlsx\"\n",
    "# Read data\n",
    "if os.path.isfile(din_xlsx):  \n",
    "    import xlrd\n",
    "    book = xlrd.open_workbook(din_xlsx)\n",
    "    pg = book.sheet_by_index(0)\n",
    "    for r in range(pg.nrows):\n",
    "        symbol, geneid, pval = [pg.cell_value(r, c) for c in range(pg.ncols)]\n",
    "        if geneid:\n",
    "            geneid2symbol[int(geneid)] = symbol\n",
    "    print('{N} genes READ: {XLSX}'.format(N=len(geneid2symbol), XLSX=din_xlsx))\n",
    "else:\n",
    "    raise RuntimeError('FILE NOT FOUND: {XLSX}'.format(XLSX=din_xlsx))"
   ]
  }
 ],
 "metadata": {
  "kernelspec": {
   "display_name": "Python 3",
   "language": "python",
   "name": "python3"
  },
  "language_info": {
   "codemirror_mode": {
    "name": "ipython",
    "version": 3
   },
   "file_extension": ".py",
   "mimetype": "text/x-python",
   "name": "python",
   "nbconvert_exporter": "python",
   "pygments_lexer": "ipython3",
   "version": "3.6.8"
  }
 },
 "nbformat": 4,
 "nbformat_minor": 2
}
