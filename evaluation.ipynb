{
 "metadata": {
  "language_info": {
   "codemirror_mode": {
    "name": "ipython",
    "version": 3
   },
   "file_extension": ".py",
   "mimetype": "text/x-python",
   "name": "python",
   "nbconvert_exporter": "python",
   "pygments_lexer": "ipython3",
   "version": ""
  },
  "orig_nbformat": 2,
  "kernelspec": {
   "name": "python377jvsc74a57bd0c9e12c2aa2a63fbe12359030747b7c40a17136352a67bab128bad9fbb5af5310",
   "display_name": "Python"
  },
  "metadata": {
   "interpreter": {
    "hash": "c9e12c2aa2a63fbe12359030747b7c40a17136352a67bab128bad9fbb5af5310"
   }
  }
 },
 "nbformat": 4,
 "nbformat_minor": 2,
 "cells": [
  {
   "cell_type": "code",
   "execution_count": 1,
   "metadata": {},
   "outputs": [
    {
     "output_type": "error",
     "ename": "ModuleNotFoundError",
     "evalue": "No module named 'prep'",
     "traceback": [
      "\u001b[0;31m---------------------------------------------------------------------------\u001b[0m",
      "\u001b[0;31mModuleNotFoundError\u001b[0m                       Traceback (most recent call last)",
      "\u001b[0;32m<ipython-input-1-213b4dc8e82f>\u001b[0m in \u001b[0;36m<module>\u001b[0;34m\u001b[0m\n\u001b[1;32m      2\u001b[0m \u001b[0;32mimport\u001b[0m \u001b[0mnumpy\u001b[0m \u001b[0;32mas\u001b[0m \u001b[0mnp\u001b[0m\u001b[0;34m\u001b[0m\u001b[0;34m\u001b[0m\u001b[0m\n\u001b[1;32m      3\u001b[0m \u001b[0;34m\u001b[0m\u001b[0m\n\u001b[0;32m----> 4\u001b[0;31m \u001b[0;32mfrom\u001b[0m \u001b[0mprep\u001b[0m \u001b[0;32mimport\u001b[0m \u001b[0mload_model\u001b[0m\u001b[0;34m\u001b[0m\u001b[0;34m\u001b[0m\u001b[0m\n\u001b[0m\u001b[1;32m      5\u001b[0m \u001b[0;32mimport\u001b[0m \u001b[0mplotly\u001b[0m\u001b[0;34m.\u001b[0m\u001b[0mexpress\u001b[0m \u001b[0;32mas\u001b[0m \u001b[0mpx\u001b[0m\u001b[0;34m\u001b[0m\u001b[0;34m\u001b[0m\u001b[0m\n\u001b[1;32m      6\u001b[0m \u001b[0;32mimport\u001b[0m \u001b[0mplotly\u001b[0m\u001b[0;34m.\u001b[0m\u001b[0mgraph_objects\u001b[0m \u001b[0;32mas\u001b[0m \u001b[0mpgo\u001b[0m\u001b[0;34m\u001b[0m\u001b[0;34m\u001b[0m\u001b[0m\n",
      "\u001b[0;31mModuleNotFoundError\u001b[0m: No module named 'prep'"
     ]
    }
   ],
   "source": [
    "import pandas as pd\n",
    "import numpy as np\n",
    "\n",
    "from prep import load_model\n",
    "import plotly.express as px\n",
    "import plotly.graph_objects as pgo"
   ]
  },
  {
   "cell_type": "code",
   "execution_count": 2,
   "metadata": {},
   "outputs": [],
   "source": [
    "# load trained model for explaination\n",
    "model, data = load_model()\n",
    "\n",
    "# get trined embedding of side effects\n",
    "side_effect_embedding = pd.DataFrame(model.mip.weight.data.numpy())\n",
    "\n",
    "# side effect mapping\n",
    "se_name2idx, se_idx2name = {}, {}\n",
    "for se, idx in data.side_effect_name_to_idx.items():\n",
    "    se = se.lower()\n",
    "    se_name2idx[se] = idx\n",
    "    se_idx2name[idx] = se\n"
   ]
  },
  {
   "cell_type": "code",
   "execution_count": 3,
   "metadata": {},
   "outputs": [],
   "source": [
    "import pickle\n",
    "side_effect = [data.side_effect_idx_to_name[i].lower() for i in range(860)]\n",
    "\n",
    "# get side effect category\n",
    "with open('../github/nyxflower/data/disease/ontology/disease2ONidx.pkl', 'rb') as f:\n",
    "    disease_to_onidx = pickle.load(f)\n",
    "with open('../github/nyxflower/data/disease/ontology/ONidx2disease.pkl', 'rb') as f:\n",
    "    onidx_to_disease = pickle.load(f)   \n"
   ]
  },
  {
   "cell_type": "code",
   "execution_count": 4,
   "metadata": {
    "tags": []
   },
   "outputs": [],
   "source": [
    "# get side effect catagory with adjusted side effect name in disease cata\n",
    "side_effect_fixed = pd.read_csv('./se_tmp.tsv', sep='\\t')['se']\n",
    "\n",
    "onto = []\n",
    "if_onto = []\n",
    "for se in side_effect_fixed:\n",
    "    onto.append(disease_to_onidx.get(se.lower()))\n",
    "    "
   ]
  },
  {
   "cell_type": "code",
   "execution_count": 7,
   "metadata": {},
   "outputs": [],
   "source": [
    "# add side effect in psychiatry and psychology catagory\n",
    "psychiaty_psychology = \"panic disorder,Anxiety,Bipolar Disorder,major depression,alcohol consumption,schizoaffective disorder,borderline personality disorder,Agoraphobia,conversion disorder\".lower().split(',')\n",
    "\n",
    "asssert: len(onto) == len(side_effect)\n",
    "\n",
    "for i in psychiaty_psychology:\n",
    "    i = se_name2idx[i]\n",
    "    onto[i] = 'F'\n",
    "\n"
   ]
  },
  {
   "cell_type": "code",
   "execution_count": 5,
   "metadata": {
    "tags": []
   },
   "outputs": [],
   "source": [
    "se = []\n",
    "cata = []\n",
    "for s, ons in zip(side_effect, onto):\n",
    "    if ons:\n",
    "        for on in ons:\n",
    "            se.append(s)\n",
    "            cata.append(on[:3])\n",
    "\n",
    "    \n"
   ]
  },
  {
   "cell_type": "code",
   "execution_count": 8,
   "metadata": {},
   "outputs": [
    {
     "output_type": "stream",
     "name": "stdout",
     "text": [
      "There are 9 mental disorders, 518 diseases, and 325 other observed symptoms.\n"
     ]
    }
   ],
   "source": [
    "data_se_ca = pd.DataFrame({'side effect': se, 'cata': cata})\n",
    "tmp = data_se_ca['side effect'].unique().shape[0] - len(psychiaty_psychology)\n",
    "print(f'There are {len(psychiaty_psychology)} mental disorders, {tmp} diseases, and {861-tmp-2*len(psychiaty_psychology)} other observed symptoms.' )\n"
   ]
  },
  {
   "cell_type": "code",
   "execution_count": null,
   "metadata": {},
   "outputs": [],
   "source": [
    "tmp = data_se_ca['cata'].value_counts()\n",
    "hist_se_cata = pd.DataFrame({'count': tmp.values}, index=tmp.index)\n",
    "\n",
    "cata_name = [onidx_to_disease.get(idx) for idx in hist_se_cata.index]\n",
    "cata_name[-3] = 'mental discorders'\n",
    "\n",
    "hist_se_cata['side effect category (disease and mental disorders)'] = cata_name\n",
    "hist_se_cata.sort_index(inplace=True)\n",
    "\n",
    "fig = px.bar(hist_se_cata, x='side effect category (disease and mental disorders)', y='count', text='count')\n",
    "fig.update_xaxes(tickangle=45)\n",
    "\n",
    "fig.show()"
   ]
  },
  {
   "cell_type": "code",
   "execution_count": 8,
   "metadata": {},
   "outputs": [
    {
     "output_type": "error",
     "ename": "NameError",
     "evalue": "name 'onidx_to_disease' is not defined",
     "traceback": [
      "\u001b[0;31m---------------------------------------------------------------------------\u001b[0m",
      "\u001b[0;31mNameError\u001b[0m                                 Traceback (most recent call last)",
      "\u001b[0;32m<ipython-input-8-5b47c2ffb23a>\u001b[0m in \u001b[0;36m<module>\u001b[0;34m\u001b[0m\n\u001b[1;32m      1\u001b[0m \u001b[0;31m# Table for all\u001b[0m\u001b[0;34m\u001b[0m\u001b[0;34m\u001b[0m\u001b[0;34m\u001b[0m\u001b[0m\n\u001b[1;32m      2\u001b[0m \u001b[0;34m\u001b[0m\u001b[0m\n\u001b[0;32m----> 3\u001b[0;31m \u001b[0monidx_to_disease\u001b[0m\u001b[0;34m[\u001b[0m\u001b[0;34m'F'\u001b[0m\u001b[0;34m]\u001b[0m \u001b[0;34m=\u001b[0m \u001b[0;34m'mental discorders'\u001b[0m\u001b[0;34m\u001b[0m\u001b[0;34m\u001b[0m\u001b[0m\n\u001b[0m\u001b[1;32m      4\u001b[0m \u001b[0mcata_name\u001b[0m \u001b[0;34m=\u001b[0m \u001b[0;34m[\u001b[0m\u001b[0monidx_to_disease\u001b[0m\u001b[0;34m[\u001b[0m\u001b[0mi\u001b[0m\u001b[0;34m]\u001b[0m \u001b[0;32mfor\u001b[0m \u001b[0mi\u001b[0m \u001b[0;32min\u001b[0m \u001b[0mcata\u001b[0m\u001b[0;34m]\u001b[0m\u001b[0;34m\u001b[0m\u001b[0;34m\u001b[0m\u001b[0m\n\u001b[1;32m      5\u001b[0m \u001b[0;34m\u001b[0m\u001b[0m\n",
      "\u001b[0;31mNameError\u001b[0m: name 'onidx_to_disease' is not defined"
     ]
    }
   ],
   "source": [
    "# Table for all\n",
    "\n",
    "onidx_to_disease['F'] = 'mental discorders'\n",
    "cata_name = [onidx_to_disease[i] for i in cata]\n",
    "\n",
    "df = pd.DataFrame({'side effect': se, 'category': cata, 'category name': cata_name})\n",
    "df = df.drop_duplicates()\n",
    "df['side effect id'] = [se_name2idx[i] for i in df['side effect']]\n",
    "# df.to_csv('side_effect+catagory.tsv', sep='\\t', index=False)\n",
    "\n",
    "eva_layer_df = pd.read_csv('data/with.csv')\n",
    "eva_layer_df['PIU score'] = (eva_layer_df['auroc_layer-2'] - eva_layer_df['auroc_layer-0']) / eva_layer_df['auroc_layer-2']\n",
    "eva_layer_df = eva_layer_df[['side_effect', 'n_instance', 'auroc_layer-2', 'PIU score']]\n",
    "eva_layer_df.columns = ['side effect', '#instance', 'AUROC', 'PIU score']\n",
    "eva_layer_df['side effect'] = eva_layer_df['side effect'].str.lower()\n",
    "\n",
    "data_all = df.merge(eva_layer_df, on='side effect')\n",
    "data_all\n"
   ]
  },
  {
   "source": [
    "## Side Effect Embedding"
   ],
   "cell_type": "markdown",
   "metadata": {}
  },
  {
   "cell_type": "code",
   "execution_count": 11,
   "metadata": {},
   "outputs": [],
   "source": [
    "import scipy.sparse as sp\n",
    "from umap import UMAP"
   ]
  },
  {
   "source": [
    "### From side effect - GO association"
   ],
   "cell_type": "markdown",
   "metadata": {}
  },
  {
   "cell_type": "code",
   "execution_count": 11,
   "metadata": {},
   "outputs": [
    {
     "output_type": "execute_result",
     "data": {
      "text/plain": [
       "(861, 2001302)"
      ]
     },
     "metadata": {},
     "execution_count": 11
    }
   ],
   "source": [
    "# load all side effect -- GO association\n",
    "se_go_all = sp.load_npz(\"./out/coo.npz\")\n",
    "se_go_all.shape\n"
   ]
  },
  {
   "cell_type": "code",
   "execution_count": 12,
   "metadata": {},
   "outputs": [
    {
     "output_type": "execute_result",
     "data": {
      "text/plain": [
       "(44, 26)"
      ]
     },
     "metadata": {},
     "execution_count": 12
    }
   ],
   "source": [
    "se_go_all = pd.DataFrame(se_go_all.toarray()).astype(int)\n",
    "se_go_all = se_go_all.loc[(se_go_all!=0).any(1)]\n",
    "se_go_all = se_go_all.loc[:, (se_go_all!=0).any(0)]\n",
    "se_go_all.shape"
   ]
  },
  {
   "cell_type": "code",
   "execution_count": 15,
   "metadata": {},
   "outputs": [
    {
     "output_type": "execute_result",
     "data": {
      "text/plain": [
       "     4089     4601     4659     5251     5328     5789     5887     6805     \\\n",
       "2          0        0        0        0        0        0        0        0   \n",
       "12         0        0        0        0        0        0        0        0   \n",
       "27         0        0        0        0        0        0        0        0   \n",
       "76         0        0        0        0        0        0        0        1   \n",
       "102        0        0        0        0        0        0        0        0   \n",
       "103        0        0        1        0        0        0        0        0   \n",
       "105        0        0        0        0        0        0        0        0   \n",
       "121        0        0        0        0        0        0        0        0   \n",
       "154        0        0        0        0        0        0        0        0   \n",
       "186        1        0        0        0        0        0        0        0   \n",
       "217        1        0        0        0        0        0        0        0   \n",
       "256        0        0        0        0        0        0        0        0   \n",
       "283        1        0        0        0        0        0        0        0   \n",
       "309        0        0        0        0        0        0        0        0   \n",
       "329        0        0        0        0        0        0        0        0   \n",
       "346        0        0        0        0        0        0        0        0   \n",
       "370        0        0        0        0        0        1        0        0   \n",
       "373        0        0        0        0        0        0        0        0   \n",
       "376        0        0        0        0        1        0        0        0   \n",
       "390        0        0        0        0        0        0        0        0   \n",
       "423        0        0        0        0        0        0        0        0   \n",
       "431        0        0        0        0        0        0        0        0   \n",
       "448        0        0        0        0        0        0        0        0   \n",
       "450        0        0        0        0        0        0        0        0   \n",
       "464        0        0        0        0        0        0        0        0   \n",
       "501        0        0        0        0        0        0        0        0   \n",
       "521        0        0        0        0        0        0        1        0   \n",
       "596        0        0        0        0        0        0        0        0   \n",
       "602        0        0        0        1        0        0        0        0   \n",
       "615        0        0        0        0        0        0        0        0   \n",
       "618        0        0        0        0        0        0        0        0   \n",
       "628        0        1        0        0        0        0        0        0   \n",
       "652        1        0        0        0        0        0        0        0   \n",
       "718        0        0        0        0        0        0        0        0   \n",
       "725        0        0        0        0        0        0        0        0   \n",
       "744        0        0        0        0        0        1        0        0   \n",
       "746        0        0        0        0        0        0        0        0   \n",
       "755        0        0        0        0        0        0        0        0   \n",
       "769        0        0        0        0        0        0        0        0   \n",
       "797        0        0        0        0        0        0        0        0   \n",
       "815        1        0        0        0        0        0        0        0   \n",
       "823        0        0        0        0        0        0        0        0   \n",
       "836        0        0        0        0        0        0        0        0   \n",
       "843        1        0        0        0        0        0        0        0   \n",
       "\n",
       "     8504     15020    ...  32264    33280    47555    55085    55114    \\\n",
       "2          0        0  ...        1        0        0        0        0   \n",
       "12         0        0  ...        0        0        0        0        0   \n",
       "27         0        0  ...        0        0        0        0        0   \n",
       "76         0        0  ...        0        0        0        0        0   \n",
       "102        0        0  ...        1        0        0        0        0   \n",
       "103        0        0  ...        0        0        0        0        0   \n",
       "105        0        0  ...        0        0        0        0        0   \n",
       "121        0        1  ...        0        0        0        0        0   \n",
       "154        0        0  ...        0        0        0        0        0   \n",
       "186        0        0  ...        0        0        0        0        0   \n",
       "217        0        0  ...        0        0        0        0        0   \n",
       "256        0        0  ...        0        0        0        0        0   \n",
       "283        0        0  ...        0        0        0        0        0   \n",
       "309        0        0  ...        0        0        0        0        0   \n",
       "329        0        0  ...        0        0        1        0        0   \n",
       "346        0        0  ...        0        0        0        0        0   \n",
       "370        0        0  ...        0        0        0        0        0   \n",
       "373        1        0  ...        0        0        0        0        0   \n",
       "376        0        0  ...        0        0        0        0        0   \n",
       "390        0        0  ...        0        0        0        0        0   \n",
       "423        0        0  ...        0        0        0        0        0   \n",
       "431        0        0  ...        0        0        0        0        0   \n",
       "448        0        0  ...        0        0        0        0        0   \n",
       "450        0        0  ...        0        0        0        0        0   \n",
       "464        0        0  ...        0        0        0        0        0   \n",
       "501        0        0  ...        0        0        0        0        0   \n",
       "521        0        0  ...        0        0        0        0        0   \n",
       "596        0        0  ...        1        0        0        0        0   \n",
       "602        0        0  ...        0        0        0        0        0   \n",
       "615        0        0  ...        0        1        0        0        0   \n",
       "618        0        0  ...        0        0        0        0        0   \n",
       "628        0        0  ...        0        0        0        0        0   \n",
       "652        0        0  ...        0        0        0        0        0   \n",
       "718        0        0  ...        0        0        0        0        0   \n",
       "725        0        0  ...        0        0        0        0        0   \n",
       "744        0        0  ...        0        0        0        0        0   \n",
       "746        0        0  ...        0        0        0        0        0   \n",
       "755        0        0  ...        0        0        0        0        1   \n",
       "769        0        0  ...        0        0        0        0        0   \n",
       "797        0        0  ...        0        0        0        1        0   \n",
       "815        0        0  ...        0        0        0        0        0   \n",
       "823        0        0  ...        0        0        0        0        0   \n",
       "836        0        0  ...        0        0        0        0        0   \n",
       "843        0        0  ...        0        0        0        0        0   \n",
       "\n",
       "     70062    98591    99601    140078   2001225  \n",
       "2          0        0        0        0        0  \n",
       "12         0        0        0        1        0  \n",
       "27         0        0        1        0        0  \n",
       "76         0        0        0        0        0  \n",
       "102        0        0        0        0        0  \n",
       "103        0        0        0        0        0  \n",
       "105        0        0        0        1        0  \n",
       "121        0        0        0        0        0  \n",
       "154        0        0        0        0        1  \n",
       "186        0        0        0        0        0  \n",
       "217        0        0        0        0        0  \n",
       "256        0        0        0        1        0  \n",
       "283        0        0        0        0        0  \n",
       "309        0        0        0        0        0  \n",
       "329        0        0        0        0        0  \n",
       "346        1        0        0        0        0  \n",
       "370        0        0        0        0        0  \n",
       "373        0        0        0        0        0  \n",
       "376        0        0        0        0        0  \n",
       "390        0        0        0        1        0  \n",
       "423        0        0        1        0        0  \n",
       "431        0        0        0        0        0  \n",
       "448        0        1        0        0        0  \n",
       "450        0        0        0        0        0  \n",
       "464        0        1        0        0        0  \n",
       "501        0        0        0        0        0  \n",
       "521        0        0        0        0        0  \n",
       "596        0        0        0        0        0  \n",
       "602        0        0        0        0        0  \n",
       "615        0        0        0        0        0  \n",
       "618        0        0        0        0        0  \n",
       "628        0        0        0        0        0  \n",
       "652        0        0        0        0        0  \n",
       "718        0        0        0        0        1  \n",
       "725        0        0        0        0        0  \n",
       "744        0        0        0        0        0  \n",
       "746        0        0        0        0        1  \n",
       "755        0        0        0        0        0  \n",
       "769        1        0        0        0        0  \n",
       "797        0        0        0        0        0  \n",
       "815        0        0        0        0        0  \n",
       "823        0        0        0        0        0  \n",
       "836        0        0        0        0        0  \n",
       "843        0        0        0        0        0  \n",
       "\n",
       "[44 rows x 26 columns]"
      ],
      "text/html": "<div>\n<style scoped>\n    .dataframe tbody tr th:only-of-type {\n        vertical-align: middle;\n    }\n\n    .dataframe tbody tr th {\n        vertical-align: top;\n    }\n\n    .dataframe thead th {\n        text-align: right;\n    }\n</style>\n<table border=\"1\" class=\"dataframe\">\n  <thead>\n    <tr style=\"text-align: right;\">\n      <th></th>\n      <th>4089</th>\n      <th>4601</th>\n      <th>4659</th>\n      <th>5251</th>\n      <th>5328</th>\n      <th>5789</th>\n      <th>5887</th>\n      <th>6805</th>\n      <th>8504</th>\n      <th>15020</th>\n      <th>...</th>\n      <th>32264</th>\n      <th>33280</th>\n      <th>47555</th>\n      <th>55085</th>\n      <th>55114</th>\n      <th>70062</th>\n      <th>98591</th>\n      <th>99601</th>\n      <th>140078</th>\n      <th>2001225</th>\n    </tr>\n  </thead>\n  <tbody>\n    <tr>\n      <th>2</th>\n      <td>0</td>\n      <td>0</td>\n      <td>0</td>\n      <td>0</td>\n      <td>0</td>\n      <td>0</td>\n      <td>0</td>\n      <td>0</td>\n      <td>0</td>\n      <td>0</td>\n      <td>...</td>\n      <td>1</td>\n      <td>0</td>\n      <td>0</td>\n      <td>0</td>\n      <td>0</td>\n      <td>0</td>\n      <td>0</td>\n      <td>0</td>\n      <td>0</td>\n      <td>0</td>\n    </tr>\n    <tr>\n      <th>12</th>\n      <td>0</td>\n      <td>0</td>\n      <td>0</td>\n      <td>0</td>\n      <td>0</td>\n      <td>0</td>\n      <td>0</td>\n      <td>0</td>\n      <td>0</td>\n      <td>0</td>\n      <td>...</td>\n      <td>0</td>\n      <td>0</td>\n      <td>0</td>\n      <td>0</td>\n      <td>0</td>\n      <td>0</td>\n      <td>0</td>\n      <td>0</td>\n      <td>1</td>\n      <td>0</td>\n    </tr>\n    <tr>\n      <th>27</th>\n      <td>0</td>\n      <td>0</td>\n      <td>0</td>\n      <td>0</td>\n      <td>0</td>\n      <td>0</td>\n      <td>0</td>\n      <td>0</td>\n      <td>0</td>\n      <td>0</td>\n      <td>...</td>\n      <td>0</td>\n      <td>0</td>\n      <td>0</td>\n      <td>0</td>\n      <td>0</td>\n      <td>0</td>\n      <td>0</td>\n      <td>1</td>\n      <td>0</td>\n      <td>0</td>\n    </tr>\n    <tr>\n      <th>76</th>\n      <td>0</td>\n      <td>0</td>\n      <td>0</td>\n      <td>0</td>\n      <td>0</td>\n      <td>0</td>\n      <td>0</td>\n      <td>1</td>\n      <td>0</td>\n      <td>0</td>\n      <td>...</td>\n      <td>0</td>\n      <td>0</td>\n      <td>0</td>\n      <td>0</td>\n      <td>0</td>\n      <td>0</td>\n      <td>0</td>\n      <td>0</td>\n      <td>0</td>\n      <td>0</td>\n    </tr>\n    <tr>\n      <th>102</th>\n      <td>0</td>\n      <td>0</td>\n      <td>0</td>\n      <td>0</td>\n      <td>0</td>\n      <td>0</td>\n      <td>0</td>\n      <td>0</td>\n      <td>0</td>\n      <td>0</td>\n      <td>...</td>\n      <td>1</td>\n      <td>0</td>\n      <td>0</td>\n      <td>0</td>\n      <td>0</td>\n      <td>0</td>\n      <td>0</td>\n      <td>0</td>\n      <td>0</td>\n      <td>0</td>\n    </tr>\n    <tr>\n      <th>103</th>\n      <td>0</td>\n      <td>0</td>\n      <td>1</td>\n      <td>0</td>\n      <td>0</td>\n      <td>0</td>\n      <td>0</td>\n      <td>0</td>\n      <td>0</td>\n      <td>0</td>\n      <td>...</td>\n      <td>0</td>\n      <td>0</td>\n      <td>0</td>\n      <td>0</td>\n      <td>0</td>\n      <td>0</td>\n      <td>0</td>\n      <td>0</td>\n      <td>0</td>\n      <td>0</td>\n    </tr>\n    <tr>\n      <th>105</th>\n      <td>0</td>\n      <td>0</td>\n      <td>0</td>\n      <td>0</td>\n      <td>0</td>\n      <td>0</td>\n      <td>0</td>\n      <td>0</td>\n      <td>0</td>\n      <td>0</td>\n      <td>...</td>\n      <td>0</td>\n      <td>0</td>\n      <td>0</td>\n      <td>0</td>\n      <td>0</td>\n      <td>0</td>\n      <td>0</td>\n      <td>0</td>\n      <td>1</td>\n      <td>0</td>\n    </tr>\n    <tr>\n      <th>121</th>\n      <td>0</td>\n      <td>0</td>\n      <td>0</td>\n      <td>0</td>\n      <td>0</td>\n      <td>0</td>\n      <td>0</td>\n      <td>0</td>\n      <td>0</td>\n      <td>1</td>\n      <td>...</td>\n      <td>0</td>\n      <td>0</td>\n      <td>0</td>\n      <td>0</td>\n      <td>0</td>\n      <td>0</td>\n      <td>0</td>\n      <td>0</td>\n      <td>0</td>\n      <td>0</td>\n    </tr>\n    <tr>\n      <th>154</th>\n      <td>0</td>\n      <td>0</td>\n      <td>0</td>\n      <td>0</td>\n      <td>0</td>\n      <td>0</td>\n      <td>0</td>\n      <td>0</td>\n      <td>0</td>\n      <td>0</td>\n      <td>...</td>\n      <td>0</td>\n      <td>0</td>\n      <td>0</td>\n      <td>0</td>\n      <td>0</td>\n      <td>0</td>\n      <td>0</td>\n      <td>0</td>\n      <td>0</td>\n      <td>1</td>\n    </tr>\n    <tr>\n      <th>186</th>\n      <td>1</td>\n      <td>0</td>\n      <td>0</td>\n      <td>0</td>\n      <td>0</td>\n      <td>0</td>\n      <td>0</td>\n      <td>0</td>\n      <td>0</td>\n      <td>0</td>\n      <td>...</td>\n      <td>0</td>\n      <td>0</td>\n      <td>0</td>\n      <td>0</td>\n      <td>0</td>\n      <td>0</td>\n      <td>0</td>\n      <td>0</td>\n      <td>0</td>\n      <td>0</td>\n    </tr>\n    <tr>\n      <th>217</th>\n      <td>1</td>\n      <td>0</td>\n      <td>0</td>\n      <td>0</td>\n      <td>0</td>\n      <td>0</td>\n      <td>0</td>\n      <td>0</td>\n      <td>0</td>\n      <td>0</td>\n      <td>...</td>\n      <td>0</td>\n      <td>0</td>\n      <td>0</td>\n      <td>0</td>\n      <td>0</td>\n      <td>0</td>\n      <td>0</td>\n      <td>0</td>\n      <td>0</td>\n      <td>0</td>\n    </tr>\n    <tr>\n      <th>256</th>\n      <td>0</td>\n      <td>0</td>\n      <td>0</td>\n      <td>0</td>\n      <td>0</td>\n      <td>0</td>\n      <td>0</td>\n      <td>0</td>\n      <td>0</td>\n      <td>0</td>\n      <td>...</td>\n      <td>0</td>\n      <td>0</td>\n      <td>0</td>\n      <td>0</td>\n      <td>0</td>\n      <td>0</td>\n      <td>0</td>\n      <td>0</td>\n      <td>1</td>\n      <td>0</td>\n    </tr>\n    <tr>\n      <th>283</th>\n      <td>1</td>\n      <td>0</td>\n      <td>0</td>\n      <td>0</td>\n      <td>0</td>\n      <td>0</td>\n      <td>0</td>\n      <td>0</td>\n      <td>0</td>\n      <td>0</td>\n      <td>...</td>\n      <td>0</td>\n      <td>0</td>\n      <td>0</td>\n      <td>0</td>\n      <td>0</td>\n      <td>0</td>\n      <td>0</td>\n      <td>0</td>\n      <td>0</td>\n      <td>0</td>\n    </tr>\n    <tr>\n      <th>309</th>\n      <td>0</td>\n      <td>0</td>\n      <td>0</td>\n      <td>0</td>\n      <td>0</td>\n      <td>0</td>\n      <td>0</td>\n      <td>0</td>\n      <td>0</td>\n      <td>0</td>\n      <td>...</td>\n      <td>0</td>\n      <td>0</td>\n      <td>0</td>\n      <td>0</td>\n      <td>0</td>\n      <td>0</td>\n      <td>0</td>\n      <td>0</td>\n      <td>0</td>\n      <td>0</td>\n    </tr>\n    <tr>\n      <th>329</th>\n      <td>0</td>\n      <td>0</td>\n      <td>0</td>\n      <td>0</td>\n      <td>0</td>\n      <td>0</td>\n      <td>0</td>\n      <td>0</td>\n      <td>0</td>\n      <td>0</td>\n      <td>...</td>\n      <td>0</td>\n      <td>0</td>\n      <td>1</td>\n      <td>0</td>\n      <td>0</td>\n      <td>0</td>\n      <td>0</td>\n      <td>0</td>\n      <td>0</td>\n      <td>0</td>\n    </tr>\n    <tr>\n      <th>346</th>\n      <td>0</td>\n      <td>0</td>\n      <td>0</td>\n      <td>0</td>\n      <td>0</td>\n      <td>0</td>\n      <td>0</td>\n      <td>0</td>\n      <td>0</td>\n      <td>0</td>\n      <td>...</td>\n      <td>0</td>\n      <td>0</td>\n      <td>0</td>\n      <td>0</td>\n      <td>0</td>\n      <td>1</td>\n      <td>0</td>\n      <td>0</td>\n      <td>0</td>\n      <td>0</td>\n    </tr>\n    <tr>\n      <th>370</th>\n      <td>0</td>\n      <td>0</td>\n      <td>0</td>\n      <td>0</td>\n      <td>0</td>\n      <td>1</td>\n      <td>0</td>\n      <td>0</td>\n      <td>0</td>\n      <td>0</td>\n      <td>...</td>\n      <td>0</td>\n      <td>0</td>\n      <td>0</td>\n      <td>0</td>\n      <td>0</td>\n      <td>0</td>\n      <td>0</td>\n      <td>0</td>\n      <td>0</td>\n      <td>0</td>\n    </tr>\n    <tr>\n      <th>373</th>\n      <td>0</td>\n      <td>0</td>\n      <td>0</td>\n      <td>0</td>\n      <td>0</td>\n      <td>0</td>\n      <td>0</td>\n      <td>0</td>\n      <td>1</td>\n      <td>0</td>\n      <td>...</td>\n      <td>0</td>\n      <td>0</td>\n      <td>0</td>\n      <td>0</td>\n      <td>0</td>\n      <td>0</td>\n      <td>0</td>\n      <td>0</td>\n      <td>0</td>\n      <td>0</td>\n    </tr>\n    <tr>\n      <th>376</th>\n      <td>0</td>\n      <td>0</td>\n      <td>0</td>\n      <td>0</td>\n      <td>1</td>\n      <td>0</td>\n      <td>0</td>\n      <td>0</td>\n      <td>0</td>\n      <td>0</td>\n      <td>...</td>\n      <td>0</td>\n      <td>0</td>\n      <td>0</td>\n      <td>0</td>\n      <td>0</td>\n      <td>0</td>\n      <td>0</td>\n      <td>0</td>\n      <td>0</td>\n      <td>0</td>\n    </tr>\n    <tr>\n      <th>390</th>\n      <td>0</td>\n      <td>0</td>\n      <td>0</td>\n      <td>0</td>\n      <td>0</td>\n      <td>0</td>\n      <td>0</td>\n      <td>0</td>\n      <td>0</td>\n      <td>0</td>\n      <td>...</td>\n      <td>0</td>\n      <td>0</td>\n      <td>0</td>\n      <td>0</td>\n      <td>0</td>\n      <td>0</td>\n      <td>0</td>\n      <td>0</td>\n      <td>1</td>\n      <td>0</td>\n    </tr>\n    <tr>\n      <th>423</th>\n      <td>0</td>\n      <td>0</td>\n      <td>0</td>\n      <td>0</td>\n      <td>0</td>\n      <td>0</td>\n      <td>0</td>\n      <td>0</td>\n      <td>0</td>\n      <td>0</td>\n      <td>...</td>\n      <td>0</td>\n      <td>0</td>\n      <td>0</td>\n      <td>0</td>\n      <td>0</td>\n      <td>0</td>\n      <td>0</td>\n      <td>1</td>\n      <td>0</td>\n      <td>0</td>\n    </tr>\n    <tr>\n      <th>431</th>\n      <td>0</td>\n      <td>0</td>\n      <td>0</td>\n      <td>0</td>\n      <td>0</td>\n      <td>0</td>\n      <td>0</td>\n      <td>0</td>\n      <td>0</td>\n      <td>0</td>\n      <td>...</td>\n      <td>0</td>\n      <td>0</td>\n      <td>0</td>\n      <td>0</td>\n      <td>0</td>\n      <td>0</td>\n      <td>0</td>\n      <td>0</td>\n      <td>0</td>\n      <td>0</td>\n    </tr>\n    <tr>\n      <th>448</th>\n      <td>0</td>\n      <td>0</td>\n      <td>0</td>\n      <td>0</td>\n      <td>0</td>\n      <td>0</td>\n      <td>0</td>\n      <td>0</td>\n      <td>0</td>\n      <td>0</td>\n      <td>...</td>\n      <td>0</td>\n      <td>0</td>\n      <td>0</td>\n      <td>0</td>\n      <td>0</td>\n      <td>0</td>\n      <td>1</td>\n      <td>0</td>\n      <td>0</td>\n      <td>0</td>\n    </tr>\n    <tr>\n      <th>450</th>\n      <td>0</td>\n      <td>0</td>\n      <td>0</td>\n      <td>0</td>\n      <td>0</td>\n      <td>0</td>\n      <td>0</td>\n      <td>0</td>\n      <td>0</td>\n      <td>0</td>\n      <td>...</td>\n      <td>0</td>\n      <td>0</td>\n      <td>0</td>\n      <td>0</td>\n      <td>0</td>\n      <td>0</td>\n      <td>0</td>\n      <td>0</td>\n      <td>0</td>\n      <td>0</td>\n    </tr>\n    <tr>\n      <th>464</th>\n      <td>0</td>\n      <td>0</td>\n      <td>0</td>\n      <td>0</td>\n      <td>0</td>\n      <td>0</td>\n      <td>0</td>\n      <td>0</td>\n      <td>0</td>\n      <td>0</td>\n      <td>...</td>\n      <td>0</td>\n      <td>0</td>\n      <td>0</td>\n      <td>0</td>\n      <td>0</td>\n      <td>0</td>\n      <td>1</td>\n      <td>0</td>\n      <td>0</td>\n      <td>0</td>\n    </tr>\n    <tr>\n      <th>501</th>\n      <td>0</td>\n      <td>0</td>\n      <td>0</td>\n      <td>0</td>\n      <td>0</td>\n      <td>0</td>\n      <td>0</td>\n      <td>0</td>\n      <td>0</td>\n      <td>0</td>\n      <td>...</td>\n      <td>0</td>\n      <td>0</td>\n      <td>0</td>\n      <td>0</td>\n      <td>0</td>\n      <td>0</td>\n      <td>0</td>\n      <td>0</td>\n      <td>0</td>\n      <td>0</td>\n    </tr>\n    <tr>\n      <th>521</th>\n      <td>0</td>\n      <td>0</td>\n      <td>0</td>\n      <td>0</td>\n      <td>0</td>\n      <td>0</td>\n      <td>1</td>\n      <td>0</td>\n      <td>0</td>\n      <td>0</td>\n      <td>...</td>\n      <td>0</td>\n      <td>0</td>\n      <td>0</td>\n      <td>0</td>\n      <td>0</td>\n      <td>0</td>\n      <td>0</td>\n      <td>0</td>\n      <td>0</td>\n      <td>0</td>\n    </tr>\n    <tr>\n      <th>596</th>\n      <td>0</td>\n      <td>0</td>\n      <td>0</td>\n      <td>0</td>\n      <td>0</td>\n      <td>0</td>\n      <td>0</td>\n      <td>0</td>\n      <td>0</td>\n      <td>0</td>\n      <td>...</td>\n      <td>1</td>\n      <td>0</td>\n      <td>0</td>\n      <td>0</td>\n      <td>0</td>\n      <td>0</td>\n      <td>0</td>\n      <td>0</td>\n      <td>0</td>\n      <td>0</td>\n    </tr>\n    <tr>\n      <th>602</th>\n      <td>0</td>\n      <td>0</td>\n      <td>0</td>\n      <td>1</td>\n      <td>0</td>\n      <td>0</td>\n      <td>0</td>\n      <td>0</td>\n      <td>0</td>\n      <td>0</td>\n      <td>...</td>\n      <td>0</td>\n      <td>0</td>\n      <td>0</td>\n      <td>0</td>\n      <td>0</td>\n      <td>0</td>\n      <td>0</td>\n      <td>0</td>\n      <td>0</td>\n      <td>0</td>\n    </tr>\n    <tr>\n      <th>615</th>\n      <td>0</td>\n      <td>0</td>\n      <td>0</td>\n      <td>0</td>\n      <td>0</td>\n      <td>0</td>\n      <td>0</td>\n      <td>0</td>\n      <td>0</td>\n      <td>0</td>\n      <td>...</td>\n      <td>0</td>\n      <td>1</td>\n      <td>0</td>\n      <td>0</td>\n      <td>0</td>\n      <td>0</td>\n      <td>0</td>\n      <td>0</td>\n      <td>0</td>\n      <td>0</td>\n    </tr>\n    <tr>\n      <th>618</th>\n      <td>0</td>\n      <td>0</td>\n      <td>0</td>\n      <td>0</td>\n      <td>0</td>\n      <td>0</td>\n      <td>0</td>\n      <td>0</td>\n      <td>0</td>\n      <td>0</td>\n      <td>...</td>\n      <td>0</td>\n      <td>0</td>\n      <td>0</td>\n      <td>0</td>\n      <td>0</td>\n      <td>0</td>\n      <td>0</td>\n      <td>0</td>\n      <td>0</td>\n      <td>0</td>\n    </tr>\n    <tr>\n      <th>628</th>\n      <td>0</td>\n      <td>1</td>\n      <td>0</td>\n      <td>0</td>\n      <td>0</td>\n      <td>0</td>\n      <td>0</td>\n      <td>0</td>\n      <td>0</td>\n      <td>0</td>\n      <td>...</td>\n      <td>0</td>\n      <td>0</td>\n      <td>0</td>\n      <td>0</td>\n      <td>0</td>\n      <td>0</td>\n      <td>0</td>\n      <td>0</td>\n      <td>0</td>\n      <td>0</td>\n    </tr>\n    <tr>\n      <th>652</th>\n      <td>1</td>\n      <td>0</td>\n      <td>0</td>\n      <td>0</td>\n      <td>0</td>\n      <td>0</td>\n      <td>0</td>\n      <td>0</td>\n      <td>0</td>\n      <td>0</td>\n      <td>...</td>\n      <td>0</td>\n      <td>0</td>\n      <td>0</td>\n      <td>0</td>\n      <td>0</td>\n      <td>0</td>\n      <td>0</td>\n      <td>0</td>\n      <td>0</td>\n      <td>0</td>\n    </tr>\n    <tr>\n      <th>718</th>\n      <td>0</td>\n      <td>0</td>\n      <td>0</td>\n      <td>0</td>\n      <td>0</td>\n      <td>0</td>\n      <td>0</td>\n      <td>0</td>\n      <td>0</td>\n      <td>0</td>\n      <td>...</td>\n      <td>0</td>\n      <td>0</td>\n      <td>0</td>\n      <td>0</td>\n      <td>0</td>\n      <td>0</td>\n      <td>0</td>\n      <td>0</td>\n      <td>0</td>\n      <td>1</td>\n    </tr>\n    <tr>\n      <th>725</th>\n      <td>0</td>\n      <td>0</td>\n      <td>0</td>\n      <td>0</td>\n      <td>0</td>\n      <td>0</td>\n      <td>0</td>\n      <td>0</td>\n      <td>0</td>\n      <td>0</td>\n      <td>...</td>\n      <td>0</td>\n      <td>0</td>\n      <td>0</td>\n      <td>0</td>\n      <td>0</td>\n      <td>0</td>\n      <td>0</td>\n      <td>0</td>\n      <td>0</td>\n      <td>0</td>\n    </tr>\n    <tr>\n      <th>744</th>\n      <td>0</td>\n      <td>0</td>\n      <td>0</td>\n      <td>0</td>\n      <td>0</td>\n      <td>1</td>\n      <td>0</td>\n      <td>0</td>\n      <td>0</td>\n      <td>0</td>\n      <td>...</td>\n      <td>0</td>\n      <td>0</td>\n      <td>0</td>\n      <td>0</td>\n      <td>0</td>\n      <td>0</td>\n      <td>0</td>\n      <td>0</td>\n      <td>0</td>\n      <td>0</td>\n    </tr>\n    <tr>\n      <th>746</th>\n      <td>0</td>\n      <td>0</td>\n      <td>0</td>\n      <td>0</td>\n      <td>0</td>\n      <td>0</td>\n      <td>0</td>\n      <td>0</td>\n      <td>0</td>\n      <td>0</td>\n      <td>...</td>\n      <td>0</td>\n      <td>0</td>\n      <td>0</td>\n      <td>0</td>\n      <td>0</td>\n      <td>0</td>\n      <td>0</td>\n      <td>0</td>\n      <td>0</td>\n      <td>1</td>\n    </tr>\n    <tr>\n      <th>755</th>\n      <td>0</td>\n      <td>0</td>\n      <td>0</td>\n      <td>0</td>\n      <td>0</td>\n      <td>0</td>\n      <td>0</td>\n      <td>0</td>\n      <td>0</td>\n      <td>0</td>\n      <td>...</td>\n      <td>0</td>\n      <td>0</td>\n      <td>0</td>\n      <td>0</td>\n      <td>1</td>\n      <td>0</td>\n      <td>0</td>\n      <td>0</td>\n      <td>0</td>\n      <td>0</td>\n    </tr>\n    <tr>\n      <th>769</th>\n      <td>0</td>\n      <td>0</td>\n      <td>0</td>\n      <td>0</td>\n      <td>0</td>\n      <td>0</td>\n      <td>0</td>\n      <td>0</td>\n      <td>0</td>\n      <td>0</td>\n      <td>...</td>\n      <td>0</td>\n      <td>0</td>\n      <td>0</td>\n      <td>0</td>\n      <td>0</td>\n      <td>1</td>\n      <td>0</td>\n      <td>0</td>\n      <td>0</td>\n      <td>0</td>\n    </tr>\n    <tr>\n      <th>797</th>\n      <td>0</td>\n      <td>0</td>\n      <td>0</td>\n      <td>0</td>\n      <td>0</td>\n      <td>0</td>\n      <td>0</td>\n      <td>0</td>\n      <td>0</td>\n      <td>0</td>\n      <td>...</td>\n      <td>0</td>\n      <td>0</td>\n      <td>0</td>\n      <td>1</td>\n      <td>0</td>\n      <td>0</td>\n      <td>0</td>\n      <td>0</td>\n      <td>0</td>\n      <td>0</td>\n    </tr>\n    <tr>\n      <th>815</th>\n      <td>1</td>\n      <td>0</td>\n      <td>0</td>\n      <td>0</td>\n      <td>0</td>\n      <td>0</td>\n      <td>0</td>\n      <td>0</td>\n      <td>0</td>\n      <td>0</td>\n      <td>...</td>\n      <td>0</td>\n      <td>0</td>\n      <td>0</td>\n      <td>0</td>\n      <td>0</td>\n      <td>0</td>\n      <td>0</td>\n      <td>0</td>\n      <td>0</td>\n      <td>0</td>\n    </tr>\n    <tr>\n      <th>823</th>\n      <td>0</td>\n      <td>0</td>\n      <td>0</td>\n      <td>0</td>\n      <td>0</td>\n      <td>0</td>\n      <td>0</td>\n      <td>0</td>\n      <td>0</td>\n      <td>0</td>\n      <td>...</td>\n      <td>0</td>\n      <td>0</td>\n      <td>0</td>\n      <td>0</td>\n      <td>0</td>\n      <td>0</td>\n      <td>0</td>\n      <td>0</td>\n      <td>0</td>\n      <td>0</td>\n    </tr>\n    <tr>\n      <th>836</th>\n      <td>0</td>\n      <td>0</td>\n      <td>0</td>\n      <td>0</td>\n      <td>0</td>\n      <td>0</td>\n      <td>0</td>\n      <td>0</td>\n      <td>0</td>\n      <td>0</td>\n      <td>...</td>\n      <td>0</td>\n      <td>0</td>\n      <td>0</td>\n      <td>0</td>\n      <td>0</td>\n      <td>0</td>\n      <td>0</td>\n      <td>0</td>\n      <td>0</td>\n      <td>0</td>\n    </tr>\n    <tr>\n      <th>843</th>\n      <td>1</td>\n      <td>0</td>\n      <td>0</td>\n      <td>0</td>\n      <td>0</td>\n      <td>0</td>\n      <td>0</td>\n      <td>0</td>\n      <td>0</td>\n      <td>0</td>\n      <td>...</td>\n      <td>0</td>\n      <td>0</td>\n      <td>0</td>\n      <td>0</td>\n      <td>0</td>\n      <td>0</td>\n      <td>0</td>\n      <td>0</td>\n      <td>0</td>\n      <td>0</td>\n    </tr>\n  </tbody>\n</table>\n<p>44 rows × 26 columns</p>\n</div>"
     },
     "metadata": {},
     "execution_count": 15
    }
   ],
   "source": [
    "se_go_all"
   ]
  },
  {
   "source": [
    "umap_3d_go = UMAP(n_components=3, init='random', random_state=8)\n",
    "se_3d_umap_go = umap_3d_go.fit_transform(se_go_all)"
   ],
   "cell_type": "code",
   "metadata": {},
   "execution_count": 20,
   "outputs": []
  },
  {
   "cell_type": "code",
   "execution_count": 25,
   "metadata": {},
   "outputs": [],
   "source": [
    "coo_go = se_3d_umap_go"
   ]
  },
  {
   "cell_type": "code",
   "execution_count": 26,
   "metadata": {},
   "outputs": [
    {
     "output_type": "display_data",
     "data": {
      "application/vnd.plotly.v1+json": {
       "config": {
        "plotlyServerURL": "https://plot.ly"
       },
       "data": [
        {
         "hovertemplate": "<b>%{hovertext}</b><br><br>x=%{x}<br>y=%{y}<br>z=%{z}<extra></extra>",
         "hovertext": [
          "lung edema",
          "thrombocytopenia",
          "sepsis",
          "back injury",
          "glomerulonephritis",
          "duodenal ulcer",
          "leucopenia",
          "perirectal abscess",
          "fungal disease",
          "heart attack",
          "diverticulosis",
          "kidney failure",
          "cardiomyopathy",
          "rhabdomyolysis",
          "psychosexual disorder",
          "pleural effusion",
          "soft tissue infection",
          "dental abscess",
          "bruxism",
          "acute myeloblastic leukemia",
          "esophagitis",
          "hyperparathyroidism",
          "cardiac disease",
          "hip fracture",
          "carpal tunnel",
          "renal tubular acidosis",
          "rotator cuff syndrome",
          "haemorrhage intracranial",
          "cerebral vascular disorder",
          "right heart failure",
          "colitis pseudomembranous",
          "dermatitis seborrheic",
          "rectal polyp",
          "hematoma subdural",
          "labyrinthitis",
          "bronchiectasis",
          "furuncle",
          "polyarthritis",
          "cutaneous mycosis",
          "fibroids",
          "empyema",
          "uterine bleeding",
          "menstrual disorder",
          "sacroiliitis"
         ],
         "legendgroup": "",
         "marker": {
          "color": "#636efa",
          "symbol": "circle"
         },
         "mode": "markers",
         "name": "",
         "scene": "scene",
         "showlegend": false,
         "type": "scatter3d",
         "x": [
          8.517420768737793,
          8.487373352050781,
          9.54572868347168,
          8.647459030151367,
          8.667710304260254,
          8.463459968566895,
          8.571918487548828,
          7.880516529083252,
          7.553016185760498,
          10.003363609313965,
          9.792073249816895,
          9.183846473693848,
          9.660486221313477,
          7.974643230438232,
          7.333705902099609,
          9.060749053955078,
          7.881547927856445,
          8.697545051574707,
          9.20366096496582,
          8.879583358764648,
          9.65301513671875,
          8.719328880310059,
          7.65158224105835,
          7.910451412200928,
          9.37780475616455,
          8.232478141784668,
          9.117484092712402,
          8.26307487487793,
          9.33994197845459,
          8.762528419494629,
          8.625632286071777,
          9.00478458404541,
          9.075024604797363,
          7.748952865600586,
          8.619193077087402,
          8.122062683105469,
          7.715686798095703,
          8.215052604675293,
          8.869233131408691,
          8.272638320922852,
          9.571152687072754,
          8.592938423156738,
          8.079720497131348,
          9.358086585998535
         ],
         "y": [
          -8.615478515625,
          -5.9763054847717285,
          -7.133511066436768,
          -7.029793739318848,
          -8.249544143676758,
          -8.040066719055176,
          -6.0553131103515625,
          -8.243352890014648,
          -6.779605865478516,
          -6.968067169189453,
          -7.281404972076416,
          -6.262465476989746,
          -6.799370765686035,
          -7.0032572746276855,
          -7.532766342163086,
          -8.137173652648926,
          -7.274621486663818,
          -7.724730491638184,
          -8.44250202178955,
          -6.2312774658203125,
          -7.641605854034424,
          -7.06192684173584,
          -7.838241100311279,
          -8.161953926086426,
          -6.766943454742432,
          -6.607809543609619,
          -7.605106353759766,
          -7.644253253936768,
          -7.863330841064453,
          -7.880009651184082,
          -6.838150501251221,
          -7.725546836853027,
          -7.194462299346924,
          -7.191514492034912,
          -6.794079780578613,
          -7.632844924926758,
          -7.4725446701049805,
          -7.130485534667969,
          -7.490933418273926,
          -7.702115058898926,
          -7.338724613189697,
          -7.419330596923828,
          -6.591592788696289,
          -7.014984130859375
         ],
         "z": [
          10.617607116699219,
          10.70125961303711,
          11.851547241210938,
          9.8737154006958,
          10.297748565673828,
          11.86723518371582,
          11.310051918029785,
          11.336493492126465,
          10.512178421020508,
          10.736774444580078,
          10.071404457092285,
          11.237555503845215,
          10.296622276306152,
          11.888490676879883,
          11.203221321105957,
          11.48414421081543,
          10.103211402893066,
          9.81450080871582,
          10.830026626586914,
          10.947493553161621,
          11.508525848388672,
          12.05953598022461,
          10.306707382202148,
          10.76233959197998,
          11.35140323638916,
          10.324832916259766,
          10.169454574584961,
          10.248886108398438,
          10.80473804473877,
          10.998581886291504,
          11.548190116882324,
          11.944794654846191,
          11.044718742370605,
          11.376078605651855,
          10.569351196289062,
          11.695953369140625,
          10.69489860534668,
          11.113765716552734,
          11.442052841186523,
          11.160189628601074,
          10.627494812011719,
          10.714520454406738,
          11.093828201293945,
          10.467702865600586
         ]
        }
       ],
       "layout": {
        "legend": {
         "tracegroupgap": 0
        },
        "margin": {
         "t": 60
        },
        "scene": {
         "domain": {
          "x": [
           0,
           1
          ],
          "y": [
           0,
           1
          ]
         },
         "xaxis": {
          "title": {
           "text": "x"
          }
         },
         "yaxis": {
          "title": {
           "text": "y"
          }
         },
         "zaxis": {
          "title": {
           "text": "z"
          }
         }
        },
        "template": {
         "data": {
          "bar": [
           {
            "error_x": {
             "color": "#2a3f5f"
            },
            "error_y": {
             "color": "#2a3f5f"
            },
            "marker": {
             "line": {
              "color": "#E5ECF6",
              "width": 0.5
             }
            },
            "type": "bar"
           }
          ],
          "barpolar": [
           {
            "marker": {
             "line": {
              "color": "#E5ECF6",
              "width": 0.5
             }
            },
            "type": "barpolar"
           }
          ],
          "carpet": [
           {
            "aaxis": {
             "endlinecolor": "#2a3f5f",
             "gridcolor": "white",
             "linecolor": "white",
             "minorgridcolor": "white",
             "startlinecolor": "#2a3f5f"
            },
            "baxis": {
             "endlinecolor": "#2a3f5f",
             "gridcolor": "white",
             "linecolor": "white",
             "minorgridcolor": "white",
             "startlinecolor": "#2a3f5f"
            },
            "type": "carpet"
           }
          ],
          "choropleth": [
           {
            "colorbar": {
             "outlinewidth": 0,
             "ticks": ""
            },
            "type": "choropleth"
           }
          ],
          "contour": [
           {
            "colorbar": {
             "outlinewidth": 0,
             "ticks": ""
            },
            "colorscale": [
             [
              0,
              "#0d0887"
             ],
             [
              0.1111111111111111,
              "#46039f"
             ],
             [
              0.2222222222222222,
              "#7201a8"
             ],
             [
              0.3333333333333333,
              "#9c179e"
             ],
             [
              0.4444444444444444,
              "#bd3786"
             ],
             [
              0.5555555555555556,
              "#d8576b"
             ],
             [
              0.6666666666666666,
              "#ed7953"
             ],
             [
              0.7777777777777778,
              "#fb9f3a"
             ],
             [
              0.8888888888888888,
              "#fdca26"
             ],
             [
              1,
              "#f0f921"
             ]
            ],
            "type": "contour"
           }
          ],
          "contourcarpet": [
           {
            "colorbar": {
             "outlinewidth": 0,
             "ticks": ""
            },
            "type": "contourcarpet"
           }
          ],
          "heatmap": [
           {
            "colorbar": {
             "outlinewidth": 0,
             "ticks": ""
            },
            "colorscale": [
             [
              0,
              "#0d0887"
             ],
             [
              0.1111111111111111,
              "#46039f"
             ],
             [
              0.2222222222222222,
              "#7201a8"
             ],
             [
              0.3333333333333333,
              "#9c179e"
             ],
             [
              0.4444444444444444,
              "#bd3786"
             ],
             [
              0.5555555555555556,
              "#d8576b"
             ],
             [
              0.6666666666666666,
              "#ed7953"
             ],
             [
              0.7777777777777778,
              "#fb9f3a"
             ],
             [
              0.8888888888888888,
              "#fdca26"
             ],
             [
              1,
              "#f0f921"
             ]
            ],
            "type": "heatmap"
           }
          ],
          "heatmapgl": [
           {
            "colorbar": {
             "outlinewidth": 0,
             "ticks": ""
            },
            "colorscale": [
             [
              0,
              "#0d0887"
             ],
             [
              0.1111111111111111,
              "#46039f"
             ],
             [
              0.2222222222222222,
              "#7201a8"
             ],
             [
              0.3333333333333333,
              "#9c179e"
             ],
             [
              0.4444444444444444,
              "#bd3786"
             ],
             [
              0.5555555555555556,
              "#d8576b"
             ],
             [
              0.6666666666666666,
              "#ed7953"
             ],
             [
              0.7777777777777778,
              "#fb9f3a"
             ],
             [
              0.8888888888888888,
              "#fdca26"
             ],
             [
              1,
              "#f0f921"
             ]
            ],
            "type": "heatmapgl"
           }
          ],
          "histogram": [
           {
            "marker": {
             "colorbar": {
              "outlinewidth": 0,
              "ticks": ""
             }
            },
            "type": "histogram"
           }
          ],
          "histogram2d": [
           {
            "colorbar": {
             "outlinewidth": 0,
             "ticks": ""
            },
            "colorscale": [
             [
              0,
              "#0d0887"
             ],
             [
              0.1111111111111111,
              "#46039f"
             ],
             [
              0.2222222222222222,
              "#7201a8"
             ],
             [
              0.3333333333333333,
              "#9c179e"
             ],
             [
              0.4444444444444444,
              "#bd3786"
             ],
             [
              0.5555555555555556,
              "#d8576b"
             ],
             [
              0.6666666666666666,
              "#ed7953"
             ],
             [
              0.7777777777777778,
              "#fb9f3a"
             ],
             [
              0.8888888888888888,
              "#fdca26"
             ],
             [
              1,
              "#f0f921"
             ]
            ],
            "type": "histogram2d"
           }
          ],
          "histogram2dcontour": [
           {
            "colorbar": {
             "outlinewidth": 0,
             "ticks": ""
            },
            "colorscale": [
             [
              0,
              "#0d0887"
             ],
             [
              0.1111111111111111,
              "#46039f"
             ],
             [
              0.2222222222222222,
              "#7201a8"
             ],
             [
              0.3333333333333333,
              "#9c179e"
             ],
             [
              0.4444444444444444,
              "#bd3786"
             ],
             [
              0.5555555555555556,
              "#d8576b"
             ],
             [
              0.6666666666666666,
              "#ed7953"
             ],
             [
              0.7777777777777778,
              "#fb9f3a"
             ],
             [
              0.8888888888888888,
              "#fdca26"
             ],
             [
              1,
              "#f0f921"
             ]
            ],
            "type": "histogram2dcontour"
           }
          ],
          "mesh3d": [
           {
            "colorbar": {
             "outlinewidth": 0,
             "ticks": ""
            },
            "type": "mesh3d"
           }
          ],
          "parcoords": [
           {
            "line": {
             "colorbar": {
              "outlinewidth": 0,
              "ticks": ""
             }
            },
            "type": "parcoords"
           }
          ],
          "pie": [
           {
            "automargin": true,
            "type": "pie"
           }
          ],
          "scatter": [
           {
            "marker": {
             "colorbar": {
              "outlinewidth": 0,
              "ticks": ""
             }
            },
            "type": "scatter"
           }
          ],
          "scatter3d": [
           {
            "line": {
             "colorbar": {
              "outlinewidth": 0,
              "ticks": ""
             }
            },
            "marker": {
             "colorbar": {
              "outlinewidth": 0,
              "ticks": ""
             }
            },
            "type": "scatter3d"
           }
          ],
          "scattercarpet": [
           {
            "marker": {
             "colorbar": {
              "outlinewidth": 0,
              "ticks": ""
             }
            },
            "type": "scattercarpet"
           }
          ],
          "scattergeo": [
           {
            "marker": {
             "colorbar": {
              "outlinewidth": 0,
              "ticks": ""
             }
            },
            "type": "scattergeo"
           }
          ],
          "scattergl": [
           {
            "marker": {
             "colorbar": {
              "outlinewidth": 0,
              "ticks": ""
             }
            },
            "type": "scattergl"
           }
          ],
          "scattermapbox": [
           {
            "marker": {
             "colorbar": {
              "outlinewidth": 0,
              "ticks": ""
             }
            },
            "type": "scattermapbox"
           }
          ],
          "scatterpolar": [
           {
            "marker": {
             "colorbar": {
              "outlinewidth": 0,
              "ticks": ""
             }
            },
            "type": "scatterpolar"
           }
          ],
          "scatterpolargl": [
           {
            "marker": {
             "colorbar": {
              "outlinewidth": 0,
              "ticks": ""
             }
            },
            "type": "scatterpolargl"
           }
          ],
          "scatterternary": [
           {
            "marker": {
             "colorbar": {
              "outlinewidth": 0,
              "ticks": ""
             }
            },
            "type": "scatterternary"
           }
          ],
          "surface": [
           {
            "colorbar": {
             "outlinewidth": 0,
             "ticks": ""
            },
            "colorscale": [
             [
              0,
              "#0d0887"
             ],
             [
              0.1111111111111111,
              "#46039f"
             ],
             [
              0.2222222222222222,
              "#7201a8"
             ],
             [
              0.3333333333333333,
              "#9c179e"
             ],
             [
              0.4444444444444444,
              "#bd3786"
             ],
             [
              0.5555555555555556,
              "#d8576b"
             ],
             [
              0.6666666666666666,
              "#ed7953"
             ],
             [
              0.7777777777777778,
              "#fb9f3a"
             ],
             [
              0.8888888888888888,
              "#fdca26"
             ],
             [
              1,
              "#f0f921"
             ]
            ],
            "type": "surface"
           }
          ],
          "table": [
           {
            "cells": {
             "fill": {
              "color": "#EBF0F8"
             },
             "line": {
              "color": "white"
             }
            },
            "header": {
             "fill": {
              "color": "#C8D4E3"
             },
             "line": {
              "color": "white"
             }
            },
            "type": "table"
           }
          ]
         },
         "layout": {
          "annotationdefaults": {
           "arrowcolor": "#2a3f5f",
           "arrowhead": 0,
           "arrowwidth": 1
          },
          "autotypenumbers": "strict",
          "coloraxis": {
           "colorbar": {
            "outlinewidth": 0,
            "ticks": ""
           }
          },
          "colorscale": {
           "diverging": [
            [
             0,
             "#8e0152"
            ],
            [
             0.1,
             "#c51b7d"
            ],
            [
             0.2,
             "#de77ae"
            ],
            [
             0.3,
             "#f1b6da"
            ],
            [
             0.4,
             "#fde0ef"
            ],
            [
             0.5,
             "#f7f7f7"
            ],
            [
             0.6,
             "#e6f5d0"
            ],
            [
             0.7,
             "#b8e186"
            ],
            [
             0.8,
             "#7fbc41"
            ],
            [
             0.9,
             "#4d9221"
            ],
            [
             1,
             "#276419"
            ]
           ],
           "sequential": [
            [
             0,
             "#0d0887"
            ],
            [
             0.1111111111111111,
             "#46039f"
            ],
            [
             0.2222222222222222,
             "#7201a8"
            ],
            [
             0.3333333333333333,
             "#9c179e"
            ],
            [
             0.4444444444444444,
             "#bd3786"
            ],
            [
             0.5555555555555556,
             "#d8576b"
            ],
            [
             0.6666666666666666,
             "#ed7953"
            ],
            [
             0.7777777777777778,
             "#fb9f3a"
            ],
            [
             0.8888888888888888,
             "#fdca26"
            ],
            [
             1,
             "#f0f921"
            ]
           ],
           "sequentialminus": [
            [
             0,
             "#0d0887"
            ],
            [
             0.1111111111111111,
             "#46039f"
            ],
            [
             0.2222222222222222,
             "#7201a8"
            ],
            [
             0.3333333333333333,
             "#9c179e"
            ],
            [
             0.4444444444444444,
             "#bd3786"
            ],
            [
             0.5555555555555556,
             "#d8576b"
            ],
            [
             0.6666666666666666,
             "#ed7953"
            ],
            [
             0.7777777777777778,
             "#fb9f3a"
            ],
            [
             0.8888888888888888,
             "#fdca26"
            ],
            [
             1,
             "#f0f921"
            ]
           ]
          },
          "colorway": [
           "#636efa",
           "#EF553B",
           "#00cc96",
           "#ab63fa",
           "#FFA15A",
           "#19d3f3",
           "#FF6692",
           "#B6E880",
           "#FF97FF",
           "#FECB52"
          ],
          "font": {
           "color": "#2a3f5f"
          },
          "geo": {
           "bgcolor": "white",
           "lakecolor": "white",
           "landcolor": "#E5ECF6",
           "showlakes": true,
           "showland": true,
           "subunitcolor": "white"
          },
          "hoverlabel": {
           "align": "left"
          },
          "hovermode": "closest",
          "mapbox": {
           "style": "light"
          },
          "paper_bgcolor": "white",
          "plot_bgcolor": "#E5ECF6",
          "polar": {
           "angularaxis": {
            "gridcolor": "white",
            "linecolor": "white",
            "ticks": ""
           },
           "bgcolor": "#E5ECF6",
           "radialaxis": {
            "gridcolor": "white",
            "linecolor": "white",
            "ticks": ""
           }
          },
          "scene": {
           "xaxis": {
            "backgroundcolor": "#E5ECF6",
            "gridcolor": "white",
            "gridwidth": 2,
            "linecolor": "white",
            "showbackground": true,
            "ticks": "",
            "zerolinecolor": "white"
           },
           "yaxis": {
            "backgroundcolor": "#E5ECF6",
            "gridcolor": "white",
            "gridwidth": 2,
            "linecolor": "white",
            "showbackground": true,
            "ticks": "",
            "zerolinecolor": "white"
           },
           "zaxis": {
            "backgroundcolor": "#E5ECF6",
            "gridcolor": "white",
            "gridwidth": 2,
            "linecolor": "white",
            "showbackground": true,
            "ticks": "",
            "zerolinecolor": "white"
           }
          },
          "shapedefaults": {
           "line": {
            "color": "#2a3f5f"
           }
          },
          "ternary": {
           "aaxis": {
            "gridcolor": "white",
            "linecolor": "white",
            "ticks": ""
           },
           "baxis": {
            "gridcolor": "white",
            "linecolor": "white",
            "ticks": ""
           },
           "bgcolor": "#E5ECF6",
           "caxis": {
            "gridcolor": "white",
            "linecolor": "white",
            "ticks": ""
           }
          },
          "title": {
           "x": 0.05
          },
          "xaxis": {
           "automargin": true,
           "gridcolor": "white",
           "linecolor": "white",
           "ticks": "",
           "title": {
            "standoff": 15
           },
           "zerolinecolor": "white",
           "zerolinewidth": 2
          },
          "yaxis": {
           "automargin": true,
           "gridcolor": "white",
           "linecolor": "white",
           "ticks": "",
           "title": {
            "standoff": 15
           },
           "zerolinecolor": "white",
           "zerolinewidth": 2
          }
         }
        }
       }
      },
      "text/html": "<div>                            <div id=\"98c83046-ae90-4774-9787-341752aa69ac\" class=\"plotly-graph-div\" style=\"height:525px; width:100%;\"></div>            <script type=\"text/javascript\">                require([\"plotly\"], function(Plotly) {                    window.PLOTLYENV=window.PLOTLYENV || {};                                    if (document.getElementById(\"98c83046-ae90-4774-9787-341752aa69ac\")) {                    Plotly.newPlot(                        \"98c83046-ae90-4774-9787-341752aa69ac\",                        [{\"hovertemplate\": \"<b>%{hovertext}</b><br><br>x=%{x}<br>y=%{y}<br>z=%{z}<extra></extra>\", \"hovertext\": [\"lung edema\", \"thrombocytopenia\", \"sepsis\", \"back injury\", \"glomerulonephritis\", \"duodenal ulcer\", \"leucopenia\", \"perirectal abscess\", \"fungal disease\", \"heart attack\", \"diverticulosis\", \"kidney failure\", \"cardiomyopathy\", \"rhabdomyolysis\", \"psychosexual disorder\", \"pleural effusion\", \"soft tissue infection\", \"dental abscess\", \"bruxism\", \"acute myeloblastic leukemia\", \"esophagitis\", \"hyperparathyroidism\", \"cardiac disease\", \"hip fracture\", \"carpal tunnel\", \"renal tubular acidosis\", \"rotator cuff syndrome\", \"haemorrhage intracranial\", \"cerebral vascular disorder\", \"right heart failure\", \"colitis pseudomembranous\", \"dermatitis seborrheic\", \"rectal polyp\", \"hematoma subdural\", \"labyrinthitis\", \"bronchiectasis\", \"furuncle\", \"polyarthritis\", \"cutaneous mycosis\", \"fibroids\", \"empyema\", \"uterine bleeding\", \"menstrual disorder\", \"sacroiliitis\"], \"legendgroup\": \"\", \"marker\": {\"color\": \"#636efa\", \"symbol\": \"circle\"}, \"mode\": \"markers\", \"name\": \"\", \"scene\": \"scene\", \"showlegend\": false, \"type\": \"scatter3d\", \"x\": [8.517420768737793, 8.487373352050781, 9.54572868347168, 8.647459030151367, 8.667710304260254, 8.463459968566895, 8.571918487548828, 7.880516529083252, 7.553016185760498, 10.003363609313965, 9.792073249816895, 9.183846473693848, 9.660486221313477, 7.974643230438232, 7.333705902099609, 9.060749053955078, 7.881547927856445, 8.697545051574707, 9.20366096496582, 8.879583358764648, 9.65301513671875, 8.719328880310059, 7.65158224105835, 7.910451412200928, 9.37780475616455, 8.232478141784668, 9.117484092712402, 8.26307487487793, 9.33994197845459, 8.762528419494629, 8.625632286071777, 9.00478458404541, 9.075024604797363, 7.748952865600586, 8.619193077087402, 8.122062683105469, 7.715686798095703, 8.215052604675293, 8.869233131408691, 8.272638320922852, 9.571152687072754, 8.592938423156738, 8.079720497131348, 9.358086585998535], \"y\": [-8.615478515625, -5.9763054847717285, -7.133511066436768, -7.029793739318848, -8.249544143676758, -8.040066719055176, -6.0553131103515625, -8.243352890014648, -6.779605865478516, -6.968067169189453, -7.281404972076416, -6.262465476989746, -6.799370765686035, -7.0032572746276855, -7.532766342163086, -8.137173652648926, -7.274621486663818, -7.724730491638184, -8.44250202178955, -6.2312774658203125, -7.641605854034424, -7.06192684173584, -7.838241100311279, -8.161953926086426, -6.766943454742432, -6.607809543609619, -7.605106353759766, -7.644253253936768, -7.863330841064453, -7.880009651184082, -6.838150501251221, -7.725546836853027, -7.194462299346924, -7.191514492034912, -6.794079780578613, -7.632844924926758, -7.4725446701049805, -7.130485534667969, -7.490933418273926, -7.702115058898926, -7.338724613189697, -7.419330596923828, -6.591592788696289, -7.014984130859375], \"z\": [10.617607116699219, 10.70125961303711, 11.851547241210938, 9.8737154006958, 10.297748565673828, 11.86723518371582, 11.310051918029785, 11.336493492126465, 10.512178421020508, 10.736774444580078, 10.071404457092285, 11.237555503845215, 10.296622276306152, 11.888490676879883, 11.203221321105957, 11.48414421081543, 10.103211402893066, 9.81450080871582, 10.830026626586914, 10.947493553161621, 11.508525848388672, 12.05953598022461, 10.306707382202148, 10.76233959197998, 11.35140323638916, 10.324832916259766, 10.169454574584961, 10.248886108398438, 10.80473804473877, 10.998581886291504, 11.548190116882324, 11.944794654846191, 11.044718742370605, 11.376078605651855, 10.569351196289062, 11.695953369140625, 10.69489860534668, 11.113765716552734, 11.442052841186523, 11.160189628601074, 10.627494812011719, 10.714520454406738, 11.093828201293945, 10.467702865600586]}],                        {\"legend\": {\"tracegroupgap\": 0}, \"margin\": {\"t\": 60}, \"scene\": {\"domain\": {\"x\": [0.0, 1.0], \"y\": [0.0, 1.0]}, \"xaxis\": {\"title\": {\"text\": \"x\"}}, \"yaxis\": {\"title\": {\"text\": \"y\"}}, \"zaxis\": {\"title\": {\"text\": \"z\"}}}, \"template\": {\"data\": {\"bar\": [{\"error_x\": {\"color\": \"#2a3f5f\"}, \"error_y\": {\"color\": \"#2a3f5f\"}, \"marker\": {\"line\": {\"color\": \"#E5ECF6\", \"width\": 0.5}}, \"type\": \"bar\"}], \"barpolar\": [{\"marker\": {\"line\": {\"color\": \"#E5ECF6\", \"width\": 0.5}}, \"type\": \"barpolar\"}], \"carpet\": [{\"aaxis\": {\"endlinecolor\": \"#2a3f5f\", \"gridcolor\": \"white\", \"linecolor\": \"white\", \"minorgridcolor\": \"white\", \"startlinecolor\": \"#2a3f5f\"}, \"baxis\": {\"endlinecolor\": \"#2a3f5f\", \"gridcolor\": \"white\", \"linecolor\": \"white\", \"minorgridcolor\": \"white\", \"startlinecolor\": \"#2a3f5f\"}, \"type\": \"carpet\"}], \"choropleth\": [{\"colorbar\": {\"outlinewidth\": 0, \"ticks\": \"\"}, \"type\": \"choropleth\"}], \"contour\": [{\"colorbar\": {\"outlinewidth\": 0, \"ticks\": \"\"}, \"colorscale\": [[0.0, \"#0d0887\"], [0.1111111111111111, \"#46039f\"], [0.2222222222222222, \"#7201a8\"], [0.3333333333333333, \"#9c179e\"], [0.4444444444444444, \"#bd3786\"], [0.5555555555555556, \"#d8576b\"], [0.6666666666666666, \"#ed7953\"], [0.7777777777777778, \"#fb9f3a\"], [0.8888888888888888, \"#fdca26\"], [1.0, \"#f0f921\"]], \"type\": \"contour\"}], \"contourcarpet\": [{\"colorbar\": {\"outlinewidth\": 0, \"ticks\": \"\"}, \"type\": \"contourcarpet\"}], \"heatmap\": [{\"colorbar\": {\"outlinewidth\": 0, \"ticks\": \"\"}, \"colorscale\": [[0.0, \"#0d0887\"], [0.1111111111111111, \"#46039f\"], [0.2222222222222222, \"#7201a8\"], [0.3333333333333333, \"#9c179e\"], [0.4444444444444444, \"#bd3786\"], [0.5555555555555556, \"#d8576b\"], [0.6666666666666666, \"#ed7953\"], [0.7777777777777778, \"#fb9f3a\"], [0.8888888888888888, \"#fdca26\"], [1.0, \"#f0f921\"]], \"type\": \"heatmap\"}], \"heatmapgl\": [{\"colorbar\": {\"outlinewidth\": 0, \"ticks\": \"\"}, \"colorscale\": [[0.0, \"#0d0887\"], [0.1111111111111111, \"#46039f\"], [0.2222222222222222, \"#7201a8\"], [0.3333333333333333, \"#9c179e\"], [0.4444444444444444, \"#bd3786\"], [0.5555555555555556, \"#d8576b\"], [0.6666666666666666, \"#ed7953\"], [0.7777777777777778, \"#fb9f3a\"], [0.8888888888888888, \"#fdca26\"], [1.0, \"#f0f921\"]], \"type\": \"heatmapgl\"}], \"histogram\": [{\"marker\": {\"colorbar\": {\"outlinewidth\": 0, \"ticks\": \"\"}}, \"type\": \"histogram\"}], \"histogram2d\": [{\"colorbar\": {\"outlinewidth\": 0, \"ticks\": \"\"}, \"colorscale\": [[0.0, \"#0d0887\"], [0.1111111111111111, \"#46039f\"], [0.2222222222222222, \"#7201a8\"], [0.3333333333333333, \"#9c179e\"], [0.4444444444444444, \"#bd3786\"], [0.5555555555555556, \"#d8576b\"], [0.6666666666666666, \"#ed7953\"], [0.7777777777777778, \"#fb9f3a\"], [0.8888888888888888, \"#fdca26\"], [1.0, \"#f0f921\"]], \"type\": \"histogram2d\"}], \"histogram2dcontour\": [{\"colorbar\": {\"outlinewidth\": 0, \"ticks\": \"\"}, \"colorscale\": [[0.0, \"#0d0887\"], [0.1111111111111111, \"#46039f\"], [0.2222222222222222, \"#7201a8\"], [0.3333333333333333, \"#9c179e\"], [0.4444444444444444, \"#bd3786\"], [0.5555555555555556, \"#d8576b\"], [0.6666666666666666, \"#ed7953\"], [0.7777777777777778, \"#fb9f3a\"], [0.8888888888888888, \"#fdca26\"], [1.0, \"#f0f921\"]], \"type\": \"histogram2dcontour\"}], \"mesh3d\": [{\"colorbar\": {\"outlinewidth\": 0, \"ticks\": \"\"}, \"type\": \"mesh3d\"}], \"parcoords\": [{\"line\": {\"colorbar\": {\"outlinewidth\": 0, \"ticks\": \"\"}}, \"type\": \"parcoords\"}], \"pie\": [{\"automargin\": true, \"type\": \"pie\"}], \"scatter\": [{\"marker\": {\"colorbar\": {\"outlinewidth\": 0, \"ticks\": \"\"}}, \"type\": \"scatter\"}], \"scatter3d\": [{\"line\": {\"colorbar\": {\"outlinewidth\": 0, \"ticks\": \"\"}}, \"marker\": {\"colorbar\": {\"outlinewidth\": 0, \"ticks\": \"\"}}, \"type\": \"scatter3d\"}], \"scattercarpet\": [{\"marker\": {\"colorbar\": {\"outlinewidth\": 0, \"ticks\": \"\"}}, \"type\": \"scattercarpet\"}], \"scattergeo\": [{\"marker\": {\"colorbar\": {\"outlinewidth\": 0, \"ticks\": \"\"}}, \"type\": \"scattergeo\"}], \"scattergl\": [{\"marker\": {\"colorbar\": {\"outlinewidth\": 0, \"ticks\": \"\"}}, \"type\": \"scattergl\"}], \"scattermapbox\": [{\"marker\": {\"colorbar\": {\"outlinewidth\": 0, \"ticks\": \"\"}}, \"type\": \"scattermapbox\"}], \"scatterpolar\": [{\"marker\": {\"colorbar\": {\"outlinewidth\": 0, \"ticks\": \"\"}}, \"type\": \"scatterpolar\"}], \"scatterpolargl\": [{\"marker\": {\"colorbar\": {\"outlinewidth\": 0, \"ticks\": \"\"}}, \"type\": \"scatterpolargl\"}], \"scatterternary\": [{\"marker\": {\"colorbar\": {\"outlinewidth\": 0, \"ticks\": \"\"}}, \"type\": \"scatterternary\"}], \"surface\": [{\"colorbar\": {\"outlinewidth\": 0, \"ticks\": \"\"}, \"colorscale\": [[0.0, \"#0d0887\"], [0.1111111111111111, \"#46039f\"], [0.2222222222222222, \"#7201a8\"], [0.3333333333333333, \"#9c179e\"], [0.4444444444444444, \"#bd3786\"], [0.5555555555555556, \"#d8576b\"], [0.6666666666666666, \"#ed7953\"], [0.7777777777777778, \"#fb9f3a\"], [0.8888888888888888, \"#fdca26\"], [1.0, \"#f0f921\"]], \"type\": \"surface\"}], \"table\": [{\"cells\": {\"fill\": {\"color\": \"#EBF0F8\"}, \"line\": {\"color\": \"white\"}}, \"header\": {\"fill\": {\"color\": \"#C8D4E3\"}, \"line\": {\"color\": \"white\"}}, \"type\": \"table\"}]}, \"layout\": {\"annotationdefaults\": {\"arrowcolor\": \"#2a3f5f\", \"arrowhead\": 0, \"arrowwidth\": 1}, \"autotypenumbers\": \"strict\", \"coloraxis\": {\"colorbar\": {\"outlinewidth\": 0, \"ticks\": \"\"}}, \"colorscale\": {\"diverging\": [[0, \"#8e0152\"], [0.1, \"#c51b7d\"], [0.2, \"#de77ae\"], [0.3, \"#f1b6da\"], [0.4, \"#fde0ef\"], [0.5, \"#f7f7f7\"], [0.6, \"#e6f5d0\"], [0.7, \"#b8e186\"], [0.8, \"#7fbc41\"], [0.9, \"#4d9221\"], [1, \"#276419\"]], \"sequential\": [[0.0, \"#0d0887\"], [0.1111111111111111, \"#46039f\"], [0.2222222222222222, \"#7201a8\"], [0.3333333333333333, \"#9c179e\"], [0.4444444444444444, \"#bd3786\"], [0.5555555555555556, \"#d8576b\"], [0.6666666666666666, \"#ed7953\"], [0.7777777777777778, \"#fb9f3a\"], [0.8888888888888888, \"#fdca26\"], [1.0, \"#f0f921\"]], \"sequentialminus\": [[0.0, \"#0d0887\"], [0.1111111111111111, \"#46039f\"], [0.2222222222222222, \"#7201a8\"], [0.3333333333333333, \"#9c179e\"], [0.4444444444444444, \"#bd3786\"], [0.5555555555555556, \"#d8576b\"], [0.6666666666666666, \"#ed7953\"], [0.7777777777777778, \"#fb9f3a\"], [0.8888888888888888, \"#fdca26\"], [1.0, \"#f0f921\"]]}, \"colorway\": [\"#636efa\", \"#EF553B\", \"#00cc96\", \"#ab63fa\", \"#FFA15A\", \"#19d3f3\", \"#FF6692\", \"#B6E880\", \"#FF97FF\", \"#FECB52\"], \"font\": {\"color\": \"#2a3f5f\"}, \"geo\": {\"bgcolor\": \"white\", \"lakecolor\": \"white\", \"landcolor\": \"#E5ECF6\", \"showlakes\": true, \"showland\": true, \"subunitcolor\": \"white\"}, \"hoverlabel\": {\"align\": \"left\"}, \"hovermode\": \"closest\", \"mapbox\": {\"style\": \"light\"}, \"paper_bgcolor\": \"white\", \"plot_bgcolor\": \"#E5ECF6\", \"polar\": {\"angularaxis\": {\"gridcolor\": \"white\", \"linecolor\": \"white\", \"ticks\": \"\"}, \"bgcolor\": \"#E5ECF6\", \"radialaxis\": {\"gridcolor\": \"white\", \"linecolor\": \"white\", \"ticks\": \"\"}}, \"scene\": {\"xaxis\": {\"backgroundcolor\": \"#E5ECF6\", \"gridcolor\": \"white\", \"gridwidth\": 2, \"linecolor\": \"white\", \"showbackground\": true, \"ticks\": \"\", \"zerolinecolor\": \"white\"}, \"yaxis\": {\"backgroundcolor\": \"#E5ECF6\", \"gridcolor\": \"white\", \"gridwidth\": 2, \"linecolor\": \"white\", \"showbackground\": true, \"ticks\": \"\", \"zerolinecolor\": \"white\"}, \"zaxis\": {\"backgroundcolor\": \"#E5ECF6\", \"gridcolor\": \"white\", \"gridwidth\": 2, \"linecolor\": \"white\", \"showbackground\": true, \"ticks\": \"\", \"zerolinecolor\": \"white\"}}, \"shapedefaults\": {\"line\": {\"color\": \"#2a3f5f\"}}, \"ternary\": {\"aaxis\": {\"gridcolor\": \"white\", \"linecolor\": \"white\", \"ticks\": \"\"}, \"baxis\": {\"gridcolor\": \"white\", \"linecolor\": \"white\", \"ticks\": \"\"}, \"bgcolor\": \"#E5ECF6\", \"caxis\": {\"gridcolor\": \"white\", \"linecolor\": \"white\", \"ticks\": \"\"}}, \"title\": {\"x\": 0.05}, \"xaxis\": {\"automargin\": true, \"gridcolor\": \"white\", \"linecolor\": \"white\", \"ticks\": \"\", \"title\": {\"standoff\": 15}, \"zerolinecolor\": \"white\", \"zerolinewidth\": 2}, \"yaxis\": {\"automargin\": true, \"gridcolor\": \"white\", \"linecolor\": \"white\", \"ticks\": \"\", \"title\": {\"standoff\": 15}, \"zerolinecolor\": \"white\", \"zerolinewidth\": 2}}}},                        {\"responsive\": true}                    ).then(function(){\n                            \nvar gd = document.getElementById('98c83046-ae90-4774-9787-341752aa69ac');\nvar x = new MutationObserver(function (mutations, observer) {{\n        var display = window.getComputedStyle(gd).display;\n        if (!display || display === 'none') {{\n            console.log([gd, 'removed!']);\n            Plotly.purge(gd);\n            observer.disconnect();\n        }}\n}});\n\n// Listen for the removal of the full notebook cells\nvar notebookContainer = gd.closest('#notebook-container');\nif (notebookContainer) {{\n    x.observe(notebookContainer, {childList: true});\n}}\n\n// Listen for the clearing of the current output cell\nvar outputEl = gd.closest('.output');\nif (outputEl) {{\n    x.observe(outputEl, {childList: true});\n}}\n\n                        })                };                });            </script>        </div>"
     },
     "metadata": {}
    }
   ],
   "source": [
    "\n",
    "fig = px.scatter_3d(x=coo_go[:, 0], y=coo_go[:, 1], z=coo_go[:, 2], hover_name=[se_idx2name[i] for i in se_go_all.index])\n",
    "fig.show()"
   ]
  },
  {
   "source": [
    "### From trained side effect embeddings"
   ],
   "cell_type": "markdown",
   "metadata": {}
  },
  {
   "cell_type": "code",
   "execution_count": 115,
   "metadata": {},
   "outputs": [
    {
     "output_type": "execute_result",
     "data": {
      "text/plain": [
       "(861, 160)"
      ]
     },
     "metadata": {},
     "execution_count": 115
    }
   ],
   "source": [
    "side_effect_embedding.shape"
   ]
  },
  {
   "cell_type": "code",
   "execution_count": 138,
   "metadata": {},
   "outputs": [],
   "source": [
    "# get lower dimentional embeddings from  \n",
    "umap_3d = UMAP(n_components=3, init='random', random_state=8)\n",
    "se_3d_umap = umap_3d.fit_transform(side_effect_embedding)"
   ]
  },
  {
   "cell_type": "code",
   "execution_count": 139,
   "metadata": {},
   "outputs": [
    {
     "output_type": "execute_result",
     "data": {
      "text/plain": [
       "array([[ -0.45648676,  -9.674313  ,   6.0638475 ],\n",
       "       [  1.0522346 , -10.952207  ,   8.1596    ],\n",
       "       [ -2.1450408 , -10.336667  ,   5.8824964 ],\n",
       "       ...,\n",
       "       [  0.17618823,  -9.858621  ,   8.860392  ],\n",
       "       [  0.56307656,  -9.646261  ,   8.165037  ],\n",
       "       [  1.2837819 , -10.469733  ,   7.619313  ]], dtype=float32)"
      ]
     },
     "metadata": {},
     "execution_count": 139
    }
   ],
   "source": [
    "coo = se_3d_umap[data_all['side effect id']]\n",
    "coo"
   ]
  },
  {
   "cell_type": "code",
   "execution_count": 140,
   "metadata": {},
   "outputs": [
    {
     "output_type": "display_data",
     "data": {
      "application/vnd.plotly.v1+json": {
       "config": {
        "plotlyServerURL": "https://plot.ly"
       },
       "data": [
        {
         "hovertemplate": "<b>%{hovertext}</b><br><br>color=C08<br>x=%{x}<br>y=%{y}<br>z=%{z}<extra></extra>",
         "hovertext": [
          "atelectasis",
          "lung edema",
          "apnea",
          "acute respiratory distress syndrome",
          "pneumothorax",
          "respiratory failure",
          "pulmonary hypertension",
          "neumonia",
          "chronic obstructive airway disease",
          "aphonia",
          "pneumonia staphylococcal",
          "lobar pneumonia",
          "pleurisy",
          "hoarseness",
          "aspiration pneumonia",
          "asthma",
          "vocal cord paralysis",
          "epistaxis",
          "nasopharyngitis",
          "rhinitis",
          "embolism pulmonary",
          "pleural pain",
          "cough",
          "bronchitis",
          "bronchial spasm",
          "lung neoplasms",
          "laryngitis",
          "pleural effusion",
          "sinusitis",
          "sleep apnea",
          "allergic rhinitis",
          "dysphonia",
          "acute bronchitis",
          "respiratory alkalosis",
          "choking",
          "bacterial pneumonia",
          "tracheitis",
          "bronchiectasis",
          "hay fever"
         ],
         "legendgroup": "C08",
         "marker": {
          "color": "#636efa",
          "symbol": "circle"
         },
         "mode": "markers",
         "name": "C08",
         "scene": "scene",
         "showlegend": true,
         "type": "scatter3d",
         "x": [
          -0.4564867615699768,
          -2.14504075050354,
          -1.7798982858657837,
          -2.490842342376709,
          -1.6416516304016113,
          -2.626214027404785,
          -0.8200337886810303,
          -1.7798678874969482,
          -1.4462089538574219,
          0.3339887261390686,
          -0.8226432800292969,
          -1.777427315711975,
          1.1317665576934814,
          0.11224858462810516,
          -1.02519690990448,
          0.994182825088501,
          -0.08982548117637634,
          -0.6785569190979004,
          -0.6209231019020081,
          0.4603250026702881,
          -1.627281665802002,
          -0.35988864302635193,
          -0.39877331256866455,
          0.037388551980257034,
          -0.14988771080970764,
          -1.1485967636108398,
          0.2866177558898926,
          -2.3939995765686035,
          0.8067643642425537,
          0.747431755065918,
          0.8862318992614746,
          -0.40655723214149475,
          -0.03012699820101261,
          -1.6617897748947144,
          -0.5536735653877258,
          -1.2864619493484497,
          0.3059017062187195,
          -0.5494384765625,
          1.1752324104309082
         ],
         "y": [
          -9.674312591552734,
          -10.33666706085205,
          -9.749320030212402,
          -11.09742546081543,
          -11.782025337219238,
          -10.425901412963867,
          -9.223654747009277,
          -11.204619407653809,
          -9.45102596282959,
          -10.876229286193848,
          -10.703290939331055,
          -10.92640209197998,
          -9.800341606140137,
          -9.58470344543457,
          -11.550868034362793,
          -10.453996658325195,
          -9.651495933532715,
          -11.752223014831543,
          -10.803751945495605,
          -10.699506759643555,
          -11.71143913269043,
          -11.942306518554688,
          -11.136364936828613,
          -10.633935928344727,
          -10.639565467834473,
          -11.205453872680664,
          -10.477333068847656,
          -10.215594291687012,
          -10.01221752166748,
          -9.516002655029297,
          -10.383216857910156,
          -11.93111515045166,
          -10.053911209106445,
          -10.409250259399414,
          -11.284857749938965,
          -11.346403121948242,
          -9.096668243408203,
          -9.963730812072754,
          -10.543388366699219
         ],
         "z": [
          6.063847541809082,
          5.882496356964111,
          6.169711589813232,
          6.013808250427246,
          6.788546085357666,
          5.906625747680664,
          6.593295574188232,
          6.886569976806641,
          7.64884090423584,
          6.755838871002197,
          7.4977874755859375,
          7.07401180267334,
          8.323662757873535,
          8.512266159057617,
          8.375588417053223,
          7.886649131774902,
          7.616772174835205,
          6.49874210357666,
          7.687490940093994,
          7.727575778961182,
          6.7420172691345215,
          7.468181610107422,
          6.853157043457031,
          8.046919822692871,
          7.990523815155029,
          6.144909858703613,
          7.975246906280518,
          5.772740840911865,
          6.619153022766113,
          8.40074348449707,
          8.049398422241211,
          7.257335662841797,
          8.245346069335938,
          6.7888922691345215,
          8.252253532409668,
          6.1370978355407715,
          7.826285362243652,
          6.124523639678955,
          6.780172348022461
         ]
        },
        {
         "hovertemplate": "<b>%{hovertext}</b><br><br>color=C23<br>x=%{x}<br>y=%{y}<br>z=%{z}<extra></extra>",
         "hovertext": [
          "back ache",
          "apnea",
          "flatulence",
          "bradycardia",
          "bleeding",
          "cerebral infarct",
          "hypoxia",
          "sepsis",
          "flank pain",
          "hypercapnia",
          "leucocytosis",
          "sinus tachycardia",
          "edema",
          "confusion",
          "still birth",
          "anorexia",
          "tremor",
          "hallucination",
          "head ache",
          "erythema",
          "diplopia",
          "enlarged spleen",
          "icterus",
          "sleep disorder",
          "septic shock",
          "aphonia",
          "pain",
          "idiopathic thrombocytopenic purpura",
          "alopecia",
          "rhinorrhea",
          "dizziness",
          "hoarseness",
          "fatigue",
          "diarrhea",
          "tinnitus",
          "muscle spasm",
          "glossodynia",
          "cellulitis",
          "constipated",
          "muscle paresis",
          "deafness",
          "vocal cord paralysis",
          "eye pain",
          "retrocollis",
          "deafness neurosensory",
          "haematoma",
          "bleb",
          "amenorrhea",
          "epistaxis",
          "abdominal pain",
          "chest pain",
          "aching muscles",
          "abscess",
          "loss of consciousness",
          "loss of weight",
          "belching",
          "heart attack",
          "azotaemia",
          "muscle weakness",
          "dyspepsia",
          "asthenia",
          "emesis",
          "paraesthesia",
          "fainting",
          "sneezing",
          "diverticulosis",
          "breast pain",
          "ischias",
          "aching joints",
          "colonic polyp",
          "extrasystoles ventricular",
          "incontinence",
          "cough",
          "nocturia",
          "spinning sensation",
          "polyp",
          "enlarged liver",
          "coma",
          "convulsion",
          "hernia",
          "dysarthria",
          "aphasia",
          "amnesia",
          "dehydration",
          "ataxia",
          "cerebral haemorrhage",
          "facial palsy",
          "nausea",
          "bilirubinaemia",
          "cervicalgia",
          "neuralgia",
          "hemiplegia",
          "emphysema",
          "postherpetic neuralgia",
          "blindness",
          "cardiac murmur",
          "proteinuria",
          "weight gain",
          "ecchymoses",
          "tardive dyskinesia",
          "apraxia",
          "scar",
          "pain pelvic",
          "haematochezia",
          "dysphonia",
          "dysuria",
          "sinus bradycardia",
          "atrial ectopic beats",
          "fistula",
          "dysaesthesia",
          "arrhythmia",
          "musculoskeletal pain",
          "ulcer",
          "sick sinus syndrome",
          "bundle branch block",
          "cramp",
          "atrial flutter",
          "light sensitivity",
          "hemiparesis",
          "bacteraemia",
          "ventricular fibrillation",
          "gangrene",
          "cirrhosis",
          "polyuria",
          "obesity",
          "haematemesis",
          "granuloma",
          "failure to thrive",
          "shoulder pain",
          "supraventricular tachycardia",
          "cyst",
          "abdominal hernia",
          "subarachnoid haemorrhage",
          "umbilical hernia",
          "palsies",
          "face pain",
          "atrioventricular block",
          "breakthrough bleeding",
          "seroma",
          "scotoma",
          "hyperuricaemia",
          "hyperaesthesia",
          "diaphragmatic hernia",
          "hiccough",
          "volvulus",
          "left ventricular hypertrophy",
          "anosmia",
          "incisional hernia",
          "splenic infarction",
          "paraplegia",
          "bradyarrhythmia",
          "pigmentation disorder",
          "empyema",
          "neurogenic bladder",
          "uterine bleeding",
          "hyperacusia",
          "food intolerance",
          "anisocoria",
          "status epilepticus",
          "tinea pedis"
         ],
         "legendgroup": "C23",
         "marker": {
          "color": "#EF553B",
          "symbol": "circle"
         },
         "mode": "markers",
         "name": "C23",
         "scene": "scene",
         "showlegend": true,
         "type": "scatter3d",
         "x": [
          1.0522346496582031,
          -1.7798982858657837,
          -0.3136703372001648,
          -2.781775712966919,
          -2.0527729988098145,
          -1.7427232265472412,
          -2.3252248764038086,
          -2.6230502128601074,
          1.034185767173767,
          -1.6592576503753662,
          -1.6558923721313477,
          -1.5976285934448242,
          -0.979498565196991,
          -1.5029845237731934,
          -1.7045302391052246,
          -1.1182416677474976,
          0.008410279639065266,
          -0.57975172996521,
          0.13137389719486237,
          -0.856624960899353,
          0.20808348059654236,
          -2.231196880340576,
          -2.5494003295898438,
          0.9840826392173767,
          -2.4049806594848633,
          0.3339887261390686,
          0.2716335356235504,
          -1.4798390865325928,
          0.003597289090976119,
          -1.0198630094528198,
          0.18954503536224365,
          0.11224858462810516,
          -0.5278235077857971,
          -1.0155774354934692,
          0.60625159740448,
          0.8895118236541748,
          0.008536260575056076,
          0.22646376490592957,
          -0.5116865038871765,
          -0.9240634441375732,
          -1.2629756927490234,
          -0.08982548117637634,
          -0.13566173613071442,
          0.7021968364715576,
          -2.2358529567718506,
          -2.370570421218872,
          -1.8507707118988037,
          0.7206020951271057,
          -0.6785569190979004,
          -1.2426304817199707,
          -0.3858027756214142,
          0.06271371245384216,
          0.9572637677192688,
          -0.9007563591003418,
          0.38164153695106506,
          0.2594285309314728,
          -1.6540913581848145,
          -0.038866523653268814,
          -1.229650616645813,
          0.32987910509109497,
          -0.6332518458366394,
          -0.8219772577285767,
          -0.1499241292476654,
          -0.7915072441101074,
          0.5965089201927185,
          0.08405067026615143,
          1.1796742677688599,
          0.16019783914089203,
          0.12322957068681717,
          0.6265535354614258,
          -2.4782707691192627,
          -0.6409700512886047,
          -0.39877331256866455,
          0.4753735661506653,
          -0.06931997090578079,
          0.03231964260339737,
          -2.255283832550049,
          -1.8558887243270874,
          -1.8865286111831665,
          -0.21600717306137085,
          -0.6429532766342163,
          -1.8162468671798706,
          0.35056209564208984,
          -1.2508180141448975,
          -1.8742035627365112,
          -2.0639901161193848,
          0.2917076051235199,
          -0.6127132177352905,
          -2.584991693496704,
          0.5962311029434204,
          -0.03938084468245506,
          -1.581364393234253,
          0.20482218265533447,
          -1.2057616710662842,
          -1.1443638801574707,
          0.4700954854488373,
          -2.4425015449523926,
          0.7093054056167603,
          0.19743911921977997,
          -0.09842903912067413,
          -0.7883079051971436,
          0.48493441939353943,
          0.8250781893730164,
          -0.897244930267334,
          -0.40655723214149475,
          -0.27621662616729736,
          -1.9957292079925537,
          -2.2916688919067383,
          0.9141037464141846,
          -0.8547872304916382,
          -1.979689359664917,
          0.24554193019866943,
          0.19116458296775818,
          -1.7053357362747192,
          0.05142374336719513,
          0.5908573865890503,
          -2.0519659519195557,
          -0.29391273856163025,
          -0.7034359574317932,
          -1.96603524684906,
          -2.610544443130493,
          -1.92634117603302,
          -0.19771498441696167,
          -0.7469295859336853,
          -0.13584300875663757,
          -1.956803560256958,
          -0.051671791821718216,
          -1.3227570056915283,
          0.4157871901988983,
          -1.4683300256729126,
          0.5930720567703247,
          0.012307596392929554,
          -2.351963758468628,
          0.6034588813781738,
          -1.3019648790359497,
          0.8500498533248901,
          -1.9973037242889404,
          1.4159877300262451,
          0.03198378160595894,
          -0.8499661684036255,
          -2.3965466022491455,
          -0.9777360558509827,
          0.4772092401981354,
          -1.7771286964416504,
          0.9396647214889526,
          -1.0597128868103027,
          -0.4574955701828003,
          -0.5410292148590088,
          -2.302802085876465,
          -1.65223228931427,
          -2.3675129413604736,
          -1.2755780220031738,
          -2.1714670658111572,
          -0.37395480275154114,
          -0.29097381234169006,
          0.21560949087142944,
          -0.4661838114261627,
          -0.6327197551727295,
          -1.778552770614624,
          0.006439438089728355
         ],
         "y": [
          -10.9522066116333,
          -9.749320030212402,
          -10.084497451782227,
          -10.214163780212402,
          -10.919429779052734,
          -9.461724281311035,
          -10.821505546569824,
          -11.177872657775879,
          -10.268007278442383,
          -10.046619415283203,
          -10.053464889526367,
          -10.10807991027832,
          -11.611308097839355,
          -11.759516716003418,
          -10.156794548034668,
          -11.943920135498047,
          -11.57196044921875,
          -9.669944763183594,
          -11.843870162963867,
          -10.647326469421387,
          -11.11007022857666,
          -10.98536205291748,
          -10.423008918762207,
          -10.694100379943848,
          -11.465375900268555,
          -10.876229286193848,
          -10.238287925720215,
          -11.534371376037598,
          -10.795021057128906,
          -9.531251907348633,
          -11.762463569641113,
          -9.58470344543457,
          -11.944619178771973,
          -11.819250106811523,
          -11.450161933898926,
          -11.207167625427246,
          -11.136245727539062,
          -10.665863037109375,
          -11.4937162399292,
          -10.858274459838867,
          -11.506463050842285,
          -9.651495933532715,
          -11.944625854492188,
          -10.051456451416016,
          -10.486540794372559,
          -9.98678970336914,
          -10.399861335754395,
          -11.227476119995117,
          -11.752223014831543,
          -11.473416328430176,
          -11.54848861694336,
          -11.86346435546875,
          -10.928184509277344,
          -11.87646198272705,
          -11.429070472717285,
          -10.93773078918457,
          -9.392151832580566,
          -9.95086669921875,
          -9.449601173400879,
          -10.916831970214844,
          -11.750581741333008,
          -11.795648574829102,
          -12.024530410766602,
          -11.60047721862793,
          -10.066699028015137,
          -10.315526962280273,
          -10.168841361999512,
          -10.525075912475586,
          -11.59302806854248,
          -9.225489616394043,
          -9.922647476196289,
          -9.512383460998535,
          -11.136364936828613,
          -9.602110862731934,
          -9.520130157470703,
          -10.603832244873047,
          -11.17422866821289,
          -9.99420166015625,
          -11.91132640838623,
          -9.847481727600098,
          -11.190425872802734,
          -11.904333114624023,
          -11.302107810974121,
          -11.433732986450195,
          -11.914863586425781,
          -10.64505672454834,
          -9.789316177368164,
          -11.750221252441406,
          -10.53518009185791,
          -10.284799575805664,
          -11.059426307678223,
          -9.53743839263916,
          -10.945927619934082,
          -11.389463424682617,
          -11.687843322753906,
          -10.278478622436523,
          -10.74411678314209,
          -10.932774543762207,
          -11.167481422424316,
          -11.104588508605957,
          -9.319738388061523,
          -10.290934562683105,
          -10.875153541564941,
          -10.516789436340332,
          -11.93111515045166,
          -10.391417503356934,
          -9.531017303466797,
          -9.942656517028809,
          -10.875334739685059,
          -9.525203704833984,
          -9.729181289672852,
          -10.230302810668945,
          -9.459678649902344,
          -9.601816177368164,
          -9.955551147460938,
          -9.902709007263184,
          -9.511204719543457,
          -12.130799293518066,
          -10.47418212890625,
          -10.809793472290039,
          -11.222611427307129,
          -9.761382102966309,
          -10.518774032592773,
          -10.591636657714844,
          -10.197662353515625,
          -10.716464042663574,
          -10.985489845275879,
          -10.856359481811523,
          -10.331753730773926,
          -11.397032737731934,
          -10.296557426452637,
          -9.298397064208984,
          -10.687744140625,
          -9.666594505310059,
          -9.450298309326172,
          -9.989070892333984,
          -9.640201568603516,
          -10.521428108215332,
          -10.598544120788574,
          -11.841463088989258,
          -10.38199520111084,
          -9.48241901397705,
          -9.406782150268555,
          -9.893577575683594,
          -10.217612266540527,
          -11.029030799865723,
          -11.828950881958008,
          -10.344095230102539,
          -11.201339721679688,
          -10.485865592956543,
          -9.956857681274414,
          -9.408742904663086,
          -10.682270050048828,
          -9.507701873779297,
          -10.314750671386719,
          -11.460865020751953,
          -12.094359397888184,
          -10.230212211608887,
          -11.827749252319336,
          -10.370674133300781
         ],
         "z": [
          8.159600257873535,
          6.169711589813232,
          6.8946051597595215,
          6.2083539962768555,
          5.684117317199707,
          6.937858581542969,
          6.146106719970703,
          6.360445022583008,
          7.546599388122559,
          6.618396759033203,
          5.895596504211426,
          6.496389389038086,
          6.580023288726807,
          7.308889865875244,
          6.183931350708008,
          6.8987345695495605,
          8.72897720336914,
          7.5206618309021,
          7.8218464851379395,
          5.855896949768066,
          7.930898189544678,
          6.23952579498291,
          5.579539775848389,
          8.302156448364258,
          6.813173770904541,
          6.755838871002197,
          6.584010124206543,
          6.6081929206848145,
          6.071065902709961,
          6.883742809295654,
          7.762371063232422,
          8.512266159057617,
          7.140621662139893,
          6.745491027832031,
          8.383116722106934,
          8.455309867858887,
          6.713962078094482,
          6.558393478393555,
          7.064058780670166,
          7.503183841705322,
          7.731963157653809,
          7.616772174835205,
          7.759361267089844,
          9.27010726928711,
          6.129061222076416,
          6.176044464111328,
          5.6066203117370605,
          7.824184894561768,
          6.49874210357666,
          6.819295406341553,
          7.520624160766602,
          7.387248516082764,
          6.773410797119141,
          6.911924362182617,
          7.227038860321045,
          7.559443473815918,
          7.299278736114502,
          5.917312145233154,
          6.765872001647949,
          7.5596184730529785,
          7.307515621185303,
          6.632416725158691,
          7.587844371795654,
          7.542753219604492,
          8.46269416809082,
          6.047677516937256,
          6.801856994628906,
          7.249052047729492,
          7.549073696136475,
          8.00292682647705,
          6.07705545425415,
          7.95050048828125,
          6.853157043457031,
          8.239500045776367,
          7.324906349182129,
          7.17781925201416,
          6.320181846618652,
          7.2064104080200195,
          7.461910247802734,
          7.392614841461182,
          8.467262268066406,
          7.488601207733154,
          8.766230583190918,
          6.5500335693359375,
          7.486159324645996,
          5.706861972808838,
          6.287980556488037,
          6.6306867599487305,
          5.553191184997559,
          8.628395080566406,
          8.231616973876953,
          6.706362247467041,
          7.749490261077881,
          7.34315824508667,
          6.832739353179932,
          6.86573600769043,
          6.512929916381836,
          8.245367050170898,
          7.689908981323242,
          9.410713195800781,
          7.540014266967773,
          6.445393085479736,
          7.874607563018799,
          7.909569263458252,
          7.257335662841797,
          8.561127662658691,
          6.3922810554504395,
          6.013701915740967,
          6.202822208404541,
          7.887212753295898,
          6.139448165893555,
          6.590996742248535,
          6.68905782699585,
          6.343007564544678,
          6.441847324371338,
          8.276108741760254,
          6.310085296630859,
          7.372406005859375,
          6.988894462585449,
          5.869100093841553,
          6.424165725708008,
          6.834343910217285,
          7.358009338378906,
          8.17131519317627,
          8.464421272277832,
          6.101693153381348,
          6.95884895324707,
          7.051939487457275,
          8.552390098571777,
          7.216960906982422,
          7.028174877166748,
          6.949954032897949,
          6.178011417388916,
          8.314596176147461,
          7.0529866218566895,
          7.035123825073242,
          6.5140838623046875,
          7.710670471191406,
          7.836837291717529,
          6.692845821380615,
          5.826951026916504,
          7.179271697998047,
          8.122204780578613,
          6.900669097900391,
          9.042795181274414,
          5.7750935554504395,
          7.533065319061279,
          8.819714546203613,
          6.527247905731201,
          6.297610282897949,
          6.180278301239014,
          6.5769219398498535,
          6.536788463592529,
          8.092269897460938,
          8.904559135437012,
          9.024991035461426,
          7.09804105758667,
          7.134035587310791,
          7.543804168701172,
          9.012866973876953
         ]
        },
        {
         "hovertemplate": "<b>%{hovertext}</b><br><br>color=C18<br>x=%{x}<br>y=%{y}<br>z=%{z}<extra></extra>",
         "hovertext": [
          "acidosis",
          "hyperglycaemia",
          "hypoglycaemia",
          "hypomagnesaemia",
          "blood calcium decreased",
          "metabolic acidosis",
          "malnourished",
          "nephrocalcinosis",
          "hypokalaemia",
          "osteoporosis",
          "osteomalacia",
          "diabetic acidosis",
          "diabetes",
          "iron deficiency anaemia",
          "dehydration",
          "elevated cholesterol",
          "hyperlipaemia",
          "metabolic encephalopathy",
          "hypophosphataemia",
          "renal tubular acidosis",
          "hypernatraemia",
          "glucose intolerance",
          "obesity",
          "glucosuria",
          "gouty arthritis",
          "respiratory alkalosis",
          "gout",
          "ketoacidosis",
          "vitamin d deficiency",
          "hepatic encephalopathy",
          "vitamin b 12 deficiency",
          "hyperphosphatemia"
         ],
         "legendgroup": "C18",
         "marker": {
          "color": "#00cc96",
          "symbol": "circle"
         },
         "mode": "markers",
         "name": "C18",
         "scene": "scene",
         "showlegend": true,
         "type": "scatter3d",
         "x": [
          -2.61364483833313,
          -0.9991528987884521,
          -0.6709632873535156,
          -2.3517630100250244,
          -1.3489110469818115,
          -2.6724188327789307,
          -0.4041363000869751,
          0.28621694445610046,
          -1.6118671894073486,
          0.9695917963981628,
          0.9693503379821777,
          -0.47377485036849976,
          -0.5233688354492188,
          -0.6733477115631104,
          -1.2508180141448975,
          0.8907414078712463,
          -0.17221739888191223,
          -1.8209887742996216,
          -1.3934143781661987,
          -1.6866730451583862,
          -1.2343864440917969,
          0.030872687697410583,
          -0.13584300875663757,
          -0.3846309781074524,
          0.24248403310775757,
          -1.6617897748947144,
          0.5098844766616821,
          -0.47448888421058655,
          1.050512671470642,
          -2.554447889328003,
          0.659813404083252,
          -0.7491102814674377
         ],
         "y": [
          -11.111387252807617,
          -10.302153587341309,
          -11.728074073791504,
          -10.15218734741211,
          -11.317981719970703,
          -10.927145957946777,
          -11.360116958618164,
          -9.068076133728027,
          -11.006464004516602,
          -10.222761154174805,
          -10.938252449035645,
          -10.903352737426758,
          -10.232964515686035,
          -10.371970176696777,
          -11.433732986450195,
          -10.588127136230469,
          -10.783430099487305,
          -10.26338005065918,
          -11.254435539245605,
          -10.71177864074707,
          -9.64415454864502,
          -10.748937606811523,
          -10.197662353515625,
          -9.710928916931152,
          -8.961628913879395,
          -10.409250259399414,
          -10.488252639770508,
          -11.135517120361328,
          -10.79575252532959,
          -10.820703506469727,
          -10.499560356140137,
          -9.998891830444336
         ],
         "z": [
          6.834665298461914,
          5.914812088012695,
          7.144217014312744,
          5.692327499389648,
          5.767812252044678,
          6.595713138580322,
          7.510551929473877,
          7.809082508087158,
          6.613087177276611,
          7.065596580505371,
          6.310234546661377,
          8.671361923217773,
          8.163093566894531,
          8.731612205505371,
          6.5500335693359375,
          8.31138801574707,
          8.458940505981445,
          6.573238849639893,
          5.706248760223389,
          6.716936111450195,
          6.278436183929443,
          8.413652420043945,
          8.464421272277832,
          8.210494041442871,
          8.178949356079102,
          6.7888922691345215,
          6.284822940826416,
          8.750843048095703,
          6.260266304016113,
          6.256347179412842,
          6.259829044342041,
          6.750096321105957
         ]
        },
        {
         "hovertemplate": "<b>%{hovertext}</b><br><br>color=C06<br>x=%{x}<br>y=%{y}<br>z=%{z}<extra></extra>",
         "hovertext": [
          "peliosis",
          "peritonitis",
          "adynamic ileus",
          "appendicitis",
          "intestinal perforation",
          "disease of liver",
          "acute pancreatitis",
          "haemorrhoids",
          "esophageal spasm",
          "erosive gastritis",
          "gastroenteritis",
          "duodenal ulcer",
          "bleeding hemorrhoids",
          "anal fissure",
          "cholangitis",
          "hepatitis",
          "cholelithiasis",
          "hepatic neoplasia",
          "colitis ischemic",
          "small intestinal obstruction",
          "diverticulosis",
          "cholecystitis",
          "enlarged liver",
          "mucositis oral",
          "deglutition disorder",
          "gastric inflammation",
          "esophagitis",
          "proctitis",
          "pancreatitis",
          "haematochezia",
          "fatty liver",
          "duodenitis",
          "gastroduodenal ulcer",
          "hepatic failure",
          "enteritis",
          "colitis",
          "haematemesis",
          "diverticulitis",
          "gastric ulcer",
          "pancreatic cancer",
          "liver abscess",
          "portal hypertension",
          "reflux esophagitis",
          "hepatitis b",
          "hepatorenal syndrome",
          "hepatitis c",
          "inflammatory bowel disease",
          "gastric cancer",
          "volvulus",
          "hepatic encephalopathy",
          "esophageal cancer",
          "enterocolitis",
          "chronic hepatitis",
          "pancreatic pseudocyst",
          "esophageal stenosis"
         ],
         "legendgroup": "C06",
         "marker": {
          "color": "#ab63fa",
          "symbol": "circle"
         },
         "mode": "markers",
         "name": "C06",
         "scene": "scene",
         "showlegend": true,
         "type": "scatter3d",
         "x": [
          -2.5748555660247803,
          -2.6177237033843994,
          -1.8037807941436768,
          1.3651759624481201,
          -2.5505824089050293,
          -2.3684263229370117,
          -0.6671006083488464,
          -0.48424720764160156,
          0.1473146677017212,
          -1.2598687410354614,
          -0.11890240013599396,
          -0.5344993472099304,
          -0.028163865208625793,
          0.3610999584197998,
          -1.8237491846084595,
          -2.1500399112701416,
          -0.3879219889640808,
          0.8588289022445679,
          -1.0687419176101685,
          -0.16106432676315308,
          0.08405067026615143,
          -0.6615203619003296,
          -2.255283832550049,
          -0.45189279317855835,
          -1.233660101890564,
          0.6089131832122803,
          -0.844550609588623,
          -0.813453197479248,
          -0.9208466410636902,
          -0.897244930267334,
          -0.3073425889015198,
          -0.6995784640312195,
          0.4464692771434784,
          -2.386152982711792,
          -1.3707469701766968,
          -0.5789368152618408,
          -1.956803560256958,
          -0.3346174955368042,
          -0.1844366192817688,
          -0.9504315853118896,
          -2.301527500152588,
          -2.4230198860168457,
          0.11574047058820724,
          -1.108634114265442,
          -2.1094741821289062,
          -0.5988250374794006,
          -0.4680880606174469,
          -0.733613133430481,
          0.9396647214889526,
          -2.554447889328003,
          -0.769801914691925,
          -2.545794725418091,
          -0.10037723928689957,
          -0.8722755312919617,
          0.0013060728088021278
         ],
         "y": [
          -10.526556015014648,
          -10.676372528076172,
          -10.41298770904541,
          -10.210692405700684,
          -11.160083770751953,
          -11.597676277160645,
          -10.157072067260742,
          -10.487967491149902,
          -10.686594009399414,
          -10.436236381530762,
          -9.835912704467773,
          -9.773999214172363,
          -9.563455581665039,
          -11.514524459838867,
          -11.167136192321777,
          -11.12330150604248,
          -9.403402328491211,
          -9.733481407165527,
          -9.835830688476562,
          -10.436915397644043,
          -10.315526962280273,
          -9.364059448242188,
          -11.17422866821289,
          -11.372477531433105,
          -11.327681541442871,
          -9.745879173278809,
          -11.437737464904785,
          -11.563244819641113,
          -9.593222618103027,
          -10.516789436340332,
          -10.848518371582031,
          -9.740558624267578,
          -9.679651260375977,
          -10.76202392578125,
          -10.937674522399902,
          -11.433999061584473,
          -10.716464042663574,
          -10.109197616577148,
          -9.409051895141602,
          -10.528130531311035,
          -10.336710929870605,
          -11.103032112121582,
          -9.970821380615234,
          -10.867114067077637,
          -10.611573219299316,
          -10.873550415039062,
          -10.58150863647461,
          -9.607244491577148,
          -10.217612266540527,
          -10.820703506469727,
          -11.03646469116211,
          -10.503838539123535,
          -10.761373519897461,
          -10.173112869262695,
          -10.123948097229004
         ],
         "z": [
          5.742188453674316,
          6.326588153839111,
          6.337986469268799,
          8.306068420410156,
          6.133532524108887,
          6.891491413116455,
          6.9943108558654785,
          8.591187477111816,
          7.57135009765625,
          7.819777965545654,
          6.248191833496094,
          6.517755031585693,
          7.040066719055176,
          7.940287113189697,
          6.090508937835693,
          6.644296169281006,
          6.993441104888916,
          6.748793601989746,
          7.283303260803223,
          5.899968147277832,
          6.047677516937256,
          6.2855987548828125,
          6.320181846618652,
          5.922353267669678,
          7.397035121917725,
          7.1782355308532715,
          7.4828901290893555,
          7.614775657653809,
          7.1157612800598145,
          7.909569263458252,
          7.833817005157471,
          7.073529243469238,
          8.058274269104004,
          5.828595161437988,
          6.27533483505249,
          6.9203057289123535,
          6.101693153381348,
          6.600087642669678,
          6.903117656707764,
          6.925118923187256,
          6.043768882751465,
          6.692818641662598,
          7.434298038482666,
          6.985574722290039,
          5.6427321434021,
          7.581258773803711,
          7.067674160003662,
          6.646973133087158,
          9.042795181274414,
          6.256347179412842,
          7.629321575164795,
          5.776900768280029,
          8.630050659179688,
          7.574361324310303,
          8.16928482055664
         ]
        },
        {
         "hovertemplate": "<b>%{hovertext}</b><br><br>color=C14<br>x=%{x}<br>y=%{y}<br>z=%{z}<extra></extra>",
         "hovertext": [
          "peliosis",
          "bradycardia",
          "asystole",
          "cerebral infarct",
          "pulmonary hypertension",
          "arterial pressure nos decreased",
          "sinus tachycardia",
          "arterial pressure nos increased",
          "haemorrhoids",
          "deep vein thromboses",
          "bleeding hemorrhoids",
          "heart attack",
          "embolism pulmonary",
          "colitis ischemic",
          "arteriosclerotic heart disease",
          "high blood pressure",
          "arteriosclerosis",
          "extrasystoles ventricular",
          "diabetic retinopathy",
          "aneurysm",
          "superficial thrombophlebitis",
          "angiitis",
          "cardiomyopathy",
          "cardiac decompensation",
          "phlebitis",
          "apoplexy",
          "transient ischaemic attack",
          "cerebral haemorrhage",
          "atherosclerosis",
          "aortic regurgitation",
          "pericardial effusion",
          "cardiac disease",
          "mitral valve prolapse",
          "embolism",
          "sinus bradycardia",
          "atrial ectopic beats",
          "phlebothrombosis",
          "arrhythmia",
          "angioedema",
          "sick sinus syndrome",
          "cardiac failure",
          "bundle branch block",
          "atrial flutter",
          "multiple myeloma",
          "myocarditis",
          "endocarditis",
          "ventricular fibrillation",
          "cardiac tamponade",
          "thrombophlebitis",
          "supraventricular tachycardia",
          "cor pulmonale",
          "right heart failure",
          "subarachnoid haemorrhage",
          "cerebral ischaemia",
          "aortic stenosis",
          "atrioventricular block",
          "carotid artery stenosis",
          "essential hypertension",
          "congenital heart disease",
          "malignant hypertension",
          "pericarditis",
          "aortic aneurysm",
          "temporal arteritis",
          "varicose vein",
          "left ventricular hypertrophy",
          "splenic infarction",
          "bradyarrhythmia",
          "venous insufficiency"
         ],
         "legendgroup": "C14",
         "marker": {
          "color": "#FFA15A",
          "symbol": "circle"
         },
         "mode": "markers",
         "name": "C14",
         "scene": "scene",
         "showlegend": true,
         "type": "scatter3d",
         "x": [
          -2.5748555660247803,
          -2.781775712966919,
          -2.634963035583496,
          -1.7427232265472412,
          -0.8200337886810303,
          -1.5873260498046875,
          -1.5976285934448242,
          -0.2804517447948456,
          -0.48424720764160156,
          -0.5367118716239929,
          -0.028163865208625793,
          -1.6540913581848145,
          -1.627281665802002,
          -1.0687419176101685,
          -1.3532347679138184,
          -1.7737655639648438,
          -1.273440957069397,
          -2.4782707691192627,
          -0.8503071665763855,
          0.41691529750823975,
          -0.40892982482910156,
          -0.6864031553268433,
          -0.8416287302970886,
          -1.9752166271209717,
          -0.5866822600364685,
          -1.5162575244903564,
          -1.105678677558899,
          -2.0639901161193848,
          -1.4873839616775513,
          -1.555108666419983,
          -1.4988840818405151,
          -0.6359930634498596,
          -0.4985421597957611,
          -1.8936926126480103,
          -1.9957292079925537,
          -2.2916688919067383,
          -0.7253621816635132,
          -1.979689359664917,
          -1.2771971225738525,
          -1.7053357362747192,
          -2.105241298675537,
          0.05142374336719513,
          -2.0519659519195557,
          -0.9656999707221985,
          -2.1208133697509766,
          -2.2441928386688232,
          -2.610544443130493,
          -2.3675520420074463,
          -1.5648592710494995,
          -1.4683300256729126,
          -0.20120000839233398,
          -2.2847959995269775,
          -2.351963758468628,
          -0.9762229919433594,
          -1.2640072107315063,
          -1.9973037242889404,
          -1.2384942770004272,
          -1.0579824447631836,
          -0.81320720911026,
          -1.544710636138916,
          -1.7223470211029053,
          -0.7320088744163513,
          -0.27299338579177856,
          0.07940744608640671,
          -1.0597128868103027,
          -2.302802085876465,
          -2.3675129413604736,
          0.20611417293548584
         ],
         "y": [
          -10.526556015014648,
          -10.214163780212402,
          -11.216541290283203,
          -9.461724281311035,
          -9.223654747009277,
          -11.663435935974121,
          -10.10807991027832,
          -11.88872241973877,
          -10.487967491149902,
          -10.870086669921875,
          -9.563455581665039,
          -9.392151832580566,
          -11.71143913269043,
          -9.835830688476562,
          -9.501307487487793,
          -9.716090202331543,
          -10.595271110534668,
          -9.922647476196289,
          -9.359159469604492,
          -9.051536560058594,
          -9.47720718383789,
          -9.956317901611328,
          -10.133938789367676,
          -9.648761749267578,
          -10.264257431030273,
          -9.686849594116211,
          -9.427030563354492,
          -10.64505672454834,
          -9.46994686126709,
          -9.64747142791748,
          -11.224123001098633,
          -11.334260940551758,
          -10.40828800201416,
          -11.022165298461914,
          -9.531017303466797,
          -9.942656517028809,
          -10.281045913696289,
          -9.729181289672852,
          -11.876734733581543,
          -9.601816177368164,
          -10.229239463806152,
          -9.955551147460938,
          -9.511204719543457,
          -9.51992416381836,
          -10.518746376037598,
          -10.777082443237305,
          -11.222611427307129,
          -10.895668983459473,
          -10.794970512390137,
          -11.397032737731934,
          -11.05066204071045,
          -11.220508575439453,
          -10.687744140625,
          -10.739585876464844,
          -10.496011734008789,
          -9.640201568603516,
          -9.198676109313965,
          -9.210073471069336,
          -10.653130531311035,
          -9.654946327209473,
          -10.201303482055664,
          -9.13338851928711,
          -9.23509407043457,
          -9.77108383178711,
          -11.029030799865723,
          -11.201339721679688,
          -9.956857681274414,
          -9.995946884155273
         ],
         "z": [
          5.742188453674316,
          6.2083539962768555,
          6.520498275756836,
          6.937858581542969,
          6.593295574188232,
          7.25358247756958,
          6.496389389038086,
          6.924392223358154,
          8.591187477111816,
          6.283315181732178,
          7.040066719055176,
          7.299278736114502,
          6.7420172691345215,
          7.283303260803223,
          7.669871807098389,
          7.025400638580322,
          7.9711222648620605,
          6.07705545425415,
          7.417973518371582,
          8.119543075561523,
          7.446803092956543,
          7.310637474060059,
          5.829298496246338,
          6.769244194030762,
          6.249316215515137,
          7.457714557647705,
          7.626716613769531,
          5.706861972808838,
          7.483407974243164,
          6.21013879776001,
          6.655905723571777,
          8.060791969299316,
          8.717214584350586,
          7.0539164543151855,
          6.3922810554504395,
          6.013701915740967,
          6.062358856201172,
          6.139448165893555,
          7.1039886474609375,
          6.343007564544678,
          5.631531238555908,
          6.441847324371338,
          6.310085296630859,
          6.385391712188721,
          6.048279762268066,
          5.948154449462891,
          6.424165725708008,
          6.465410232543945,
          6.356063365936279,
          7.216960906982422,
          7.160851001739502,
          7.035630226135254,
          6.178011417388916,
          6.889103412628174,
          7.636124134063721,
          6.5140838623046875,
          7.49395751953125,
          6.743463039398193,
          8.095575332641602,
          7.50656795501709,
          5.935714244842529,
          7.252499580383301,
          6.770485877990723,
          8.079527854919434,
          5.7750935554504395,
          6.527247905731201,
          6.180278301239014,
          6.544940948486328
         ]
        },
        {
         "hovertemplate": "<b>%{hovertext}</b><br><br>color=C20<br>x=%{x}<br>y=%{y}<br>z=%{z}<extra></extra>",
         "hovertext": [
          "drug hypersensitivity",
          "allergies",
          "anaphylactic reaction",
          "idiopathic thrombocytopenic purpura",
          "asthma",
          "dermatitis medicamentosa",
          "arthritis rheumatoid",
          "transfusion reaction",
          "multiple sclerosis",
          "monoclonal gammopathy",
          "allergic rhinitis",
          "angioedema",
          "multiple myeloma",
          "lymphoma",
          "temporal arteritis",
          "serum sickness",
          "hay fever",
          "myasthenia gravis",
          "sjogrens syndrome"
         ],
         "legendgroup": "C20",
         "marker": {
          "color": "#19d3f3",
          "symbol": "circle"
         },
         "mode": "markers",
         "name": "C20",
         "scene": "scene",
         "showlegend": true,
         "type": "scatter3d",
         "x": [
          -1.343013048171997,
          -0.6265559792518616,
          -1.621044397354126,
          -1.4798390865325928,
          0.994182825088501,
          -1.6196681261062622,
          -0.15561045706272125,
          -1.7394475936889648,
          0.2585025131702423,
          -1.1904233694076538,
          0.8862318992614746,
          -1.2771971225738525,
          -0.9656999707221985,
          -1.769767165184021,
          -0.27299338579177856,
          -0.5219571590423584,
          1.1752324104309082,
          0.7923079133033752,
          0.39910799264907837
         ],
         "y": [
          -11.79094409942627,
          -11.691545486450195,
          -10.932942390441895,
          -11.534371376037598,
          -10.453996658325195,
          -10.388452529907227,
          -10.794289588928223,
          -10.896686553955078,
          -10.348397254943848,
          -10.33874797821045,
          -10.383216857910156,
          -11.876734733581543,
          -9.51992416381836,
          -11.216374397277832,
          -9.23509407043457,
          -10.082664489746094,
          -10.543388366699219,
          -10.3757905960083,
          -10.859607696533203
         ],
         "z": [
          7.256909370422363,
          6.715619087219238,
          5.838698863983154,
          6.6081929206848145,
          7.886649131774902,
          5.644217491149902,
          7.5974249839782715,
          7.021483421325684,
          8.533585548400879,
          6.656649112701416,
          8.049398422241211,
          7.1039886474609375,
          6.385391712188721,
          5.901520729064941,
          6.770485877990723,
          6.921034812927246,
          6.780172348022461,
          7.459519863128662,
          6.922903060913086
         ]
        },
        {
         "hovertemplate": "<b>%{hovertext}</b><br><br>color=C25<br>x=%{x}<br>y=%{y}<br>z=%{z}<extra></extra>",
         "hovertext": [
          "drug hypersensitivity",
          "dermatitis medicamentosa",
          "drug addiction",
          "adverse drug effect",
          "substance abuse",
          "serum sickness",
          "alcoholic intoxication"
         ],
         "legendgroup": "C25",
         "marker": {
          "color": "#FF6692",
          "symbol": "circle"
         },
         "mode": "markers",
         "name": "C25",
         "scene": "scene",
         "showlegend": true,
         "type": "scatter3d",
         "x": [
          -1.343013048171997,
          -1.6196681261062622,
          0.9118726849555969,
          -0.029287539422512054,
          0.274863600730896,
          -0.5219571590423584,
          -1.0992538928985596
         ],
         "y": [
          -11.79094409942627,
          -10.388452529907227,
          -10.752242088317871,
          -11.171319007873535,
          -10.528651237487793,
          -10.082664489746094,
          -11.632076263427734
         ],
         "z": [
          7.256909370422363,
          5.644217491149902,
          9.069727897644043,
          8.208060264587402,
          9.183964729309082,
          6.921034812927246,
          8.204617500305176
         ]
        },
        {
         "hovertemplate": "<b>%{hovertext}</b><br><br>color=C15<br>x=%{x}<br>y=%{y}<br>z=%{z}<extra></extra>",
         "hovertext": [
          "thrombocytopenia",
          "leucocytosis",
          "anaemia",
          "haemolytic anaemia",
          "idiopathic thrombocytopenic purpura",
          "leucopenia",
          "thrombotic microangiopathy",
          "neutropenia",
          "iron deficiency anaemia",
          "bone marrow failure",
          "transfusion reaction",
          "adenitis",
          "ecchymoses",
          "monoclonal gammopathy",
          "adenopathy",
          "multiple myeloma",
          "granuloma",
          "lymphoma",
          "sarcoidosis",
          "agranulocytoses",
          "aplasia pure red cell",
          "lymphedema",
          "splenic infarction"
         ],
         "legendgroup": "C15",
         "marker": {
          "color": "#B6E880",
          "symbol": "circle"
         },
         "mode": "markers",
         "name": "C15",
         "scene": "scene",
         "showlegend": true,
         "type": "scatter3d",
         "x": [
          -2.5264389514923096,
          -1.6558923721313477,
          -1.8583091497421265,
          -2.657886028289795,
          -1.4798390865325928,
          -2.2860891819000244,
          -2.0836703777313232,
          -2.2687573432922363,
          -0.6733477115631104,
          -2.6022918224334717,
          -1.7394475936889648,
          0.07815224677324295,
          0.19743911921977997,
          -1.1904233694076538,
          -1.434206247329712,
          -0.9656999707221985,
          -0.051671791821718216,
          -1.769767165184021,
          0.06637973338365555,
          -2.249979257583618,
          -2.4036717414855957,
          0.33242303133010864,
          -2.302802085876465
         ],
         "y": [
          -10.650628089904785,
          -10.053464889526367,
          -10.41723346710205,
          -10.889147758483887,
          -11.534371376037598,
          -10.785797119140625,
          -10.563743591308594,
          -10.816139221191406,
          -10.371970176696777,
          -10.78714370727539,
          -10.896686553955078,
          -9.994678497314453,
          -11.167481422424316,
          -10.33874797821045,
          -10.306568145751953,
          -9.51992416381836,
          -10.985489845275879,
          -11.216374397277832,
          -9.533556938171387,
          -10.767648696899414,
          -10.296276092529297,
          -10.75071907043457,
          -11.201339721679688
         ],
         "z": [
          5.355250358581543,
          5.895596504211426,
          5.6378493309021,
          6.476843357086182,
          6.6081929206848145,
          5.367023944854736,
          5.624486446380615,
          5.310266494750977,
          8.731612205505371,
          5.4223504066467285,
          7.021483421325684,
          7.328476905822754,
          7.689908981323242,
          6.656649112701416,
          5.741542816162109,
          6.385391712188721,
          6.95884895324707,
          5.901520729064941,
          8.280281066894531,
          5.381422996520996,
          6.680380821228027,
          6.235698699951172,
          6.527247905731201
         ]
        },
        {
         "hovertemplate": "<b>%{hovertext}</b><br><br>color=C01<br>x=%{x}<br>y=%{y}<br>z=%{z}<extra></extra>",
         "hovertext": [
          "peritonitis",
          "sepsis",
          "appendicitis",
          "neumonia",
          "septic shock",
          "pneumonia staphylococcal",
          "lobar pneumonia",
          "pleurisy",
          "aspiration pneumonia",
          "candida infection",
          "cellulitis",
          "fungal disease",
          "mycobacterium tuberculosis infection",
          "abscess",
          "nasopharyngitis",
          "rhinitis",
          "pleural pain",
          "herpes zoster",
          "bronchitis",
          "osteomyelitis",
          "bacterial infection",
          "laryngitis",
          "sinusitis",
          "gingivitis",
          "soft tissue infection",
          "infection",
          "herpes simplex",
          "spondylitis",
          "acute bronchitis",
          "streptococcal infection",
          "aspergillosis",
          "bacteraemia",
          "onychomycosis",
          "bacterial pneumonia",
          "liver abscess",
          "pelvic inflammatory disease",
          "hepatitis b",
          "erysipelas",
          "hepatitis c",
          "eye infection",
          "ebv infection",
          "tracheitis",
          "paronychia",
          "epidural abscess",
          "histoplasmosis",
          "empyema",
          "cryptococcosis",
          "pyuria",
          "mumps",
          "tinea pedis"
         ],
         "legendgroup": "C01",
         "marker": {
          "color": "#FF97FF",
          "symbol": "circle"
         },
         "mode": "markers",
         "name": "C01",
         "scene": "scene",
         "showlegend": true,
         "type": "scatter3d",
         "x": [
          -2.6177237033843994,
          -2.6230502128601074,
          1.3651759624481201,
          -1.7798678874969482,
          -2.4049806594848633,
          -0.8226432800292969,
          -1.777427315711975,
          1.1317665576934814,
          -1.02519690990448,
          -2.177823305130005,
          0.22646376490592957,
          -1.637444019317627,
          -0.6567423939704895,
          0.9572637677192688,
          -0.6209231019020081,
          0.4603250026702881,
          -0.35988864302635193,
          -0.552936315536499,
          0.037388551980257034,
          0.7923650145530701,
          -1.1658315658569336,
          0.2866177558898926,
          0.8067643642425537,
          0.9701805710792542,
          1.0203744173049927,
          -1.9657844305038452,
          -0.7107093334197998,
          0.07238015532493591,
          -0.03012699820101261,
          -1.0877859592437744,
          -2.543980360031128,
          -1.96603524684906,
          0.7352674603462219,
          -1.2864619493484497,
          -2.301527500152588,
          0.507547914981842,
          -1.108634114265442,
          -2.1892435550689697,
          -0.5988250374794006,
          -0.8305237889289856,
          -2.458439350128174,
          0.3059017062187195,
          -0.2364528328180313,
          -0.1293049305677414,
          -0.34982454776763916,
          -2.1714670658111572,
          -1.4958844184875488,
          -0.4441286623477936,
          0.8870006203651428,
          0.006439438089728355
         ],
         "y": [
          -10.676372528076172,
          -11.177872657775879,
          -10.210692405700684,
          -11.204619407653809,
          -11.465375900268555,
          -10.703290939331055,
          -10.92640209197998,
          -9.800341606140137,
          -11.550868034362793,
          -11.036431312561035,
          -10.665863037109375,
          -11.340519905090332,
          -10.593216896057129,
          -10.928184509277344,
          -10.803751945495605,
          -10.699506759643555,
          -11.942306518554688,
          -9.64254093170166,
          -10.633935928344727,
          -10.550490379333496,
          -11.198675155639648,
          -10.477333068847656,
          -10.01221752166748,
          -10.677767753601074,
          -10.720601081848145,
          -10.686986923217773,
          -11.328113555908203,
          -9.286060333251953,
          -10.053911209106445,
          -11.172074317932129,
          -10.910661697387695,
          -10.809793472290039,
          -10.580720901489258,
          -11.346403121948242,
          -10.336710929870605,
          -10.776564598083496,
          -10.867114067077637,
          -9.662779808044434,
          -10.873550415039062,
          -10.769315719604492,
          -11.357011795043945,
          -9.096668243408203,
          -12.018061637878418,
          -10.810983657836914,
          -10.807883262634277,
          -10.682270050048828,
          -10.470804214477539,
          -9.377957344055176,
          -10.302955627441406,
          -10.370674133300781
         ],
         "z": [
          6.326588153839111,
          6.360445022583008,
          8.306068420410156,
          6.886569976806641,
          6.813173770904541,
          7.4977874755859375,
          7.07401180267334,
          8.323662757873535,
          8.375588417053223,
          6.19162130355835,
          6.558393478393555,
          6.189927101135254,
          7.174086093902588,
          6.773410797119141,
          7.687490940093994,
          7.727575778961182,
          7.468181610107422,
          6.411245346069336,
          8.046919822692871,
          5.974489688873291,
          5.794389724731445,
          7.975246906280518,
          6.619153022766113,
          6.119607925415039,
          6.124538898468018,
          5.5471110343933105,
          6.541860580444336,
          8.028775215148926,
          8.245346069335938,
          5.814720630645752,
          5.32017183303833,
          5.869100093841553,
          7.207195281982422,
          6.1370978355407715,
          6.043768882751465,
          9.24194049835205,
          6.985574722290039,
          6.229369163513184,
          7.581258773803711,
          7.733231067657471,
          6.429633140563965,
          7.826285362243652,
          7.435746192932129,
          7.61776065826416,
          6.46156120300293,
          6.536788463592529,
          7.157257080078125,
          6.620640277862549,
          8.602277755737305,
          9.012866973876953
         ]
        },
        {
         "hovertemplate": "<b>%{hovertext}</b><br><br>color=C10<br>x=%{x}<br>y=%{y}<br>z=%{z}<extra></extra>",
         "hovertext": [
          "cerebral infarct",
          "strabismus",
          "confusion",
          "encephalopathy",
          "tremor",
          "hallucination",
          "diplopia",
          "narcolepsy",
          "optic disc edema",
          "sleep disorder",
          "aphonia",
          "hoarseness",
          "tinnitus",
          "muscle spasm",
          "muscle paresis",
          "deafness",
          "vocal cord paralysis",
          "deafness neurosensory",
          "aching muscles",
          "loss of consciousness",
          "muscle weakness",
          "insomnia",
          "paraesthesia",
          "fainting",
          "migraine",
          "fibromyalgia",
          "ischias",
          "meningitides",
          "spinning sensation",
          "coma",
          "convulsion",
          "polyneuropathy",
          "dysarthria",
          "apoplexy",
          "aphasia",
          "amnesia",
          "ataxia",
          "transient ischaemic attack",
          "cerebral haemorrhage",
          "facial palsy",
          "amentia",
          "metabolic encephalopathy",
          "encephalitis",
          "neuralgia",
          "hemiplegia",
          "postherpetic neuralgia",
          "neuritis",
          "blindness",
          "multiple sclerosis",
          "tardive dyskinesia",
          "sleep apnea",
          "head injury",
          "apraxia",
          "sleep walking",
          "radiculopathy",
          "dysphonia",
          "myelopathy",
          "dysaesthesia",
          "movement disorder",
          "epilepsy",
          "muscle disorder",
          "cramp",
          "light sensitivity",
          "hemiparesis",
          "polymyositis",
          "trigeminal neuralgia",
          "subarachnoid haemorrhage",
          "palsies",
          "cerebral ischaemia",
          "brain concussion",
          "diabetic neuropathy",
          "brain neoplasm",
          "carotid artery stenosis",
          "hyperprolactinaemia",
          "optic neuritis",
          "eye injury",
          "scotoma",
          "hydrocephalus",
          "dermatomyositis",
          "hyperaesthesia",
          "temporal arteritis",
          "anosmia",
          "meningioma",
          "hepatic encephalopathy",
          "paraplegia",
          "aseptic meningitis",
          "causalgia",
          "epidural abscess",
          "myasthenia gravis",
          "tension headache",
          "neurogenic bladder",
          "hyperacusia",
          "cluster headache",
          "anisocoria",
          "status epilepticus",
          "corneal abrasion"
         ],
         "legendgroup": "C10",
         "marker": {
          "color": "#FECB52",
          "symbol": "circle"
         },
         "mode": "markers",
         "name": "C10",
         "scene": "scene",
         "showlegend": true,
         "type": "scatter3d",
         "x": [
          -1.7427232265472412,
          -1.4493757486343384,
          -1.5029845237731934,
          -1.8758074045181274,
          0.008410279639065266,
          -0.57975172996521,
          0.20808348059654236,
          -0.35920578241348267,
          -1.3549766540527344,
          0.9840826392173767,
          0.3339887261390686,
          0.11224858462810516,
          0.60625159740448,
          0.8895118236541748,
          -0.9240634441375732,
          -1.2629756927490234,
          -0.08982548117637634,
          -2.2358529567718506,
          0.06271371245384216,
          -0.9007563591003418,
          -1.229650616645813,
          0.6576647162437439,
          -0.1499241292476654,
          -0.7915072441101074,
          0.9841037392616272,
          1.2497988939285278,
          0.16019783914089203,
          -1.6936731338500977,
          -0.06931997090578079,
          -1.8558887243270874,
          -1.8865286111831665,
          -1.8832294940948486,
          -0.6429532766342163,
          -1.5162575244903564,
          -1.8162468671798706,
          0.35056209564208984,
          -1.8742035627365112,
          -1.105678677558899,
          -2.0639901161193848,
          0.2917076051235199,
          -0.09712671488523483,
          -1.8209887742996216,
          -1.455670714378357,
          -0.03938084468245506,
          -1.581364393234253,
          -1.2057616710662842,
          -1.1745147705078125,
          -1.1443638801574707,
          0.2585025131702423,
          -0.09842903912067413,
          0.747431755065918,
          -0.004772767424583435,
          -0.7883079051971436,
          0.8670241832733154,
          1.2978028059005737,
          -0.40655723214149475,
          -0.7292840480804443,
          -0.8547872304916382,
          0.23158568143844604,
          -2.2855026721954346,
          -1.770918846130371,
          0.5908573865890503,
          -0.29391273856163025,
          -0.7034359574317932,
          -1.086417555809021,
          0.913896381855011,
          -2.351963758468628,
          -1.3019648790359497,
          -0.9762229919433594,
          0.49065354466438293,
          -0.11385282129049301,
          -0.7467443346977234,
          -1.2384942770004272,
          -0.9577812552452087,
          -0.21221773326396942,
          0.09926024824380875,
          -0.8499661684036255,
          -2.0505661964416504,
          -1.866417407989502,
          -0.9777360558509827,
          -0.27299338579177856,
          -0.4574955701828003,
          -1.428922176361084,
          -2.554447889328003,
          -1.65223228931427,
          -0.14367078244686127,
          0.20233313739299774,
          -0.1293049305677414,
          0.7923079133033752,
          0.1480037122964859,
          -0.37395480275154114,
          0.21560949087142944,
          0.348173588514328,
          -0.6327197551727295,
          -1.778552770614624,
          0.17618823051452637
         ],
         "y": [
          -9.461724281311035,
          -11.305176734924316,
          -11.759516716003418,
          -11.8233642578125,
          -11.57196044921875,
          -9.669944763183594,
          -11.11007022857666,
          -11.57015609741211,
          -9.916627883911133,
          -10.694100379943848,
          -10.876229286193848,
          -9.58470344543457,
          -11.450161933898926,
          -11.207167625427246,
          -10.858274459838867,
          -11.506463050842285,
          -9.651495933532715,
          -10.486540794372559,
          -11.86346435546875,
          -11.87646198272705,
          -9.449601173400879,
          -11.4850492477417,
          -12.024530410766602,
          -11.60047721862793,
          -10.49376392364502,
          -10.062742233276367,
          -10.525075912475586,
          -11.371136665344238,
          -9.520130157470703,
          -9.99420166015625,
          -11.91132640838623,
          -11.72276496887207,
          -11.190425872802734,
          -9.686849594116211,
          -11.904333114624023,
          -11.302107810974121,
          -11.914863586425781,
          -9.427030563354492,
          -10.64505672454834,
          -9.789316177368164,
          -11.171894073486328,
          -10.26338005065918,
          -11.358591079711914,
          -11.059426307678223,
          -9.53743839263916,
          -11.389463424682617,
          -10.057527542114258,
          -11.687843322753906,
          -10.348397254943848,
          -11.104588508605957,
          -9.516002655029297,
          -10.978507041931152,
          -9.319738388061523,
          -10.196582794189453,
          -10.287750244140625,
          -11.93111515045166,
          -11.005685806274414,
          -9.525203704833984,
          -11.232237815856934,
          -11.611272811889648,
          -9.82050609588623,
          -9.902709007263184,
          -12.130799293518066,
          -10.47418212890625,
          -9.918431282043457,
          -10.362470626831055,
          -10.687744140625,
          -9.450298309326172,
          -10.739585876464844,
          -10.384381294250488,
          -10.422385215759277,
          -11.227317810058594,
          -9.198676109313965,
          -11.444405555725098,
          -9.425400733947754,
          -11.017133712768555,
          -11.841463088989258,
          -10.443788528442383,
          -9.965238571166992,
          -9.48241901397705,
          -9.23509407043457,
          -11.828950881958008,
          -11.26456069946289,
          -10.820703506469727,
          -10.485865592956543,
          -11.209916114807129,
          -11.099505424499512,
          -10.810983657836914,
          -10.3757905960083,
          -10.448774337768555,
          -9.507701873779297,
          -11.460865020751953,
          -10.52546215057373,
          -10.230212211608887,
          -11.827749252319336,
          -9.858620643615723
         ],
         "z": [
          6.937858581542969,
          7.454394817352295,
          7.308889865875244,
          7.298099517822266,
          8.72897720336914,
          7.5206618309021,
          7.930898189544678,
          8.958294868469238,
          5.705695629119873,
          8.302156448364258,
          6.755838871002197,
          8.512266159057617,
          8.383116722106934,
          8.455309867858887,
          7.503183841705322,
          7.731963157653809,
          7.616772174835205,
          6.129061222076416,
          7.387248516082764,
          6.911924362182617,
          6.765872001647949,
          8.344900131225586,
          7.587844371795654,
          7.542753219604492,
          8.348084449768066,
          8.449065208435059,
          7.249052047729492,
          6.435196876525879,
          7.324906349182129,
          7.2064104080200195,
          7.461910247802734,
          7.0403733253479,
          8.467262268066406,
          7.457714557647705,
          7.488601207733154,
          8.766230583190918,
          7.486159324645996,
          7.626716613769531,
          5.706861972808838,
          6.287980556488037,
          9.313884735107422,
          6.573238849639893,
          7.188281536102295,
          8.231616973876953,
          6.706362247467041,
          7.34315824508667,
          6.684443473815918,
          6.832739353179932,
          8.533585548400879,
          9.410713195800781,
          8.40074348449707,
          9.287032127380371,
          7.540014266967773,
          7.8549580574035645,
          7.940534591674805,
          7.257335662841797,
          8.330632209777832,
          7.887212753295898,
          8.538886070251465,
          6.978804588317871,
          7.274776458740234,
          8.276108741760254,
          7.372406005859375,
          6.988894462585449,
          7.33354377746582,
          7.299618244171143,
          6.178011417388916,
          7.0529866218566895,
          6.889103412628174,
          8.80696964263916,
          8.737266540527344,
          8.035609245300293,
          7.49395751953125,
          8.519556999206543,
          7.381430149078369,
          8.332098007202148,
          6.692845821380615,
          6.0600361824035645,
          6.693843841552734,
          7.179271697998047,
          6.770485877990723,
          7.533065319061279,
          7.110959053039551,
          6.256347179412842,
          6.297610282897949,
          9.19386100769043,
          9.001022338867188,
          7.61776065826416,
          7.459519863128662,
          9.058012008666992,
          8.092269897460938,
          9.024991035461426,
          8.656485557556152,
          7.134035587310791,
          7.543804168701172,
          8.860391616821289
         ]
        },
        {
         "hovertemplate": "<b>%{hovertext}</b><br><br>color=C04<br>x=%{x}<br>y=%{y}<br>z=%{z}<extra></extra>",
         "hovertext": [
          "lipoma",
          "adenocarcinoma",
          "breast cancer",
          "leukaemia",
          "hepatic neoplasia",
          "neoplasia",
          "breast cyst",
          "lung neoplasms",
          "acute myeloblastic leukemia",
          "malignant melanoma",
          "adenoma",
          "melanocytic naevus",
          "multiple myeloma",
          "basal cell carcinoma",
          "lymphoma",
          "ovarian cyst",
          "cyst",
          "cancer",
          "actinic keratosis",
          "pancreatic cancer",
          "brain neoplasm",
          "synovial cyst",
          "ovarian cancer",
          "gastric cancer",
          "haemangioma",
          "meningioma",
          "myasthenia gravis",
          "fibroids",
          "bladder cancer",
          "ganglion",
          "esophageal cancer",
          "pancreatic pseudocyst"
         ],
         "legendgroup": "C04",
         "marker": {
          "color": "#636efa",
          "symbol": "circle"
         },
         "mode": "markers",
         "name": "C04",
         "scene": "scene",
         "showlegend": true,
         "type": "scatter3d",
         "x": [
          0.4184935390949249,
          -0.1627221554517746,
          0.8911239504814148,
          -2.1441192626953125,
          0.8588289022445679,
          -0.43216368556022644,
          0.8473869562149048,
          -1.1485967636108398,
          -2.2537262439727783,
          0.4898907542228699,
          0.2253299355506897,
          1.0966275930404663,
          -0.9656999707221985,
          -0.47974681854248047,
          -1.769767165184021,
          0.5459476113319397,
          0.5930720567703247,
          -0.4372138977050781,
          0.43340593576431274,
          -0.9504315853118896,
          -0.7467443346977234,
          0.8770851492881775,
          -0.46747666597366333,
          -0.733613133430481,
          -0.2996573746204376,
          -1.428922176361084,
          0.7923079133033752,
          0.4840115010738373,
          -1.174513339996338,
          0.1374577134847641,
          -0.769801914691925,
          -0.8722755312919617
         ],
         "y": [
          -10.057879447937012,
          -10.621825218200684,
          -9.929275512695312,
          -10.418378829956055,
          -9.733481407165527,
          -11.10727596282959,
          -9.911214828491211,
          -11.205453872680664,
          -10.383193016052246,
          -9.80453872680664,
          -10.190057754516602,
          -9.734270095825195,
          -9.51992416381836,
          -10.431767463684082,
          -11.216374397277832,
          -9.89520263671875,
          -10.296557426452637,
          -11.436437606811523,
          -9.583678245544434,
          -10.528130531311035,
          -11.227317810058594,
          -10.056625366210938,
          -11.207771301269531,
          -9.607244491577148,
          -11.03885269165039,
          -11.26456069946289,
          -10.3757905960083,
          -10.723153114318848,
          -9.570474624633789,
          -9.684572219848633,
          -11.03646469116211,
          -10.173112869262695
         ],
         "z": [
          5.999833106994629,
          5.9168267250061035,
          6.434554100036621,
          5.777983665466309,
          6.748793601989746,
          6.2250800132751465,
          7.5439276695251465,
          6.144909858703613,
          5.562198638916016,
          6.484460353851318,
          7.770108222961426,
          8.207239151000977,
          6.385391712188721,
          6.7729363441467285,
          5.901520729064941,
          8.960259437561035,
          7.028174877166748,
          7.206780910491943,
          7.287942886352539,
          6.925118923187256,
          8.035609245300293,
          7.3011579513549805,
          6.393624782562256,
          6.646973133087158,
          7.548692226409912,
          7.110959053039551,
          7.459519863128662,
          7.857250690460205,
          6.784106731414795,
          8.150713920593262,
          7.629321575164795,
          7.574361324310303
         ]
        },
        {
         "hovertemplate": "<b>%{hovertext}</b><br><br>color=C11<br>x=%{x}<br>y=%{y}<br>z=%{z}<extra></extra>",
         "hovertext": [
          "strabismus",
          "diplopia",
          "optic disc edema",
          "conjunctivitis",
          "eye pain",
          "cataract",
          "blepharitis",
          "blepharospasm",
          "glaucoma",
          "keratitis sicca",
          "blindness",
          "light sensitivity",
          "dry eye",
          "blepharoptosis",
          "eyelid diseases",
          "optic neuritis",
          "eye injury",
          "scotoma",
          "eye infection",
          "sjogrens syndrome",
          "keratitis",
          "anisocoria",
          "corneal abrasion",
          "asthenopia"
         ],
         "legendgroup": "C11",
         "marker": {
          "color": "#EF553B",
          "symbol": "circle"
         },
         "mode": "markers",
         "name": "C11",
         "scene": "scene",
         "showlegend": true,
         "type": "scatter3d",
         "x": [
          -1.4493757486343384,
          0.20808348059654236,
          -1.3549766540527344,
          -0.8237746953964233,
          -0.13566173613071442,
          0.8385260701179504,
          0.5718762874603271,
          -0.3446895480155945,
          -0.5793179869651794,
          0.8461219072341919,
          -1.1443638801574707,
          -0.29391273856163025,
          -0.2385837435722351,
          -0.2736908793449402,
          0.5530986785888672,
          -0.21221773326396942,
          0.09926024824380875,
          -0.8499661684036255,
          -0.8305237889289856,
          0.39910799264907837,
          -1.2189139127731323,
          -0.6327197551727295,
          0.17618823051452637,
          1.283781886100769
         ],
         "y": [
          -11.305176734924316,
          -11.11007022857666,
          -9.916627883911133,
          -11.634359359741211,
          -11.944625854492188,
          -10.123740196228027,
          -10.927741050720215,
          -11.518331527709961,
          -9.16940975189209,
          -10.014386177062988,
          -11.687843322753906,
          -12.130799293518066,
          -10.942155838012695,
          -9.282999038696289,
          -9.874567985534668,
          -9.425400733947754,
          -11.017133712768555,
          -11.841463088989258,
          -10.769315719604492,
          -10.859607696533203,
          -11.327744483947754,
          -10.230212211608887,
          -9.858620643615723,
          -10.469733238220215
         ],
         "z": [
          7.454394817352295,
          7.930898189544678,
          5.705695629119873,
          6.58275032043457,
          7.759361267089844,
          6.994080543518066,
          7.22569465637207,
          9.027247428894043,
          7.517226696014404,
          8.482016563415527,
          6.832739353179932,
          7.372406005859375,
          7.356628894805908,
          7.609344959259033,
          8.370135307312012,
          7.381430149078369,
          8.332098007202148,
          6.692845821380615,
          7.733231067657471,
          6.922903060913086,
          7.36560583114624,
          7.134035587310791,
          8.860391616821289,
          7.619312763214111
         ]
        },
        {
         "hovertemplate": "<b>%{hovertext}</b><br><br>color=C12<br>x=%{x}<br>y=%{y}<br>z=%{z}<extra></extra>",
         "hovertext": [
          "bladder inflammation",
          "bladder retention",
          "glomerulonephritis",
          "nephrocalcinosis",
          "chronic kidney disease",
          "acute kidney failure",
          "azotaemia",
          "incontinence",
          "pyelonephritis",
          "benign prostatic hyperplasia",
          "kidney failure",
          "nephrolithiasis",
          "ureteral obstruction",
          "nephrosclerosis",
          "diabetic nephropathy",
          "proteinuria",
          "enuresis",
          "nephrotic syndrome",
          "prostatitis",
          "hydronephrosis",
          "renal tubular acidosis",
          "polyuria",
          "glucosuria",
          "nephrogenic diabetes insipidus",
          "interstitial nephritis",
          "hepatorenal syndrome",
          "bladder cancer",
          "diabetes insipidus",
          "neurogenic bladder",
          "pyuria"
         ],
         "legendgroup": "C12",
         "marker": {
          "color": "#00cc96",
          "symbol": "circle"
         },
         "mode": "markers",
         "name": "C12",
         "scene": "scene",
         "showlegend": true,
         "type": "scatter3d",
         "x": [
          0.2792477607727051,
          -0.6615781188011169,
          -1.5392087697982788,
          0.28621694445610046,
          -1.4091651439666748,
          -2.4741430282592773,
          -0.038866523653268814,
          -0.6409700512886047,
          0.34674274921417236,
          -1.2179925441741943,
          -2.5083091259002686,
          0.06039680168032646,
          0.4000900685787201,
          -1.8196927309036255,
          -2.458662271499634,
          -2.4425015449523926,
          -0.20467060804367065,
          -2.251908302307129,
          0.3691751956939697,
          -0.5811797380447388,
          -1.6866730451583862,
          -0.7469295859336853,
          -0.3846309781074524,
          0.7584117650985718,
          -2.548034906387329,
          -2.1094741821289062,
          -1.174513339996338,
          0.43472620844841003,
          -0.37395480275154114,
          -0.4441286623477936
         ],
         "y": [
          -11.04328727722168,
          -10.140634536743164,
          -10.61544418334961,
          -9.068076133728027,
          -9.25780963897705,
          -10.894372940063477,
          -9.95086669921875,
          -9.512383460998535,
          -9.94911003112793,
          -9.592171669006348,
          -10.641115188598633,
          -10.697318077087402,
          -11.002562522888184,
          -9.607120513916016,
          -10.377228736877441,
          -10.74411678314209,
          -11.440376281738281,
          -10.177533149719238,
          -10.671331405639648,
          -10.965775489807129,
          -10.71177864074707,
          -10.591636657714844,
          -9.710928916931152,
          -10.191349029541016,
          -10.907047271728516,
          -10.611573219299316,
          -9.570474624633789,
          -9.203916549682617,
          -9.507701873779297,
          -9.377957344055176
         ],
         "z": [
          6.399315357208252,
          8.801139831542969,
          5.510366439819336,
          7.809082508087158,
          6.873882293701172,
          6.527535438537598,
          5.917312145233154,
          7.95050048828125,
          6.287435531616211,
          7.852414608001709,
          6.396501064300537,
          6.717081546783447,
          6.399057865142822,
          7.206070423126221,
          6.640548229217529,
          6.512929916381836,
          8.879312515258789,
          5.80002498626709,
          9.139721870422363,
          6.120316982269287,
          6.716936111450195,
          8.17131519317627,
          8.210494041442871,
          9.19170093536377,
          6.572281837463379,
          5.6427321434021,
          6.784106731414795,
          8.29277229309082,
          8.092269897460938,
          6.620640277862549
         ]
        },
        {
         "hovertemplate": "<b>%{hovertext}</b><br><br>color=C13<br>x=%{x}<br>y=%{y}<br>z=%{z}<extra></extra>",
         "hovertext": [
          "bladder inflammation",
          "still birth",
          "bladder retention",
          "glomerulonephritis",
          "nephrocalcinosis",
          "chronic kidney disease",
          "acute kidney failure",
          "azotaemia",
          "incontinence",
          "pyelonephritis",
          "kidney failure",
          "nephrolithiasis",
          "ureteral obstruction",
          "nephrosclerosis",
          "diabetic nephropathy",
          "proteinuria",
          "enuresis",
          "cervicitis",
          "nephrotic syndrome",
          "colpitis",
          "hydronephrosis",
          "renal tubular acidosis",
          "polyuria",
          "glucosuria",
          "ovarian cyst",
          "premature menopause",
          "pelvic inflammatory disease",
          "nephrogenic diabetes insipidus",
          "breakthrough bleeding",
          "interstitial nephritis",
          "hepatorenal syndrome",
          "ovarian cancer",
          "vaginal discharge",
          "bladder cancer",
          "diabetes insipidus",
          "neurogenic bladder",
          "uterine bleeding",
          "pyuria",
          "breast inflammation"
         ],
         "legendgroup": "C13",
         "marker": {
          "color": "#ab63fa",
          "symbol": "circle"
         },
         "mode": "markers",
         "name": "C13",
         "scene": "scene",
         "showlegend": true,
         "type": "scatter3d",
         "x": [
          0.2792477607727051,
          -1.7045302391052246,
          -0.6615781188011169,
          -1.5392087697982788,
          0.28621694445610046,
          -1.4091651439666748,
          -2.4741430282592773,
          -0.038866523653268814,
          -0.6409700512886047,
          0.34674274921417236,
          -2.5083091259002686,
          0.06039680168032646,
          0.4000900685787201,
          -1.8196927309036255,
          -2.458662271499634,
          -2.4425015449523926,
          -0.20467060804367065,
          0.621263325214386,
          -2.251908302307129,
          1.1202019453048706,
          -0.5811797380447388,
          -1.6866730451583862,
          -0.7469295859336853,
          -0.3846309781074524,
          0.5459476113319397,
          0.8807502388954163,
          0.507547914981842,
          0.7584117650985718,
          1.4159877300262451,
          -2.548034906387329,
          -2.1094741821289062,
          -0.46747666597366333,
          -0.22686654329299927,
          -1.174513339996338,
          0.43472620844841003,
          -0.37395480275154114,
          -0.29097381234169006,
          -0.4441286623477936,
          1.0057677030563354
         ],
         "y": [
          -11.04328727722168,
          -10.156794548034668,
          -10.140634536743164,
          -10.61544418334961,
          -9.068076133728027,
          -9.25780963897705,
          -10.894372940063477,
          -9.95086669921875,
          -9.512383460998535,
          -9.94911003112793,
          -10.641115188598633,
          -10.697318077087402,
          -11.002562522888184,
          -9.607120513916016,
          -10.377228736877441,
          -10.74411678314209,
          -11.440376281738281,
          -9.891250610351562,
          -10.177533149719238,
          -10.3423490524292,
          -10.965775489807129,
          -10.71177864074707,
          -10.591636657714844,
          -9.710928916931152,
          -9.89520263671875,
          -11.084177017211914,
          -10.776564598083496,
          -10.191349029541016,
          -10.521428108215332,
          -10.907047271728516,
          -10.611573219299316,
          -11.207771301269531,
          -10.903240203857422,
          -9.570474624633789,
          -9.203916549682617,
          -9.507701873779297,
          -10.314750671386719,
          -9.377957344055176,
          -10.543848037719727
         ],
         "z": [
          6.399315357208252,
          6.183931350708008,
          8.801139831542969,
          5.510366439819336,
          7.809082508087158,
          6.873882293701172,
          6.527535438537598,
          5.917312145233154,
          7.95050048828125,
          6.287435531616211,
          6.396501064300537,
          6.717081546783447,
          6.399057865142822,
          7.206070423126221,
          6.640548229217529,
          6.512929916381836,
          8.879312515258789,
          8.835892677307129,
          5.80002498626709,
          7.555392265319824,
          6.120316982269287,
          6.716936111450195,
          8.17131519317627,
          8.210494041442871,
          8.960259437561035,
          7.789436340332031,
          9.24194049835205,
          9.19170093536377,
          7.710670471191406,
          6.572281837463379,
          5.6427321434021,
          6.393624782562256,
          8.381853103637695,
          6.784106731414795,
          8.29277229309082,
          8.092269897460938,
          8.904559135437012,
          6.620640277862549,
          6.617032527923584
         ]
        },
        {
         "hovertemplate": "<b>%{hovertext}</b><br><br>color=C26<br>x=%{x}<br>y=%{y}<br>z=%{z}<extra></extra>",
         "hovertext": [
          "back injury",
          "sunburn",
          "laceration",
          "head injury",
          "femoral neck fracture",
          "bruise",
          "tendinitis",
          "tympanic membrane perforation",
          "spinal fracture",
          "rib fracture",
          "ankle fracture",
          "bone fracture",
          "brain concussion",
          "eye injury",
          "tendon injury",
          "corneal abrasion"
         ],
         "legendgroup": "C26",
         "marker": {
          "color": "#FFA15A",
          "symbol": "circle"
         },
         "mode": "markers",
         "name": "C26",
         "scene": "scene",
         "showlegend": true,
         "type": "scatter3d",
         "x": [
          -0.0807802751660347,
          -0.5571677684783936,
          0.36962905526161194,
          -0.004772767424583435,
          -0.5059128403663635,
          -0.33464181423187256,
          1.2091349363327026,
          -0.32012882828712463,
          -0.15202151238918304,
          -0.22559045255184174,
          0.8824924826622009,
          0.7607810497283936,
          0.49065354466438293,
          0.09926024824380875,
          1.036084532737732,
          0.17618823051452637
         ],
         "y": [
          -10.219226837158203,
          -11.780448913574219,
          -9.845663070678711,
          -10.978507041931152,
          -9.843944549560547,
          -9.489485740661621,
          -9.574947357177734,
          -10.125329971313477,
          -9.190330505371094,
          -9.767695426940918,
          -10.817365646362305,
          -10.391288757324219,
          -10.384381294250488,
          -11.017133712768555,
          -9.413772583007812,
          -9.858620643615723
         ],
         "z": [
          8.958499908447266,
          7.374368190765381,
          8.997451782226562,
          9.287032127380371,
          7.701998710632324,
          7.725044250488281,
          8.02927303314209,
          8.664209365844727,
          7.614030361175537,
          6.107860565185547,
          8.10123062133789,
          6.737419128417969,
          8.80696964263916,
          8.332098007202148,
          7.958784580230713,
          8.860391616821289
         ]
        },
        {
         "hovertemplate": "<b>%{hovertext}</b><br><br>color=C17<br>x=%{x}<br>y=%{y}<br>z=%{z}<extra></extra>",
         "hovertext": [
          "erythema",
          "breast cancer",
          "alopecia",
          "sunburn",
          "cellulitis",
          "dermatitides",
          "dermatitis medicamentosa",
          "erythema multiforme",
          "bleb",
          "pyoderma",
          "arthritis rheumatoid",
          "breast cyst",
          "acne rosacea",
          "decubitus ulcer",
          "breast dysplasia",
          "psoriatic arthritis",
          "herpes simplex",
          "hyperhidrosis",
          "gynaecomastia",
          "angioedema",
          "onychomycosis",
          "dermatitis exfoliative",
          "psoriasis",
          "contact dermatitis",
          "actinic keratosis",
          "galactorrhea",
          "lichen planus",
          "hyperpigmentation",
          "eczema",
          "erysipelas",
          "pyoderma gangrenosum",
          "acne",
          "paronychia",
          "dermatomyositis",
          "polymyalgia rheumatica",
          "temporal arteritis",
          "serum sickness",
          "ganglion",
          "sjogrens syndrome",
          "pigmentation disorder",
          "folliculitis",
          "connective tissue disease",
          "breast inflammation",
          "tinea pedis"
         ],
         "legendgroup": "C17",
         "marker": {
          "color": "#19d3f3",
          "symbol": "circle"
         },
         "mode": "markers",
         "name": "C17",
         "scene": "scene",
         "showlegend": true,
         "type": "scatter3d",
         "x": [
          -0.856624960899353,
          0.8911239504814148,
          0.003597289090976119,
          -0.5571677684783936,
          0.22646376490592957,
          -0.5064491033554077,
          -1.6196681261062622,
          -1.5814580917358398,
          -1.8507707118988037,
          -0.8777624368667603,
          -0.15561045706272125,
          0.8473869562149048,
          0.8615925312042236,
          -0.9458013772964478,
          1.4335845708847046,
          0.3184274733066559,
          -0.7107093334197998,
          -0.740908145904541,
          -1.003173828125,
          -1.2771971225738525,
          0.7352674603462219,
          -2.6237094402313232,
          1.1294838190078735,
          -0.02060544863343239,
          0.43340593576431274,
          0.7956578135490417,
          -0.1404609978199005,
          -1.2275148630142212,
          -0.7939141392707825,
          -2.1892435550689697,
          -1.5396913290023804,
          -0.9672784209251404,
          -0.2364528328180313,
          -1.866417407989502,
          -0.2157016396522522,
          -0.27299338579177856,
          -0.5219571590423584,
          0.1374577134847641,
          0.39910799264907837,
          -1.2755780220031738,
          -0.7781491279602051,
          1.1970165967941284,
          1.0057677030563354,
          0.006439438089728355
         ],
         "y": [
          -10.647326469421387,
          -9.929275512695312,
          -10.795021057128906,
          -11.780448913574219,
          -10.665863037109375,
          -9.32916259765625,
          -10.388452529907227,
          -10.576526641845703,
          -10.399861335754395,
          -11.335793495178223,
          -10.794289588928223,
          -9.911214828491211,
          -9.862668991088867,
          -9.472768783569336,
          -10.224532127380371,
          -9.368573188781738,
          -11.328113555908203,
          -11.788583755493164,
          -11.319025039672852,
          -11.876734733581543,
          -10.580720901489258,
          -10.663558006286621,
          -10.481560707092285,
          -10.328591346740723,
          -9.583678245544434,
          -10.698969841003418,
          -9.76678466796875,
          -9.039499282836914,
          -11.690210342407227,
          -9.662779808044434,
          -11.012801170349121,
          -10.53966236114502,
          -12.018061637878418,
          -9.965238571166992,
          -10.950910568237305,
          -9.23509407043457,
          -10.082664489746094,
          -9.684572219848633,
          -10.859607696533203,
          -9.408742904663086,
          -10.46131420135498,
          -9.78926944732666,
          -10.543848037719727,
          -10.370674133300781
         ],
         "z": [
          5.855896949768066,
          6.434554100036621,
          6.071065902709961,
          7.374368190765381,
          6.558393478393555,
          6.4073262214660645,
          5.644217491149902,
          5.525824069976807,
          5.6066203117370605,
          6.445451259613037,
          7.5974249839782715,
          7.5439276695251465,
          8.100282669067383,
          6.370046615600586,
          7.28591775894165,
          6.73557186126709,
          6.541860580444336,
          8.066618919372559,
          8.205004692077637,
          7.1039886474609375,
          7.207195281982422,
          5.973446846008301,
          6.827144145965576,
          8.620826721191406,
          7.287942886352539,
          9.266594886779785,
          6.898321628570557,
          7.248510360717773,
          7.673761367797852,
          6.229369163513184,
          5.77714729309082,
          6.023285865783691,
          7.435746192932129,
          6.693843841552734,
          6.773266792297363,
          6.770485877990723,
          6.921034812927246,
          8.150713920593262,
          6.922903060913086,
          6.5769219398498535,
          6.237829685211182,
          7.3611931800842285,
          6.617032527923584,
          9.012866973876953
         ]
        },
        {
         "hovertemplate": "<b>%{hovertext}</b><br><br>color=C09<br>x=%{x}<br>y=%{y}<br>z=%{z}<extra></extra>",
         "hovertext": [
          "aphonia",
          "hoarseness",
          "tinnitus",
          "deafness",
          "vocal cord paralysis",
          "deafness neurosensory",
          "epistaxis",
          "nasopharyngitis",
          "rhinitis",
          "spinning sensation",
          "deglutition disorder",
          "laryngitis",
          "sinusitis",
          "allergic rhinitis",
          "otitis media",
          "dysphonia",
          "ear infection",
          "tympanic membrane perforation",
          "labyrinthitis",
          "hay fever",
          "hyperacusia"
         ],
         "legendgroup": "C09",
         "marker": {
          "color": "#FF6692",
          "symbol": "circle"
         },
         "mode": "markers",
         "name": "C09",
         "scene": "scene",
         "showlegend": true,
         "type": "scatter3d",
         "x": [
          0.3339887261390686,
          0.11224858462810516,
          0.60625159740448,
          -1.2629756927490234,
          -0.08982548117637634,
          -2.2358529567718506,
          -0.6785569190979004,
          -0.6209231019020081,
          0.4603250026702881,
          -0.06931997090578079,
          -1.233660101890564,
          0.2866177558898926,
          0.8067643642425537,
          0.8862318992614746,
          -0.32487013936042786,
          -0.40655723214149475,
          0.6134592890739441,
          -0.32012882828712463,
          0.9844757318496704,
          1.1752324104309082,
          0.21560949087142944
         ],
         "y": [
          -10.876229286193848,
          -9.58470344543457,
          -11.450161933898926,
          -11.506463050842285,
          -9.651495933532715,
          -10.486540794372559,
          -11.752223014831543,
          -10.803751945495605,
          -10.699506759643555,
          -9.520130157470703,
          -11.327681541442871,
          -10.477333068847656,
          -10.01221752166748,
          -10.383216857910156,
          -10.297394752502441,
          -11.93111515045166,
          -9.715933799743652,
          -10.125329971313477,
          -10.062758445739746,
          -10.543388366699219,
          -11.460865020751953
         ],
         "z": [
          6.755838871002197,
          8.512266159057617,
          8.383116722106934,
          7.731963157653809,
          7.616772174835205,
          6.129061222076416,
          6.49874210357666,
          7.687490940093994,
          7.727575778961182,
          7.324906349182129,
          7.397035121917725,
          7.975246906280518,
          6.619153022766113,
          8.049398422241211,
          7.989112377166748,
          7.257335662841797,
          7.608611583709717,
          8.664209365844727,
          7.819742202758789,
          6.780172348022461,
          9.024991035461426
         ]
        },
        {
         "hovertemplate": "<b>%{hovertext}</b><br><br>color=C05<br>x=%{x}<br>y=%{y}<br>z=%{z}<extra></extra>",
         "hovertext": [
          "bursitis",
          "aching muscles",
          "arthritis infective",
          "muscle weakness",
          "osteoporosis",
          "arthritis rheumatoid",
          "osteoarthritis",
          "fibromyalgia",
          "myoglobinuria",
          "osteomalacia",
          "aching joints",
          "arthritis",
          "osteomyelitis",
          "scoliosis",
          "rhabdomyolysis",
          "psoriatic arthritis",
          "bone inflammation",
          "arthropathy",
          "contracture",
          "spondylitis",
          "spondylosis",
          "synovitis",
          "tendinitis",
          "bone spur",
          "musculoskeletal pain",
          "muscle disorder",
          "cramp",
          "polymyositis",
          "shoulder pain",
          "gouty arthritis",
          "gout",
          "tenosynovitis",
          "dermatomyositis",
          "polymyalgia rheumatica",
          "polyarthritis",
          "sjogrens syndrome",
          "sacroiliitis",
          "bunion"
         ],
         "legendgroup": "C05",
         "marker": {
          "color": "#B6E880",
          "symbol": "circle"
         },
         "mode": "markers",
         "name": "C05",
         "scene": "scene",
         "showlegend": true,
         "type": "scatter3d",
         "x": [
          0.4742637276649475,
          0.06271371245384216,
          0.4553738236427307,
          -1.229650616645813,
          0.9695917963981628,
          -0.15561045706272125,
          0.6865452527999878,
          1.2497988939285278,
          -2.6761629581451416,
          0.9693503379821777,
          0.12322957068681717,
          1.182525396347046,
          0.7923650145530701,
          1.1074124574661255,
          -2.767082929611206,
          0.3184274733066559,
          1.203291416168213,
          0.711577296257019,
          -1.8515771627426147,
          0.07238015532493591,
          0.7827329039573669,
          -1.3118536472320557,
          1.2091349363327026,
          0.20739176869392395,
          0.24554193019866943,
          -1.770918846130371,
          0.5908573865890503,
          -1.086417555809021,
          0.4157871901988983,
          0.24248403310775757,
          0.5098844766616821,
          0.279781699180603,
          -1.866417407989502,
          -0.2157016396522522,
          0.5512682199478149,
          0.39910799264907837,
          0.30315497517585754,
          0.5630765557289124
         ],
         "y": [
          -10.340806007385254,
          -11.86346435546875,
          -9.07507038116455,
          -9.449601173400879,
          -10.222761154174805,
          -10.794289588928223,
          -10.288294792175293,
          -10.062742233276367,
          -11.095457077026367,
          -10.938252449035645,
          -11.59302806854248,
          -10.426351547241211,
          -10.550490379333496,
          -9.473122596740723,
          -10.452574729919434,
          -9.368573188781738,
          -10.684843063354492,
          -10.297685623168945,
          -11.45251750946045,
          -9.286060333251953,
          -9.56387996673584,
          -9.715217590332031,
          -9.574947357177734,
          -11.698189735412598,
          -10.230302810668945,
          -9.82050609588623,
          -9.902709007263184,
          -9.918431282043457,
          -10.331753730773926,
          -8.961628913879395,
          -10.488252639770508,
          -9.285151481628418,
          -9.965238571166992,
          -10.950910568237305,
          -9.830202102661133,
          -10.859607696533203,
          -9.083796501159668,
          -9.646261215209961
         ],
         "z": [
          8.729171752929688,
          7.387248516082764,
          7.850112438201904,
          6.765872001647949,
          7.065596580505371,
          7.5974249839782715,
          7.821012496948242,
          8.449065208435059,
          6.347103595733643,
          6.310234546661377,
          7.549073696136475,
          7.51487922668457,
          5.974489688873291,
          7.809679985046387,
          6.427332878112793,
          6.73557186126709,
          6.289524078369141,
          7.023691177368164,
          5.9321608543396,
          8.028775215148926,
          8.22027587890625,
          7.704492092132568,
          8.02927303314209,
          7.54618501663208,
          6.590996742248535,
          7.274776458740234,
          8.276108741760254,
          7.33354377746582,
          8.552390098571777,
          8.178949356079102,
          6.284822940826416,
          7.490736484527588,
          6.693843841552734,
          6.773266792297363,
          7.017941951751709,
          6.922903060913086,
          7.805473327636719,
          8.165037155151367
         ]
        },
        {
         "hovertemplate": "<b>%{hovertext}</b><br><br>color=C07<br>x=%{x}<br>y=%{y}<br>z=%{z}<extra></extra>",
         "hovertext": [
          "glossodynia",
          "nasopharyngitis",
          "mucositis oral",
          "facial palsy",
          "gingivitis",
          "bruxism",
          "tooth disease",
          "salivary gland inflammation",
          "dental caries",
          "mouth ulcer",
          "trigeminal neuralgia",
          "periodontal disease",
          "periodontitis",
          "glossitis",
          "parotitis",
          "aphthous stomatitis",
          "sjogrens syndrome",
          "mumps"
         ],
         "legendgroup": "C07",
         "marker": {
          "color": "#FF97FF",
          "symbol": "circle"
         },
         "mode": "markers",
         "name": "C07",
         "scene": "scene",
         "showlegend": true,
         "type": "scatter3d",
         "x": [
          0.008536260575056076,
          -0.6209231019020081,
          -0.45189279317855835,
          0.2917076051235199,
          0.9701805710792542,
          0.9135816693305969,
          1.0868152379989624,
          1.3429266214370728,
          1.1191006898880005,
          1.1002893447875977,
          0.913896381855011,
          1.0284408330917358,
          1.0011451244354248,
          -1.2212860584259033,
          0.22543953359127045,
          -0.06106700375676155,
          0.39910799264907837,
          0.8870006203651428
         ],
         "y": [
          -11.136245727539062,
          -10.803751945495605,
          -11.372477531433105,
          -9.789316177368164,
          -10.677767753601074,
          -10.597757339477539,
          -10.782466888427734,
          -10.627680778503418,
          -10.695528984069824,
          -10.745417594909668,
          -10.362470626831055,
          -10.795880317687988,
          -10.582183837890625,
          -11.33008861541748,
          -11.02260971069336,
          -11.182350158691406,
          -10.859607696533203,
          -10.302955627441406
         ],
         "z": [
          6.713962078094482,
          7.687490940093994,
          5.922353267669678,
          6.287980556488037,
          6.119607925415039,
          9.151118278503418,
          6.1615986824035645,
          6.770232677459717,
          6.553738594055176,
          6.382897853851318,
          7.299618244171143,
          6.144010066986084,
          6.656038761138916,
          7.168124675750732,
          6.335129261016846,
          7.375354766845703,
          6.922903060913086,
          8.602277755737305
         ]
        },
        {
         "hovertemplate": "<b>%{hovertext}</b><br><br>color=C19<br>x=%{x}<br>y=%{y}<br>z=%{z}<extra></extra>",
         "hovertext": [
          "hypothyroid",
          "diabetic acidosis",
          "diabetic retinopathy",
          "diabetes",
          "adrenal insufficiency",
          "diabetic nephropathy",
          "hyperparathyroidism",
          "goiter",
          "hyperthyroidism",
          "ovarian cyst",
          "pancreatic cancer",
          "diabetic neuropathy",
          "hyperprolactinaemia",
          "thyroid disease",
          "ovarian cancer",
          "diabetes insipidus",
          "hypogonadism"
         ],
         "legendgroup": "C19",
         "marker": {
          "color": "#FECB52",
          "symbol": "circle"
         },
         "mode": "markers",
         "name": "C19",
         "scene": "scene",
         "showlegend": true,
         "type": "scatter3d",
         "x": [
          0.5013294816017151,
          -0.47377485036849976,
          -0.8503071665763855,
          -0.5233688354492188,
          -1.1434009075164795,
          -2.458662271499634,
          0.017602141946554184,
          1.0684185028076172,
          -0.6264588832855225,
          0.5459476113319397,
          -0.9504315853118896,
          -0.11385282129049301,
          -0.9577812552452087,
          0.5734086036682129,
          -0.46747666597366333,
          0.43472620844841003,
          0.7191606760025024
         ],
         "y": [
          -11.416800498962402,
          -10.903352737426758,
          -9.359159469604492,
          -10.232964515686035,
          -10.891491889953613,
          -10.377228736877441,
          -10.444181442260742,
          -9.762152671813965,
          -10.849359512329102,
          -9.89520263671875,
          -10.528130531311035,
          -10.422385215759277,
          -11.444405555725098,
          -10.420797348022461,
          -11.207771301269531,
          -9.203916549682617,
          -10.476841926574707
         ],
         "z": [
          7.757167339324951,
          8.671361923217773,
          7.417973518371582,
          8.163093566894531,
          7.709779262542725,
          6.640548229217529,
          6.393925666809082,
          7.839917182922363,
          8.630401611328125,
          8.960259437561035,
          6.925118923187256,
          8.737266540527344,
          8.519556999206543,
          7.385606288909912,
          6.393624782562256,
          8.29277229309082,
          9.196557998657227
         ]
        },
        {
         "hovertemplate": "<b>%{hovertext}</b><br><br>color=F<br>x=%{x}<br>y=%{y}<br>z=%{z}<extra></extra>",
         "hovertext": [
          "anxiety",
          "panic disorder",
          "bipolar disorder",
          "major depression",
          "alcohol consumption",
          "schizoaffective disorder",
          "borderline personality disorder",
          "agoraphobia",
          "conversion disorder"
         ],
         "legendgroup": "F",
         "marker": {
          "color": "#636efa",
          "symbol": "circle"
         },
         "mode": "markers",
         "name": "F",
         "scene": "scene",
         "showlegend": true,
         "type": "scatter3d",
         "x": [
          0.7949156165122986,
          0.9674282073974609,
          0.7793165445327759,
          0.8804078698158264,
          -0.5945373177528381,
          0.015605992637574673,
          0.5872450470924377,
          0.8453099131584167,
          -0.293019562959671
         ],
         "y": [
          -11.266955375671387,
          -10.365057945251465,
          -10.111089706420898,
          -10.559638977050781,
          -11.787702560424805,
          -10.943592071533203,
          -10.637299537658691,
          -10.674254417419434,
          -11.033269882202148
         ],
         "z": [
          8.50762939453125,
          8.6897611618042,
          9.221511840820312,
          9.152145385742188,
          8.27255630493164,
          9.24205493927002,
          9.102336883544922,
          8.891876220703125,
          8.597928047180176
         ]
        },
        {
         "hovertemplate": "<b>%{hovertext}</b><br><br>color=C16<br>x=%{x}<br>y=%{y}<br>z=%{z}<extra></extra>",
         "hovertext": [
          "renal tubular acidosis",
          "gouty arthritis",
          "umbilical hernia",
          "gout",
          "congenital heart disease",
          "birth defect"
         ],
         "legendgroup": "C16",
         "marker": {
          "color": "#EF553B",
          "symbol": "circle"
         },
         "mode": "markers",
         "name": "C16",
         "scene": "scene",
         "showlegend": true,
         "type": "scatter3d",
         "x": [
          -1.6866730451583862,
          0.24248403310775757,
          0.6034588813781738,
          0.5098844766616821,
          -0.81320720911026,
          0.451337069272995
         ],
         "y": [
          -10.71177864074707,
          -8.961628913879395,
          -9.666594505310059,
          -10.488252639770508,
          -10.653130531311035,
          -9.717392921447754
         ],
         "z": [
          6.716936111450195,
          8.178949356079102,
          8.314596176147461,
          6.284822940826416,
          8.095575332641602,
          6.809108257293701
         ]
        }
       ],
       "layout": {
        "legend": {
         "title": {
          "text": "color"
         },
         "tracegroupgap": 0
        },
        "margin": {
         "t": 60
        },
        "scene": {
         "domain": {
          "x": [
           0,
           1
          ],
          "y": [
           0,
           1
          ]
         },
         "xaxis": {
          "title": {
           "text": "x"
          }
         },
         "yaxis": {
          "title": {
           "text": "y"
          }
         },
         "zaxis": {
          "title": {
           "text": "z"
          }
         }
        },
        "template": {
         "data": {
          "bar": [
           {
            "error_x": {
             "color": "#2a3f5f"
            },
            "error_y": {
             "color": "#2a3f5f"
            },
            "marker": {
             "line": {
              "color": "#E5ECF6",
              "width": 0.5
             }
            },
            "type": "bar"
           }
          ],
          "barpolar": [
           {
            "marker": {
             "line": {
              "color": "#E5ECF6",
              "width": 0.5
             }
            },
            "type": "barpolar"
           }
          ],
          "carpet": [
           {
            "aaxis": {
             "endlinecolor": "#2a3f5f",
             "gridcolor": "white",
             "linecolor": "white",
             "minorgridcolor": "white",
             "startlinecolor": "#2a3f5f"
            },
            "baxis": {
             "endlinecolor": "#2a3f5f",
             "gridcolor": "white",
             "linecolor": "white",
             "minorgridcolor": "white",
             "startlinecolor": "#2a3f5f"
            },
            "type": "carpet"
           }
          ],
          "choropleth": [
           {
            "colorbar": {
             "outlinewidth": 0,
             "ticks": ""
            },
            "type": "choropleth"
           }
          ],
          "contour": [
           {
            "colorbar": {
             "outlinewidth": 0,
             "ticks": ""
            },
            "colorscale": [
             [
              0,
              "#0d0887"
             ],
             [
              0.1111111111111111,
              "#46039f"
             ],
             [
              0.2222222222222222,
              "#7201a8"
             ],
             [
              0.3333333333333333,
              "#9c179e"
             ],
             [
              0.4444444444444444,
              "#bd3786"
             ],
             [
              0.5555555555555556,
              "#d8576b"
             ],
             [
              0.6666666666666666,
              "#ed7953"
             ],
             [
              0.7777777777777778,
              "#fb9f3a"
             ],
             [
              0.8888888888888888,
              "#fdca26"
             ],
             [
              1,
              "#f0f921"
             ]
            ],
            "type": "contour"
           }
          ],
          "contourcarpet": [
           {
            "colorbar": {
             "outlinewidth": 0,
             "ticks": ""
            },
            "type": "contourcarpet"
           }
          ],
          "heatmap": [
           {
            "colorbar": {
             "outlinewidth": 0,
             "ticks": ""
            },
            "colorscale": [
             [
              0,
              "#0d0887"
             ],
             [
              0.1111111111111111,
              "#46039f"
             ],
             [
              0.2222222222222222,
              "#7201a8"
             ],
             [
              0.3333333333333333,
              "#9c179e"
             ],
             [
              0.4444444444444444,
              "#bd3786"
             ],
             [
              0.5555555555555556,
              "#d8576b"
             ],
             [
              0.6666666666666666,
              "#ed7953"
             ],
             [
              0.7777777777777778,
              "#fb9f3a"
             ],
             [
              0.8888888888888888,
              "#fdca26"
             ],
             [
              1,
              "#f0f921"
             ]
            ],
            "type": "heatmap"
           }
          ],
          "heatmapgl": [
           {
            "colorbar": {
             "outlinewidth": 0,
             "ticks": ""
            },
            "colorscale": [
             [
              0,
              "#0d0887"
             ],
             [
              0.1111111111111111,
              "#46039f"
             ],
             [
              0.2222222222222222,
              "#7201a8"
             ],
             [
              0.3333333333333333,
              "#9c179e"
             ],
             [
              0.4444444444444444,
              "#bd3786"
             ],
             [
              0.5555555555555556,
              "#d8576b"
             ],
             [
              0.6666666666666666,
              "#ed7953"
             ],
             [
              0.7777777777777778,
              "#fb9f3a"
             ],
             [
              0.8888888888888888,
              "#fdca26"
             ],
             [
              1,
              "#f0f921"
             ]
            ],
            "type": "heatmapgl"
           }
          ],
          "histogram": [
           {
            "marker": {
             "colorbar": {
              "outlinewidth": 0,
              "ticks": ""
             }
            },
            "type": "histogram"
           }
          ],
          "histogram2d": [
           {
            "colorbar": {
             "outlinewidth": 0,
             "ticks": ""
            },
            "colorscale": [
             [
              0,
              "#0d0887"
             ],
             [
              0.1111111111111111,
              "#46039f"
             ],
             [
              0.2222222222222222,
              "#7201a8"
             ],
             [
              0.3333333333333333,
              "#9c179e"
             ],
             [
              0.4444444444444444,
              "#bd3786"
             ],
             [
              0.5555555555555556,
              "#d8576b"
             ],
             [
              0.6666666666666666,
              "#ed7953"
             ],
             [
              0.7777777777777778,
              "#fb9f3a"
             ],
             [
              0.8888888888888888,
              "#fdca26"
             ],
             [
              1,
              "#f0f921"
             ]
            ],
            "type": "histogram2d"
           }
          ],
          "histogram2dcontour": [
           {
            "colorbar": {
             "outlinewidth": 0,
             "ticks": ""
            },
            "colorscale": [
             [
              0,
              "#0d0887"
             ],
             [
              0.1111111111111111,
              "#46039f"
             ],
             [
              0.2222222222222222,
              "#7201a8"
             ],
             [
              0.3333333333333333,
              "#9c179e"
             ],
             [
              0.4444444444444444,
              "#bd3786"
             ],
             [
              0.5555555555555556,
              "#d8576b"
             ],
             [
              0.6666666666666666,
              "#ed7953"
             ],
             [
              0.7777777777777778,
              "#fb9f3a"
             ],
             [
              0.8888888888888888,
              "#fdca26"
             ],
             [
              1,
              "#f0f921"
             ]
            ],
            "type": "histogram2dcontour"
           }
          ],
          "mesh3d": [
           {
            "colorbar": {
             "outlinewidth": 0,
             "ticks": ""
            },
            "type": "mesh3d"
           }
          ],
          "parcoords": [
           {
            "line": {
             "colorbar": {
              "outlinewidth": 0,
              "ticks": ""
             }
            },
            "type": "parcoords"
           }
          ],
          "pie": [
           {
            "automargin": true,
            "type": "pie"
           }
          ],
          "scatter": [
           {
            "marker": {
             "colorbar": {
              "outlinewidth": 0,
              "ticks": ""
             }
            },
            "type": "scatter"
           }
          ],
          "scatter3d": [
           {
            "line": {
             "colorbar": {
              "outlinewidth": 0,
              "ticks": ""
             }
            },
            "marker": {
             "colorbar": {
              "outlinewidth": 0,
              "ticks": ""
             }
            },
            "type": "scatter3d"
           }
          ],
          "scattercarpet": [
           {
            "marker": {
             "colorbar": {
              "outlinewidth": 0,
              "ticks": ""
             }
            },
            "type": "scattercarpet"
           }
          ],
          "scattergeo": [
           {
            "marker": {
             "colorbar": {
              "outlinewidth": 0,
              "ticks": ""
             }
            },
            "type": "scattergeo"
           }
          ],
          "scattergl": [
           {
            "marker": {
             "colorbar": {
              "outlinewidth": 0,
              "ticks": ""
             }
            },
            "type": "scattergl"
           }
          ],
          "scattermapbox": [
           {
            "marker": {
             "colorbar": {
              "outlinewidth": 0,
              "ticks": ""
             }
            },
            "type": "scattermapbox"
           }
          ],
          "scatterpolar": [
           {
            "marker": {
             "colorbar": {
              "outlinewidth": 0,
              "ticks": ""
             }
            },
            "type": "scatterpolar"
           }
          ],
          "scatterpolargl": [
           {
            "marker": {
             "colorbar": {
              "outlinewidth": 0,
              "ticks": ""
             }
            },
            "type": "scatterpolargl"
           }
          ],
          "scatterternary": [
           {
            "marker": {
             "colorbar": {
              "outlinewidth": 0,
              "ticks": ""
             }
            },
            "type": "scatterternary"
           }
          ],
          "surface": [
           {
            "colorbar": {
             "outlinewidth": 0,
             "ticks": ""
            },
            "colorscale": [
             [
              0,
              "#0d0887"
             ],
             [
              0.1111111111111111,
              "#46039f"
             ],
             [
              0.2222222222222222,
              "#7201a8"
             ],
             [
              0.3333333333333333,
              "#9c179e"
             ],
             [
              0.4444444444444444,
              "#bd3786"
             ],
             [
              0.5555555555555556,
              "#d8576b"
             ],
             [
              0.6666666666666666,
              "#ed7953"
             ],
             [
              0.7777777777777778,
              "#fb9f3a"
             ],
             [
              0.8888888888888888,
              "#fdca26"
             ],
             [
              1,
              "#f0f921"
             ]
            ],
            "type": "surface"
           }
          ],
          "table": [
           {
            "cells": {
             "fill": {
              "color": "#EBF0F8"
             },
             "line": {
              "color": "white"
             }
            },
            "header": {
             "fill": {
              "color": "#C8D4E3"
             },
             "line": {
              "color": "white"
             }
            },
            "type": "table"
           }
          ]
         },
         "layout": {
          "annotationdefaults": {
           "arrowcolor": "#2a3f5f",
           "arrowhead": 0,
           "arrowwidth": 1
          },
          "autotypenumbers": "strict",
          "coloraxis": {
           "colorbar": {
            "outlinewidth": 0,
            "ticks": ""
           }
          },
          "colorscale": {
           "diverging": [
            [
             0,
             "#8e0152"
            ],
            [
             0.1,
             "#c51b7d"
            ],
            [
             0.2,
             "#de77ae"
            ],
            [
             0.3,
             "#f1b6da"
            ],
            [
             0.4,
             "#fde0ef"
            ],
            [
             0.5,
             "#f7f7f7"
            ],
            [
             0.6,
             "#e6f5d0"
            ],
            [
             0.7,
             "#b8e186"
            ],
            [
             0.8,
             "#7fbc41"
            ],
            [
             0.9,
             "#4d9221"
            ],
            [
             1,
             "#276419"
            ]
           ],
           "sequential": [
            [
             0,
             "#0d0887"
            ],
            [
             0.1111111111111111,
             "#46039f"
            ],
            [
             0.2222222222222222,
             "#7201a8"
            ],
            [
             0.3333333333333333,
             "#9c179e"
            ],
            [
             0.4444444444444444,
             "#bd3786"
            ],
            [
             0.5555555555555556,
             "#d8576b"
            ],
            [
             0.6666666666666666,
             "#ed7953"
            ],
            [
             0.7777777777777778,
             "#fb9f3a"
            ],
            [
             0.8888888888888888,
             "#fdca26"
            ],
            [
             1,
             "#f0f921"
            ]
           ],
           "sequentialminus": [
            [
             0,
             "#0d0887"
            ],
            [
             0.1111111111111111,
             "#46039f"
            ],
            [
             0.2222222222222222,
             "#7201a8"
            ],
            [
             0.3333333333333333,
             "#9c179e"
            ],
            [
             0.4444444444444444,
             "#bd3786"
            ],
            [
             0.5555555555555556,
             "#d8576b"
            ],
            [
             0.6666666666666666,
             "#ed7953"
            ],
            [
             0.7777777777777778,
             "#fb9f3a"
            ],
            [
             0.8888888888888888,
             "#fdca26"
            ],
            [
             1,
             "#f0f921"
            ]
           ]
          },
          "colorway": [
           "#636efa",
           "#EF553B",
           "#00cc96",
           "#ab63fa",
           "#FFA15A",
           "#19d3f3",
           "#FF6692",
           "#B6E880",
           "#FF97FF",
           "#FECB52"
          ],
          "font": {
           "color": "#2a3f5f"
          },
          "geo": {
           "bgcolor": "white",
           "lakecolor": "white",
           "landcolor": "#E5ECF6",
           "showlakes": true,
           "showland": true,
           "subunitcolor": "white"
          },
          "hoverlabel": {
           "align": "left"
          },
          "hovermode": "closest",
          "mapbox": {
           "style": "light"
          },
          "paper_bgcolor": "white",
          "plot_bgcolor": "#E5ECF6",
          "polar": {
           "angularaxis": {
            "gridcolor": "white",
            "linecolor": "white",
            "ticks": ""
           },
           "bgcolor": "#E5ECF6",
           "radialaxis": {
            "gridcolor": "white",
            "linecolor": "white",
            "ticks": ""
           }
          },
          "scene": {
           "xaxis": {
            "backgroundcolor": "#E5ECF6",
            "gridcolor": "white",
            "gridwidth": 2,
            "linecolor": "white",
            "showbackground": true,
            "ticks": "",
            "zerolinecolor": "white"
           },
           "yaxis": {
            "backgroundcolor": "#E5ECF6",
            "gridcolor": "white",
            "gridwidth": 2,
            "linecolor": "white",
            "showbackground": true,
            "ticks": "",
            "zerolinecolor": "white"
           },
           "zaxis": {
            "backgroundcolor": "#E5ECF6",
            "gridcolor": "white",
            "gridwidth": 2,
            "linecolor": "white",
            "showbackground": true,
            "ticks": "",
            "zerolinecolor": "white"
           }
          },
          "shapedefaults": {
           "line": {
            "color": "#2a3f5f"
           }
          },
          "ternary": {
           "aaxis": {
            "gridcolor": "white",
            "linecolor": "white",
            "ticks": ""
           },
           "baxis": {
            "gridcolor": "white",
            "linecolor": "white",
            "ticks": ""
           },
           "bgcolor": "#E5ECF6",
           "caxis": {
            "gridcolor": "white",
            "linecolor": "white",
            "ticks": ""
           }
          },
          "title": {
           "x": 0.05
          },
          "xaxis": {
           "automargin": true,
           "gridcolor": "white",
           "linecolor": "white",
           "ticks": "",
           "title": {
            "standoff": 15
           },
           "zerolinecolor": "white",
           "zerolinewidth": 2
          },
          "yaxis": {
           "automargin": true,
           "gridcolor": "white",
           "linecolor": "white",
           "ticks": "",
           "title": {
            "standoff": 15
           },
           "zerolinecolor": "white",
           "zerolinewidth": 2
          }
         }
        }
       }
      },
      "text/html": "<div>                            <div id=\"761855b4-a8b4-4da2-b961-d36d6b0eda1c\" class=\"plotly-graph-div\" style=\"height:525px; width:100%;\"></div>            <script type=\"text/javascript\">                require([\"plotly\"], function(Plotly) {                    window.PLOTLYENV=window.PLOTLYENV || {};                                    if (document.getElementById(\"761855b4-a8b4-4da2-b961-d36d6b0eda1c\")) {                    Plotly.newPlot(                        \"761855b4-a8b4-4da2-b961-d36d6b0eda1c\",                        [{\"hovertemplate\": \"<b>%{hovertext}</b><br><br>color=C08<br>x=%{x}<br>y=%{y}<br>z=%{z}<extra></extra>\", \"hovertext\": [\"atelectasis\", \"lung edema\", \"apnea\", \"acute respiratory distress syndrome\", \"pneumothorax\", \"respiratory failure\", \"pulmonary hypertension\", \"neumonia\", \"chronic obstructive airway disease\", \"aphonia\", \"pneumonia staphylococcal\", \"lobar pneumonia\", \"pleurisy\", \"hoarseness\", \"aspiration pneumonia\", \"asthma\", \"vocal cord paralysis\", \"epistaxis\", \"nasopharyngitis\", \"rhinitis\", \"embolism pulmonary\", \"pleural pain\", \"cough\", \"bronchitis\", \"bronchial spasm\", \"lung neoplasms\", \"laryngitis\", \"pleural effusion\", \"sinusitis\", \"sleep apnea\", \"allergic rhinitis\", \"dysphonia\", \"acute bronchitis\", \"respiratory alkalosis\", \"choking\", \"bacterial pneumonia\", \"tracheitis\", \"bronchiectasis\", \"hay fever\"], \"legendgroup\": \"C08\", \"marker\": {\"color\": \"#636efa\", \"symbol\": \"circle\"}, \"mode\": \"markers\", \"name\": \"C08\", \"scene\": \"scene\", \"showlegend\": true, \"type\": \"scatter3d\", \"x\": [-0.4564867615699768, -2.14504075050354, -1.7798982858657837, -2.490842342376709, -1.6416516304016113, -2.626214027404785, -0.8200337886810303, -1.7798678874969482, -1.4462089538574219, 0.3339887261390686, -0.8226432800292969, -1.777427315711975, 1.1317665576934814, 0.11224858462810516, -1.02519690990448, 0.994182825088501, -0.08982548117637634, -0.6785569190979004, -0.6209231019020081, 0.4603250026702881, -1.627281665802002, -0.35988864302635193, -0.39877331256866455, 0.037388551980257034, -0.14988771080970764, -1.1485967636108398, 0.2866177558898926, -2.3939995765686035, 0.8067643642425537, 0.747431755065918, 0.8862318992614746, -0.40655723214149475, -0.03012699820101261, -1.6617897748947144, -0.5536735653877258, -1.2864619493484497, 0.3059017062187195, -0.5494384765625, 1.1752324104309082], \"y\": [-9.674312591552734, -10.33666706085205, -9.749320030212402, -11.09742546081543, -11.782025337219238, -10.425901412963867, -9.223654747009277, -11.204619407653809, -9.45102596282959, -10.876229286193848, -10.703290939331055, -10.92640209197998, -9.800341606140137, -9.58470344543457, -11.550868034362793, -10.453996658325195, -9.651495933532715, -11.752223014831543, -10.803751945495605, -10.699506759643555, -11.71143913269043, -11.942306518554688, -11.136364936828613, -10.633935928344727, -10.639565467834473, -11.205453872680664, -10.477333068847656, -10.215594291687012, -10.01221752166748, -9.516002655029297, -10.383216857910156, -11.93111515045166, -10.053911209106445, -10.409250259399414, -11.284857749938965, -11.346403121948242, -9.096668243408203, -9.963730812072754, -10.543388366699219], \"z\": [6.063847541809082, 5.882496356964111, 6.169711589813232, 6.013808250427246, 6.788546085357666, 5.906625747680664, 6.593295574188232, 6.886569976806641, 7.64884090423584, 6.755838871002197, 7.4977874755859375, 7.07401180267334, 8.323662757873535, 8.512266159057617, 8.375588417053223, 7.886649131774902, 7.616772174835205, 6.49874210357666, 7.687490940093994, 7.727575778961182, 6.7420172691345215, 7.468181610107422, 6.853157043457031, 8.046919822692871, 7.990523815155029, 6.144909858703613, 7.975246906280518, 5.772740840911865, 6.619153022766113, 8.40074348449707, 8.049398422241211, 7.257335662841797, 8.245346069335938, 6.7888922691345215, 8.252253532409668, 6.1370978355407715, 7.826285362243652, 6.124523639678955, 6.780172348022461]}, {\"hovertemplate\": \"<b>%{hovertext}</b><br><br>color=C23<br>x=%{x}<br>y=%{y}<br>z=%{z}<extra></extra>\", \"hovertext\": [\"back ache\", \"apnea\", \"flatulence\", \"bradycardia\", \"bleeding\", \"cerebral infarct\", \"hypoxia\", \"sepsis\", \"flank pain\", \"hypercapnia\", \"leucocytosis\", \"sinus tachycardia\", \"edema\", \"confusion\", \"still birth\", \"anorexia\", \"tremor\", \"hallucination\", \"head ache\", \"erythema\", \"diplopia\", \"enlarged spleen\", \"icterus\", \"sleep disorder\", \"septic shock\", \"aphonia\", \"pain\", \"idiopathic thrombocytopenic purpura\", \"alopecia\", \"rhinorrhea\", \"dizziness\", \"hoarseness\", \"fatigue\", \"diarrhea\", \"tinnitus\", \"muscle spasm\", \"glossodynia\", \"cellulitis\", \"constipated\", \"muscle paresis\", \"deafness\", \"vocal cord paralysis\", \"eye pain\", \"retrocollis\", \"deafness neurosensory\", \"haematoma\", \"bleb\", \"amenorrhea\", \"epistaxis\", \"abdominal pain\", \"chest pain\", \"aching muscles\", \"abscess\", \"loss of consciousness\", \"loss of weight\", \"belching\", \"heart attack\", \"azotaemia\", \"muscle weakness\", \"dyspepsia\", \"asthenia\", \"emesis\", \"paraesthesia\", \"fainting\", \"sneezing\", \"diverticulosis\", \"breast pain\", \"ischias\", \"aching joints\", \"colonic polyp\", \"extrasystoles ventricular\", \"incontinence\", \"cough\", \"nocturia\", \"spinning sensation\", \"polyp\", \"enlarged liver\", \"coma\", \"convulsion\", \"hernia\", \"dysarthria\", \"aphasia\", \"amnesia\", \"dehydration\", \"ataxia\", \"cerebral haemorrhage\", \"facial palsy\", \"nausea\", \"bilirubinaemia\", \"cervicalgia\", \"neuralgia\", \"hemiplegia\", \"emphysema\", \"postherpetic neuralgia\", \"blindness\", \"cardiac murmur\", \"proteinuria\", \"weight gain\", \"ecchymoses\", \"tardive dyskinesia\", \"apraxia\", \"scar\", \"pain pelvic\", \"haematochezia\", \"dysphonia\", \"dysuria\", \"sinus bradycardia\", \"atrial ectopic beats\", \"fistula\", \"dysaesthesia\", \"arrhythmia\", \"musculoskeletal pain\", \"ulcer\", \"sick sinus syndrome\", \"bundle branch block\", \"cramp\", \"atrial flutter\", \"light sensitivity\", \"hemiparesis\", \"bacteraemia\", \"ventricular fibrillation\", \"gangrene\", \"cirrhosis\", \"polyuria\", \"obesity\", \"haematemesis\", \"granuloma\", \"failure to thrive\", \"shoulder pain\", \"supraventricular tachycardia\", \"cyst\", \"abdominal hernia\", \"subarachnoid haemorrhage\", \"umbilical hernia\", \"palsies\", \"face pain\", \"atrioventricular block\", \"breakthrough bleeding\", \"seroma\", \"scotoma\", \"hyperuricaemia\", \"hyperaesthesia\", \"diaphragmatic hernia\", \"hiccough\", \"volvulus\", \"left ventricular hypertrophy\", \"anosmia\", \"incisional hernia\", \"splenic infarction\", \"paraplegia\", \"bradyarrhythmia\", \"pigmentation disorder\", \"empyema\", \"neurogenic bladder\", \"uterine bleeding\", \"hyperacusia\", \"food intolerance\", \"anisocoria\", \"status epilepticus\", \"tinea pedis\"], \"legendgroup\": \"C23\", \"marker\": {\"color\": \"#EF553B\", \"symbol\": \"circle\"}, \"mode\": \"markers\", \"name\": \"C23\", \"scene\": \"scene\", \"showlegend\": true, \"type\": \"scatter3d\", \"x\": [1.0522346496582031, -1.7798982858657837, -0.3136703372001648, -2.781775712966919, -2.0527729988098145, -1.7427232265472412, -2.3252248764038086, -2.6230502128601074, 1.034185767173767, -1.6592576503753662, -1.6558923721313477, -1.5976285934448242, -0.979498565196991, -1.5029845237731934, -1.7045302391052246, -1.1182416677474976, 0.008410279639065266, -0.57975172996521, 0.13137389719486237, -0.856624960899353, 0.20808348059654236, -2.231196880340576, -2.5494003295898438, 0.9840826392173767, -2.4049806594848633, 0.3339887261390686, 0.2716335356235504, -1.4798390865325928, 0.003597289090976119, -1.0198630094528198, 0.18954503536224365, 0.11224858462810516, -0.5278235077857971, -1.0155774354934692, 0.60625159740448, 0.8895118236541748, 0.008536260575056076, 0.22646376490592957, -0.5116865038871765, -0.9240634441375732, -1.2629756927490234, -0.08982548117637634, -0.13566173613071442, 0.7021968364715576, -2.2358529567718506, -2.370570421218872, -1.8507707118988037, 0.7206020951271057, -0.6785569190979004, -1.2426304817199707, -0.3858027756214142, 0.06271371245384216, 0.9572637677192688, -0.9007563591003418, 0.38164153695106506, 0.2594285309314728, -1.6540913581848145, -0.038866523653268814, -1.229650616645813, 0.32987910509109497, -0.6332518458366394, -0.8219772577285767, -0.1499241292476654, -0.7915072441101074, 0.5965089201927185, 0.08405067026615143, 1.1796742677688599, 0.16019783914089203, 0.12322957068681717, 0.6265535354614258, -2.4782707691192627, -0.6409700512886047, -0.39877331256866455, 0.4753735661506653, -0.06931997090578079, 0.03231964260339737, -2.255283832550049, -1.8558887243270874, -1.8865286111831665, -0.21600717306137085, -0.6429532766342163, -1.8162468671798706, 0.35056209564208984, -1.2508180141448975, -1.8742035627365112, -2.0639901161193848, 0.2917076051235199, -0.6127132177352905, -2.584991693496704, 0.5962311029434204, -0.03938084468245506, -1.581364393234253, 0.20482218265533447, -1.2057616710662842, -1.1443638801574707, 0.4700954854488373, -2.4425015449523926, 0.7093054056167603, 0.19743911921977997, -0.09842903912067413, -0.7883079051971436, 0.48493441939353943, 0.8250781893730164, -0.897244930267334, -0.40655723214149475, -0.27621662616729736, -1.9957292079925537, -2.2916688919067383, 0.9141037464141846, -0.8547872304916382, -1.979689359664917, 0.24554193019866943, 0.19116458296775818, -1.7053357362747192, 0.05142374336719513, 0.5908573865890503, -2.0519659519195557, -0.29391273856163025, -0.7034359574317932, -1.96603524684906, -2.610544443130493, -1.92634117603302, -0.19771498441696167, -0.7469295859336853, -0.13584300875663757, -1.956803560256958, -0.051671791821718216, -1.3227570056915283, 0.4157871901988983, -1.4683300256729126, 0.5930720567703247, 0.012307596392929554, -2.351963758468628, 0.6034588813781738, -1.3019648790359497, 0.8500498533248901, -1.9973037242889404, 1.4159877300262451, 0.03198378160595894, -0.8499661684036255, -2.3965466022491455, -0.9777360558509827, 0.4772092401981354, -1.7771286964416504, 0.9396647214889526, -1.0597128868103027, -0.4574955701828003, -0.5410292148590088, -2.302802085876465, -1.65223228931427, -2.3675129413604736, -1.2755780220031738, -2.1714670658111572, -0.37395480275154114, -0.29097381234169006, 0.21560949087142944, -0.4661838114261627, -0.6327197551727295, -1.778552770614624, 0.006439438089728355], \"y\": [-10.9522066116333, -9.749320030212402, -10.084497451782227, -10.214163780212402, -10.919429779052734, -9.461724281311035, -10.821505546569824, -11.177872657775879, -10.268007278442383, -10.046619415283203, -10.053464889526367, -10.10807991027832, -11.611308097839355, -11.759516716003418, -10.156794548034668, -11.943920135498047, -11.57196044921875, -9.669944763183594, -11.843870162963867, -10.647326469421387, -11.11007022857666, -10.98536205291748, -10.423008918762207, -10.694100379943848, -11.465375900268555, -10.876229286193848, -10.238287925720215, -11.534371376037598, -10.795021057128906, -9.531251907348633, -11.762463569641113, -9.58470344543457, -11.944619178771973, -11.819250106811523, -11.450161933898926, -11.207167625427246, -11.136245727539062, -10.665863037109375, -11.4937162399292, -10.858274459838867, -11.506463050842285, -9.651495933532715, -11.944625854492188, -10.051456451416016, -10.486540794372559, -9.98678970336914, -10.399861335754395, -11.227476119995117, -11.752223014831543, -11.473416328430176, -11.54848861694336, -11.86346435546875, -10.928184509277344, -11.87646198272705, -11.429070472717285, -10.93773078918457, -9.392151832580566, -9.95086669921875, -9.449601173400879, -10.916831970214844, -11.750581741333008, -11.795648574829102, -12.024530410766602, -11.60047721862793, -10.066699028015137, -10.315526962280273, -10.168841361999512, -10.525075912475586, -11.59302806854248, -9.225489616394043, -9.922647476196289, -9.512383460998535, -11.136364936828613, -9.602110862731934, -9.520130157470703, -10.603832244873047, -11.17422866821289, -9.99420166015625, -11.91132640838623, -9.847481727600098, -11.190425872802734, -11.904333114624023, -11.302107810974121, -11.433732986450195, -11.914863586425781, -10.64505672454834, -9.789316177368164, -11.750221252441406, -10.53518009185791, -10.284799575805664, -11.059426307678223, -9.53743839263916, -10.945927619934082, -11.389463424682617, -11.687843322753906, -10.278478622436523, -10.74411678314209, -10.932774543762207, -11.167481422424316, -11.104588508605957, -9.319738388061523, -10.290934562683105, -10.875153541564941, -10.516789436340332, -11.93111515045166, -10.391417503356934, -9.531017303466797, -9.942656517028809, -10.875334739685059, -9.525203704833984, -9.729181289672852, -10.230302810668945, -9.459678649902344, -9.601816177368164, -9.955551147460938, -9.902709007263184, -9.511204719543457, -12.130799293518066, -10.47418212890625, -10.809793472290039, -11.222611427307129, -9.761382102966309, -10.518774032592773, -10.591636657714844, -10.197662353515625, -10.716464042663574, -10.985489845275879, -10.856359481811523, -10.331753730773926, -11.397032737731934, -10.296557426452637, -9.298397064208984, -10.687744140625, -9.666594505310059, -9.450298309326172, -9.989070892333984, -9.640201568603516, -10.521428108215332, -10.598544120788574, -11.841463088989258, -10.38199520111084, -9.48241901397705, -9.406782150268555, -9.893577575683594, -10.217612266540527, -11.029030799865723, -11.828950881958008, -10.344095230102539, -11.201339721679688, -10.485865592956543, -9.956857681274414, -9.408742904663086, -10.682270050048828, -9.507701873779297, -10.314750671386719, -11.460865020751953, -12.094359397888184, -10.230212211608887, -11.827749252319336, -10.370674133300781], \"z\": [8.159600257873535, 6.169711589813232, 6.8946051597595215, 6.2083539962768555, 5.684117317199707, 6.937858581542969, 6.146106719970703, 6.360445022583008, 7.546599388122559, 6.618396759033203, 5.895596504211426, 6.496389389038086, 6.580023288726807, 7.308889865875244, 6.183931350708008, 6.8987345695495605, 8.72897720336914, 7.5206618309021, 7.8218464851379395, 5.855896949768066, 7.930898189544678, 6.23952579498291, 5.579539775848389, 8.302156448364258, 6.813173770904541, 6.755838871002197, 6.584010124206543, 6.6081929206848145, 6.071065902709961, 6.883742809295654, 7.762371063232422, 8.512266159057617, 7.140621662139893, 6.745491027832031, 8.383116722106934, 8.455309867858887, 6.713962078094482, 6.558393478393555, 7.064058780670166, 7.503183841705322, 7.731963157653809, 7.616772174835205, 7.759361267089844, 9.27010726928711, 6.129061222076416, 6.176044464111328, 5.6066203117370605, 7.824184894561768, 6.49874210357666, 6.819295406341553, 7.520624160766602, 7.387248516082764, 6.773410797119141, 6.911924362182617, 7.227038860321045, 7.559443473815918, 7.299278736114502, 5.917312145233154, 6.765872001647949, 7.5596184730529785, 7.307515621185303, 6.632416725158691, 7.587844371795654, 7.542753219604492, 8.46269416809082, 6.047677516937256, 6.801856994628906, 7.249052047729492, 7.549073696136475, 8.00292682647705, 6.07705545425415, 7.95050048828125, 6.853157043457031, 8.239500045776367, 7.324906349182129, 7.17781925201416, 6.320181846618652, 7.2064104080200195, 7.461910247802734, 7.392614841461182, 8.467262268066406, 7.488601207733154, 8.766230583190918, 6.5500335693359375, 7.486159324645996, 5.706861972808838, 6.287980556488037, 6.6306867599487305, 5.553191184997559, 8.628395080566406, 8.231616973876953, 6.706362247467041, 7.749490261077881, 7.34315824508667, 6.832739353179932, 6.86573600769043, 6.512929916381836, 8.245367050170898, 7.689908981323242, 9.410713195800781, 7.540014266967773, 6.445393085479736, 7.874607563018799, 7.909569263458252, 7.257335662841797, 8.561127662658691, 6.3922810554504395, 6.013701915740967, 6.202822208404541, 7.887212753295898, 6.139448165893555, 6.590996742248535, 6.68905782699585, 6.343007564544678, 6.441847324371338, 8.276108741760254, 6.310085296630859, 7.372406005859375, 6.988894462585449, 5.869100093841553, 6.424165725708008, 6.834343910217285, 7.358009338378906, 8.17131519317627, 8.464421272277832, 6.101693153381348, 6.95884895324707, 7.051939487457275, 8.552390098571777, 7.216960906982422, 7.028174877166748, 6.949954032897949, 6.178011417388916, 8.314596176147461, 7.0529866218566895, 7.035123825073242, 6.5140838623046875, 7.710670471191406, 7.836837291717529, 6.692845821380615, 5.826951026916504, 7.179271697998047, 8.122204780578613, 6.900669097900391, 9.042795181274414, 5.7750935554504395, 7.533065319061279, 8.819714546203613, 6.527247905731201, 6.297610282897949, 6.180278301239014, 6.5769219398498535, 6.536788463592529, 8.092269897460938, 8.904559135437012, 9.024991035461426, 7.09804105758667, 7.134035587310791, 7.543804168701172, 9.012866973876953]}, {\"hovertemplate\": \"<b>%{hovertext}</b><br><br>color=C18<br>x=%{x}<br>y=%{y}<br>z=%{z}<extra></extra>\", \"hovertext\": [\"acidosis\", \"hyperglycaemia\", \"hypoglycaemia\", \"hypomagnesaemia\", \"blood calcium decreased\", \"metabolic acidosis\", \"malnourished\", \"nephrocalcinosis\", \"hypokalaemia\", \"osteoporosis\", \"osteomalacia\", \"diabetic acidosis\", \"diabetes\", \"iron deficiency anaemia\", \"dehydration\", \"elevated cholesterol\", \"hyperlipaemia\", \"metabolic encephalopathy\", \"hypophosphataemia\", \"renal tubular acidosis\", \"hypernatraemia\", \"glucose intolerance\", \"obesity\", \"glucosuria\", \"gouty arthritis\", \"respiratory alkalosis\", \"gout\", \"ketoacidosis\", \"vitamin d deficiency\", \"hepatic encephalopathy\", \"vitamin b 12 deficiency\", \"hyperphosphatemia\"], \"legendgroup\": \"C18\", \"marker\": {\"color\": \"#00cc96\", \"symbol\": \"circle\"}, \"mode\": \"markers\", \"name\": \"C18\", \"scene\": \"scene\", \"showlegend\": true, \"type\": \"scatter3d\", \"x\": [-2.61364483833313, -0.9991528987884521, -0.6709632873535156, -2.3517630100250244, -1.3489110469818115, -2.6724188327789307, -0.4041363000869751, 0.28621694445610046, -1.6118671894073486, 0.9695917963981628, 0.9693503379821777, -0.47377485036849976, -0.5233688354492188, -0.6733477115631104, -1.2508180141448975, 0.8907414078712463, -0.17221739888191223, -1.8209887742996216, -1.3934143781661987, -1.6866730451583862, -1.2343864440917969, 0.030872687697410583, -0.13584300875663757, -0.3846309781074524, 0.24248403310775757, -1.6617897748947144, 0.5098844766616821, -0.47448888421058655, 1.050512671470642, -2.554447889328003, 0.659813404083252, -0.7491102814674377], \"y\": [-11.111387252807617, -10.302153587341309, -11.728074073791504, -10.15218734741211, -11.317981719970703, -10.927145957946777, -11.360116958618164, -9.068076133728027, -11.006464004516602, -10.222761154174805, -10.938252449035645, -10.903352737426758, -10.232964515686035, -10.371970176696777, -11.433732986450195, -10.588127136230469, -10.783430099487305, -10.26338005065918, -11.254435539245605, -10.71177864074707, -9.64415454864502, -10.748937606811523, -10.197662353515625, -9.710928916931152, -8.961628913879395, -10.409250259399414, -10.488252639770508, -11.135517120361328, -10.79575252532959, -10.820703506469727, -10.499560356140137, -9.998891830444336], \"z\": [6.834665298461914, 5.914812088012695, 7.144217014312744, 5.692327499389648, 5.767812252044678, 6.595713138580322, 7.510551929473877, 7.809082508087158, 6.613087177276611, 7.065596580505371, 6.310234546661377, 8.671361923217773, 8.163093566894531, 8.731612205505371, 6.5500335693359375, 8.31138801574707, 8.458940505981445, 6.573238849639893, 5.706248760223389, 6.716936111450195, 6.278436183929443, 8.413652420043945, 8.464421272277832, 8.210494041442871, 8.178949356079102, 6.7888922691345215, 6.284822940826416, 8.750843048095703, 6.260266304016113, 6.256347179412842, 6.259829044342041, 6.750096321105957]}, {\"hovertemplate\": \"<b>%{hovertext}</b><br><br>color=C06<br>x=%{x}<br>y=%{y}<br>z=%{z}<extra></extra>\", \"hovertext\": [\"peliosis\", \"peritonitis\", \"adynamic ileus\", \"appendicitis\", \"intestinal perforation\", \"disease of liver\", \"acute pancreatitis\", \"haemorrhoids\", \"esophageal spasm\", \"erosive gastritis\", \"gastroenteritis\", \"duodenal ulcer\", \"bleeding hemorrhoids\", \"anal fissure\", \"cholangitis\", \"hepatitis\", \"cholelithiasis\", \"hepatic neoplasia\", \"colitis ischemic\", \"small intestinal obstruction\", \"diverticulosis\", \"cholecystitis\", \"enlarged liver\", \"mucositis oral\", \"deglutition disorder\", \"gastric inflammation\", \"esophagitis\", \"proctitis\", \"pancreatitis\", \"haematochezia\", \"fatty liver\", \"duodenitis\", \"gastroduodenal ulcer\", \"hepatic failure\", \"enteritis\", \"colitis\", \"haematemesis\", \"diverticulitis\", \"gastric ulcer\", \"pancreatic cancer\", \"liver abscess\", \"portal hypertension\", \"reflux esophagitis\", \"hepatitis b\", \"hepatorenal syndrome\", \"hepatitis c\", \"inflammatory bowel disease\", \"gastric cancer\", \"volvulus\", \"hepatic encephalopathy\", \"esophageal cancer\", \"enterocolitis\", \"chronic hepatitis\", \"pancreatic pseudocyst\", \"esophageal stenosis\"], \"legendgroup\": \"C06\", \"marker\": {\"color\": \"#ab63fa\", \"symbol\": \"circle\"}, \"mode\": \"markers\", \"name\": \"C06\", \"scene\": \"scene\", \"showlegend\": true, \"type\": \"scatter3d\", \"x\": [-2.5748555660247803, -2.6177237033843994, -1.8037807941436768, 1.3651759624481201, -2.5505824089050293, -2.3684263229370117, -0.6671006083488464, -0.48424720764160156, 0.1473146677017212, -1.2598687410354614, -0.11890240013599396, -0.5344993472099304, -0.028163865208625793, 0.3610999584197998, -1.8237491846084595, -2.1500399112701416, -0.3879219889640808, 0.8588289022445679, -1.0687419176101685, -0.16106432676315308, 0.08405067026615143, -0.6615203619003296, -2.255283832550049, -0.45189279317855835, -1.233660101890564, 0.6089131832122803, -0.844550609588623, -0.813453197479248, -0.9208466410636902, -0.897244930267334, -0.3073425889015198, -0.6995784640312195, 0.4464692771434784, -2.386152982711792, -1.3707469701766968, -0.5789368152618408, -1.956803560256958, -0.3346174955368042, -0.1844366192817688, -0.9504315853118896, -2.301527500152588, -2.4230198860168457, 0.11574047058820724, -1.108634114265442, -2.1094741821289062, -0.5988250374794006, -0.4680880606174469, -0.733613133430481, 0.9396647214889526, -2.554447889328003, -0.769801914691925, -2.545794725418091, -0.10037723928689957, -0.8722755312919617, 0.0013060728088021278], \"y\": [-10.526556015014648, -10.676372528076172, -10.41298770904541, -10.210692405700684, -11.160083770751953, -11.597676277160645, -10.157072067260742, -10.487967491149902, -10.686594009399414, -10.436236381530762, -9.835912704467773, -9.773999214172363, -9.563455581665039, -11.514524459838867, -11.167136192321777, -11.12330150604248, -9.403402328491211, -9.733481407165527, -9.835830688476562, -10.436915397644043, -10.315526962280273, -9.364059448242188, -11.17422866821289, -11.372477531433105, -11.327681541442871, -9.745879173278809, -11.437737464904785, -11.563244819641113, -9.593222618103027, -10.516789436340332, -10.848518371582031, -9.740558624267578, -9.679651260375977, -10.76202392578125, -10.937674522399902, -11.433999061584473, -10.716464042663574, -10.109197616577148, -9.409051895141602, -10.528130531311035, -10.336710929870605, -11.103032112121582, -9.970821380615234, -10.867114067077637, -10.611573219299316, -10.873550415039062, -10.58150863647461, -9.607244491577148, -10.217612266540527, -10.820703506469727, -11.03646469116211, -10.503838539123535, -10.761373519897461, -10.173112869262695, -10.123948097229004], \"z\": [5.742188453674316, 6.326588153839111, 6.337986469268799, 8.306068420410156, 6.133532524108887, 6.891491413116455, 6.9943108558654785, 8.591187477111816, 7.57135009765625, 7.819777965545654, 6.248191833496094, 6.517755031585693, 7.040066719055176, 7.940287113189697, 6.090508937835693, 6.644296169281006, 6.993441104888916, 6.748793601989746, 7.283303260803223, 5.899968147277832, 6.047677516937256, 6.2855987548828125, 6.320181846618652, 5.922353267669678, 7.397035121917725, 7.1782355308532715, 7.4828901290893555, 7.614775657653809, 7.1157612800598145, 7.909569263458252, 7.833817005157471, 7.073529243469238, 8.058274269104004, 5.828595161437988, 6.27533483505249, 6.9203057289123535, 6.101693153381348, 6.600087642669678, 6.903117656707764, 6.925118923187256, 6.043768882751465, 6.692818641662598, 7.434298038482666, 6.985574722290039, 5.6427321434021, 7.581258773803711, 7.067674160003662, 6.646973133087158, 9.042795181274414, 6.256347179412842, 7.629321575164795, 5.776900768280029, 8.630050659179688, 7.574361324310303, 8.16928482055664]}, {\"hovertemplate\": \"<b>%{hovertext}</b><br><br>color=C14<br>x=%{x}<br>y=%{y}<br>z=%{z}<extra></extra>\", \"hovertext\": [\"peliosis\", \"bradycardia\", \"asystole\", \"cerebral infarct\", \"pulmonary hypertension\", \"arterial pressure nos decreased\", \"sinus tachycardia\", \"arterial pressure nos increased\", \"haemorrhoids\", \"deep vein thromboses\", \"bleeding hemorrhoids\", \"heart attack\", \"embolism pulmonary\", \"colitis ischemic\", \"arteriosclerotic heart disease\", \"high blood pressure\", \"arteriosclerosis\", \"extrasystoles ventricular\", \"diabetic retinopathy\", \"aneurysm\", \"superficial thrombophlebitis\", \"angiitis\", \"cardiomyopathy\", \"cardiac decompensation\", \"phlebitis\", \"apoplexy\", \"transient ischaemic attack\", \"cerebral haemorrhage\", \"atherosclerosis\", \"aortic regurgitation\", \"pericardial effusion\", \"cardiac disease\", \"mitral valve prolapse\", \"embolism\", \"sinus bradycardia\", \"atrial ectopic beats\", \"phlebothrombosis\", \"arrhythmia\", \"angioedema\", \"sick sinus syndrome\", \"cardiac failure\", \"bundle branch block\", \"atrial flutter\", \"multiple myeloma\", \"myocarditis\", \"endocarditis\", \"ventricular fibrillation\", \"cardiac tamponade\", \"thrombophlebitis\", \"supraventricular tachycardia\", \"cor pulmonale\", \"right heart failure\", \"subarachnoid haemorrhage\", \"cerebral ischaemia\", \"aortic stenosis\", \"atrioventricular block\", \"carotid artery stenosis\", \"essential hypertension\", \"congenital heart disease\", \"malignant hypertension\", \"pericarditis\", \"aortic aneurysm\", \"temporal arteritis\", \"varicose vein\", \"left ventricular hypertrophy\", \"splenic infarction\", \"bradyarrhythmia\", \"venous insufficiency\"], \"legendgroup\": \"C14\", \"marker\": {\"color\": \"#FFA15A\", \"symbol\": \"circle\"}, \"mode\": \"markers\", \"name\": \"C14\", \"scene\": \"scene\", \"showlegend\": true, \"type\": \"scatter3d\", \"x\": [-2.5748555660247803, -2.781775712966919, -2.634963035583496, -1.7427232265472412, -0.8200337886810303, -1.5873260498046875, -1.5976285934448242, -0.2804517447948456, -0.48424720764160156, -0.5367118716239929, -0.028163865208625793, -1.6540913581848145, -1.627281665802002, -1.0687419176101685, -1.3532347679138184, -1.7737655639648438, -1.273440957069397, -2.4782707691192627, -0.8503071665763855, 0.41691529750823975, -0.40892982482910156, -0.6864031553268433, -0.8416287302970886, -1.9752166271209717, -0.5866822600364685, -1.5162575244903564, -1.105678677558899, -2.0639901161193848, -1.4873839616775513, -1.555108666419983, -1.4988840818405151, -0.6359930634498596, -0.4985421597957611, -1.8936926126480103, -1.9957292079925537, -2.2916688919067383, -0.7253621816635132, -1.979689359664917, -1.2771971225738525, -1.7053357362747192, -2.105241298675537, 0.05142374336719513, -2.0519659519195557, -0.9656999707221985, -2.1208133697509766, -2.2441928386688232, -2.610544443130493, -2.3675520420074463, -1.5648592710494995, -1.4683300256729126, -0.20120000839233398, -2.2847959995269775, -2.351963758468628, -0.9762229919433594, -1.2640072107315063, -1.9973037242889404, -1.2384942770004272, -1.0579824447631836, -0.81320720911026, -1.544710636138916, -1.7223470211029053, -0.7320088744163513, -0.27299338579177856, 0.07940744608640671, -1.0597128868103027, -2.302802085876465, -2.3675129413604736, 0.20611417293548584], \"y\": [-10.526556015014648, -10.214163780212402, -11.216541290283203, -9.461724281311035, -9.223654747009277, -11.663435935974121, -10.10807991027832, -11.88872241973877, -10.487967491149902, -10.870086669921875, -9.563455581665039, -9.392151832580566, -11.71143913269043, -9.835830688476562, -9.501307487487793, -9.716090202331543, -10.595271110534668, -9.922647476196289, -9.359159469604492, -9.051536560058594, -9.47720718383789, -9.956317901611328, -10.133938789367676, -9.648761749267578, -10.264257431030273, -9.686849594116211, -9.427030563354492, -10.64505672454834, -9.46994686126709, -9.64747142791748, -11.224123001098633, -11.334260940551758, -10.40828800201416, -11.022165298461914, -9.531017303466797, -9.942656517028809, -10.281045913696289, -9.729181289672852, -11.876734733581543, -9.601816177368164, -10.229239463806152, -9.955551147460938, -9.511204719543457, -9.51992416381836, -10.518746376037598, -10.777082443237305, -11.222611427307129, -10.895668983459473, -10.794970512390137, -11.397032737731934, -11.05066204071045, -11.220508575439453, -10.687744140625, -10.739585876464844, -10.496011734008789, -9.640201568603516, -9.198676109313965, -9.210073471069336, -10.653130531311035, -9.654946327209473, -10.201303482055664, -9.13338851928711, -9.23509407043457, -9.77108383178711, -11.029030799865723, -11.201339721679688, -9.956857681274414, -9.995946884155273], \"z\": [5.742188453674316, 6.2083539962768555, 6.520498275756836, 6.937858581542969, 6.593295574188232, 7.25358247756958, 6.496389389038086, 6.924392223358154, 8.591187477111816, 6.283315181732178, 7.040066719055176, 7.299278736114502, 6.7420172691345215, 7.283303260803223, 7.669871807098389, 7.025400638580322, 7.9711222648620605, 6.07705545425415, 7.417973518371582, 8.119543075561523, 7.446803092956543, 7.310637474060059, 5.829298496246338, 6.769244194030762, 6.249316215515137, 7.457714557647705, 7.626716613769531, 5.706861972808838, 7.483407974243164, 6.21013879776001, 6.655905723571777, 8.060791969299316, 8.717214584350586, 7.0539164543151855, 6.3922810554504395, 6.013701915740967, 6.062358856201172, 6.139448165893555, 7.1039886474609375, 6.343007564544678, 5.631531238555908, 6.441847324371338, 6.310085296630859, 6.385391712188721, 6.048279762268066, 5.948154449462891, 6.424165725708008, 6.465410232543945, 6.356063365936279, 7.216960906982422, 7.160851001739502, 7.035630226135254, 6.178011417388916, 6.889103412628174, 7.636124134063721, 6.5140838623046875, 7.49395751953125, 6.743463039398193, 8.095575332641602, 7.50656795501709, 5.935714244842529, 7.252499580383301, 6.770485877990723, 8.079527854919434, 5.7750935554504395, 6.527247905731201, 6.180278301239014, 6.544940948486328]}, {\"hovertemplate\": \"<b>%{hovertext}</b><br><br>color=C20<br>x=%{x}<br>y=%{y}<br>z=%{z}<extra></extra>\", \"hovertext\": [\"drug hypersensitivity\", \"allergies\", \"anaphylactic reaction\", \"idiopathic thrombocytopenic purpura\", \"asthma\", \"dermatitis medicamentosa\", \"arthritis rheumatoid\", \"transfusion reaction\", \"multiple sclerosis\", \"monoclonal gammopathy\", \"allergic rhinitis\", \"angioedema\", \"multiple myeloma\", \"lymphoma\", \"temporal arteritis\", \"serum sickness\", \"hay fever\", \"myasthenia gravis\", \"sjogrens syndrome\"], \"legendgroup\": \"C20\", \"marker\": {\"color\": \"#19d3f3\", \"symbol\": \"circle\"}, \"mode\": \"markers\", \"name\": \"C20\", \"scene\": \"scene\", \"showlegend\": true, \"type\": \"scatter3d\", \"x\": [-1.343013048171997, -0.6265559792518616, -1.621044397354126, -1.4798390865325928, 0.994182825088501, -1.6196681261062622, -0.15561045706272125, -1.7394475936889648, 0.2585025131702423, -1.1904233694076538, 0.8862318992614746, -1.2771971225738525, -0.9656999707221985, -1.769767165184021, -0.27299338579177856, -0.5219571590423584, 1.1752324104309082, 0.7923079133033752, 0.39910799264907837], \"y\": [-11.79094409942627, -11.691545486450195, -10.932942390441895, -11.534371376037598, -10.453996658325195, -10.388452529907227, -10.794289588928223, -10.896686553955078, -10.348397254943848, -10.33874797821045, -10.383216857910156, -11.876734733581543, -9.51992416381836, -11.216374397277832, -9.23509407043457, -10.082664489746094, -10.543388366699219, -10.3757905960083, -10.859607696533203], \"z\": [7.256909370422363, 6.715619087219238, 5.838698863983154, 6.6081929206848145, 7.886649131774902, 5.644217491149902, 7.5974249839782715, 7.021483421325684, 8.533585548400879, 6.656649112701416, 8.049398422241211, 7.1039886474609375, 6.385391712188721, 5.901520729064941, 6.770485877990723, 6.921034812927246, 6.780172348022461, 7.459519863128662, 6.922903060913086]}, {\"hovertemplate\": \"<b>%{hovertext}</b><br><br>color=C25<br>x=%{x}<br>y=%{y}<br>z=%{z}<extra></extra>\", \"hovertext\": [\"drug hypersensitivity\", \"dermatitis medicamentosa\", \"drug addiction\", \"adverse drug effect\", \"substance abuse\", \"serum sickness\", \"alcoholic intoxication\"], \"legendgroup\": \"C25\", \"marker\": {\"color\": \"#FF6692\", \"symbol\": \"circle\"}, \"mode\": \"markers\", \"name\": \"C25\", \"scene\": \"scene\", \"showlegend\": true, \"type\": \"scatter3d\", \"x\": [-1.343013048171997, -1.6196681261062622, 0.9118726849555969, -0.029287539422512054, 0.274863600730896, -0.5219571590423584, -1.0992538928985596], \"y\": [-11.79094409942627, -10.388452529907227, -10.752242088317871, -11.171319007873535, -10.528651237487793, -10.082664489746094, -11.632076263427734], \"z\": [7.256909370422363, 5.644217491149902, 9.069727897644043, 8.208060264587402, 9.183964729309082, 6.921034812927246, 8.204617500305176]}, {\"hovertemplate\": \"<b>%{hovertext}</b><br><br>color=C15<br>x=%{x}<br>y=%{y}<br>z=%{z}<extra></extra>\", \"hovertext\": [\"thrombocytopenia\", \"leucocytosis\", \"anaemia\", \"haemolytic anaemia\", \"idiopathic thrombocytopenic purpura\", \"leucopenia\", \"thrombotic microangiopathy\", \"neutropenia\", \"iron deficiency anaemia\", \"bone marrow failure\", \"transfusion reaction\", \"adenitis\", \"ecchymoses\", \"monoclonal gammopathy\", \"adenopathy\", \"multiple myeloma\", \"granuloma\", \"lymphoma\", \"sarcoidosis\", \"agranulocytoses\", \"aplasia pure red cell\", \"lymphedema\", \"splenic infarction\"], \"legendgroup\": \"C15\", \"marker\": {\"color\": \"#B6E880\", \"symbol\": \"circle\"}, \"mode\": \"markers\", \"name\": \"C15\", \"scene\": \"scene\", \"showlegend\": true, \"type\": \"scatter3d\", \"x\": [-2.5264389514923096, -1.6558923721313477, -1.8583091497421265, -2.657886028289795, -1.4798390865325928, -2.2860891819000244, -2.0836703777313232, -2.2687573432922363, -0.6733477115631104, -2.6022918224334717, -1.7394475936889648, 0.07815224677324295, 0.19743911921977997, -1.1904233694076538, -1.434206247329712, -0.9656999707221985, -0.051671791821718216, -1.769767165184021, 0.06637973338365555, -2.249979257583618, -2.4036717414855957, 0.33242303133010864, -2.302802085876465], \"y\": [-10.650628089904785, -10.053464889526367, -10.41723346710205, -10.889147758483887, -11.534371376037598, -10.785797119140625, -10.563743591308594, -10.816139221191406, -10.371970176696777, -10.78714370727539, -10.896686553955078, -9.994678497314453, -11.167481422424316, -10.33874797821045, -10.306568145751953, -9.51992416381836, -10.985489845275879, -11.216374397277832, -9.533556938171387, -10.767648696899414, -10.296276092529297, -10.75071907043457, -11.201339721679688], \"z\": [5.355250358581543, 5.895596504211426, 5.6378493309021, 6.476843357086182, 6.6081929206848145, 5.367023944854736, 5.624486446380615, 5.310266494750977, 8.731612205505371, 5.4223504066467285, 7.021483421325684, 7.328476905822754, 7.689908981323242, 6.656649112701416, 5.741542816162109, 6.385391712188721, 6.95884895324707, 5.901520729064941, 8.280281066894531, 5.381422996520996, 6.680380821228027, 6.235698699951172, 6.527247905731201]}, {\"hovertemplate\": \"<b>%{hovertext}</b><br><br>color=C01<br>x=%{x}<br>y=%{y}<br>z=%{z}<extra></extra>\", \"hovertext\": [\"peritonitis\", \"sepsis\", \"appendicitis\", \"neumonia\", \"septic shock\", \"pneumonia staphylococcal\", \"lobar pneumonia\", \"pleurisy\", \"aspiration pneumonia\", \"candida infection\", \"cellulitis\", \"fungal disease\", \"mycobacterium tuberculosis infection\", \"abscess\", \"nasopharyngitis\", \"rhinitis\", \"pleural pain\", \"herpes zoster\", \"bronchitis\", \"osteomyelitis\", \"bacterial infection\", \"laryngitis\", \"sinusitis\", \"gingivitis\", \"soft tissue infection\", \"infection\", \"herpes simplex\", \"spondylitis\", \"acute bronchitis\", \"streptococcal infection\", \"aspergillosis\", \"bacteraemia\", \"onychomycosis\", \"bacterial pneumonia\", \"liver abscess\", \"pelvic inflammatory disease\", \"hepatitis b\", \"erysipelas\", \"hepatitis c\", \"eye infection\", \"ebv infection\", \"tracheitis\", \"paronychia\", \"epidural abscess\", \"histoplasmosis\", \"empyema\", \"cryptococcosis\", \"pyuria\", \"mumps\", \"tinea pedis\"], \"legendgroup\": \"C01\", \"marker\": {\"color\": \"#FF97FF\", \"symbol\": \"circle\"}, \"mode\": \"markers\", \"name\": \"C01\", \"scene\": \"scene\", \"showlegend\": true, \"type\": \"scatter3d\", \"x\": [-2.6177237033843994, -2.6230502128601074, 1.3651759624481201, -1.7798678874969482, -2.4049806594848633, -0.8226432800292969, -1.777427315711975, 1.1317665576934814, -1.02519690990448, -2.177823305130005, 0.22646376490592957, -1.637444019317627, -0.6567423939704895, 0.9572637677192688, -0.6209231019020081, 0.4603250026702881, -0.35988864302635193, -0.552936315536499, 0.037388551980257034, 0.7923650145530701, -1.1658315658569336, 0.2866177558898926, 0.8067643642425537, 0.9701805710792542, 1.0203744173049927, -1.9657844305038452, -0.7107093334197998, 0.07238015532493591, -0.03012699820101261, -1.0877859592437744, -2.543980360031128, -1.96603524684906, 0.7352674603462219, -1.2864619493484497, -2.301527500152588, 0.507547914981842, -1.108634114265442, -2.1892435550689697, -0.5988250374794006, -0.8305237889289856, -2.458439350128174, 0.3059017062187195, -0.2364528328180313, -0.1293049305677414, -0.34982454776763916, -2.1714670658111572, -1.4958844184875488, -0.4441286623477936, 0.8870006203651428, 0.006439438089728355], \"y\": [-10.676372528076172, -11.177872657775879, -10.210692405700684, -11.204619407653809, -11.465375900268555, -10.703290939331055, -10.92640209197998, -9.800341606140137, -11.550868034362793, -11.036431312561035, -10.665863037109375, -11.340519905090332, -10.593216896057129, -10.928184509277344, -10.803751945495605, -10.699506759643555, -11.942306518554688, -9.64254093170166, -10.633935928344727, -10.550490379333496, -11.198675155639648, -10.477333068847656, -10.01221752166748, -10.677767753601074, -10.720601081848145, -10.686986923217773, -11.328113555908203, -9.286060333251953, -10.053911209106445, -11.172074317932129, -10.910661697387695, -10.809793472290039, -10.580720901489258, -11.346403121948242, -10.336710929870605, -10.776564598083496, -10.867114067077637, -9.662779808044434, -10.873550415039062, -10.769315719604492, -11.357011795043945, -9.096668243408203, -12.018061637878418, -10.810983657836914, -10.807883262634277, -10.682270050048828, -10.470804214477539, -9.377957344055176, -10.302955627441406, -10.370674133300781], \"z\": [6.326588153839111, 6.360445022583008, 8.306068420410156, 6.886569976806641, 6.813173770904541, 7.4977874755859375, 7.07401180267334, 8.323662757873535, 8.375588417053223, 6.19162130355835, 6.558393478393555, 6.189927101135254, 7.174086093902588, 6.773410797119141, 7.687490940093994, 7.727575778961182, 7.468181610107422, 6.411245346069336, 8.046919822692871, 5.974489688873291, 5.794389724731445, 7.975246906280518, 6.619153022766113, 6.119607925415039, 6.124538898468018, 5.5471110343933105, 6.541860580444336, 8.028775215148926, 8.245346069335938, 5.814720630645752, 5.32017183303833, 5.869100093841553, 7.207195281982422, 6.1370978355407715, 6.043768882751465, 9.24194049835205, 6.985574722290039, 6.229369163513184, 7.581258773803711, 7.733231067657471, 6.429633140563965, 7.826285362243652, 7.435746192932129, 7.61776065826416, 6.46156120300293, 6.536788463592529, 7.157257080078125, 6.620640277862549, 8.602277755737305, 9.012866973876953]}, {\"hovertemplate\": \"<b>%{hovertext}</b><br><br>color=C10<br>x=%{x}<br>y=%{y}<br>z=%{z}<extra></extra>\", \"hovertext\": [\"cerebral infarct\", \"strabismus\", \"confusion\", \"encephalopathy\", \"tremor\", \"hallucination\", \"diplopia\", \"narcolepsy\", \"optic disc edema\", \"sleep disorder\", \"aphonia\", \"hoarseness\", \"tinnitus\", \"muscle spasm\", \"muscle paresis\", \"deafness\", \"vocal cord paralysis\", \"deafness neurosensory\", \"aching muscles\", \"loss of consciousness\", \"muscle weakness\", \"insomnia\", \"paraesthesia\", \"fainting\", \"migraine\", \"fibromyalgia\", \"ischias\", \"meningitides\", \"spinning sensation\", \"coma\", \"convulsion\", \"polyneuropathy\", \"dysarthria\", \"apoplexy\", \"aphasia\", \"amnesia\", \"ataxia\", \"transient ischaemic attack\", \"cerebral haemorrhage\", \"facial palsy\", \"amentia\", \"metabolic encephalopathy\", \"encephalitis\", \"neuralgia\", \"hemiplegia\", \"postherpetic neuralgia\", \"neuritis\", \"blindness\", \"multiple sclerosis\", \"tardive dyskinesia\", \"sleep apnea\", \"head injury\", \"apraxia\", \"sleep walking\", \"radiculopathy\", \"dysphonia\", \"myelopathy\", \"dysaesthesia\", \"movement disorder\", \"epilepsy\", \"muscle disorder\", \"cramp\", \"light sensitivity\", \"hemiparesis\", \"polymyositis\", \"trigeminal neuralgia\", \"subarachnoid haemorrhage\", \"palsies\", \"cerebral ischaemia\", \"brain concussion\", \"diabetic neuropathy\", \"brain neoplasm\", \"carotid artery stenosis\", \"hyperprolactinaemia\", \"optic neuritis\", \"eye injury\", \"scotoma\", \"hydrocephalus\", \"dermatomyositis\", \"hyperaesthesia\", \"temporal arteritis\", \"anosmia\", \"meningioma\", \"hepatic encephalopathy\", \"paraplegia\", \"aseptic meningitis\", \"causalgia\", \"epidural abscess\", \"myasthenia gravis\", \"tension headache\", \"neurogenic bladder\", \"hyperacusia\", \"cluster headache\", \"anisocoria\", \"status epilepticus\", \"corneal abrasion\"], \"legendgroup\": \"C10\", \"marker\": {\"color\": \"#FECB52\", \"symbol\": \"circle\"}, \"mode\": \"markers\", \"name\": \"C10\", \"scene\": \"scene\", \"showlegend\": true, \"type\": \"scatter3d\", \"x\": [-1.7427232265472412, -1.4493757486343384, -1.5029845237731934, -1.8758074045181274, 0.008410279639065266, -0.57975172996521, 0.20808348059654236, -0.35920578241348267, -1.3549766540527344, 0.9840826392173767, 0.3339887261390686, 0.11224858462810516, 0.60625159740448, 0.8895118236541748, -0.9240634441375732, -1.2629756927490234, -0.08982548117637634, -2.2358529567718506, 0.06271371245384216, -0.9007563591003418, -1.229650616645813, 0.6576647162437439, -0.1499241292476654, -0.7915072441101074, 0.9841037392616272, 1.2497988939285278, 0.16019783914089203, -1.6936731338500977, -0.06931997090578079, -1.8558887243270874, -1.8865286111831665, -1.8832294940948486, -0.6429532766342163, -1.5162575244903564, -1.8162468671798706, 0.35056209564208984, -1.8742035627365112, -1.105678677558899, -2.0639901161193848, 0.2917076051235199, -0.09712671488523483, -1.8209887742996216, -1.455670714378357, -0.03938084468245506, -1.581364393234253, -1.2057616710662842, -1.1745147705078125, -1.1443638801574707, 0.2585025131702423, -0.09842903912067413, 0.747431755065918, -0.004772767424583435, -0.7883079051971436, 0.8670241832733154, 1.2978028059005737, -0.40655723214149475, -0.7292840480804443, -0.8547872304916382, 0.23158568143844604, -2.2855026721954346, -1.770918846130371, 0.5908573865890503, -0.29391273856163025, -0.7034359574317932, -1.086417555809021, 0.913896381855011, -2.351963758468628, -1.3019648790359497, -0.9762229919433594, 0.49065354466438293, -0.11385282129049301, -0.7467443346977234, -1.2384942770004272, -0.9577812552452087, -0.21221773326396942, 0.09926024824380875, -0.8499661684036255, -2.0505661964416504, -1.866417407989502, -0.9777360558509827, -0.27299338579177856, -0.4574955701828003, -1.428922176361084, -2.554447889328003, -1.65223228931427, -0.14367078244686127, 0.20233313739299774, -0.1293049305677414, 0.7923079133033752, 0.1480037122964859, -0.37395480275154114, 0.21560949087142944, 0.348173588514328, -0.6327197551727295, -1.778552770614624, 0.17618823051452637], \"y\": [-9.461724281311035, -11.305176734924316, -11.759516716003418, -11.8233642578125, -11.57196044921875, -9.669944763183594, -11.11007022857666, -11.57015609741211, -9.916627883911133, -10.694100379943848, -10.876229286193848, -9.58470344543457, -11.450161933898926, -11.207167625427246, -10.858274459838867, -11.506463050842285, -9.651495933532715, -10.486540794372559, -11.86346435546875, -11.87646198272705, -9.449601173400879, -11.4850492477417, -12.024530410766602, -11.60047721862793, -10.49376392364502, -10.062742233276367, -10.525075912475586, -11.371136665344238, -9.520130157470703, -9.99420166015625, -11.91132640838623, -11.72276496887207, -11.190425872802734, -9.686849594116211, -11.904333114624023, -11.302107810974121, -11.914863586425781, -9.427030563354492, -10.64505672454834, -9.789316177368164, -11.171894073486328, -10.26338005065918, -11.358591079711914, -11.059426307678223, -9.53743839263916, -11.389463424682617, -10.057527542114258, -11.687843322753906, -10.348397254943848, -11.104588508605957, -9.516002655029297, -10.978507041931152, -9.319738388061523, -10.196582794189453, -10.287750244140625, -11.93111515045166, -11.005685806274414, -9.525203704833984, -11.232237815856934, -11.611272811889648, -9.82050609588623, -9.902709007263184, -12.130799293518066, -10.47418212890625, -9.918431282043457, -10.362470626831055, -10.687744140625, -9.450298309326172, -10.739585876464844, -10.384381294250488, -10.422385215759277, -11.227317810058594, -9.198676109313965, -11.444405555725098, -9.425400733947754, -11.017133712768555, -11.841463088989258, -10.443788528442383, -9.965238571166992, -9.48241901397705, -9.23509407043457, -11.828950881958008, -11.26456069946289, -10.820703506469727, -10.485865592956543, -11.209916114807129, -11.099505424499512, -10.810983657836914, -10.3757905960083, -10.448774337768555, -9.507701873779297, -11.460865020751953, -10.52546215057373, -10.230212211608887, -11.827749252319336, -9.858620643615723], \"z\": [6.937858581542969, 7.454394817352295, 7.308889865875244, 7.298099517822266, 8.72897720336914, 7.5206618309021, 7.930898189544678, 8.958294868469238, 5.705695629119873, 8.302156448364258, 6.755838871002197, 8.512266159057617, 8.383116722106934, 8.455309867858887, 7.503183841705322, 7.731963157653809, 7.616772174835205, 6.129061222076416, 7.387248516082764, 6.911924362182617, 6.765872001647949, 8.344900131225586, 7.587844371795654, 7.542753219604492, 8.348084449768066, 8.449065208435059, 7.249052047729492, 6.435196876525879, 7.324906349182129, 7.2064104080200195, 7.461910247802734, 7.0403733253479, 8.467262268066406, 7.457714557647705, 7.488601207733154, 8.766230583190918, 7.486159324645996, 7.626716613769531, 5.706861972808838, 6.287980556488037, 9.313884735107422, 6.573238849639893, 7.188281536102295, 8.231616973876953, 6.706362247467041, 7.34315824508667, 6.684443473815918, 6.832739353179932, 8.533585548400879, 9.410713195800781, 8.40074348449707, 9.287032127380371, 7.540014266967773, 7.8549580574035645, 7.940534591674805, 7.257335662841797, 8.330632209777832, 7.887212753295898, 8.538886070251465, 6.978804588317871, 7.274776458740234, 8.276108741760254, 7.372406005859375, 6.988894462585449, 7.33354377746582, 7.299618244171143, 6.178011417388916, 7.0529866218566895, 6.889103412628174, 8.80696964263916, 8.737266540527344, 8.035609245300293, 7.49395751953125, 8.519556999206543, 7.381430149078369, 8.332098007202148, 6.692845821380615, 6.0600361824035645, 6.693843841552734, 7.179271697998047, 6.770485877990723, 7.533065319061279, 7.110959053039551, 6.256347179412842, 6.297610282897949, 9.19386100769043, 9.001022338867188, 7.61776065826416, 7.459519863128662, 9.058012008666992, 8.092269897460938, 9.024991035461426, 8.656485557556152, 7.134035587310791, 7.543804168701172, 8.860391616821289]}, {\"hovertemplate\": \"<b>%{hovertext}</b><br><br>color=C04<br>x=%{x}<br>y=%{y}<br>z=%{z}<extra></extra>\", \"hovertext\": [\"lipoma\", \"adenocarcinoma\", \"breast cancer\", \"leukaemia\", \"hepatic neoplasia\", \"neoplasia\", \"breast cyst\", \"lung neoplasms\", \"acute myeloblastic leukemia\", \"malignant melanoma\", \"adenoma\", \"melanocytic naevus\", \"multiple myeloma\", \"basal cell carcinoma\", \"lymphoma\", \"ovarian cyst\", \"cyst\", \"cancer\", \"actinic keratosis\", \"pancreatic cancer\", \"brain neoplasm\", \"synovial cyst\", \"ovarian cancer\", \"gastric cancer\", \"haemangioma\", \"meningioma\", \"myasthenia gravis\", \"fibroids\", \"bladder cancer\", \"ganglion\", \"esophageal cancer\", \"pancreatic pseudocyst\"], \"legendgroup\": \"C04\", \"marker\": {\"color\": \"#636efa\", \"symbol\": \"circle\"}, \"mode\": \"markers\", \"name\": \"C04\", \"scene\": \"scene\", \"showlegend\": true, \"type\": \"scatter3d\", \"x\": [0.4184935390949249, -0.1627221554517746, 0.8911239504814148, -2.1441192626953125, 0.8588289022445679, -0.43216368556022644, 0.8473869562149048, -1.1485967636108398, -2.2537262439727783, 0.4898907542228699, 0.2253299355506897, 1.0966275930404663, -0.9656999707221985, -0.47974681854248047, -1.769767165184021, 0.5459476113319397, 0.5930720567703247, -0.4372138977050781, 0.43340593576431274, -0.9504315853118896, -0.7467443346977234, 0.8770851492881775, -0.46747666597366333, -0.733613133430481, -0.2996573746204376, -1.428922176361084, 0.7923079133033752, 0.4840115010738373, -1.174513339996338, 0.1374577134847641, -0.769801914691925, -0.8722755312919617], \"y\": [-10.057879447937012, -10.621825218200684, -9.929275512695312, -10.418378829956055, -9.733481407165527, -11.10727596282959, -9.911214828491211, -11.205453872680664, -10.383193016052246, -9.80453872680664, -10.190057754516602, -9.734270095825195, -9.51992416381836, -10.431767463684082, -11.216374397277832, -9.89520263671875, -10.296557426452637, -11.436437606811523, -9.583678245544434, -10.528130531311035, -11.227317810058594, -10.056625366210938, -11.207771301269531, -9.607244491577148, -11.03885269165039, -11.26456069946289, -10.3757905960083, -10.723153114318848, -9.570474624633789, -9.684572219848633, -11.03646469116211, -10.173112869262695], \"z\": [5.999833106994629, 5.9168267250061035, 6.434554100036621, 5.777983665466309, 6.748793601989746, 6.2250800132751465, 7.5439276695251465, 6.144909858703613, 5.562198638916016, 6.484460353851318, 7.770108222961426, 8.207239151000977, 6.385391712188721, 6.7729363441467285, 5.901520729064941, 8.960259437561035, 7.028174877166748, 7.206780910491943, 7.287942886352539, 6.925118923187256, 8.035609245300293, 7.3011579513549805, 6.393624782562256, 6.646973133087158, 7.548692226409912, 7.110959053039551, 7.459519863128662, 7.857250690460205, 6.784106731414795, 8.150713920593262, 7.629321575164795, 7.574361324310303]}, {\"hovertemplate\": \"<b>%{hovertext}</b><br><br>color=C11<br>x=%{x}<br>y=%{y}<br>z=%{z}<extra></extra>\", \"hovertext\": [\"strabismus\", \"diplopia\", \"optic disc edema\", \"conjunctivitis\", \"eye pain\", \"cataract\", \"blepharitis\", \"blepharospasm\", \"glaucoma\", \"keratitis sicca\", \"blindness\", \"light sensitivity\", \"dry eye\", \"blepharoptosis\", \"eyelid diseases\", \"optic neuritis\", \"eye injury\", \"scotoma\", \"eye infection\", \"sjogrens syndrome\", \"keratitis\", \"anisocoria\", \"corneal abrasion\", \"asthenopia\"], \"legendgroup\": \"C11\", \"marker\": {\"color\": \"#EF553B\", \"symbol\": \"circle\"}, \"mode\": \"markers\", \"name\": \"C11\", \"scene\": \"scene\", \"showlegend\": true, \"type\": \"scatter3d\", \"x\": [-1.4493757486343384, 0.20808348059654236, -1.3549766540527344, -0.8237746953964233, -0.13566173613071442, 0.8385260701179504, 0.5718762874603271, -0.3446895480155945, -0.5793179869651794, 0.8461219072341919, -1.1443638801574707, -0.29391273856163025, -0.2385837435722351, -0.2736908793449402, 0.5530986785888672, -0.21221773326396942, 0.09926024824380875, -0.8499661684036255, -0.8305237889289856, 0.39910799264907837, -1.2189139127731323, -0.6327197551727295, 0.17618823051452637, 1.283781886100769], \"y\": [-11.305176734924316, -11.11007022857666, -9.916627883911133, -11.634359359741211, -11.944625854492188, -10.123740196228027, -10.927741050720215, -11.518331527709961, -9.16940975189209, -10.014386177062988, -11.687843322753906, -12.130799293518066, -10.942155838012695, -9.282999038696289, -9.874567985534668, -9.425400733947754, -11.017133712768555, -11.841463088989258, -10.769315719604492, -10.859607696533203, -11.327744483947754, -10.230212211608887, -9.858620643615723, -10.469733238220215], \"z\": [7.454394817352295, 7.930898189544678, 5.705695629119873, 6.58275032043457, 7.759361267089844, 6.994080543518066, 7.22569465637207, 9.027247428894043, 7.517226696014404, 8.482016563415527, 6.832739353179932, 7.372406005859375, 7.356628894805908, 7.609344959259033, 8.370135307312012, 7.381430149078369, 8.332098007202148, 6.692845821380615, 7.733231067657471, 6.922903060913086, 7.36560583114624, 7.134035587310791, 8.860391616821289, 7.619312763214111]}, {\"hovertemplate\": \"<b>%{hovertext}</b><br><br>color=C12<br>x=%{x}<br>y=%{y}<br>z=%{z}<extra></extra>\", \"hovertext\": [\"bladder inflammation\", \"bladder retention\", \"glomerulonephritis\", \"nephrocalcinosis\", \"chronic kidney disease\", \"acute kidney failure\", \"azotaemia\", \"incontinence\", \"pyelonephritis\", \"benign prostatic hyperplasia\", \"kidney failure\", \"nephrolithiasis\", \"ureteral obstruction\", \"nephrosclerosis\", \"diabetic nephropathy\", \"proteinuria\", \"enuresis\", \"nephrotic syndrome\", \"prostatitis\", \"hydronephrosis\", \"renal tubular acidosis\", \"polyuria\", \"glucosuria\", \"nephrogenic diabetes insipidus\", \"interstitial nephritis\", \"hepatorenal syndrome\", \"bladder cancer\", \"diabetes insipidus\", \"neurogenic bladder\", \"pyuria\"], \"legendgroup\": \"C12\", \"marker\": {\"color\": \"#00cc96\", \"symbol\": \"circle\"}, \"mode\": \"markers\", \"name\": \"C12\", \"scene\": \"scene\", \"showlegend\": true, \"type\": \"scatter3d\", \"x\": [0.2792477607727051, -0.6615781188011169, -1.5392087697982788, 0.28621694445610046, -1.4091651439666748, -2.4741430282592773, -0.038866523653268814, -0.6409700512886047, 0.34674274921417236, -1.2179925441741943, -2.5083091259002686, 0.06039680168032646, 0.4000900685787201, -1.8196927309036255, -2.458662271499634, -2.4425015449523926, -0.20467060804367065, -2.251908302307129, 0.3691751956939697, -0.5811797380447388, -1.6866730451583862, -0.7469295859336853, -0.3846309781074524, 0.7584117650985718, -2.548034906387329, -2.1094741821289062, -1.174513339996338, 0.43472620844841003, -0.37395480275154114, -0.4441286623477936], \"y\": [-11.04328727722168, -10.140634536743164, -10.61544418334961, -9.068076133728027, -9.25780963897705, -10.894372940063477, -9.95086669921875, -9.512383460998535, -9.94911003112793, -9.592171669006348, -10.641115188598633, -10.697318077087402, -11.002562522888184, -9.607120513916016, -10.377228736877441, -10.74411678314209, -11.440376281738281, -10.177533149719238, -10.671331405639648, -10.965775489807129, -10.71177864074707, -10.591636657714844, -9.710928916931152, -10.191349029541016, -10.907047271728516, -10.611573219299316, -9.570474624633789, -9.203916549682617, -9.507701873779297, -9.377957344055176], \"z\": [6.399315357208252, 8.801139831542969, 5.510366439819336, 7.809082508087158, 6.873882293701172, 6.527535438537598, 5.917312145233154, 7.95050048828125, 6.287435531616211, 7.852414608001709, 6.396501064300537, 6.717081546783447, 6.399057865142822, 7.206070423126221, 6.640548229217529, 6.512929916381836, 8.879312515258789, 5.80002498626709, 9.139721870422363, 6.120316982269287, 6.716936111450195, 8.17131519317627, 8.210494041442871, 9.19170093536377, 6.572281837463379, 5.6427321434021, 6.784106731414795, 8.29277229309082, 8.092269897460938, 6.620640277862549]}, {\"hovertemplate\": \"<b>%{hovertext}</b><br><br>color=C13<br>x=%{x}<br>y=%{y}<br>z=%{z}<extra></extra>\", \"hovertext\": [\"bladder inflammation\", \"still birth\", \"bladder retention\", \"glomerulonephritis\", \"nephrocalcinosis\", \"chronic kidney disease\", \"acute kidney failure\", \"azotaemia\", \"incontinence\", \"pyelonephritis\", \"kidney failure\", \"nephrolithiasis\", \"ureteral obstruction\", \"nephrosclerosis\", \"diabetic nephropathy\", \"proteinuria\", \"enuresis\", \"cervicitis\", \"nephrotic syndrome\", \"colpitis\", \"hydronephrosis\", \"renal tubular acidosis\", \"polyuria\", \"glucosuria\", \"ovarian cyst\", \"premature menopause\", \"pelvic inflammatory disease\", \"nephrogenic diabetes insipidus\", \"breakthrough bleeding\", \"interstitial nephritis\", \"hepatorenal syndrome\", \"ovarian cancer\", \"vaginal discharge\", \"bladder cancer\", \"diabetes insipidus\", \"neurogenic bladder\", \"uterine bleeding\", \"pyuria\", \"breast inflammation\"], \"legendgroup\": \"C13\", \"marker\": {\"color\": \"#ab63fa\", \"symbol\": \"circle\"}, \"mode\": \"markers\", \"name\": \"C13\", \"scene\": \"scene\", \"showlegend\": true, \"type\": \"scatter3d\", \"x\": [0.2792477607727051, -1.7045302391052246, -0.6615781188011169, -1.5392087697982788, 0.28621694445610046, -1.4091651439666748, -2.4741430282592773, -0.038866523653268814, -0.6409700512886047, 0.34674274921417236, -2.5083091259002686, 0.06039680168032646, 0.4000900685787201, -1.8196927309036255, -2.458662271499634, -2.4425015449523926, -0.20467060804367065, 0.621263325214386, -2.251908302307129, 1.1202019453048706, -0.5811797380447388, -1.6866730451583862, -0.7469295859336853, -0.3846309781074524, 0.5459476113319397, 0.8807502388954163, 0.507547914981842, 0.7584117650985718, 1.4159877300262451, -2.548034906387329, -2.1094741821289062, -0.46747666597366333, -0.22686654329299927, -1.174513339996338, 0.43472620844841003, -0.37395480275154114, -0.29097381234169006, -0.4441286623477936, 1.0057677030563354], \"y\": [-11.04328727722168, -10.156794548034668, -10.140634536743164, -10.61544418334961, -9.068076133728027, -9.25780963897705, -10.894372940063477, -9.95086669921875, -9.512383460998535, -9.94911003112793, -10.641115188598633, -10.697318077087402, -11.002562522888184, -9.607120513916016, -10.377228736877441, -10.74411678314209, -11.440376281738281, -9.891250610351562, -10.177533149719238, -10.3423490524292, -10.965775489807129, -10.71177864074707, -10.591636657714844, -9.710928916931152, -9.89520263671875, -11.084177017211914, -10.776564598083496, -10.191349029541016, -10.521428108215332, -10.907047271728516, -10.611573219299316, -11.207771301269531, -10.903240203857422, -9.570474624633789, -9.203916549682617, -9.507701873779297, -10.314750671386719, -9.377957344055176, -10.543848037719727], \"z\": [6.399315357208252, 6.183931350708008, 8.801139831542969, 5.510366439819336, 7.809082508087158, 6.873882293701172, 6.527535438537598, 5.917312145233154, 7.95050048828125, 6.287435531616211, 6.396501064300537, 6.717081546783447, 6.399057865142822, 7.206070423126221, 6.640548229217529, 6.512929916381836, 8.879312515258789, 8.835892677307129, 5.80002498626709, 7.555392265319824, 6.120316982269287, 6.716936111450195, 8.17131519317627, 8.210494041442871, 8.960259437561035, 7.789436340332031, 9.24194049835205, 9.19170093536377, 7.710670471191406, 6.572281837463379, 5.6427321434021, 6.393624782562256, 8.381853103637695, 6.784106731414795, 8.29277229309082, 8.092269897460938, 8.904559135437012, 6.620640277862549, 6.617032527923584]}, {\"hovertemplate\": \"<b>%{hovertext}</b><br><br>color=C26<br>x=%{x}<br>y=%{y}<br>z=%{z}<extra></extra>\", \"hovertext\": [\"back injury\", \"sunburn\", \"laceration\", \"head injury\", \"femoral neck fracture\", \"bruise\", \"tendinitis\", \"tympanic membrane perforation\", \"spinal fracture\", \"rib fracture\", \"ankle fracture\", \"bone fracture\", \"brain concussion\", \"eye injury\", \"tendon injury\", \"corneal abrasion\"], \"legendgroup\": \"C26\", \"marker\": {\"color\": \"#FFA15A\", \"symbol\": \"circle\"}, \"mode\": \"markers\", \"name\": \"C26\", \"scene\": \"scene\", \"showlegend\": true, \"type\": \"scatter3d\", \"x\": [-0.0807802751660347, -0.5571677684783936, 0.36962905526161194, -0.004772767424583435, -0.5059128403663635, -0.33464181423187256, 1.2091349363327026, -0.32012882828712463, -0.15202151238918304, -0.22559045255184174, 0.8824924826622009, 0.7607810497283936, 0.49065354466438293, 0.09926024824380875, 1.036084532737732, 0.17618823051452637], \"y\": [-10.219226837158203, -11.780448913574219, -9.845663070678711, -10.978507041931152, -9.843944549560547, -9.489485740661621, -9.574947357177734, -10.125329971313477, -9.190330505371094, -9.767695426940918, -10.817365646362305, -10.391288757324219, -10.384381294250488, -11.017133712768555, -9.413772583007812, -9.858620643615723], \"z\": [8.958499908447266, 7.374368190765381, 8.997451782226562, 9.287032127380371, 7.701998710632324, 7.725044250488281, 8.02927303314209, 8.664209365844727, 7.614030361175537, 6.107860565185547, 8.10123062133789, 6.737419128417969, 8.80696964263916, 8.332098007202148, 7.958784580230713, 8.860391616821289]}, {\"hovertemplate\": \"<b>%{hovertext}</b><br><br>color=C17<br>x=%{x}<br>y=%{y}<br>z=%{z}<extra></extra>\", \"hovertext\": [\"erythema\", \"breast cancer\", \"alopecia\", \"sunburn\", \"cellulitis\", \"dermatitides\", \"dermatitis medicamentosa\", \"erythema multiforme\", \"bleb\", \"pyoderma\", \"arthritis rheumatoid\", \"breast cyst\", \"acne rosacea\", \"decubitus ulcer\", \"breast dysplasia\", \"psoriatic arthritis\", \"herpes simplex\", \"hyperhidrosis\", \"gynaecomastia\", \"angioedema\", \"onychomycosis\", \"dermatitis exfoliative\", \"psoriasis\", \"contact dermatitis\", \"actinic keratosis\", \"galactorrhea\", \"lichen planus\", \"hyperpigmentation\", \"eczema\", \"erysipelas\", \"pyoderma gangrenosum\", \"acne\", \"paronychia\", \"dermatomyositis\", \"polymyalgia rheumatica\", \"temporal arteritis\", \"serum sickness\", \"ganglion\", \"sjogrens syndrome\", \"pigmentation disorder\", \"folliculitis\", \"connective tissue disease\", \"breast inflammation\", \"tinea pedis\"], \"legendgroup\": \"C17\", \"marker\": {\"color\": \"#19d3f3\", \"symbol\": \"circle\"}, \"mode\": \"markers\", \"name\": \"C17\", \"scene\": \"scene\", \"showlegend\": true, \"type\": \"scatter3d\", \"x\": [-0.856624960899353, 0.8911239504814148, 0.003597289090976119, -0.5571677684783936, 0.22646376490592957, -0.5064491033554077, -1.6196681261062622, -1.5814580917358398, -1.8507707118988037, -0.8777624368667603, -0.15561045706272125, 0.8473869562149048, 0.8615925312042236, -0.9458013772964478, 1.4335845708847046, 0.3184274733066559, -0.7107093334197998, -0.740908145904541, -1.003173828125, -1.2771971225738525, 0.7352674603462219, -2.6237094402313232, 1.1294838190078735, -0.02060544863343239, 0.43340593576431274, 0.7956578135490417, -0.1404609978199005, -1.2275148630142212, -0.7939141392707825, -2.1892435550689697, -1.5396913290023804, -0.9672784209251404, -0.2364528328180313, -1.866417407989502, -0.2157016396522522, -0.27299338579177856, -0.5219571590423584, 0.1374577134847641, 0.39910799264907837, -1.2755780220031738, -0.7781491279602051, 1.1970165967941284, 1.0057677030563354, 0.006439438089728355], \"y\": [-10.647326469421387, -9.929275512695312, -10.795021057128906, -11.780448913574219, -10.665863037109375, -9.32916259765625, -10.388452529907227, -10.576526641845703, -10.399861335754395, -11.335793495178223, -10.794289588928223, -9.911214828491211, -9.862668991088867, -9.472768783569336, -10.224532127380371, -9.368573188781738, -11.328113555908203, -11.788583755493164, -11.319025039672852, -11.876734733581543, -10.580720901489258, -10.663558006286621, -10.481560707092285, -10.328591346740723, -9.583678245544434, -10.698969841003418, -9.76678466796875, -9.039499282836914, -11.690210342407227, -9.662779808044434, -11.012801170349121, -10.53966236114502, -12.018061637878418, -9.965238571166992, -10.950910568237305, -9.23509407043457, -10.082664489746094, -9.684572219848633, -10.859607696533203, -9.408742904663086, -10.46131420135498, -9.78926944732666, -10.543848037719727, -10.370674133300781], \"z\": [5.855896949768066, 6.434554100036621, 6.071065902709961, 7.374368190765381, 6.558393478393555, 6.4073262214660645, 5.644217491149902, 5.525824069976807, 5.6066203117370605, 6.445451259613037, 7.5974249839782715, 7.5439276695251465, 8.100282669067383, 6.370046615600586, 7.28591775894165, 6.73557186126709, 6.541860580444336, 8.066618919372559, 8.205004692077637, 7.1039886474609375, 7.207195281982422, 5.973446846008301, 6.827144145965576, 8.620826721191406, 7.287942886352539, 9.266594886779785, 6.898321628570557, 7.248510360717773, 7.673761367797852, 6.229369163513184, 5.77714729309082, 6.023285865783691, 7.435746192932129, 6.693843841552734, 6.773266792297363, 6.770485877990723, 6.921034812927246, 8.150713920593262, 6.922903060913086, 6.5769219398498535, 6.237829685211182, 7.3611931800842285, 6.617032527923584, 9.012866973876953]}, {\"hovertemplate\": \"<b>%{hovertext}</b><br><br>color=C09<br>x=%{x}<br>y=%{y}<br>z=%{z}<extra></extra>\", \"hovertext\": [\"aphonia\", \"hoarseness\", \"tinnitus\", \"deafness\", \"vocal cord paralysis\", \"deafness neurosensory\", \"epistaxis\", \"nasopharyngitis\", \"rhinitis\", \"spinning sensation\", \"deglutition disorder\", \"laryngitis\", \"sinusitis\", \"allergic rhinitis\", \"otitis media\", \"dysphonia\", \"ear infection\", \"tympanic membrane perforation\", \"labyrinthitis\", \"hay fever\", \"hyperacusia\"], \"legendgroup\": \"C09\", \"marker\": {\"color\": \"#FF6692\", \"symbol\": \"circle\"}, \"mode\": \"markers\", \"name\": \"C09\", \"scene\": \"scene\", \"showlegend\": true, \"type\": \"scatter3d\", \"x\": [0.3339887261390686, 0.11224858462810516, 0.60625159740448, -1.2629756927490234, -0.08982548117637634, -2.2358529567718506, -0.6785569190979004, -0.6209231019020081, 0.4603250026702881, -0.06931997090578079, -1.233660101890564, 0.2866177558898926, 0.8067643642425537, 0.8862318992614746, -0.32487013936042786, -0.40655723214149475, 0.6134592890739441, -0.32012882828712463, 0.9844757318496704, 1.1752324104309082, 0.21560949087142944], \"y\": [-10.876229286193848, -9.58470344543457, -11.450161933898926, -11.506463050842285, -9.651495933532715, -10.486540794372559, -11.752223014831543, -10.803751945495605, -10.699506759643555, -9.520130157470703, -11.327681541442871, -10.477333068847656, -10.01221752166748, -10.383216857910156, -10.297394752502441, -11.93111515045166, -9.715933799743652, -10.125329971313477, -10.062758445739746, -10.543388366699219, -11.460865020751953], \"z\": [6.755838871002197, 8.512266159057617, 8.383116722106934, 7.731963157653809, 7.616772174835205, 6.129061222076416, 6.49874210357666, 7.687490940093994, 7.727575778961182, 7.324906349182129, 7.397035121917725, 7.975246906280518, 6.619153022766113, 8.049398422241211, 7.989112377166748, 7.257335662841797, 7.608611583709717, 8.664209365844727, 7.819742202758789, 6.780172348022461, 9.024991035461426]}, {\"hovertemplate\": \"<b>%{hovertext}</b><br><br>color=C05<br>x=%{x}<br>y=%{y}<br>z=%{z}<extra></extra>\", \"hovertext\": [\"bursitis\", \"aching muscles\", \"arthritis infective\", \"muscle weakness\", \"osteoporosis\", \"arthritis rheumatoid\", \"osteoarthritis\", \"fibromyalgia\", \"myoglobinuria\", \"osteomalacia\", \"aching joints\", \"arthritis\", \"osteomyelitis\", \"scoliosis\", \"rhabdomyolysis\", \"psoriatic arthritis\", \"bone inflammation\", \"arthropathy\", \"contracture\", \"spondylitis\", \"spondylosis\", \"synovitis\", \"tendinitis\", \"bone spur\", \"musculoskeletal pain\", \"muscle disorder\", \"cramp\", \"polymyositis\", \"shoulder pain\", \"gouty arthritis\", \"gout\", \"tenosynovitis\", \"dermatomyositis\", \"polymyalgia rheumatica\", \"polyarthritis\", \"sjogrens syndrome\", \"sacroiliitis\", \"bunion\"], \"legendgroup\": \"C05\", \"marker\": {\"color\": \"#B6E880\", \"symbol\": \"circle\"}, \"mode\": \"markers\", \"name\": \"C05\", \"scene\": \"scene\", \"showlegend\": true, \"type\": \"scatter3d\", \"x\": [0.4742637276649475, 0.06271371245384216, 0.4553738236427307, -1.229650616645813, 0.9695917963981628, -0.15561045706272125, 0.6865452527999878, 1.2497988939285278, -2.6761629581451416, 0.9693503379821777, 0.12322957068681717, 1.182525396347046, 0.7923650145530701, 1.1074124574661255, -2.767082929611206, 0.3184274733066559, 1.203291416168213, 0.711577296257019, -1.8515771627426147, 0.07238015532493591, 0.7827329039573669, -1.3118536472320557, 1.2091349363327026, 0.20739176869392395, 0.24554193019866943, -1.770918846130371, 0.5908573865890503, -1.086417555809021, 0.4157871901988983, 0.24248403310775757, 0.5098844766616821, 0.279781699180603, -1.866417407989502, -0.2157016396522522, 0.5512682199478149, 0.39910799264907837, 0.30315497517585754, 0.5630765557289124], \"y\": [-10.340806007385254, -11.86346435546875, -9.07507038116455, -9.449601173400879, -10.222761154174805, -10.794289588928223, -10.288294792175293, -10.062742233276367, -11.095457077026367, -10.938252449035645, -11.59302806854248, -10.426351547241211, -10.550490379333496, -9.473122596740723, -10.452574729919434, -9.368573188781738, -10.684843063354492, -10.297685623168945, -11.45251750946045, -9.286060333251953, -9.56387996673584, -9.715217590332031, -9.574947357177734, -11.698189735412598, -10.230302810668945, -9.82050609588623, -9.902709007263184, -9.918431282043457, -10.331753730773926, -8.961628913879395, -10.488252639770508, -9.285151481628418, -9.965238571166992, -10.950910568237305, -9.830202102661133, -10.859607696533203, -9.083796501159668, -9.646261215209961], \"z\": [8.729171752929688, 7.387248516082764, 7.850112438201904, 6.765872001647949, 7.065596580505371, 7.5974249839782715, 7.821012496948242, 8.449065208435059, 6.347103595733643, 6.310234546661377, 7.549073696136475, 7.51487922668457, 5.974489688873291, 7.809679985046387, 6.427332878112793, 6.73557186126709, 6.289524078369141, 7.023691177368164, 5.9321608543396, 8.028775215148926, 8.22027587890625, 7.704492092132568, 8.02927303314209, 7.54618501663208, 6.590996742248535, 7.274776458740234, 8.276108741760254, 7.33354377746582, 8.552390098571777, 8.178949356079102, 6.284822940826416, 7.490736484527588, 6.693843841552734, 6.773266792297363, 7.017941951751709, 6.922903060913086, 7.805473327636719, 8.165037155151367]}, {\"hovertemplate\": \"<b>%{hovertext}</b><br><br>color=C07<br>x=%{x}<br>y=%{y}<br>z=%{z}<extra></extra>\", \"hovertext\": [\"glossodynia\", \"nasopharyngitis\", \"mucositis oral\", \"facial palsy\", \"gingivitis\", \"bruxism\", \"tooth disease\", \"salivary gland inflammation\", \"dental caries\", \"mouth ulcer\", \"trigeminal neuralgia\", \"periodontal disease\", \"periodontitis\", \"glossitis\", \"parotitis\", \"aphthous stomatitis\", \"sjogrens syndrome\", \"mumps\"], \"legendgroup\": \"C07\", \"marker\": {\"color\": \"#FF97FF\", \"symbol\": \"circle\"}, \"mode\": \"markers\", \"name\": \"C07\", \"scene\": \"scene\", \"showlegend\": true, \"type\": \"scatter3d\", \"x\": [0.008536260575056076, -0.6209231019020081, -0.45189279317855835, 0.2917076051235199, 0.9701805710792542, 0.9135816693305969, 1.0868152379989624, 1.3429266214370728, 1.1191006898880005, 1.1002893447875977, 0.913896381855011, 1.0284408330917358, 1.0011451244354248, -1.2212860584259033, 0.22543953359127045, -0.06106700375676155, 0.39910799264907837, 0.8870006203651428], \"y\": [-11.136245727539062, -10.803751945495605, -11.372477531433105, -9.789316177368164, -10.677767753601074, -10.597757339477539, -10.782466888427734, -10.627680778503418, -10.695528984069824, -10.745417594909668, -10.362470626831055, -10.795880317687988, -10.582183837890625, -11.33008861541748, -11.02260971069336, -11.182350158691406, -10.859607696533203, -10.302955627441406], \"z\": [6.713962078094482, 7.687490940093994, 5.922353267669678, 6.287980556488037, 6.119607925415039, 9.151118278503418, 6.1615986824035645, 6.770232677459717, 6.553738594055176, 6.382897853851318, 7.299618244171143, 6.144010066986084, 6.656038761138916, 7.168124675750732, 6.335129261016846, 7.375354766845703, 6.922903060913086, 8.602277755737305]}, {\"hovertemplate\": \"<b>%{hovertext}</b><br><br>color=C19<br>x=%{x}<br>y=%{y}<br>z=%{z}<extra></extra>\", \"hovertext\": [\"hypothyroid\", \"diabetic acidosis\", \"diabetic retinopathy\", \"diabetes\", \"adrenal insufficiency\", \"diabetic nephropathy\", \"hyperparathyroidism\", \"goiter\", \"hyperthyroidism\", \"ovarian cyst\", \"pancreatic cancer\", \"diabetic neuropathy\", \"hyperprolactinaemia\", \"thyroid disease\", \"ovarian cancer\", \"diabetes insipidus\", \"hypogonadism\"], \"legendgroup\": \"C19\", \"marker\": {\"color\": \"#FECB52\", \"symbol\": \"circle\"}, \"mode\": \"markers\", \"name\": \"C19\", \"scene\": \"scene\", \"showlegend\": true, \"type\": \"scatter3d\", \"x\": [0.5013294816017151, -0.47377485036849976, -0.8503071665763855, -0.5233688354492188, -1.1434009075164795, -2.458662271499634, 0.017602141946554184, 1.0684185028076172, -0.6264588832855225, 0.5459476113319397, -0.9504315853118896, -0.11385282129049301, -0.9577812552452087, 0.5734086036682129, -0.46747666597366333, 0.43472620844841003, 0.7191606760025024], \"y\": [-11.416800498962402, -10.903352737426758, -9.359159469604492, -10.232964515686035, -10.891491889953613, -10.377228736877441, -10.444181442260742, -9.762152671813965, -10.849359512329102, -9.89520263671875, -10.528130531311035, -10.422385215759277, -11.444405555725098, -10.420797348022461, -11.207771301269531, -9.203916549682617, -10.476841926574707], \"z\": [7.757167339324951, 8.671361923217773, 7.417973518371582, 8.163093566894531, 7.709779262542725, 6.640548229217529, 6.393925666809082, 7.839917182922363, 8.630401611328125, 8.960259437561035, 6.925118923187256, 8.737266540527344, 8.519556999206543, 7.385606288909912, 6.393624782562256, 8.29277229309082, 9.196557998657227]}, {\"hovertemplate\": \"<b>%{hovertext}</b><br><br>color=F<br>x=%{x}<br>y=%{y}<br>z=%{z}<extra></extra>\", \"hovertext\": [\"anxiety\", \"panic disorder\", \"bipolar disorder\", \"major depression\", \"alcohol consumption\", \"schizoaffective disorder\", \"borderline personality disorder\", \"agoraphobia\", \"conversion disorder\"], \"legendgroup\": \"F\", \"marker\": {\"color\": \"#636efa\", \"symbol\": \"circle\"}, \"mode\": \"markers\", \"name\": \"F\", \"scene\": \"scene\", \"showlegend\": true, \"type\": \"scatter3d\", \"x\": [0.7949156165122986, 0.9674282073974609, 0.7793165445327759, 0.8804078698158264, -0.5945373177528381, 0.015605992637574673, 0.5872450470924377, 0.8453099131584167, -0.293019562959671], \"y\": [-11.266955375671387, -10.365057945251465, -10.111089706420898, -10.559638977050781, -11.787702560424805, -10.943592071533203, -10.637299537658691, -10.674254417419434, -11.033269882202148], \"z\": [8.50762939453125, 8.6897611618042, 9.221511840820312, 9.152145385742188, 8.27255630493164, 9.24205493927002, 9.102336883544922, 8.891876220703125, 8.597928047180176]}, {\"hovertemplate\": \"<b>%{hovertext}</b><br><br>color=C16<br>x=%{x}<br>y=%{y}<br>z=%{z}<extra></extra>\", \"hovertext\": [\"renal tubular acidosis\", \"gouty arthritis\", \"umbilical hernia\", \"gout\", \"congenital heart disease\", \"birth defect\"], \"legendgroup\": \"C16\", \"marker\": {\"color\": \"#EF553B\", \"symbol\": \"circle\"}, \"mode\": \"markers\", \"name\": \"C16\", \"scene\": \"scene\", \"showlegend\": true, \"type\": \"scatter3d\", \"x\": [-1.6866730451583862, 0.24248403310775757, 0.6034588813781738, 0.5098844766616821, -0.81320720911026, 0.451337069272995], \"y\": [-10.71177864074707, -8.961628913879395, -9.666594505310059, -10.488252639770508, -10.653130531311035, -9.717392921447754], \"z\": [6.716936111450195, 8.178949356079102, 8.314596176147461, 6.284822940826416, 8.095575332641602, 6.809108257293701]}],                        {\"legend\": {\"title\": {\"text\": \"color\"}, \"tracegroupgap\": 0}, \"margin\": {\"t\": 60}, \"scene\": {\"domain\": {\"x\": [0.0, 1.0], \"y\": [0.0, 1.0]}, \"xaxis\": {\"title\": {\"text\": \"x\"}}, \"yaxis\": {\"title\": {\"text\": \"y\"}}, \"zaxis\": {\"title\": {\"text\": \"z\"}}}, \"template\": {\"data\": {\"bar\": [{\"error_x\": {\"color\": \"#2a3f5f\"}, \"error_y\": {\"color\": \"#2a3f5f\"}, \"marker\": {\"line\": {\"color\": \"#E5ECF6\", \"width\": 0.5}}, \"type\": \"bar\"}], \"barpolar\": [{\"marker\": {\"line\": {\"color\": \"#E5ECF6\", \"width\": 0.5}}, \"type\": \"barpolar\"}], \"carpet\": [{\"aaxis\": {\"endlinecolor\": \"#2a3f5f\", \"gridcolor\": \"white\", \"linecolor\": \"white\", \"minorgridcolor\": \"white\", \"startlinecolor\": \"#2a3f5f\"}, \"baxis\": {\"endlinecolor\": \"#2a3f5f\", \"gridcolor\": \"white\", \"linecolor\": \"white\", \"minorgridcolor\": \"white\", \"startlinecolor\": \"#2a3f5f\"}, \"type\": \"carpet\"}], \"choropleth\": [{\"colorbar\": {\"outlinewidth\": 0, \"ticks\": \"\"}, \"type\": \"choropleth\"}], \"contour\": [{\"colorbar\": {\"outlinewidth\": 0, \"ticks\": \"\"}, \"colorscale\": [[0.0, \"#0d0887\"], [0.1111111111111111, \"#46039f\"], [0.2222222222222222, \"#7201a8\"], [0.3333333333333333, \"#9c179e\"], [0.4444444444444444, \"#bd3786\"], [0.5555555555555556, \"#d8576b\"], [0.6666666666666666, \"#ed7953\"], [0.7777777777777778, \"#fb9f3a\"], [0.8888888888888888, \"#fdca26\"], [1.0, \"#f0f921\"]], \"type\": \"contour\"}], \"contourcarpet\": [{\"colorbar\": {\"outlinewidth\": 0, \"ticks\": \"\"}, \"type\": \"contourcarpet\"}], \"heatmap\": [{\"colorbar\": {\"outlinewidth\": 0, \"ticks\": \"\"}, \"colorscale\": [[0.0, \"#0d0887\"], [0.1111111111111111, \"#46039f\"], [0.2222222222222222, \"#7201a8\"], [0.3333333333333333, \"#9c179e\"], [0.4444444444444444, \"#bd3786\"], [0.5555555555555556, \"#d8576b\"], [0.6666666666666666, \"#ed7953\"], [0.7777777777777778, \"#fb9f3a\"], [0.8888888888888888, \"#fdca26\"], [1.0, \"#f0f921\"]], \"type\": \"heatmap\"}], \"heatmapgl\": [{\"colorbar\": {\"outlinewidth\": 0, \"ticks\": \"\"}, \"colorscale\": [[0.0, \"#0d0887\"], [0.1111111111111111, \"#46039f\"], [0.2222222222222222, \"#7201a8\"], [0.3333333333333333, \"#9c179e\"], [0.4444444444444444, \"#bd3786\"], [0.5555555555555556, \"#d8576b\"], [0.6666666666666666, \"#ed7953\"], [0.7777777777777778, \"#fb9f3a\"], [0.8888888888888888, \"#fdca26\"], [1.0, \"#f0f921\"]], \"type\": \"heatmapgl\"}], \"histogram\": [{\"marker\": {\"colorbar\": {\"outlinewidth\": 0, \"ticks\": \"\"}}, \"type\": \"histogram\"}], \"histogram2d\": [{\"colorbar\": {\"outlinewidth\": 0, \"ticks\": \"\"}, \"colorscale\": [[0.0, \"#0d0887\"], [0.1111111111111111, \"#46039f\"], [0.2222222222222222, \"#7201a8\"], [0.3333333333333333, \"#9c179e\"], [0.4444444444444444, \"#bd3786\"], [0.5555555555555556, \"#d8576b\"], [0.6666666666666666, \"#ed7953\"], [0.7777777777777778, \"#fb9f3a\"], [0.8888888888888888, \"#fdca26\"], [1.0, \"#f0f921\"]], \"type\": \"histogram2d\"}], \"histogram2dcontour\": [{\"colorbar\": {\"outlinewidth\": 0, \"ticks\": \"\"}, \"colorscale\": [[0.0, \"#0d0887\"], [0.1111111111111111, \"#46039f\"], [0.2222222222222222, \"#7201a8\"], [0.3333333333333333, \"#9c179e\"], [0.4444444444444444, \"#bd3786\"], [0.5555555555555556, \"#d8576b\"], [0.6666666666666666, \"#ed7953\"], [0.7777777777777778, \"#fb9f3a\"], [0.8888888888888888, \"#fdca26\"], [1.0, \"#f0f921\"]], \"type\": \"histogram2dcontour\"}], \"mesh3d\": [{\"colorbar\": {\"outlinewidth\": 0, \"ticks\": \"\"}, \"type\": \"mesh3d\"}], \"parcoords\": [{\"line\": {\"colorbar\": {\"outlinewidth\": 0, \"ticks\": \"\"}}, \"type\": \"parcoords\"}], \"pie\": [{\"automargin\": true, \"type\": \"pie\"}], \"scatter\": [{\"marker\": {\"colorbar\": {\"outlinewidth\": 0, \"ticks\": \"\"}}, \"type\": \"scatter\"}], \"scatter3d\": [{\"line\": {\"colorbar\": {\"outlinewidth\": 0, \"ticks\": \"\"}}, \"marker\": {\"colorbar\": {\"outlinewidth\": 0, \"ticks\": \"\"}}, \"type\": \"scatter3d\"}], \"scattercarpet\": [{\"marker\": {\"colorbar\": {\"outlinewidth\": 0, \"ticks\": \"\"}}, \"type\": \"scattercarpet\"}], \"scattergeo\": [{\"marker\": {\"colorbar\": {\"outlinewidth\": 0, \"ticks\": \"\"}}, \"type\": \"scattergeo\"}], \"scattergl\": [{\"marker\": {\"colorbar\": {\"outlinewidth\": 0, \"ticks\": \"\"}}, \"type\": \"scattergl\"}], \"scattermapbox\": [{\"marker\": {\"colorbar\": {\"outlinewidth\": 0, \"ticks\": \"\"}}, \"type\": \"scattermapbox\"}], \"scatterpolar\": [{\"marker\": {\"colorbar\": {\"outlinewidth\": 0, \"ticks\": \"\"}}, \"type\": \"scatterpolar\"}], \"scatterpolargl\": [{\"marker\": {\"colorbar\": {\"outlinewidth\": 0, \"ticks\": \"\"}}, \"type\": \"scatterpolargl\"}], \"scatterternary\": [{\"marker\": {\"colorbar\": {\"outlinewidth\": 0, \"ticks\": \"\"}}, \"type\": \"scatterternary\"}], \"surface\": [{\"colorbar\": {\"outlinewidth\": 0, \"ticks\": \"\"}, \"colorscale\": [[0.0, \"#0d0887\"], [0.1111111111111111, \"#46039f\"], [0.2222222222222222, \"#7201a8\"], [0.3333333333333333, \"#9c179e\"], [0.4444444444444444, \"#bd3786\"], [0.5555555555555556, \"#d8576b\"], [0.6666666666666666, \"#ed7953\"], [0.7777777777777778, \"#fb9f3a\"], [0.8888888888888888, \"#fdca26\"], [1.0, \"#f0f921\"]], \"type\": \"surface\"}], \"table\": [{\"cells\": {\"fill\": {\"color\": \"#EBF0F8\"}, \"line\": {\"color\": \"white\"}}, \"header\": {\"fill\": {\"color\": \"#C8D4E3\"}, \"line\": {\"color\": \"white\"}}, \"type\": \"table\"}]}, \"layout\": {\"annotationdefaults\": {\"arrowcolor\": \"#2a3f5f\", \"arrowhead\": 0, \"arrowwidth\": 1}, \"autotypenumbers\": \"strict\", \"coloraxis\": {\"colorbar\": {\"outlinewidth\": 0, \"ticks\": \"\"}}, \"colorscale\": {\"diverging\": [[0, \"#8e0152\"], [0.1, \"#c51b7d\"], [0.2, \"#de77ae\"], [0.3, \"#f1b6da\"], [0.4, \"#fde0ef\"], [0.5, \"#f7f7f7\"], [0.6, \"#e6f5d0\"], [0.7, \"#b8e186\"], [0.8, \"#7fbc41\"], [0.9, \"#4d9221\"], [1, \"#276419\"]], \"sequential\": [[0.0, \"#0d0887\"], [0.1111111111111111, \"#46039f\"], [0.2222222222222222, \"#7201a8\"], [0.3333333333333333, \"#9c179e\"], [0.4444444444444444, \"#bd3786\"], [0.5555555555555556, \"#d8576b\"], [0.6666666666666666, \"#ed7953\"], [0.7777777777777778, \"#fb9f3a\"], [0.8888888888888888, \"#fdca26\"], [1.0, \"#f0f921\"]], \"sequentialminus\": [[0.0, \"#0d0887\"], [0.1111111111111111, \"#46039f\"], [0.2222222222222222, \"#7201a8\"], [0.3333333333333333, \"#9c179e\"], [0.4444444444444444, \"#bd3786\"], [0.5555555555555556, \"#d8576b\"], [0.6666666666666666, \"#ed7953\"], [0.7777777777777778, \"#fb9f3a\"], [0.8888888888888888, \"#fdca26\"], [1.0, \"#f0f921\"]]}, \"colorway\": [\"#636efa\", \"#EF553B\", \"#00cc96\", \"#ab63fa\", \"#FFA15A\", \"#19d3f3\", \"#FF6692\", \"#B6E880\", \"#FF97FF\", \"#FECB52\"], \"font\": {\"color\": \"#2a3f5f\"}, \"geo\": {\"bgcolor\": \"white\", \"lakecolor\": \"white\", \"landcolor\": \"#E5ECF6\", \"showlakes\": true, \"showland\": true, \"subunitcolor\": \"white\"}, \"hoverlabel\": {\"align\": \"left\"}, \"hovermode\": \"closest\", \"mapbox\": {\"style\": \"light\"}, \"paper_bgcolor\": \"white\", \"plot_bgcolor\": \"#E5ECF6\", \"polar\": {\"angularaxis\": {\"gridcolor\": \"white\", \"linecolor\": \"white\", \"ticks\": \"\"}, \"bgcolor\": \"#E5ECF6\", \"radialaxis\": {\"gridcolor\": \"white\", \"linecolor\": \"white\", \"ticks\": \"\"}}, \"scene\": {\"xaxis\": {\"backgroundcolor\": \"#E5ECF6\", \"gridcolor\": \"white\", \"gridwidth\": 2, \"linecolor\": \"white\", \"showbackground\": true, \"ticks\": \"\", \"zerolinecolor\": \"white\"}, \"yaxis\": {\"backgroundcolor\": \"#E5ECF6\", \"gridcolor\": \"white\", \"gridwidth\": 2, \"linecolor\": \"white\", \"showbackground\": true, \"ticks\": \"\", \"zerolinecolor\": \"white\"}, \"zaxis\": {\"backgroundcolor\": \"#E5ECF6\", \"gridcolor\": \"white\", \"gridwidth\": 2, \"linecolor\": \"white\", \"showbackground\": true, \"ticks\": \"\", \"zerolinecolor\": \"white\"}}, \"shapedefaults\": {\"line\": {\"color\": \"#2a3f5f\"}}, \"ternary\": {\"aaxis\": {\"gridcolor\": \"white\", \"linecolor\": \"white\", \"ticks\": \"\"}, \"baxis\": {\"gridcolor\": \"white\", \"linecolor\": \"white\", \"ticks\": \"\"}, \"bgcolor\": \"#E5ECF6\", \"caxis\": {\"gridcolor\": \"white\", \"linecolor\": \"white\", \"ticks\": \"\"}}, \"title\": {\"x\": 0.05}, \"xaxis\": {\"automargin\": true, \"gridcolor\": \"white\", \"linecolor\": \"white\", \"ticks\": \"\", \"title\": {\"standoff\": 15}, \"zerolinecolor\": \"white\", \"zerolinewidth\": 2}, \"yaxis\": {\"automargin\": true, \"gridcolor\": \"white\", \"linecolor\": \"white\", \"ticks\": \"\", \"title\": {\"standoff\": 15}, \"zerolinecolor\": \"white\", \"zerolinewidth\": 2}}}},                        {\"responsive\": true}                    ).then(function(){\n                            \nvar gd = document.getElementById('761855b4-a8b4-4da2-b961-d36d6b0eda1c');\nvar x = new MutationObserver(function (mutations, observer) {{\n        var display = window.getComputedStyle(gd).display;\n        if (!display || display === 'none') {{\n            console.log([gd, 'removed!']);\n            Plotly.purge(gd);\n            observer.disconnect();\n        }}\n}});\n\n// Listen for the removal of the full notebook cells\nvar notebookContainer = gd.closest('#notebook-container');\nif (notebookContainer) {{\n    x.observe(notebookContainer, {childList: true});\n}}\n\n// Listen for the clearing of the current output cell\nvar outputEl = gd.closest('.output');\nif (outputEl) {{\n    x.observe(outputEl, {childList: true});\n}}\n\n                        })                };                });            </script>        </div>"
     },
     "metadata": {}
    }
   ],
   "source": [
    "fig = px.scatter_3d(x=coo[:, 0], y=coo[:, 1], z=coo[:, 2], color=data_all['category'], hover_name=data_all['side effect'])\n",
    "fig.show()\n"
   ]
  },
  {
   "source": [
    "## Case Study I: Infection Diseases"
   ],
   "cell_type": "markdown",
   "metadata": {}
  },
  {
   "cell_type": "code",
   "execution_count": 12,
   "metadata": {},
   "outputs": [],
   "source": [
    "from collections import Counter\n",
    "from sklearn.preprocessing import StandardScaler\n",
    "from sklearn.cluster import AffinityPropagation"
   ]
  },
  {
   "cell_type": "code",
   "execution_count": 13,
   "metadata": {},
   "outputs": [
    {
     "output_type": "execute_result",
     "data": {
      "text/plain": [
       "(array([ 18,  27,  34,  60,  93,  98, 101, 115, 120, 128, 133, 154, 170,\n",
       "        176, 182, 184, 223, 228, 268, 270, 279, 337, 347, 369, 370, 386,\n",
       "        388, 429, 496, 543, 544, 556, 557, 645, 650, 660, 685, 710, 712,\n",
       "        713, 714, 728, 737, 793, 801, 815, 828, 845, 849, 850]),\n",
       " (50,))"
      ]
     },
     "metadata": {},
     "execution_count": 13
    }
   ],
   "source": [
    "c1_idx = df[df['category'] == 'C01']['side effect id']\n",
    "ses = ','.join(c1_idx.astype(str).tolist())\n",
    "c1_idx.values, c1_idx.shape"
   ]
  },
  {
   "cell_type": "code",
   "execution_count": 27,
   "metadata": {},
   "outputs": [
    {
     "output_type": "execute_result",
     "data": {
      "text/plain": [
       "'18,27,34,60,93,98,101,115,120,128,133,154,170,176,182,184,223,228,268,270,279,337,347,369,370,386,388,429,496,543,544,556,557,645,650,660,685,710,712,713,714,728,737,793,801,815,828,845,849,850'"
      ]
     },
     "metadata": {},
     "execution_count": 27
    }
   ],
   "source": [
    "ses"
   ]
  },
  {
   "source": [
    "#### Biological Process GO items for Training"
   ],
   "cell_type": "markdown",
   "metadata": {}
  },
  {
   "cell_type": "code",
   "execution_count": 20,
   "metadata": {
    "tags": []
   },
   "outputs": [],
   "source": [
    "se, go, da = np.array([], dtype=int), np.array([], dtype=int), np.array([], dtype=float)\n",
    "go_dict = {}\n",
    "go_full_dict = {}\n",
    "go_name_dict = {}\n",
    "\n",
    "for se_idx in c1_idx.values:\n",
    "    file = './c1_out/all-all-{}-2.0-0.99/name_space.csv'.format(se_idx)\n",
    "    if os.path.exists(file):\n",
    "        go_idx = pd.read_csv(file, usecols=[1, 2, 3])\n",
    "        # print(go_idx.head())\n",
    "        go_name = go_idx['name'][go_idx['namespace'] == 'biological_process'].to_numpy().flatten()\n",
    "        go_idx = go_idx['id'][go_idx['namespace'] == 'biological_process'].to_numpy().flatten()\n",
    "        # print(go_idx)\n",
    "        if len(go_idx):\n",
    "            for i, j in zip(go_idx, go_name):\n",
    "                tmp_int = int(i[3:])\n",
    "                if go_full_dict.get(tmp_int) is None:\n",
    "                    go_full_dict[tmp_int] = i\n",
    "                if go_name_dict.get(i) is None:\n",
    "                    go_name_dict[i] = j\n",
    "\n",
    "            go_idx = [int(i[3:]) for i in go_idx]\n",
    "            c = Counter(go_idx)\n",
    "            go_idx, go_count = list(zip(*c.items()))\n",
    "\n",
    "            go_new_id = []\n",
    "            for i in go_idx:\n",
    "                if go_dict.get(i) is None:\n",
    "                    go_dict[i] = len(go_dict)\n",
    "                go_new_id.append(go_dict[i])\n",
    "\n",
    "            se = np.concatenate((se, [se_idx] * len(go_new_id)))\n",
    "            go = np.concatenate((go, go_new_id))\n",
    "            da = np.concatenate((da, go_count))\n",
    "\n",
    "coo = sp.coo_matrix((da, (se, go)), shape=(data.n_et, len(go_dict)))\n",
    "# sp.save_npz('./out/coo', coo)\n",
    "# print(coo.toarray())\n",
    "inv_go_dict = {v:k for k,v in go_dict.items()}"
   ]
  },
  {
   "cell_type": "code",
   "execution_count": 21,
   "metadata": {},
   "outputs": [
    {
     "output_type": "execute_result",
     "data": {
      "text/plain": [
       "(46, 221)"
      ]
     },
     "metadata": {},
     "execution_count": 21
    }
   ],
   "source": [
    "c1_go = pd.DataFrame(coo.toarray()).astype(int)\n",
    "c1_go = c1_go.loc[(c1_go!=0).any(1)]\n",
    "c1_go.shape"
   ]
  },
  {
   "cell_type": "code",
   "execution_count": 22,
   "metadata": {},
   "outputs": [],
   "source": [
    "seed = 20\n",
    "\n",
    "# === standardization representation matrix ===\n",
    "# scaler = StandardScaler()\n",
    "# c1_go_scale = scaler.fit_transform(c1_go.values)\n",
    "\n",
    "# === clustering ===\n",
    "clustering = AffinityPropagation(random_state=seed).fit(c1_go.values)\n",
    "\n",
    "# === dimensional reduction ===\n",
    "umap_3d = UMAP(n_components=2, init='random', random_state=seed)\n",
    "coo = umap_3d.fit_transform(c1_go.values)\n",
    "# coo_scale = umap_3d.fit_transform(c1_go_scale)"
   ]
  },
  {
   "cell_type": "code",
   "execution_count": 23,
   "metadata": {},
   "outputs": [
    {
     "output_type": "execute_result",
     "data": {
      "text/plain": [
       "    side effect idx                           side effect cluster  GO:0055085  \\\n",
       "0                18                           peritonitis       8           9   \n",
       "1                27                                sepsis       8           0   \n",
       "2                34                          appendicitis       1          12   \n",
       "3                60                              neumonia       8           0   \n",
       "4                93                          septic shock       8           0   \n",
       "5                98              pneumonia staphylococcal       8           8   \n",
       "6               101                       lobar pneumonia       8           0   \n",
       "7               115                              pleurisy       0          10   \n",
       "8               120                  aspiration pneumonia       8           0   \n",
       "9               128                     candida infection       1           0   \n",
       "10              133                            cellulitis       8           0   \n",
       "11              154                        fungal disease       1           7   \n",
       "12              170  mycobacterium tuberculosis infection       2           0   \n",
       "13              176                               abscess       1           0   \n",
       "14              182                       nasopharyngitis       8           0   \n",
       "15              184                              rhinitis       8           7   \n",
       "16              228                         herpes zoster       8           0   \n",
       "17              270                         osteomyelitis       8           0   \n",
       "18              279                   bacterial infection       8           0   \n",
       "19              337                            laryngitis       8           0   \n",
       "20              369                            gingivitis       8           8   \n",
       "21              370                 soft tissue infection       1           0   \n",
       "22              388                        herpes simplex       8           0   \n",
       "23              429                           spondylitis       3          14   \n",
       "24              496                      acute bronchitis       8           0   \n",
       "25              543               streptococcal infection       8           9   \n",
       "26              544                         aspergillosis       4          13   \n",
       "27              556                           bacteraemia       8           0   \n",
       "28              557                         onychomycosis       8          10   \n",
       "29              645                   bacterial pneumonia       5          10   \n",
       "30              650                         liver abscess       6           0   \n",
       "31              660           pelvic inflammatory disease       8           0   \n",
       "32              685                           hepatitis b       1          12   \n",
       "33              710                            erysipelas       1          13   \n",
       "34              712                           hepatitis c       8           0   \n",
       "35              713                         eye infection       7           0   \n",
       "36              714                         ebv infection       8           0   \n",
       "37              728                            tracheitis       8           7   \n",
       "38              737                            paronychia       8           0   \n",
       "39              793                      epidural abscess       8           0   \n",
       "40              801                        histoplasmosis       1           0   \n",
       "41              815                               empyema       1           0   \n",
       "42              828                        cryptococcosis       1           0   \n",
       "43              845                                pyuria       1           0   \n",
       "44              849                                 mumps       1          11   \n",
       "45              850                           tinea pedis       9          10   \n",
       "\n",
       "    GO:0015721  GO:0015711  GO:0052695  GO:0043252  GO:0008202  GO:0140115  \\\n",
       "0            5           3           3           3           3           2   \n",
       "1            0           0           0           0           0           0   \n",
       "2            5           0           4           0           6           0   \n",
       "3            0           0           0           0           0           0   \n",
       "4            0           0           0           0           0           0   \n",
       "5            4           3           3           3           4           2   \n",
       "6            0           0           3           0           0           0   \n",
       "7            5           0           3           0           8           0   \n",
       "8            0           0           3           0           0           0   \n",
       "9            0           0           4           0           6           0   \n",
       "10           0           0           3           0           6           0   \n",
       "11           4           0           4           0           6           0   \n",
       "12           0           0           3           0           4           0   \n",
       "13           0           0           3           0           4           0   \n",
       "14           0           0           2           0           0           0   \n",
       "15           4           0           3           0           5           0   \n",
       "16           0           0           0           0           0           0   \n",
       "17           0           0           0           0           0           0   \n",
       "18           0           0           0           0           0           0   \n",
       "19           0           0           4           0           6           0   \n",
       "20           4           3           3           0           0           0   \n",
       "21           0           0           3           0           7           0   \n",
       "22           0           0           0           0           0           0   \n",
       "23           6           0           4           4           0           0   \n",
       "24           0           0           0           0           4           0   \n",
       "25           5           3           0           0           0           0   \n",
       "26           7           5           4           4           0           0   \n",
       "27           0           0           3           0           0           0   \n",
       "28           5           0           4           0           0           0   \n",
       "29           5           4           4           0           7           0   \n",
       "30           0           0           5           0           8           0   \n",
       "31           0           0           0           0           0           0   \n",
       "32           5           4           3           3           8           0   \n",
       "33           7           4           3           4           6           0   \n",
       "34           0           0           3           0           4           0   \n",
       "35           0           0           3           0           7           0   \n",
       "36           0           0           0           0           0           0   \n",
       "37           0           0           0           0           0           0   \n",
       "38           0           0           0           0           3           0   \n",
       "39           0           0           0           0           0           0   \n",
       "40           0           0           5           0           8           0   \n",
       "41           0           0           8           0           7           0   \n",
       "42           0           0           5           0           7           0   \n",
       "43           0           0           4           0           6           0   \n",
       "44           4           0           3           0           6           0   \n",
       "45           0           3           3           3           6           0   \n",
       "\n",
       "    ...  GO:0071397  GO:0035176  GO:0046684  GO:0015842  GO:0045472  \\\n",
       "0   ...           0           0           0           0           0   \n",
       "1   ...           0           0           0           0           0   \n",
       "2   ...           0           0           0           0           0   \n",
       "3   ...           0           0           0           0           0   \n",
       "4   ...           0           0           0           0           0   \n",
       "5   ...           0           0           0           0           0   \n",
       "6   ...           0           0           0           0           0   \n",
       "7   ...           0           0           0           0           0   \n",
       "8   ...           0           0           0           0           0   \n",
       "9   ...           0           0           0           0           0   \n",
       "10  ...           0           0           0           0           0   \n",
       "11  ...           0           0           0           0           0   \n",
       "12  ...           0           0           0           0           0   \n",
       "13  ...           0           0           0           0           0   \n",
       "14  ...           0           0           0           0           0   \n",
       "15  ...           0           0           0           0           0   \n",
       "16  ...           0           0           0           0           0   \n",
       "17  ...           0           0           0           0           0   \n",
       "18  ...           0           0           0           0           0   \n",
       "19  ...           0           0           0           0           0   \n",
       "20  ...           0           0           0           0           0   \n",
       "21  ...           0           0           0           0           0   \n",
       "22  ...           0           0           0           0           0   \n",
       "23  ...           0           0           0           0           0   \n",
       "24  ...           0           0           0           0           0   \n",
       "25  ...           0           0           0           0           0   \n",
       "26  ...           0           0           0           0           0   \n",
       "27  ...           0           0           0           0           0   \n",
       "28  ...           0           0           0           0           0   \n",
       "29  ...           0           0           0           0           0   \n",
       "30  ...           0           0           0           0           0   \n",
       "31  ...           0           0           0           0           0   \n",
       "32  ...           0           0           0           0           0   \n",
       "33  ...           0           0           0           0           0   \n",
       "34  ...           0           0           0           0           0   \n",
       "35  ...           0           0           0           0           0   \n",
       "36  ...           0           0           0           0           0   \n",
       "37  ...           0           0           0           0           0   \n",
       "38  ...           0           0           0           0           0   \n",
       "39  ...           0           0           0           0           0   \n",
       "40  ...           0           0           0           0           0   \n",
       "41  ...           0           0           0           0           0   \n",
       "42  ...           0           0           0           0           0   \n",
       "43  ...           0           0           0           0           0   \n",
       "44  ...           0           0           0           0           0   \n",
       "45  ...           3           4           2           2           2   \n",
       "\n",
       "    GO:0035690  GO:0042755  GO:0045541  GO:0042713  GO:0046219  \n",
       "0            0           0           0           0           0  \n",
       "1            0           0           0           0           0  \n",
       "2            0           0           0           0           0  \n",
       "3            0           0           0           0           0  \n",
       "4            0           0           0           0           0  \n",
       "5            0           0           0           0           0  \n",
       "6            0           0           0           0           0  \n",
       "7            0           0           0           0           0  \n",
       "8            0           0           0           0           0  \n",
       "9            0           0           0           0           0  \n",
       "10           0           0           0           0           0  \n",
       "11           0           0           0           0           0  \n",
       "12           0           0           0           0           0  \n",
       "13           0           0           0           0           0  \n",
       "14           0           0           0           0           0  \n",
       "15           0           0           0           0           0  \n",
       "16           0           0           0           0           0  \n",
       "17           0           0           0           0           0  \n",
       "18           0           0           0           0           0  \n",
       "19           0           0           0           0           0  \n",
       "20           0           0           0           0           0  \n",
       "21           0           0           0           0           0  \n",
       "22           0           0           0           0           0  \n",
       "23           0           0           0           0           0  \n",
       "24           0           0           0           0           0  \n",
       "25           0           0           0           0           0  \n",
       "26           0           0           0           0           0  \n",
       "27           0           0           0           0           0  \n",
       "28           0           0           0           0           0  \n",
       "29           0           0           0           0           0  \n",
       "30           0           0           0           0           0  \n",
       "31           0           0           0           0           0  \n",
       "32           0           0           0           0           0  \n",
       "33           0           0           0           0           0  \n",
       "34           0           0           0           0           0  \n",
       "35           0           0           0           0           0  \n",
       "36           0           0           0           0           0  \n",
       "37           0           0           0           0           0  \n",
       "38           0           0           0           0           0  \n",
       "39           0           0           0           0           0  \n",
       "40           0           0           0           0           0  \n",
       "41           0           0           0           0           0  \n",
       "42           0           0           0           0           0  \n",
       "43           0           0           0           0           0  \n",
       "44           0           0           0           0           0  \n",
       "45           4           3           2           2           2  \n",
       "\n",
       "[46 rows x 224 columns]"
      ],
      "text/html": "<div>\n<style scoped>\n    .dataframe tbody tr th:only-of-type {\n        vertical-align: middle;\n    }\n\n    .dataframe tbody tr th {\n        vertical-align: top;\n    }\n\n    .dataframe thead th {\n        text-align: right;\n    }\n</style>\n<table border=\"1\" class=\"dataframe\">\n  <thead>\n    <tr style=\"text-align: right;\">\n      <th></th>\n      <th>side effect idx</th>\n      <th>side effect</th>\n      <th>cluster</th>\n      <th>GO:0055085</th>\n      <th>GO:0015721</th>\n      <th>GO:0015711</th>\n      <th>GO:0052695</th>\n      <th>GO:0043252</th>\n      <th>GO:0008202</th>\n      <th>GO:0140115</th>\n      <th>...</th>\n      <th>GO:0071397</th>\n      <th>GO:0035176</th>\n      <th>GO:0046684</th>\n      <th>GO:0015842</th>\n      <th>GO:0045472</th>\n      <th>GO:0035690</th>\n      <th>GO:0042755</th>\n      <th>GO:0045541</th>\n      <th>GO:0042713</th>\n      <th>GO:0046219</th>\n    </tr>\n  </thead>\n  <tbody>\n    <tr>\n      <th>0</th>\n      <td>18</td>\n      <td>peritonitis</td>\n      <td>8</td>\n      <td>9</td>\n      <td>5</td>\n      <td>3</td>\n      <td>3</td>\n      <td>3</td>\n      <td>3</td>\n      <td>2</td>\n      <td>...</td>\n      <td>0</td>\n      <td>0</td>\n      <td>0</td>\n      <td>0</td>\n      <td>0</td>\n      <td>0</td>\n      <td>0</td>\n      <td>0</td>\n      <td>0</td>\n      <td>0</td>\n    </tr>\n    <tr>\n      <th>1</th>\n      <td>27</td>\n      <td>sepsis</td>\n      <td>8</td>\n      <td>0</td>\n      <td>0</td>\n      <td>0</td>\n      <td>0</td>\n      <td>0</td>\n      <td>0</td>\n      <td>0</td>\n      <td>...</td>\n      <td>0</td>\n      <td>0</td>\n      <td>0</td>\n      <td>0</td>\n      <td>0</td>\n      <td>0</td>\n      <td>0</td>\n      <td>0</td>\n      <td>0</td>\n      <td>0</td>\n    </tr>\n    <tr>\n      <th>2</th>\n      <td>34</td>\n      <td>appendicitis</td>\n      <td>1</td>\n      <td>12</td>\n      <td>5</td>\n      <td>0</td>\n      <td>4</td>\n      <td>0</td>\n      <td>6</td>\n      <td>0</td>\n      <td>...</td>\n      <td>0</td>\n      <td>0</td>\n      <td>0</td>\n      <td>0</td>\n      <td>0</td>\n      <td>0</td>\n      <td>0</td>\n      <td>0</td>\n      <td>0</td>\n      <td>0</td>\n    </tr>\n    <tr>\n      <th>3</th>\n      <td>60</td>\n      <td>neumonia</td>\n      <td>8</td>\n      <td>0</td>\n      <td>0</td>\n      <td>0</td>\n      <td>0</td>\n      <td>0</td>\n      <td>0</td>\n      <td>0</td>\n      <td>...</td>\n      <td>0</td>\n      <td>0</td>\n      <td>0</td>\n      <td>0</td>\n      <td>0</td>\n      <td>0</td>\n      <td>0</td>\n      <td>0</td>\n      <td>0</td>\n      <td>0</td>\n    </tr>\n    <tr>\n      <th>4</th>\n      <td>93</td>\n      <td>septic shock</td>\n      <td>8</td>\n      <td>0</td>\n      <td>0</td>\n      <td>0</td>\n      <td>0</td>\n      <td>0</td>\n      <td>0</td>\n      <td>0</td>\n      <td>...</td>\n      <td>0</td>\n      <td>0</td>\n      <td>0</td>\n      <td>0</td>\n      <td>0</td>\n      <td>0</td>\n      <td>0</td>\n      <td>0</td>\n      <td>0</td>\n      <td>0</td>\n    </tr>\n    <tr>\n      <th>5</th>\n      <td>98</td>\n      <td>pneumonia staphylococcal</td>\n      <td>8</td>\n      <td>8</td>\n      <td>4</td>\n      <td>3</td>\n      <td>3</td>\n      <td>3</td>\n      <td>4</td>\n      <td>2</td>\n      <td>...</td>\n      <td>0</td>\n      <td>0</td>\n      <td>0</td>\n      <td>0</td>\n      <td>0</td>\n      <td>0</td>\n      <td>0</td>\n      <td>0</td>\n      <td>0</td>\n      <td>0</td>\n    </tr>\n    <tr>\n      <th>6</th>\n      <td>101</td>\n      <td>lobar pneumonia</td>\n      <td>8</td>\n      <td>0</td>\n      <td>0</td>\n      <td>0</td>\n      <td>3</td>\n      <td>0</td>\n      <td>0</td>\n      <td>0</td>\n      <td>...</td>\n      <td>0</td>\n      <td>0</td>\n      <td>0</td>\n      <td>0</td>\n      <td>0</td>\n      <td>0</td>\n      <td>0</td>\n      <td>0</td>\n      <td>0</td>\n      <td>0</td>\n    </tr>\n    <tr>\n      <th>7</th>\n      <td>115</td>\n      <td>pleurisy</td>\n      <td>0</td>\n      <td>10</td>\n      <td>5</td>\n      <td>0</td>\n      <td>3</td>\n      <td>0</td>\n      <td>8</td>\n      <td>0</td>\n      <td>...</td>\n      <td>0</td>\n      <td>0</td>\n      <td>0</td>\n      <td>0</td>\n      <td>0</td>\n      <td>0</td>\n      <td>0</td>\n      <td>0</td>\n      <td>0</td>\n      <td>0</td>\n    </tr>\n    <tr>\n      <th>8</th>\n      <td>120</td>\n      <td>aspiration pneumonia</td>\n      <td>8</td>\n      <td>0</td>\n      <td>0</td>\n      <td>0</td>\n      <td>3</td>\n      <td>0</td>\n      <td>0</td>\n      <td>0</td>\n      <td>...</td>\n      <td>0</td>\n      <td>0</td>\n      <td>0</td>\n      <td>0</td>\n      <td>0</td>\n      <td>0</td>\n      <td>0</td>\n      <td>0</td>\n      <td>0</td>\n      <td>0</td>\n    </tr>\n    <tr>\n      <th>9</th>\n      <td>128</td>\n      <td>candida infection</td>\n      <td>1</td>\n      <td>0</td>\n      <td>0</td>\n      <td>0</td>\n      <td>4</td>\n      <td>0</td>\n      <td>6</td>\n      <td>0</td>\n      <td>...</td>\n      <td>0</td>\n      <td>0</td>\n      <td>0</td>\n      <td>0</td>\n      <td>0</td>\n      <td>0</td>\n      <td>0</td>\n      <td>0</td>\n      <td>0</td>\n      <td>0</td>\n    </tr>\n    <tr>\n      <th>10</th>\n      <td>133</td>\n      <td>cellulitis</td>\n      <td>8</td>\n      <td>0</td>\n      <td>0</td>\n      <td>0</td>\n      <td>3</td>\n      <td>0</td>\n      <td>6</td>\n      <td>0</td>\n      <td>...</td>\n      <td>0</td>\n      <td>0</td>\n      <td>0</td>\n      <td>0</td>\n      <td>0</td>\n      <td>0</td>\n      <td>0</td>\n      <td>0</td>\n      <td>0</td>\n      <td>0</td>\n    </tr>\n    <tr>\n      <th>11</th>\n      <td>154</td>\n      <td>fungal disease</td>\n      <td>1</td>\n      <td>7</td>\n      <td>4</td>\n      <td>0</td>\n      <td>4</td>\n      <td>0</td>\n      <td>6</td>\n      <td>0</td>\n      <td>...</td>\n      <td>0</td>\n      <td>0</td>\n      <td>0</td>\n      <td>0</td>\n      <td>0</td>\n      <td>0</td>\n      <td>0</td>\n      <td>0</td>\n      <td>0</td>\n      <td>0</td>\n    </tr>\n    <tr>\n      <th>12</th>\n      <td>170</td>\n      <td>mycobacterium tuberculosis infection</td>\n      <td>2</td>\n      <td>0</td>\n      <td>0</td>\n      <td>0</td>\n      <td>3</td>\n      <td>0</td>\n      <td>4</td>\n      <td>0</td>\n      <td>...</td>\n      <td>0</td>\n      <td>0</td>\n      <td>0</td>\n      <td>0</td>\n      <td>0</td>\n      <td>0</td>\n      <td>0</td>\n      <td>0</td>\n      <td>0</td>\n      <td>0</td>\n    </tr>\n    <tr>\n      <th>13</th>\n      <td>176</td>\n      <td>abscess</td>\n      <td>1</td>\n      <td>0</td>\n      <td>0</td>\n      <td>0</td>\n      <td>3</td>\n      <td>0</td>\n      <td>4</td>\n      <td>0</td>\n      <td>...</td>\n      <td>0</td>\n      <td>0</td>\n      <td>0</td>\n      <td>0</td>\n      <td>0</td>\n      <td>0</td>\n      <td>0</td>\n      <td>0</td>\n      <td>0</td>\n      <td>0</td>\n    </tr>\n    <tr>\n      <th>14</th>\n      <td>182</td>\n      <td>nasopharyngitis</td>\n      <td>8</td>\n      <td>0</td>\n      <td>0</td>\n      <td>0</td>\n      <td>2</td>\n      <td>0</td>\n      <td>0</td>\n      <td>0</td>\n      <td>...</td>\n      <td>0</td>\n      <td>0</td>\n      <td>0</td>\n      <td>0</td>\n      <td>0</td>\n      <td>0</td>\n      <td>0</td>\n      <td>0</td>\n      <td>0</td>\n      <td>0</td>\n    </tr>\n    <tr>\n      <th>15</th>\n      <td>184</td>\n      <td>rhinitis</td>\n      <td>8</td>\n      <td>7</td>\n      <td>4</td>\n      <td>0</td>\n      <td>3</td>\n      <td>0</td>\n      <td>5</td>\n      <td>0</td>\n      <td>...</td>\n      <td>0</td>\n      <td>0</td>\n      <td>0</td>\n      <td>0</td>\n      <td>0</td>\n      <td>0</td>\n      <td>0</td>\n      <td>0</td>\n      <td>0</td>\n      <td>0</td>\n    </tr>\n    <tr>\n      <th>16</th>\n      <td>228</td>\n      <td>herpes zoster</td>\n      <td>8</td>\n      <td>0</td>\n      <td>0</td>\n      <td>0</td>\n      <td>0</td>\n      <td>0</td>\n      <td>0</td>\n      <td>0</td>\n      <td>...</td>\n      <td>0</td>\n      <td>0</td>\n      <td>0</td>\n      <td>0</td>\n      <td>0</td>\n      <td>0</td>\n      <td>0</td>\n      <td>0</td>\n      <td>0</td>\n      <td>0</td>\n    </tr>\n    <tr>\n      <th>17</th>\n      <td>270</td>\n      <td>osteomyelitis</td>\n      <td>8</td>\n      <td>0</td>\n      <td>0</td>\n      <td>0</td>\n      <td>0</td>\n      <td>0</td>\n      <td>0</td>\n      <td>0</td>\n      <td>...</td>\n      <td>0</td>\n      <td>0</td>\n      <td>0</td>\n      <td>0</td>\n      <td>0</td>\n      <td>0</td>\n      <td>0</td>\n      <td>0</td>\n      <td>0</td>\n      <td>0</td>\n    </tr>\n    <tr>\n      <th>18</th>\n      <td>279</td>\n      <td>bacterial infection</td>\n      <td>8</td>\n      <td>0</td>\n      <td>0</td>\n      <td>0</td>\n      <td>0</td>\n      <td>0</td>\n      <td>0</td>\n      <td>0</td>\n      <td>...</td>\n      <td>0</td>\n      <td>0</td>\n      <td>0</td>\n      <td>0</td>\n      <td>0</td>\n      <td>0</td>\n      <td>0</td>\n      <td>0</td>\n      <td>0</td>\n      <td>0</td>\n    </tr>\n    <tr>\n      <th>19</th>\n      <td>337</td>\n      <td>laryngitis</td>\n      <td>8</td>\n      <td>0</td>\n      <td>0</td>\n      <td>0</td>\n      <td>4</td>\n      <td>0</td>\n      <td>6</td>\n      <td>0</td>\n      <td>...</td>\n      <td>0</td>\n      <td>0</td>\n      <td>0</td>\n      <td>0</td>\n      <td>0</td>\n      <td>0</td>\n      <td>0</td>\n      <td>0</td>\n      <td>0</td>\n      <td>0</td>\n    </tr>\n    <tr>\n      <th>20</th>\n      <td>369</td>\n      <td>gingivitis</td>\n      <td>8</td>\n      <td>8</td>\n      <td>4</td>\n      <td>3</td>\n      <td>3</td>\n      <td>0</td>\n      <td>0</td>\n      <td>0</td>\n      <td>...</td>\n      <td>0</td>\n      <td>0</td>\n      <td>0</td>\n      <td>0</td>\n      <td>0</td>\n      <td>0</td>\n      <td>0</td>\n      <td>0</td>\n      <td>0</td>\n      <td>0</td>\n    </tr>\n    <tr>\n      <th>21</th>\n      <td>370</td>\n      <td>soft tissue infection</td>\n      <td>1</td>\n      <td>0</td>\n      <td>0</td>\n      <td>0</td>\n      <td>3</td>\n      <td>0</td>\n      <td>7</td>\n      <td>0</td>\n      <td>...</td>\n      <td>0</td>\n      <td>0</td>\n      <td>0</td>\n      <td>0</td>\n      <td>0</td>\n      <td>0</td>\n      <td>0</td>\n      <td>0</td>\n      <td>0</td>\n      <td>0</td>\n    </tr>\n    <tr>\n      <th>22</th>\n      <td>388</td>\n      <td>herpes simplex</td>\n      <td>8</td>\n      <td>0</td>\n      <td>0</td>\n      <td>0</td>\n      <td>0</td>\n      <td>0</td>\n      <td>0</td>\n      <td>0</td>\n      <td>...</td>\n      <td>0</td>\n      <td>0</td>\n      <td>0</td>\n      <td>0</td>\n      <td>0</td>\n      <td>0</td>\n      <td>0</td>\n      <td>0</td>\n      <td>0</td>\n      <td>0</td>\n    </tr>\n    <tr>\n      <th>23</th>\n      <td>429</td>\n      <td>spondylitis</td>\n      <td>3</td>\n      <td>14</td>\n      <td>6</td>\n      <td>0</td>\n      <td>4</td>\n      <td>4</td>\n      <td>0</td>\n      <td>0</td>\n      <td>...</td>\n      <td>0</td>\n      <td>0</td>\n      <td>0</td>\n      <td>0</td>\n      <td>0</td>\n      <td>0</td>\n      <td>0</td>\n      <td>0</td>\n      <td>0</td>\n      <td>0</td>\n    </tr>\n    <tr>\n      <th>24</th>\n      <td>496</td>\n      <td>acute bronchitis</td>\n      <td>8</td>\n      <td>0</td>\n      <td>0</td>\n      <td>0</td>\n      <td>0</td>\n      <td>0</td>\n      <td>4</td>\n      <td>0</td>\n      <td>...</td>\n      <td>0</td>\n      <td>0</td>\n      <td>0</td>\n      <td>0</td>\n      <td>0</td>\n      <td>0</td>\n      <td>0</td>\n      <td>0</td>\n      <td>0</td>\n      <td>0</td>\n    </tr>\n    <tr>\n      <th>25</th>\n      <td>543</td>\n      <td>streptococcal infection</td>\n      <td>8</td>\n      <td>9</td>\n      <td>5</td>\n      <td>3</td>\n      <td>0</td>\n      <td>0</td>\n      <td>0</td>\n      <td>0</td>\n      <td>...</td>\n      <td>0</td>\n      <td>0</td>\n      <td>0</td>\n      <td>0</td>\n      <td>0</td>\n      <td>0</td>\n      <td>0</td>\n      <td>0</td>\n      <td>0</td>\n      <td>0</td>\n    </tr>\n    <tr>\n      <th>26</th>\n      <td>544</td>\n      <td>aspergillosis</td>\n      <td>4</td>\n      <td>13</td>\n      <td>7</td>\n      <td>5</td>\n      <td>4</td>\n      <td>4</td>\n      <td>0</td>\n      <td>0</td>\n      <td>...</td>\n      <td>0</td>\n      <td>0</td>\n      <td>0</td>\n      <td>0</td>\n      <td>0</td>\n      <td>0</td>\n      <td>0</td>\n      <td>0</td>\n      <td>0</td>\n      <td>0</td>\n    </tr>\n    <tr>\n      <th>27</th>\n      <td>556</td>\n      <td>bacteraemia</td>\n      <td>8</td>\n      <td>0</td>\n      <td>0</td>\n      <td>0</td>\n      <td>3</td>\n      <td>0</td>\n      <td>0</td>\n      <td>0</td>\n      <td>...</td>\n      <td>0</td>\n      <td>0</td>\n      <td>0</td>\n      <td>0</td>\n      <td>0</td>\n      <td>0</td>\n      <td>0</td>\n      <td>0</td>\n      <td>0</td>\n      <td>0</td>\n    </tr>\n    <tr>\n      <th>28</th>\n      <td>557</td>\n      <td>onychomycosis</td>\n      <td>8</td>\n      <td>10</td>\n      <td>5</td>\n      <td>0</td>\n      <td>4</td>\n      <td>0</td>\n      <td>0</td>\n      <td>0</td>\n      <td>...</td>\n      <td>0</td>\n      <td>0</td>\n      <td>0</td>\n      <td>0</td>\n      <td>0</td>\n      <td>0</td>\n      <td>0</td>\n      <td>0</td>\n      <td>0</td>\n      <td>0</td>\n    </tr>\n    <tr>\n      <th>29</th>\n      <td>645</td>\n      <td>bacterial pneumonia</td>\n      <td>5</td>\n      <td>10</td>\n      <td>5</td>\n      <td>4</td>\n      <td>4</td>\n      <td>0</td>\n      <td>7</td>\n      <td>0</td>\n      <td>...</td>\n      <td>0</td>\n      <td>0</td>\n      <td>0</td>\n      <td>0</td>\n      <td>0</td>\n      <td>0</td>\n      <td>0</td>\n      <td>0</td>\n      <td>0</td>\n      <td>0</td>\n    </tr>\n    <tr>\n      <th>30</th>\n      <td>650</td>\n      <td>liver abscess</td>\n      <td>6</td>\n      <td>0</td>\n      <td>0</td>\n      <td>0</td>\n      <td>5</td>\n      <td>0</td>\n      <td>8</td>\n      <td>0</td>\n      <td>...</td>\n      <td>0</td>\n      <td>0</td>\n      <td>0</td>\n      <td>0</td>\n      <td>0</td>\n      <td>0</td>\n      <td>0</td>\n      <td>0</td>\n      <td>0</td>\n      <td>0</td>\n    </tr>\n    <tr>\n      <th>31</th>\n      <td>660</td>\n      <td>pelvic inflammatory disease</td>\n      <td>8</td>\n      <td>0</td>\n      <td>0</td>\n      <td>0</td>\n      <td>0</td>\n      <td>0</td>\n      <td>0</td>\n      <td>0</td>\n      <td>...</td>\n      <td>0</td>\n      <td>0</td>\n      <td>0</td>\n      <td>0</td>\n      <td>0</td>\n      <td>0</td>\n      <td>0</td>\n      <td>0</td>\n      <td>0</td>\n      <td>0</td>\n    </tr>\n    <tr>\n      <th>32</th>\n      <td>685</td>\n      <td>hepatitis b</td>\n      <td>1</td>\n      <td>12</td>\n      <td>5</td>\n      <td>4</td>\n      <td>3</td>\n      <td>3</td>\n      <td>8</td>\n      <td>0</td>\n      <td>...</td>\n      <td>0</td>\n      <td>0</td>\n      <td>0</td>\n      <td>0</td>\n      <td>0</td>\n      <td>0</td>\n      <td>0</td>\n      <td>0</td>\n      <td>0</td>\n      <td>0</td>\n    </tr>\n    <tr>\n      <th>33</th>\n      <td>710</td>\n      <td>erysipelas</td>\n      <td>1</td>\n      <td>13</td>\n      <td>7</td>\n      <td>4</td>\n      <td>3</td>\n      <td>4</td>\n      <td>6</td>\n      <td>0</td>\n      <td>...</td>\n      <td>0</td>\n      <td>0</td>\n      <td>0</td>\n      <td>0</td>\n      <td>0</td>\n      <td>0</td>\n      <td>0</td>\n      <td>0</td>\n      <td>0</td>\n      <td>0</td>\n    </tr>\n    <tr>\n      <th>34</th>\n      <td>712</td>\n      <td>hepatitis c</td>\n      <td>8</td>\n      <td>0</td>\n      <td>0</td>\n      <td>0</td>\n      <td>3</td>\n      <td>0</td>\n      <td>4</td>\n      <td>0</td>\n      <td>...</td>\n      <td>0</td>\n      <td>0</td>\n      <td>0</td>\n      <td>0</td>\n      <td>0</td>\n      <td>0</td>\n      <td>0</td>\n      <td>0</td>\n      <td>0</td>\n      <td>0</td>\n    </tr>\n    <tr>\n      <th>35</th>\n      <td>713</td>\n      <td>eye infection</td>\n      <td>7</td>\n      <td>0</td>\n      <td>0</td>\n      <td>0</td>\n      <td>3</td>\n      <td>0</td>\n      <td>7</td>\n      <td>0</td>\n      <td>...</td>\n      <td>0</td>\n      <td>0</td>\n      <td>0</td>\n      <td>0</td>\n      <td>0</td>\n      <td>0</td>\n      <td>0</td>\n      <td>0</td>\n      <td>0</td>\n      <td>0</td>\n    </tr>\n    <tr>\n      <th>36</th>\n      <td>714</td>\n      <td>ebv infection</td>\n      <td>8</td>\n      <td>0</td>\n      <td>0</td>\n      <td>0</td>\n      <td>0</td>\n      <td>0</td>\n      <td>0</td>\n      <td>0</td>\n      <td>...</td>\n      <td>0</td>\n      <td>0</td>\n      <td>0</td>\n      <td>0</td>\n      <td>0</td>\n      <td>0</td>\n      <td>0</td>\n      <td>0</td>\n      <td>0</td>\n      <td>0</td>\n    </tr>\n    <tr>\n      <th>37</th>\n      <td>728</td>\n      <td>tracheitis</td>\n      <td>8</td>\n      <td>7</td>\n      <td>0</td>\n      <td>0</td>\n      <td>0</td>\n      <td>0</td>\n      <td>0</td>\n      <td>0</td>\n      <td>...</td>\n      <td>0</td>\n      <td>0</td>\n      <td>0</td>\n      <td>0</td>\n      <td>0</td>\n      <td>0</td>\n      <td>0</td>\n      <td>0</td>\n      <td>0</td>\n      <td>0</td>\n    </tr>\n    <tr>\n      <th>38</th>\n      <td>737</td>\n      <td>paronychia</td>\n      <td>8</td>\n      <td>0</td>\n      <td>0</td>\n      <td>0</td>\n      <td>0</td>\n      <td>0</td>\n      <td>3</td>\n      <td>0</td>\n      <td>...</td>\n      <td>0</td>\n      <td>0</td>\n      <td>0</td>\n      <td>0</td>\n      <td>0</td>\n      <td>0</td>\n      <td>0</td>\n      <td>0</td>\n      <td>0</td>\n      <td>0</td>\n    </tr>\n    <tr>\n      <th>39</th>\n      <td>793</td>\n      <td>epidural abscess</td>\n      <td>8</td>\n      <td>0</td>\n      <td>0</td>\n      <td>0</td>\n      <td>0</td>\n      <td>0</td>\n      <td>0</td>\n      <td>0</td>\n      <td>...</td>\n      <td>0</td>\n      <td>0</td>\n      <td>0</td>\n      <td>0</td>\n      <td>0</td>\n      <td>0</td>\n      <td>0</td>\n      <td>0</td>\n      <td>0</td>\n      <td>0</td>\n    </tr>\n    <tr>\n      <th>40</th>\n      <td>801</td>\n      <td>histoplasmosis</td>\n      <td>1</td>\n      <td>0</td>\n      <td>0</td>\n      <td>0</td>\n      <td>5</td>\n      <td>0</td>\n      <td>8</td>\n      <td>0</td>\n      <td>...</td>\n      <td>0</td>\n      <td>0</td>\n      <td>0</td>\n      <td>0</td>\n      <td>0</td>\n      <td>0</td>\n      <td>0</td>\n      <td>0</td>\n      <td>0</td>\n      <td>0</td>\n    </tr>\n    <tr>\n      <th>41</th>\n      <td>815</td>\n      <td>empyema</td>\n      <td>1</td>\n      <td>0</td>\n      <td>0</td>\n      <td>0</td>\n      <td>8</td>\n      <td>0</td>\n      <td>7</td>\n      <td>0</td>\n      <td>...</td>\n      <td>0</td>\n      <td>0</td>\n      <td>0</td>\n      <td>0</td>\n      <td>0</td>\n      <td>0</td>\n      <td>0</td>\n      <td>0</td>\n      <td>0</td>\n      <td>0</td>\n    </tr>\n    <tr>\n      <th>42</th>\n      <td>828</td>\n      <td>cryptococcosis</td>\n      <td>1</td>\n      <td>0</td>\n      <td>0</td>\n      <td>0</td>\n      <td>5</td>\n      <td>0</td>\n      <td>7</td>\n      <td>0</td>\n      <td>...</td>\n      <td>0</td>\n      <td>0</td>\n      <td>0</td>\n      <td>0</td>\n      <td>0</td>\n      <td>0</td>\n      <td>0</td>\n      <td>0</td>\n      <td>0</td>\n      <td>0</td>\n    </tr>\n    <tr>\n      <th>43</th>\n      <td>845</td>\n      <td>pyuria</td>\n      <td>1</td>\n      <td>0</td>\n      <td>0</td>\n      <td>0</td>\n      <td>4</td>\n      <td>0</td>\n      <td>6</td>\n      <td>0</td>\n      <td>...</td>\n      <td>0</td>\n      <td>0</td>\n      <td>0</td>\n      <td>0</td>\n      <td>0</td>\n      <td>0</td>\n      <td>0</td>\n      <td>0</td>\n      <td>0</td>\n      <td>0</td>\n    </tr>\n    <tr>\n      <th>44</th>\n      <td>849</td>\n      <td>mumps</td>\n      <td>1</td>\n      <td>11</td>\n      <td>4</td>\n      <td>0</td>\n      <td>3</td>\n      <td>0</td>\n      <td>6</td>\n      <td>0</td>\n      <td>...</td>\n      <td>0</td>\n      <td>0</td>\n      <td>0</td>\n      <td>0</td>\n      <td>0</td>\n      <td>0</td>\n      <td>0</td>\n      <td>0</td>\n      <td>0</td>\n      <td>0</td>\n    </tr>\n    <tr>\n      <th>45</th>\n      <td>850</td>\n      <td>tinea pedis</td>\n      <td>9</td>\n      <td>10</td>\n      <td>0</td>\n      <td>3</td>\n      <td>3</td>\n      <td>3</td>\n      <td>6</td>\n      <td>0</td>\n      <td>...</td>\n      <td>3</td>\n      <td>4</td>\n      <td>2</td>\n      <td>2</td>\n      <td>2</td>\n      <td>4</td>\n      <td>3</td>\n      <td>2</td>\n      <td>2</td>\n      <td>2</td>\n    </tr>\n  </tbody>\n</table>\n<p>46 rows × 224 columns</p>\n</div>"
     },
     "metadata": {},
     "execution_count": 23
    }
   ],
   "source": [
    "c1_cluster = pd.DataFrame({'side effect idx': c1_go.index, 'side effect': [se_idx2name[i] for i in c1_go.index], 'cluster': [str(i) for i in clustering.labels_]})\n",
    "c1_go.columns = [go_full_dict[inv_go_dict[i]] for i in range(len(c1_go.columns))]\n",
    "c1_go.index = range(c1_go.shape[0])\n",
    "c1_cluster = pd.concat((c1_cluster, c1_go), axis=1)\n",
    "c1_cluster\n"
   ]
  },
  {
   "cell_type": "code",
   "execution_count": 24,
   "metadata": {},
   "outputs": [
    {
     "output_type": "display_data",
     "data": {
      "application/vnd.plotly.v1+json": {
       "config": {
        "plotlyServerURL": "https://plot.ly"
       },
       "data": [
        {
         "hovertemplate": "color=8<br>x=%{x}<br>y=%{y}<br>text=%{text}<extra></extra>",
         "legendgroup": "8",
         "marker": {
          "color": "#636efa",
          "symbol": "circle"
         },
         "mode": "markers+text",
         "name": "8",
         "orientation": "v",
         "showlegend": true,
         "text": [
          "peritonitis",
          "sepsis",
          "neumonia",
          "septic shock",
          "pneumonia staphylococcal",
          "lobar pneumonia",
          "aspiration pneumonia",
          "cellulitis",
          "nasopharyngitis",
          "rhinitis",
          "herpes zoster",
          "osteomyelitis",
          "bacterial infection",
          "laryngitis",
          "gingivitis",
          "herpes simplex",
          "acute bronchitis",
          "streptococcal infection",
          "bacteraemia",
          "onychomycosis",
          "pelvic inflammatory disease",
          "hepatitis c",
          "ebv infection",
          "tracheitis",
          "paronychia",
          "epidural abscess"
         ],
         "textposition": "bottom center",
         "type": "scatter",
         "x": [
          -5.828089237213135,
          -4.885592460632324,
          -3.7938878536224365,
          -4.2628679275512695,
          -5.746923923492432,
          -5.213259220123291,
          -5.647950649261475,
          -6.391392707824707,
          -5.006488800048828,
          -3.9778025150299072,
          -4.769256591796875,
          -5.030933380126953,
          -4.600666522979736,
          -6.104245662689209,
          -5.475203514099121,
          -4.3781609535217285,
          -6.38715124130249,
          -5.4872965812683105,
          -5.2668023109436035,
          -5.897556304931641,
          -4.7804107666015625,
          -4.850311279296875,
          -4.1175642013549805,
          -5.183366775512695,
          -4.81964111328125,
          -3.8024067878723145
         ],
         "xaxis": "x",
         "y": [
          3.572897434234619,
          4.699251174926758,
          3.4526116847991943,
          2.9399328231811523,
          3.924633026123047,
          3.92189621925354,
          5.3113112449646,
          4.602011680603027,
          3.4580929279327393,
          4.663540363311768,
          2.857434034347534,
          2.944715738296509,
          4.050997734069824,
          4.817868232727051,
          4.664371490478516,
          3.622833251953125,
          5.245406627655029,
          3.315105438232422,
          4.965404510498047,
          3.145186185836792,
          3.422459840774536,
          3.8658607006073,
          3.1802637577056885,
          5.229304790496826,
          4.082934856414795,
          4.12408447265625
         ],
         "yaxis": "y"
        },
        {
         "hovertemplate": "color=1<br>x=%{x}<br>y=%{y}<br>text=%{text}<extra></extra>",
         "legendgroup": "1",
         "marker": {
          "color": "#EF553B",
          "symbol": "circle"
         },
         "mode": "markers+text",
         "name": "1",
         "orientation": "v",
         "showlegend": true,
         "text": [
          "appendicitis",
          "candida infection",
          "fungal disease",
          "abscess",
          "soft tissue infection",
          "hepatitis b",
          "erysipelas",
          "histoplasmosis",
          "empyema",
          "cryptococcosis",
          "pyuria",
          "mumps"
         ],
         "textposition": "bottom center",
         "type": "scatter",
         "x": [
          -6.134459495544434,
          -5.949906826019287,
          -6.072873592376709,
          -6.416310787200928,
          -6.818106651306152,
          -5.637651443481445,
          -5.076979637145996,
          -6.4669575691223145,
          -6.628787517547607,
          -6.71237325668335,
          -6.070796489715576,
          -5.687537670135498
         ],
         "xaxis": "x",
         "y": [
          7.246341705322266,
          6.278653621673584,
          6.670089244842529,
          5.68820333480835,
          6.686326026916504,
          6.877042293548584,
          6.69087553024292,
          6.9722819328308105,
          6.555215835571289,
          5.949493885040283,
          6.071454048156738,
          7.112959384918213
         ],
         "yaxis": "y"
        },
        {
         "hovertemplate": "color=0<br>x=%{x}<br>y=%{y}<br>text=%{text}<extra></extra>",
         "legendgroup": "0",
         "marker": {
          "color": "#00cc96",
          "symbol": "circle"
         },
         "mode": "markers+text",
         "name": "0",
         "orientation": "v",
         "showlegend": true,
         "text": [
          "pleurisy"
         ],
         "textposition": "bottom center",
         "type": "scatter",
         "x": [
          -4.122776508331299
         ],
         "xaxis": "x",
         "y": [
          5.626565456390381
         ],
         "yaxis": "y"
        },
        {
         "hovertemplate": "color=2<br>x=%{x}<br>y=%{y}<br>text=%{text}<extra></extra>",
         "legendgroup": "2",
         "marker": {
          "color": "#ab63fa",
          "symbol": "circle"
         },
         "mode": "markers+text",
         "name": "2",
         "orientation": "v",
         "showlegend": true,
         "text": [
          "mycobacterium tuberculosis infection"
         ],
         "textposition": "bottom center",
         "type": "scatter",
         "x": [
          -5.210753917694092
         ],
         "xaxis": "x",
         "y": [
          6.307156085968018
         ],
         "yaxis": "y"
        },
        {
         "hovertemplate": "color=3<br>x=%{x}<br>y=%{y}<br>text=%{text}<extra></extra>",
         "legendgroup": "3",
         "marker": {
          "color": "#FFA15A",
          "symbol": "circle"
         },
         "mode": "markers+text",
         "name": "3",
         "orientation": "v",
         "showlegend": true,
         "text": [
          "spondylitis"
         ],
         "textposition": "bottom center",
         "type": "scatter",
         "x": [
          -5.7235798835754395
         ],
         "xaxis": "x",
         "y": [
          2.798942804336548
         ],
         "yaxis": "y"
        },
        {
         "hovertemplate": "color=4<br>x=%{x}<br>y=%{y}<br>text=%{text}<extra></extra>",
         "legendgroup": "4",
         "marker": {
          "color": "#19d3f3",
          "symbol": "circle"
         },
         "mode": "markers+text",
         "name": "4",
         "orientation": "v",
         "showlegend": true,
         "text": [
          "aspergillosis"
         ],
         "textposition": "bottom center",
         "type": "scatter",
         "x": [
          -4.437093257904053
         ],
         "xaxis": "x",
         "y": [
          6.173536777496338
         ],
         "yaxis": "y"
        },
        {
         "hovertemplate": "color=5<br>x=%{x}<br>y=%{y}<br>text=%{text}<extra></extra>",
         "legendgroup": "5",
         "marker": {
          "color": "#FF6692",
          "symbol": "circle"
         },
         "mode": "markers+text",
         "name": "5",
         "orientation": "v",
         "showlegend": true,
         "text": [
          "bacterial pneumonia"
         ],
         "textposition": "bottom center",
         "type": "scatter",
         "x": [
          -3.919557809829712
         ],
         "xaxis": "x",
         "y": [
          5.435001373291016
         ],
         "yaxis": "y"
        },
        {
         "hovertemplate": "color=6<br>x=%{x}<br>y=%{y}<br>text=%{text}<extra></extra>",
         "legendgroup": "6",
         "marker": {
          "color": "#B6E880",
          "symbol": "circle"
         },
         "mode": "markers+text",
         "name": "6",
         "orientation": "v",
         "showlegend": true,
         "text": [
          "liver abscess"
         ],
         "textposition": "bottom center",
         "type": "scatter",
         "x": [
          -5.550434589385986
         ],
         "xaxis": "x",
         "y": [
          6.150298118591309
         ],
         "yaxis": "y"
        },
        {
         "hovertemplate": "color=7<br>x=%{x}<br>y=%{y}<br>text=%{text}<extra></extra>",
         "legendgroup": "7",
         "marker": {
          "color": "#FF97FF",
          "symbol": "circle"
         },
         "mode": "markers+text",
         "name": "7",
         "orientation": "v",
         "showlegend": true,
         "text": [
          "eye infection"
         ],
         "textposition": "bottom center",
         "type": "scatter",
         "x": [
          -4.771722793579102
         ],
         "xaxis": "x",
         "y": [
          6.0978102684021
         ],
         "yaxis": "y"
        },
        {
         "hovertemplate": "color=9<br>x=%{x}<br>y=%{y}<br>text=%{text}<extra></extra>",
         "legendgroup": "9",
         "marker": {
          "color": "#FECB52",
          "symbol": "circle"
         },
         "mode": "markers+text",
         "name": "9",
         "orientation": "v",
         "showlegend": true,
         "text": [
          "tinea pedis"
         ],
         "textposition": "bottom center",
         "type": "scatter",
         "x": [
          -3.7951979637145996
         ],
         "xaxis": "x",
         "y": [
          5.040422439575195
         ],
         "yaxis": "y"
        }
       ],
       "layout": {
        "autosize": false,
        "height": 1000,
        "legend": {
         "title": {
          "text": "color"
         },
         "tracegroupgap": 0
        },
        "margin": {
         "t": 60
        },
        "template": {
         "data": {
          "bar": [
           {
            "error_x": {
             "color": "#2a3f5f"
            },
            "error_y": {
             "color": "#2a3f5f"
            },
            "marker": {
             "line": {
              "color": "#E5ECF6",
              "width": 0.5
             }
            },
            "type": "bar"
           }
          ],
          "barpolar": [
           {
            "marker": {
             "line": {
              "color": "#E5ECF6",
              "width": 0.5
             }
            },
            "type": "barpolar"
           }
          ],
          "carpet": [
           {
            "aaxis": {
             "endlinecolor": "#2a3f5f",
             "gridcolor": "white",
             "linecolor": "white",
             "minorgridcolor": "white",
             "startlinecolor": "#2a3f5f"
            },
            "baxis": {
             "endlinecolor": "#2a3f5f",
             "gridcolor": "white",
             "linecolor": "white",
             "minorgridcolor": "white",
             "startlinecolor": "#2a3f5f"
            },
            "type": "carpet"
           }
          ],
          "choropleth": [
           {
            "colorbar": {
             "outlinewidth": 0,
             "ticks": ""
            },
            "type": "choropleth"
           }
          ],
          "contour": [
           {
            "colorbar": {
             "outlinewidth": 0,
             "ticks": ""
            },
            "colorscale": [
             [
              0,
              "#0d0887"
             ],
             [
              0.1111111111111111,
              "#46039f"
             ],
             [
              0.2222222222222222,
              "#7201a8"
             ],
             [
              0.3333333333333333,
              "#9c179e"
             ],
             [
              0.4444444444444444,
              "#bd3786"
             ],
             [
              0.5555555555555556,
              "#d8576b"
             ],
             [
              0.6666666666666666,
              "#ed7953"
             ],
             [
              0.7777777777777778,
              "#fb9f3a"
             ],
             [
              0.8888888888888888,
              "#fdca26"
             ],
             [
              1,
              "#f0f921"
             ]
            ],
            "type": "contour"
           }
          ],
          "contourcarpet": [
           {
            "colorbar": {
             "outlinewidth": 0,
             "ticks": ""
            },
            "type": "contourcarpet"
           }
          ],
          "heatmap": [
           {
            "colorbar": {
             "outlinewidth": 0,
             "ticks": ""
            },
            "colorscale": [
             [
              0,
              "#0d0887"
             ],
             [
              0.1111111111111111,
              "#46039f"
             ],
             [
              0.2222222222222222,
              "#7201a8"
             ],
             [
              0.3333333333333333,
              "#9c179e"
             ],
             [
              0.4444444444444444,
              "#bd3786"
             ],
             [
              0.5555555555555556,
              "#d8576b"
             ],
             [
              0.6666666666666666,
              "#ed7953"
             ],
             [
              0.7777777777777778,
              "#fb9f3a"
             ],
             [
              0.8888888888888888,
              "#fdca26"
             ],
             [
              1,
              "#f0f921"
             ]
            ],
            "type": "heatmap"
           }
          ],
          "heatmapgl": [
           {
            "colorbar": {
             "outlinewidth": 0,
             "ticks": ""
            },
            "colorscale": [
             [
              0,
              "#0d0887"
             ],
             [
              0.1111111111111111,
              "#46039f"
             ],
             [
              0.2222222222222222,
              "#7201a8"
             ],
             [
              0.3333333333333333,
              "#9c179e"
             ],
             [
              0.4444444444444444,
              "#bd3786"
             ],
             [
              0.5555555555555556,
              "#d8576b"
             ],
             [
              0.6666666666666666,
              "#ed7953"
             ],
             [
              0.7777777777777778,
              "#fb9f3a"
             ],
             [
              0.8888888888888888,
              "#fdca26"
             ],
             [
              1,
              "#f0f921"
             ]
            ],
            "type": "heatmapgl"
           }
          ],
          "histogram": [
           {
            "marker": {
             "colorbar": {
              "outlinewidth": 0,
              "ticks": ""
             }
            },
            "type": "histogram"
           }
          ],
          "histogram2d": [
           {
            "colorbar": {
             "outlinewidth": 0,
             "ticks": ""
            },
            "colorscale": [
             [
              0,
              "#0d0887"
             ],
             [
              0.1111111111111111,
              "#46039f"
             ],
             [
              0.2222222222222222,
              "#7201a8"
             ],
             [
              0.3333333333333333,
              "#9c179e"
             ],
             [
              0.4444444444444444,
              "#bd3786"
             ],
             [
              0.5555555555555556,
              "#d8576b"
             ],
             [
              0.6666666666666666,
              "#ed7953"
             ],
             [
              0.7777777777777778,
              "#fb9f3a"
             ],
             [
              0.8888888888888888,
              "#fdca26"
             ],
             [
              1,
              "#f0f921"
             ]
            ],
            "type": "histogram2d"
           }
          ],
          "histogram2dcontour": [
           {
            "colorbar": {
             "outlinewidth": 0,
             "ticks": ""
            },
            "colorscale": [
             [
              0,
              "#0d0887"
             ],
             [
              0.1111111111111111,
              "#46039f"
             ],
             [
              0.2222222222222222,
              "#7201a8"
             ],
             [
              0.3333333333333333,
              "#9c179e"
             ],
             [
              0.4444444444444444,
              "#bd3786"
             ],
             [
              0.5555555555555556,
              "#d8576b"
             ],
             [
              0.6666666666666666,
              "#ed7953"
             ],
             [
              0.7777777777777778,
              "#fb9f3a"
             ],
             [
              0.8888888888888888,
              "#fdca26"
             ],
             [
              1,
              "#f0f921"
             ]
            ],
            "type": "histogram2dcontour"
           }
          ],
          "mesh3d": [
           {
            "colorbar": {
             "outlinewidth": 0,
             "ticks": ""
            },
            "type": "mesh3d"
           }
          ],
          "parcoords": [
           {
            "line": {
             "colorbar": {
              "outlinewidth": 0,
              "ticks": ""
             }
            },
            "type": "parcoords"
           }
          ],
          "pie": [
           {
            "automargin": true,
            "type": "pie"
           }
          ],
          "scatter": [
           {
            "marker": {
             "colorbar": {
              "outlinewidth": 0,
              "ticks": ""
             }
            },
            "type": "scatter"
           }
          ],
          "scatter3d": [
           {
            "line": {
             "colorbar": {
              "outlinewidth": 0,
              "ticks": ""
             }
            },
            "marker": {
             "colorbar": {
              "outlinewidth": 0,
              "ticks": ""
             }
            },
            "type": "scatter3d"
           }
          ],
          "scattercarpet": [
           {
            "marker": {
             "colorbar": {
              "outlinewidth": 0,
              "ticks": ""
             }
            },
            "type": "scattercarpet"
           }
          ],
          "scattergeo": [
           {
            "marker": {
             "colorbar": {
              "outlinewidth": 0,
              "ticks": ""
             }
            },
            "type": "scattergeo"
           }
          ],
          "scattergl": [
           {
            "marker": {
             "colorbar": {
              "outlinewidth": 0,
              "ticks": ""
             }
            },
            "type": "scattergl"
           }
          ],
          "scattermapbox": [
           {
            "marker": {
             "colorbar": {
              "outlinewidth": 0,
              "ticks": ""
             }
            },
            "type": "scattermapbox"
           }
          ],
          "scatterpolar": [
           {
            "marker": {
             "colorbar": {
              "outlinewidth": 0,
              "ticks": ""
             }
            },
            "type": "scatterpolar"
           }
          ],
          "scatterpolargl": [
           {
            "marker": {
             "colorbar": {
              "outlinewidth": 0,
              "ticks": ""
             }
            },
            "type": "scatterpolargl"
           }
          ],
          "scatterternary": [
           {
            "marker": {
             "colorbar": {
              "outlinewidth": 0,
              "ticks": ""
             }
            },
            "type": "scatterternary"
           }
          ],
          "surface": [
           {
            "colorbar": {
             "outlinewidth": 0,
             "ticks": ""
            },
            "colorscale": [
             [
              0,
              "#0d0887"
             ],
             [
              0.1111111111111111,
              "#46039f"
             ],
             [
              0.2222222222222222,
              "#7201a8"
             ],
             [
              0.3333333333333333,
              "#9c179e"
             ],
             [
              0.4444444444444444,
              "#bd3786"
             ],
             [
              0.5555555555555556,
              "#d8576b"
             ],
             [
              0.6666666666666666,
              "#ed7953"
             ],
             [
              0.7777777777777778,
              "#fb9f3a"
             ],
             [
              0.8888888888888888,
              "#fdca26"
             ],
             [
              1,
              "#f0f921"
             ]
            ],
            "type": "surface"
           }
          ],
          "table": [
           {
            "cells": {
             "fill": {
              "color": "#EBF0F8"
             },
             "line": {
              "color": "white"
             }
            },
            "header": {
             "fill": {
              "color": "#C8D4E3"
             },
             "line": {
              "color": "white"
             }
            },
            "type": "table"
           }
          ]
         },
         "layout": {
          "annotationdefaults": {
           "arrowcolor": "#2a3f5f",
           "arrowhead": 0,
           "arrowwidth": 1
          },
          "autotypenumbers": "strict",
          "coloraxis": {
           "colorbar": {
            "outlinewidth": 0,
            "ticks": ""
           }
          },
          "colorscale": {
           "diverging": [
            [
             0,
             "#8e0152"
            ],
            [
             0.1,
             "#c51b7d"
            ],
            [
             0.2,
             "#de77ae"
            ],
            [
             0.3,
             "#f1b6da"
            ],
            [
             0.4,
             "#fde0ef"
            ],
            [
             0.5,
             "#f7f7f7"
            ],
            [
             0.6,
             "#e6f5d0"
            ],
            [
             0.7,
             "#b8e186"
            ],
            [
             0.8,
             "#7fbc41"
            ],
            [
             0.9,
             "#4d9221"
            ],
            [
             1,
             "#276419"
            ]
           ],
           "sequential": [
            [
             0,
             "#0d0887"
            ],
            [
             0.1111111111111111,
             "#46039f"
            ],
            [
             0.2222222222222222,
             "#7201a8"
            ],
            [
             0.3333333333333333,
             "#9c179e"
            ],
            [
             0.4444444444444444,
             "#bd3786"
            ],
            [
             0.5555555555555556,
             "#d8576b"
            ],
            [
             0.6666666666666666,
             "#ed7953"
            ],
            [
             0.7777777777777778,
             "#fb9f3a"
            ],
            [
             0.8888888888888888,
             "#fdca26"
            ],
            [
             1,
             "#f0f921"
            ]
           ],
           "sequentialminus": [
            [
             0,
             "#0d0887"
            ],
            [
             0.1111111111111111,
             "#46039f"
            ],
            [
             0.2222222222222222,
             "#7201a8"
            ],
            [
             0.3333333333333333,
             "#9c179e"
            ],
            [
             0.4444444444444444,
             "#bd3786"
            ],
            [
             0.5555555555555556,
             "#d8576b"
            ],
            [
             0.6666666666666666,
             "#ed7953"
            ],
            [
             0.7777777777777778,
             "#fb9f3a"
            ],
            [
             0.8888888888888888,
             "#fdca26"
            ],
            [
             1,
             "#f0f921"
            ]
           ]
          },
          "colorway": [
           "#636efa",
           "#EF553B",
           "#00cc96",
           "#ab63fa",
           "#FFA15A",
           "#19d3f3",
           "#FF6692",
           "#B6E880",
           "#FF97FF",
           "#FECB52"
          ],
          "font": {
           "color": "#2a3f5f"
          },
          "geo": {
           "bgcolor": "white",
           "lakecolor": "white",
           "landcolor": "#E5ECF6",
           "showlakes": true,
           "showland": true,
           "subunitcolor": "white"
          },
          "hoverlabel": {
           "align": "left"
          },
          "hovermode": "closest",
          "mapbox": {
           "style": "light"
          },
          "paper_bgcolor": "white",
          "plot_bgcolor": "#E5ECF6",
          "polar": {
           "angularaxis": {
            "gridcolor": "white",
            "linecolor": "white",
            "ticks": ""
           },
           "bgcolor": "#E5ECF6",
           "radialaxis": {
            "gridcolor": "white",
            "linecolor": "white",
            "ticks": ""
           }
          },
          "scene": {
           "xaxis": {
            "backgroundcolor": "#E5ECF6",
            "gridcolor": "white",
            "gridwidth": 2,
            "linecolor": "white",
            "showbackground": true,
            "ticks": "",
            "zerolinecolor": "white"
           },
           "yaxis": {
            "backgroundcolor": "#E5ECF6",
            "gridcolor": "white",
            "gridwidth": 2,
            "linecolor": "white",
            "showbackground": true,
            "ticks": "",
            "zerolinecolor": "white"
           },
           "zaxis": {
            "backgroundcolor": "#E5ECF6",
            "gridcolor": "white",
            "gridwidth": 2,
            "linecolor": "white",
            "showbackground": true,
            "ticks": "",
            "zerolinecolor": "white"
           }
          },
          "shapedefaults": {
           "line": {
            "color": "#2a3f5f"
           }
          },
          "ternary": {
           "aaxis": {
            "gridcolor": "white",
            "linecolor": "white",
            "ticks": ""
           },
           "baxis": {
            "gridcolor": "white",
            "linecolor": "white",
            "ticks": ""
           },
           "bgcolor": "#E5ECF6",
           "caxis": {
            "gridcolor": "white",
            "linecolor": "white",
            "ticks": ""
           }
          },
          "title": {
           "x": 0.05
          },
          "xaxis": {
           "automargin": true,
           "gridcolor": "white",
           "linecolor": "white",
           "ticks": "",
           "title": {
            "standoff": 15
           },
           "zerolinecolor": "white",
           "zerolinewidth": 2
          },
          "yaxis": {
           "automargin": true,
           "gridcolor": "white",
           "linecolor": "white",
           "ticks": "",
           "title": {
            "standoff": 15
           },
           "zerolinecolor": "white",
           "zerolinewidth": 2
          }
         }
        },
        "width": 900,
        "xaxis": {
         "anchor": "y",
         "domain": [
          0,
          1
         ],
         "title": {
          "text": "x"
         }
        },
        "yaxis": {
         "anchor": "x",
         "domain": [
          0,
          1
         ],
         "title": {
          "text": "y"
         }
        }
       }
      },
      "text/html": "<div>                            <div id=\"395cb67c-01da-40a1-84cd-3356c6c0bf91\" class=\"plotly-graph-div\" style=\"height:1000px; width:900px;\"></div>            <script type=\"text/javascript\">                require([\"plotly\"], function(Plotly) {                    window.PLOTLYENV=window.PLOTLYENV || {};                                    if (document.getElementById(\"395cb67c-01da-40a1-84cd-3356c6c0bf91\")) {                    Plotly.newPlot(                        \"395cb67c-01da-40a1-84cd-3356c6c0bf91\",                        [{\"hovertemplate\": \"color=8<br>x=%{x}<br>y=%{y}<br>text=%{text}<extra></extra>\", \"legendgroup\": \"8\", \"marker\": {\"color\": \"#636efa\", \"symbol\": \"circle\"}, \"mode\": \"markers+text\", \"name\": \"8\", \"orientation\": \"v\", \"showlegend\": true, \"text\": [\"peritonitis\", \"sepsis\", \"neumonia\", \"septic shock\", \"pneumonia staphylococcal\", \"lobar pneumonia\", \"aspiration pneumonia\", \"cellulitis\", \"nasopharyngitis\", \"rhinitis\", \"herpes zoster\", \"osteomyelitis\", \"bacterial infection\", \"laryngitis\", \"gingivitis\", \"herpes simplex\", \"acute bronchitis\", \"streptococcal infection\", \"bacteraemia\", \"onychomycosis\", \"pelvic inflammatory disease\", \"hepatitis c\", \"ebv infection\", \"tracheitis\", \"paronychia\", \"epidural abscess\"], \"textposition\": \"bottom center\", \"type\": \"scatter\", \"x\": [-5.828089237213135, -4.885592460632324, -3.7938878536224365, -4.2628679275512695, -5.746923923492432, -5.213259220123291, -5.647950649261475, -6.391392707824707, -5.006488800048828, -3.9778025150299072, -4.769256591796875, -5.030933380126953, -4.600666522979736, -6.104245662689209, -5.475203514099121, -4.3781609535217285, -6.38715124130249, -5.4872965812683105, -5.2668023109436035, -5.897556304931641, -4.7804107666015625, -4.850311279296875, -4.1175642013549805, -5.183366775512695, -4.81964111328125, -3.8024067878723145], \"xaxis\": \"x\", \"y\": [3.572897434234619, 4.699251174926758, 3.4526116847991943, 2.9399328231811523, 3.924633026123047, 3.92189621925354, 5.3113112449646, 4.602011680603027, 3.4580929279327393, 4.663540363311768, 2.857434034347534, 2.944715738296509, 4.050997734069824, 4.817868232727051, 4.664371490478516, 3.622833251953125, 5.245406627655029, 3.315105438232422, 4.965404510498047, 3.145186185836792, 3.422459840774536, 3.8658607006073, 3.1802637577056885, 5.229304790496826, 4.082934856414795, 4.12408447265625], \"yaxis\": \"y\"}, {\"hovertemplate\": \"color=1<br>x=%{x}<br>y=%{y}<br>text=%{text}<extra></extra>\", \"legendgroup\": \"1\", \"marker\": {\"color\": \"#EF553B\", \"symbol\": \"circle\"}, \"mode\": \"markers+text\", \"name\": \"1\", \"orientation\": \"v\", \"showlegend\": true, \"text\": [\"appendicitis\", \"candida infection\", \"fungal disease\", \"abscess\", \"soft tissue infection\", \"hepatitis b\", \"erysipelas\", \"histoplasmosis\", \"empyema\", \"cryptococcosis\", \"pyuria\", \"mumps\"], \"textposition\": \"bottom center\", \"type\": \"scatter\", \"x\": [-6.134459495544434, -5.949906826019287, -6.072873592376709, -6.416310787200928, -6.818106651306152, -5.637651443481445, -5.076979637145996, -6.4669575691223145, -6.628787517547607, -6.71237325668335, -6.070796489715576, -5.687537670135498], \"xaxis\": \"x\", \"y\": [7.246341705322266, 6.278653621673584, 6.670089244842529, 5.68820333480835, 6.686326026916504, 6.877042293548584, 6.69087553024292, 6.9722819328308105, 6.555215835571289, 5.949493885040283, 6.071454048156738, 7.112959384918213], \"yaxis\": \"y\"}, {\"hovertemplate\": \"color=0<br>x=%{x}<br>y=%{y}<br>text=%{text}<extra></extra>\", \"legendgroup\": \"0\", \"marker\": {\"color\": \"#00cc96\", \"symbol\": \"circle\"}, \"mode\": \"markers+text\", \"name\": \"0\", \"orientation\": \"v\", \"showlegend\": true, \"text\": [\"pleurisy\"], \"textposition\": \"bottom center\", \"type\": \"scatter\", \"x\": [-4.122776508331299], \"xaxis\": \"x\", \"y\": [5.626565456390381], \"yaxis\": \"y\"}, {\"hovertemplate\": \"color=2<br>x=%{x}<br>y=%{y}<br>text=%{text}<extra></extra>\", \"legendgroup\": \"2\", \"marker\": {\"color\": \"#ab63fa\", \"symbol\": \"circle\"}, \"mode\": \"markers+text\", \"name\": \"2\", \"orientation\": \"v\", \"showlegend\": true, \"text\": [\"mycobacterium tuberculosis infection\"], \"textposition\": \"bottom center\", \"type\": \"scatter\", \"x\": [-5.210753917694092], \"xaxis\": \"x\", \"y\": [6.307156085968018], \"yaxis\": \"y\"}, {\"hovertemplate\": \"color=3<br>x=%{x}<br>y=%{y}<br>text=%{text}<extra></extra>\", \"legendgroup\": \"3\", \"marker\": {\"color\": \"#FFA15A\", \"symbol\": \"circle\"}, \"mode\": \"markers+text\", \"name\": \"3\", \"orientation\": \"v\", \"showlegend\": true, \"text\": [\"spondylitis\"], \"textposition\": \"bottom center\", \"type\": \"scatter\", \"x\": [-5.7235798835754395], \"xaxis\": \"x\", \"y\": [2.798942804336548], \"yaxis\": \"y\"}, {\"hovertemplate\": \"color=4<br>x=%{x}<br>y=%{y}<br>text=%{text}<extra></extra>\", \"legendgroup\": \"4\", \"marker\": {\"color\": \"#19d3f3\", \"symbol\": \"circle\"}, \"mode\": \"markers+text\", \"name\": \"4\", \"orientation\": \"v\", \"showlegend\": true, \"text\": [\"aspergillosis\"], \"textposition\": \"bottom center\", \"type\": \"scatter\", \"x\": [-4.437093257904053], \"xaxis\": \"x\", \"y\": [6.173536777496338], \"yaxis\": \"y\"}, {\"hovertemplate\": \"color=5<br>x=%{x}<br>y=%{y}<br>text=%{text}<extra></extra>\", \"legendgroup\": \"5\", \"marker\": {\"color\": \"#FF6692\", \"symbol\": \"circle\"}, \"mode\": \"markers+text\", \"name\": \"5\", \"orientation\": \"v\", \"showlegend\": true, \"text\": [\"bacterial pneumonia\"], \"textposition\": \"bottom center\", \"type\": \"scatter\", \"x\": [-3.919557809829712], \"xaxis\": \"x\", \"y\": [5.435001373291016], \"yaxis\": \"y\"}, {\"hovertemplate\": \"color=6<br>x=%{x}<br>y=%{y}<br>text=%{text}<extra></extra>\", \"legendgroup\": \"6\", \"marker\": {\"color\": \"#B6E880\", \"symbol\": \"circle\"}, \"mode\": \"markers+text\", \"name\": \"6\", \"orientation\": \"v\", \"showlegend\": true, \"text\": [\"liver abscess\"], \"textposition\": \"bottom center\", \"type\": \"scatter\", \"x\": [-5.550434589385986], \"xaxis\": \"x\", \"y\": [6.150298118591309], \"yaxis\": \"y\"}, {\"hovertemplate\": \"color=7<br>x=%{x}<br>y=%{y}<br>text=%{text}<extra></extra>\", \"legendgroup\": \"7\", \"marker\": {\"color\": \"#FF97FF\", \"symbol\": \"circle\"}, \"mode\": \"markers+text\", \"name\": \"7\", \"orientation\": \"v\", \"showlegend\": true, \"text\": [\"eye infection\"], \"textposition\": \"bottom center\", \"type\": \"scatter\", \"x\": [-4.771722793579102], \"xaxis\": \"x\", \"y\": [6.0978102684021], \"yaxis\": \"y\"}, {\"hovertemplate\": \"color=9<br>x=%{x}<br>y=%{y}<br>text=%{text}<extra></extra>\", \"legendgroup\": \"9\", \"marker\": {\"color\": \"#FECB52\", \"symbol\": \"circle\"}, \"mode\": \"markers+text\", \"name\": \"9\", \"orientation\": \"v\", \"showlegend\": true, \"text\": [\"tinea pedis\"], \"textposition\": \"bottom center\", \"type\": \"scatter\", \"x\": [-3.7951979637145996], \"xaxis\": \"x\", \"y\": [5.040422439575195], \"yaxis\": \"y\"}],                        {\"autosize\": false, \"height\": 1000, \"legend\": {\"title\": {\"text\": \"color\"}, \"tracegroupgap\": 0}, \"margin\": {\"t\": 60}, \"template\": {\"data\": {\"bar\": [{\"error_x\": {\"color\": \"#2a3f5f\"}, \"error_y\": {\"color\": \"#2a3f5f\"}, \"marker\": {\"line\": {\"color\": \"#E5ECF6\", \"width\": 0.5}}, \"type\": \"bar\"}], \"barpolar\": [{\"marker\": {\"line\": {\"color\": \"#E5ECF6\", \"width\": 0.5}}, \"type\": \"barpolar\"}], \"carpet\": [{\"aaxis\": {\"endlinecolor\": \"#2a3f5f\", \"gridcolor\": \"white\", \"linecolor\": \"white\", \"minorgridcolor\": \"white\", \"startlinecolor\": \"#2a3f5f\"}, \"baxis\": {\"endlinecolor\": \"#2a3f5f\", \"gridcolor\": \"white\", \"linecolor\": \"white\", \"minorgridcolor\": \"white\", \"startlinecolor\": \"#2a3f5f\"}, \"type\": \"carpet\"}], \"choropleth\": [{\"colorbar\": {\"outlinewidth\": 0, \"ticks\": \"\"}, \"type\": \"choropleth\"}], \"contour\": [{\"colorbar\": {\"outlinewidth\": 0, \"ticks\": \"\"}, \"colorscale\": [[0.0, \"#0d0887\"], [0.1111111111111111, \"#46039f\"], [0.2222222222222222, \"#7201a8\"], [0.3333333333333333, \"#9c179e\"], [0.4444444444444444, \"#bd3786\"], [0.5555555555555556, \"#d8576b\"], [0.6666666666666666, \"#ed7953\"], [0.7777777777777778, \"#fb9f3a\"], [0.8888888888888888, \"#fdca26\"], [1.0, \"#f0f921\"]], \"type\": \"contour\"}], \"contourcarpet\": [{\"colorbar\": {\"outlinewidth\": 0, \"ticks\": \"\"}, \"type\": \"contourcarpet\"}], \"heatmap\": [{\"colorbar\": {\"outlinewidth\": 0, \"ticks\": \"\"}, \"colorscale\": [[0.0, \"#0d0887\"], [0.1111111111111111, \"#46039f\"], [0.2222222222222222, \"#7201a8\"], [0.3333333333333333, \"#9c179e\"], [0.4444444444444444, \"#bd3786\"], [0.5555555555555556, \"#d8576b\"], [0.6666666666666666, \"#ed7953\"], [0.7777777777777778, \"#fb9f3a\"], [0.8888888888888888, \"#fdca26\"], [1.0, \"#f0f921\"]], \"type\": \"heatmap\"}], \"heatmapgl\": [{\"colorbar\": {\"outlinewidth\": 0, \"ticks\": \"\"}, \"colorscale\": [[0.0, \"#0d0887\"], [0.1111111111111111, \"#46039f\"], [0.2222222222222222, \"#7201a8\"], [0.3333333333333333, \"#9c179e\"], [0.4444444444444444, \"#bd3786\"], [0.5555555555555556, \"#d8576b\"], [0.6666666666666666, \"#ed7953\"], [0.7777777777777778, \"#fb9f3a\"], [0.8888888888888888, \"#fdca26\"], [1.0, \"#f0f921\"]], \"type\": \"heatmapgl\"}], \"histogram\": [{\"marker\": {\"colorbar\": {\"outlinewidth\": 0, \"ticks\": \"\"}}, \"type\": \"histogram\"}], \"histogram2d\": [{\"colorbar\": {\"outlinewidth\": 0, \"ticks\": \"\"}, \"colorscale\": [[0.0, \"#0d0887\"], [0.1111111111111111, \"#46039f\"], [0.2222222222222222, \"#7201a8\"], [0.3333333333333333, \"#9c179e\"], [0.4444444444444444, \"#bd3786\"], [0.5555555555555556, \"#d8576b\"], [0.6666666666666666, \"#ed7953\"], [0.7777777777777778, \"#fb9f3a\"], [0.8888888888888888, \"#fdca26\"], [1.0, \"#f0f921\"]], \"type\": \"histogram2d\"}], \"histogram2dcontour\": [{\"colorbar\": {\"outlinewidth\": 0, \"ticks\": \"\"}, \"colorscale\": [[0.0, \"#0d0887\"], [0.1111111111111111, \"#46039f\"], [0.2222222222222222, \"#7201a8\"], [0.3333333333333333, \"#9c179e\"], [0.4444444444444444, \"#bd3786\"], [0.5555555555555556, \"#d8576b\"], [0.6666666666666666, \"#ed7953\"], [0.7777777777777778, \"#fb9f3a\"], [0.8888888888888888, \"#fdca26\"], [1.0, \"#f0f921\"]], \"type\": \"histogram2dcontour\"}], \"mesh3d\": [{\"colorbar\": {\"outlinewidth\": 0, \"ticks\": \"\"}, \"type\": \"mesh3d\"}], \"parcoords\": [{\"line\": {\"colorbar\": {\"outlinewidth\": 0, \"ticks\": \"\"}}, \"type\": \"parcoords\"}], \"pie\": [{\"automargin\": true, \"type\": \"pie\"}], \"scatter\": [{\"marker\": {\"colorbar\": {\"outlinewidth\": 0, \"ticks\": \"\"}}, \"type\": \"scatter\"}], \"scatter3d\": [{\"line\": {\"colorbar\": {\"outlinewidth\": 0, \"ticks\": \"\"}}, \"marker\": {\"colorbar\": {\"outlinewidth\": 0, \"ticks\": \"\"}}, \"type\": \"scatter3d\"}], \"scattercarpet\": [{\"marker\": {\"colorbar\": {\"outlinewidth\": 0, \"ticks\": \"\"}}, \"type\": \"scattercarpet\"}], \"scattergeo\": [{\"marker\": {\"colorbar\": {\"outlinewidth\": 0, \"ticks\": \"\"}}, \"type\": \"scattergeo\"}], \"scattergl\": [{\"marker\": {\"colorbar\": {\"outlinewidth\": 0, \"ticks\": \"\"}}, \"type\": \"scattergl\"}], \"scattermapbox\": [{\"marker\": {\"colorbar\": {\"outlinewidth\": 0, \"ticks\": \"\"}}, \"type\": \"scattermapbox\"}], \"scatterpolar\": [{\"marker\": {\"colorbar\": {\"outlinewidth\": 0, \"ticks\": \"\"}}, \"type\": \"scatterpolar\"}], \"scatterpolargl\": [{\"marker\": {\"colorbar\": {\"outlinewidth\": 0, \"ticks\": \"\"}}, \"type\": \"scatterpolargl\"}], \"scatterternary\": [{\"marker\": {\"colorbar\": {\"outlinewidth\": 0, \"ticks\": \"\"}}, \"type\": \"scatterternary\"}], \"surface\": [{\"colorbar\": {\"outlinewidth\": 0, \"ticks\": \"\"}, \"colorscale\": [[0.0, \"#0d0887\"], [0.1111111111111111, \"#46039f\"], [0.2222222222222222, \"#7201a8\"], [0.3333333333333333, \"#9c179e\"], [0.4444444444444444, \"#bd3786\"], [0.5555555555555556, \"#d8576b\"], [0.6666666666666666, \"#ed7953\"], [0.7777777777777778, \"#fb9f3a\"], [0.8888888888888888, \"#fdca26\"], [1.0, \"#f0f921\"]], \"type\": \"surface\"}], \"table\": [{\"cells\": {\"fill\": {\"color\": \"#EBF0F8\"}, \"line\": {\"color\": \"white\"}}, \"header\": {\"fill\": {\"color\": \"#C8D4E3\"}, \"line\": {\"color\": \"white\"}}, \"type\": \"table\"}]}, \"layout\": {\"annotationdefaults\": {\"arrowcolor\": \"#2a3f5f\", \"arrowhead\": 0, \"arrowwidth\": 1}, \"autotypenumbers\": \"strict\", \"coloraxis\": {\"colorbar\": {\"outlinewidth\": 0, \"ticks\": \"\"}}, \"colorscale\": {\"diverging\": [[0, \"#8e0152\"], [0.1, \"#c51b7d\"], [0.2, \"#de77ae\"], [0.3, \"#f1b6da\"], [0.4, \"#fde0ef\"], [0.5, \"#f7f7f7\"], [0.6, \"#e6f5d0\"], [0.7, \"#b8e186\"], [0.8, \"#7fbc41\"], [0.9, \"#4d9221\"], [1, \"#276419\"]], \"sequential\": [[0.0, \"#0d0887\"], [0.1111111111111111, \"#46039f\"], [0.2222222222222222, \"#7201a8\"], [0.3333333333333333, \"#9c179e\"], [0.4444444444444444, \"#bd3786\"], [0.5555555555555556, \"#d8576b\"], [0.6666666666666666, \"#ed7953\"], [0.7777777777777778, \"#fb9f3a\"], [0.8888888888888888, \"#fdca26\"], [1.0, \"#f0f921\"]], \"sequentialminus\": [[0.0, \"#0d0887\"], [0.1111111111111111, \"#46039f\"], [0.2222222222222222, \"#7201a8\"], [0.3333333333333333, \"#9c179e\"], [0.4444444444444444, \"#bd3786\"], [0.5555555555555556, \"#d8576b\"], [0.6666666666666666, \"#ed7953\"], [0.7777777777777778, \"#fb9f3a\"], [0.8888888888888888, \"#fdca26\"], [1.0, \"#f0f921\"]]}, \"colorway\": [\"#636efa\", \"#EF553B\", \"#00cc96\", \"#ab63fa\", \"#FFA15A\", \"#19d3f3\", \"#FF6692\", \"#B6E880\", \"#FF97FF\", \"#FECB52\"], \"font\": {\"color\": \"#2a3f5f\"}, \"geo\": {\"bgcolor\": \"white\", \"lakecolor\": \"white\", \"landcolor\": \"#E5ECF6\", \"showlakes\": true, \"showland\": true, \"subunitcolor\": \"white\"}, \"hoverlabel\": {\"align\": \"left\"}, \"hovermode\": \"closest\", \"mapbox\": {\"style\": \"light\"}, \"paper_bgcolor\": \"white\", \"plot_bgcolor\": \"#E5ECF6\", \"polar\": {\"angularaxis\": {\"gridcolor\": \"white\", \"linecolor\": \"white\", \"ticks\": \"\"}, \"bgcolor\": \"#E5ECF6\", \"radialaxis\": {\"gridcolor\": \"white\", \"linecolor\": \"white\", \"ticks\": \"\"}}, \"scene\": {\"xaxis\": {\"backgroundcolor\": \"#E5ECF6\", \"gridcolor\": \"white\", \"gridwidth\": 2, \"linecolor\": \"white\", \"showbackground\": true, \"ticks\": \"\", \"zerolinecolor\": \"white\"}, \"yaxis\": {\"backgroundcolor\": \"#E5ECF6\", \"gridcolor\": \"white\", \"gridwidth\": 2, \"linecolor\": \"white\", \"showbackground\": true, \"ticks\": \"\", \"zerolinecolor\": \"white\"}, \"zaxis\": {\"backgroundcolor\": \"#E5ECF6\", \"gridcolor\": \"white\", \"gridwidth\": 2, \"linecolor\": \"white\", \"showbackground\": true, \"ticks\": \"\", \"zerolinecolor\": \"white\"}}, \"shapedefaults\": {\"line\": {\"color\": \"#2a3f5f\"}}, \"ternary\": {\"aaxis\": {\"gridcolor\": \"white\", \"linecolor\": \"white\", \"ticks\": \"\"}, \"baxis\": {\"gridcolor\": \"white\", \"linecolor\": \"white\", \"ticks\": \"\"}, \"bgcolor\": \"#E5ECF6\", \"caxis\": {\"gridcolor\": \"white\", \"linecolor\": \"white\", \"ticks\": \"\"}}, \"title\": {\"x\": 0.05}, \"xaxis\": {\"automargin\": true, \"gridcolor\": \"white\", \"linecolor\": \"white\", \"ticks\": \"\", \"title\": {\"standoff\": 15}, \"zerolinecolor\": \"white\", \"zerolinewidth\": 2}, \"yaxis\": {\"automargin\": true, \"gridcolor\": \"white\", \"linecolor\": \"white\", \"ticks\": \"\", \"title\": {\"standoff\": 15}, \"zerolinecolor\": \"white\", \"zerolinewidth\": 2}}}, \"width\": 900, \"xaxis\": {\"anchor\": \"y\", \"domain\": [0.0, 1.0], \"title\": {\"text\": \"x\"}}, \"yaxis\": {\"anchor\": \"x\", \"domain\": [0.0, 1.0], \"title\": {\"text\": \"y\"}}},                        {\"responsive\": true}                    ).then(function(){\n                            \nvar gd = document.getElementById('395cb67c-01da-40a1-84cd-3356c6c0bf91');\nvar x = new MutationObserver(function (mutations, observer) {{\n        var display = window.getComputedStyle(gd).display;\n        if (!display || display === 'none') {{\n            console.log([gd, 'removed!']);\n            Plotly.purge(gd);\n            observer.disconnect();\n        }}\n}});\n\n// Listen for the removal of the full notebook cells\nvar notebookContainer = gd.closest('#notebook-container');\nif (notebookContainer) {{\n    x.observe(notebookContainer, {childList: true});\n}}\n\n// Listen for the clearing of the current output cell\nvar outputEl = gd.closest('.output');\nif (outputEl) {{\n    x.observe(outputEl, {childList: true});\n}}\n\n                        })                };                });            </script>        </div>"
     },
     "metadata": {}
    }
   ],
   "source": [
    "# === plot figure ===\n",
    "fig = px.scatter(x=coo[:, 0], y=coo[:, 1], text=c1_cluster['side effect'], color=c1_cluster['cluster'])\n",
    "fig.update_traces(textposition='bottom center')\n",
    "fig.update_layout(autosize=False, width=900, height=1000)\n",
    "fig.show()\n",
    "# fig = px.scatter(x=coo_scale[:, 0], y=coo_scale[:, 1], text=[se_idx2name[i] for i in c1_go.index])\n",
    "# fig.update_traces(textposition='top center')\n",
    "# fig.show()\n"
   ]
  },
  {
   "cell_type": "code",
   "execution_count": 25,
   "metadata": {},
   "outputs": [
    {
     "output_type": "execute_result",
     "data": {
      "text/plain": [
       "             0   1  2   3   4   5  6  7   8   9\n",
       "GO:0055085  10  55  0  14  13  10  0  0  58  10\n",
       "GO:0015721   5  25  0   6   7   5  0  0  27   0\n",
       "GO:0015711   0   8  0   0   5   4  0  0  12   3\n",
       "GO:0052695   3  49  3   4   4   4  5  3  37   3\n",
       "GO:0043252   0   7  0   4   4   0  0  0   6   3\n",
       "...         ..  .. ..  ..  ..  .. .. ..  ..  ..\n",
       "GO:0035690   0   0  0   0   0   0  0  0   0   4\n",
       "GO:0042755   0   0  0   0   0   0  0  0   0   3\n",
       "GO:0045541   0   0  0   0   0   0  0  0   0   2\n",
       "GO:0042713   0   0  0   0   0   0  0  0   0   2\n",
       "GO:0046219   0   0  0   0   0   0  0  0   0   2\n",
       "\n",
       "[221 rows x 10 columns]"
      ],
      "text/html": "<div>\n<style scoped>\n    .dataframe tbody tr th:only-of-type {\n        vertical-align: middle;\n    }\n\n    .dataframe tbody tr th {\n        vertical-align: top;\n    }\n\n    .dataframe thead th {\n        text-align: right;\n    }\n</style>\n<table border=\"1\" class=\"dataframe\">\n  <thead>\n    <tr style=\"text-align: right;\">\n      <th></th>\n      <th>0</th>\n      <th>1</th>\n      <th>2</th>\n      <th>3</th>\n      <th>4</th>\n      <th>5</th>\n      <th>6</th>\n      <th>7</th>\n      <th>8</th>\n      <th>9</th>\n    </tr>\n  </thead>\n  <tbody>\n    <tr>\n      <th>GO:0055085</th>\n      <td>10</td>\n      <td>55</td>\n      <td>0</td>\n      <td>14</td>\n      <td>13</td>\n      <td>10</td>\n      <td>0</td>\n      <td>0</td>\n      <td>58</td>\n      <td>10</td>\n    </tr>\n    <tr>\n      <th>GO:0015721</th>\n      <td>5</td>\n      <td>25</td>\n      <td>0</td>\n      <td>6</td>\n      <td>7</td>\n      <td>5</td>\n      <td>0</td>\n      <td>0</td>\n      <td>27</td>\n      <td>0</td>\n    </tr>\n    <tr>\n      <th>GO:0015711</th>\n      <td>0</td>\n      <td>8</td>\n      <td>0</td>\n      <td>0</td>\n      <td>5</td>\n      <td>4</td>\n      <td>0</td>\n      <td>0</td>\n      <td>12</td>\n      <td>3</td>\n    </tr>\n    <tr>\n      <th>GO:0052695</th>\n      <td>3</td>\n      <td>49</td>\n      <td>3</td>\n      <td>4</td>\n      <td>4</td>\n      <td>4</td>\n      <td>5</td>\n      <td>3</td>\n      <td>37</td>\n      <td>3</td>\n    </tr>\n    <tr>\n      <th>GO:0043252</th>\n      <td>0</td>\n      <td>7</td>\n      <td>0</td>\n      <td>4</td>\n      <td>4</td>\n      <td>0</td>\n      <td>0</td>\n      <td>0</td>\n      <td>6</td>\n      <td>3</td>\n    </tr>\n    <tr>\n      <th>...</th>\n      <td>...</td>\n      <td>...</td>\n      <td>...</td>\n      <td>...</td>\n      <td>...</td>\n      <td>...</td>\n      <td>...</td>\n      <td>...</td>\n      <td>...</td>\n      <td>...</td>\n    </tr>\n    <tr>\n      <th>GO:0035690</th>\n      <td>0</td>\n      <td>0</td>\n      <td>0</td>\n      <td>0</td>\n      <td>0</td>\n      <td>0</td>\n      <td>0</td>\n      <td>0</td>\n      <td>0</td>\n      <td>4</td>\n    </tr>\n    <tr>\n      <th>GO:0042755</th>\n      <td>0</td>\n      <td>0</td>\n      <td>0</td>\n      <td>0</td>\n      <td>0</td>\n      <td>0</td>\n      <td>0</td>\n      <td>0</td>\n      <td>0</td>\n      <td>3</td>\n    </tr>\n    <tr>\n      <th>GO:0045541</th>\n      <td>0</td>\n      <td>0</td>\n      <td>0</td>\n      <td>0</td>\n      <td>0</td>\n      <td>0</td>\n      <td>0</td>\n      <td>0</td>\n      <td>0</td>\n      <td>2</td>\n    </tr>\n    <tr>\n      <th>GO:0042713</th>\n      <td>0</td>\n      <td>0</td>\n      <td>0</td>\n      <td>0</td>\n      <td>0</td>\n      <td>0</td>\n      <td>0</td>\n      <td>0</td>\n      <td>0</td>\n      <td>2</td>\n    </tr>\n    <tr>\n      <th>GO:0046219</th>\n      <td>0</td>\n      <td>0</td>\n      <td>0</td>\n      <td>0</td>\n      <td>0</td>\n      <td>0</td>\n      <td>0</td>\n      <td>0</td>\n      <td>0</td>\n      <td>2</td>\n    </tr>\n  </tbody>\n</table>\n<p>221 rows × 10 columns</p>\n</div>"
     },
     "metadata": {},
     "execution_count": 25
    }
   ],
   "source": [
    "c1_go_com = pd.DataFrame()\n",
    "for i in range(10):\n",
    "    # c1_cluster[c1_cluster['cluster'] == '3'][c1_go.columns].sum().sort_values(ascending=False)\n",
    "    c1_go_com[i] = c1_cluster[c1_cluster['cluster'] == str(i)][c1_go.columns].sum()\n",
    "c1_go_com[[0, 1, 2, 3, 4, 5, 6, 7, 8, 9]]\n"
   ]
  },
  {
   "cell_type": "code",
   "execution_count": 26,
   "metadata": {},
   "outputs": [
    {
     "output_type": "execute_result",
     "data": {
      "text/plain": [
       "     18   \n",
       "GO:0006367              2          17   \n",
       "GO:0070989              2          15   \n",
       "GO:0019228              2          15   \n",
       "GO:0019216              2          15   \n",
       "GO:0032496              2          13   \n",
       "GO:0019287              2          12   \n",
       "GO:0007189              2          12   \n",
       "GO:0043401              2          11   \n",
       "GO:0006814              2          11   \n",
       "GO:0071361              2          10   \n",
       "GO:0001516              2          10   \n",
       "GO:0014059              2           9   \n",
       "GO:0042220              2           9   \n",
       "GO:0051899              2           9   \n",
       "GO:0036150              2           9   \n",
       "GO:0007584              2           9   \n",
       "GO:1990962              2           8   \n",
       "GO:0055088              2           8   \n",
       "GO:0042908              2           7   \n",
       "GO:0033344              2           7   \n",
       "GO:0042573              2           7   \n",
       "GO:0019372              2           7   \n",
       "GO:0050482              2           7   \n",
       "GO:0015695              2           6   \n",
       "GO:0032264              2           6   \n",
       "GO:0007600              2           6   \n",
       "GO:0043030              2           6   \n",
       "GO:0009166              2           6   \n",
       "GO:0006691              2           6   \n",
       "GO:0086005              2           6   \n",
       "GO:0060307              2           6   \n",
       "GO:0019371              2           6   \n",
       "GO:0009804              2           5   \n",
       "GO:0061737              2           5   \n",
       "GO:0051583              2           5   \n",
       "GO:0031635              2           4   \n",
       "GO:0009820              2           4   \n",
       "GO:0030154              1          15   \n",
       "GO:0006955              1          11   \n",
       "GO:0051592              1          10   \n",
       "GO:0006954              1          10   \n",
       "GO:0015671              1           8   \n",
       "GO:0006935              1           7   \n",
       "GO:0007626              1           6   \n",
       "GO:0060306              1           6   \n",
       "GO:1901379              1           6   \n",
       "GO:0019065              1           6   \n",
       "GO:0007271              1           5   \n",
       "GO:0051209              1           5   \n",
       "GO:0007188              1           5   \n",
       "GO:0043627              1           5   \n",
       "GO:0008217              1           5   \n",
       "GO:0140115              1           4   \n",
       "GO:0098856              1           4   \n",
       "GO:0007631              1           4   \n",
       "GO:0002906              1           4   \n",
       "GO:0098915              1           4   \n",
       "GO:0006694              1           4   \n",
       "GO:0060177              1           4   \n",
       "GO:0043267              1           4   \n",
       "GO:2000463              1           4   \n",
       "GO:0098664              1           4   \n",
       "GO:0006656              1           4   \n",
       "GO:0051552              1           4   \n",
       "GO:0006744              1           4   \n",
       "GO:0001890              1           4   \n",
       "GO:0051930              1           4   \n",
       "GO:0035176              1           4   \n",
       "GO:0035690              1           4   \n",
       "GO:0035095              1           3   \n",
       "GO:0002138              1           3   \n",
       "GO:0038003              1           3   \n",
       "GO:0002430              1           3   \n",
       "GO:0002031              1           3   \n",
       "GO:0042417              1           3   \n",
       "GO:0007625              1           3   \n",
       "GO:0019370              1           3   \n",
       "GO:0015909              1           3   \n",
       "GO:0086011              1           3   \n",
       "GO:0097623              1           3   \n",
       "GO:1901800              1           3   \n",
       "GO:0045792              1           3   \n",
       "GO:0006873              1           3   \n",
       "GO:0055064              1           3   \n",
       "GO:0009437              1           3   \n",
       "GO:0098970              1           3   \n",
       "GO:0097105              1           3   \n",
       "GO:0097104              1           3   \n",
       "GO:0043101              1           3   \n",
       "GO:0099054              1           3   \n",
       "GO:0071625              1           3   \n",
       "GO:0015812              1           3   \n",
       "GO:0086016              1           3   \n",
       "GO:0086045              1           3   \n",
       "GO:0060371              1           3   \n",
       "GO:0006559              1           3   \n",
       "GO:0032230              1           3   \n",
       "GO:0006590              1           3   \n",
       "GO:1902176              1           3   \n",
       "GO:0045019              1           3   \n",
       "GO:0032270              1           3   \n",
       "GO:0006836              1           3   \n",
       "GO:0071312              1           3   \n",
       "GO:0042416              1           3   \n",
       "GO:0042310              1           3   \n",
       "GO:0071397              1           3   \n",
       "GO:0042755              1           3   \n",
       "GO:0060084              1           2   \n",
       "GO:1905144              1           2   \n",
       "GO:1902603              1           2   \n",
       "GO:0090325              1           2   \n",
       "GO:0034776              1           2   \n",
       "GO:0010560              1           2   \n",
       "GO:0045007              1           2   \n",
       "GO:2000343              1           2   \n",
       "GO:0090276              1           2   \n",
       "GO:0002720              1           2   \n",
       "GO:0002879              1           2   \n",
       "GO:1903765              1           2   \n",
       "GO:0006489              1           2   \n",
       "GO:0006567              1           2   \n",
       "GO:0060024              1           2   \n",
       "GO:0098903              1           2   \n",
       "GO:0086043              1           2   \n",
       "GO:0098912              1           2   \n",
       "GO:0030644              1           2   \n",
       "GO:0015722              1           2   \n",
       "GO:0086046              1           2   \n",
       "GO:0051612              1           2   \n",
       "GO:0070836              1           2   \n",
       "GO:0046456              1           2   \n",
       "GO:0060161              1           2   \n",
       "GO:0033032              1           2   \n",
       "GO:0051620              1           2   \n",
       "GO:0052314              1           2   \n",
       "GO:0046684              1           2   \n",
       "GO:0015842              1           2   \n",
       "GO:0045472              1           2   \n",
       "GO:0045541              1           2   \n",
       "GO:0042713              1           2   \n",
       "GO:0046219              1           2   \n",
       "\n",
       "                                                      GO name  \n",
       "GO:0052695                           cellular glucuronidation  \n",
       "GO:0055114                        oxidation-reduction process  \n",
       "GO:0006805                       xenobiotic metabolic process  \n",
       "GO:0042738                   exogenous drug catabolic process  \n",
       "GO:1902476                   chloride transmembrane transport  \n",
       "GO:0042391                   regulation of membrane potential  \n",
       "GO:0050877                             nervous system process  \n",
       "GO:0007214          gamma-aminobutyric acid signaling pathway  \n",
       "GO:0008202                          steroid metabolic process  \n",
       "GO:0034220                        ion transmembrane transport  \n",
       "GO:0017144                             drug metabolic process  \n",
       "GO:0007268                     chemical synaptic transmission  \n",
       "GO:0060078      regulation of postsynaptic membrane potential  \n",
       "GO:0051932                   synaptic transmission, GABAergic  \n",
       "GO:0055085                            transmembrane transport  \n",
       "GO:0006082                     organic acid metabolic process  \n",
       "GO:0019373                           epoxygenase P450 pathway  \n",
       "GO:0070588                calcium ion transmembrane transport  \n",
       "GO:0015721                  bile acid and bile salt transport  \n",
       "GO:0046483                      heterocycle metabolic process  \n",
       "GO:2001225                   regulation of chloride transport  \n",
       "GO:0051482  positive regulation of cytosolic calcium ion c...  \n",
       "GO:0097267                     omega-hydroxylase P450 pathway  \n",
       "GO:1904862                        inhibitory synapse assembly  \n",
       "GO:0006979                       response to oxidative stress  \n",
       "GO:0034765          regulation of ion transmembrane transport  \n",
       "GO:0036151          phosphatidylcholine acyl-chain remodeling  \n",
       "GO:0052696                          flavonoid glucuronidation  \n",
       "GO:0052697                         xenobiotic glucuronidation  \n",
       "GO:0008210                         estrogen metabolic process  \n",
       "GO:0007218                     neuropeptide signaling pathway  \n",
       "GO:0015711                            organic anion transport  \n",
       "GO:0016098                    monoterpenoid metabolic process  \n",
       "GO:0043252         sodium-independent organic anion transport  \n",
       "GO:0008542                                    visual learning  \n",
       "GO:0009082     branched-chain amino acid biosynthetic process  \n",
       "GO:0009099                        valine biosynthetic process  \n",
       "GO:0009098                       leucine biosynthetic process  \n",
       "GO:0007186       G protein-coupled receptor signaling pathway  \n",
       "GO:0061337                                 cardiac conduction  \n",
       "GO:0006646      phosphatidylethanolamine biosynthetic process  \n",
       "GO:0019369                 arachidonic acid metabolic process  \n",
       "GO:0007187  G protein-coupled receptor signaling pathway, ...  \n",
       "GO:0006816                              calcium ion transport  \n",
       "GO:0086091     regulation of heart rate by cardiac conduction  \n",
       "GO:0006821                                 chloride transport  \n",
       "GO:0035025  positive regulation of Rho protein signal tran...  \n",
       "GO:0071420                     cellular response to histamine  \n",
       "GO:0006695                   cholesterol biosynthetic process  \n",
       "GO:0045540     regulation of cholesterol biosynthetic process  \n",
       "GO:0007165                                signal transduction  \n",
       "GO:0042632                            cholesterol homeostasis  \n",
       "GO:0098869                    cellular oxidant detoxification  \n",
       "GO:0008299                    isoprenoid biosynthetic process  \n",
       "GO:0008203                      cholesterol metabolic process  \n",
       "GO:0036149         phosphatidylinositol acyl-chain remodeling  \n",
       "GO:0042493                                   response to drug  \n",
       "GO:0033076            isoquinoline alkaloid metabolic process  \n",
       "GO:0086010    membrane depolarization during action potential  \n",
       "GO:0006644                     phospholipid metabolic process  \n",
       "GO:0036152     phosphatidylethanolamine acyl-chain remodeling  \n",
       "GO:0042759         long-chain fatty acid biosynthetic process  \n",
       "GO:0015701                              bicarbonate transport  \n",
       "GO:0042572                          retinol metabolic process  \n",
       "GO:0070509                                 calcium ion import  \n",
       "GO:0036148         phosphatidylglycerol acyl-chain remodeling  \n",
       "GO:0019433                     triglyceride catabolic process  \n",
       "GO:0033384           geranyl diphosphate biosynthetic process  \n",
       "GO:0045337          farnesyl diphosphate biosynthetic process  \n",
       "GO:0030301                              cholesterol transport  \n",
       "GO:0086002  cardiac muscle cell action potential involved ...  \n",
       "GO:0015844                                monoamine transport  \n",
       "GO:0006789                              bilirubin conjugation  \n",
       "GO:0042427                     serotonin biosynthetic process  \n",
       "GO:0015874                           norepinephrine transport  \n",
       "GO:0030522           intracellular receptor signaling pathway  \n",
       "GO:0035725                 sodium ion transmembrane transport  \n",
       "GO:0007200  phospholipase C-activating G protein-coupled r...  \n",
       "GO:0007204  positive regulation of cytosolic calcium ion c...  \n",
       "GO:0042744                hydrogen peroxide catabolic process  \n",
       "GO:0006367  transcription initiation from RNA polymerase I...  \n",
       "GO:0070989                            oxidative demethylation  \n",
       "GO:0019228                          neuronal action potential  \n",
       "GO:0019216              regulation of lipid metabolic process  \n",
       "GO:0032496                     response to lipopolysaccharide  \n",
       "GO:0019287  isopentenyl diphosphate biosynthetic process, ...  \n",
       "GO:0007189  adenylate cyclase-activating G protein-coupled...  \n",
       "GO:0043401         steroid hormone mediated signaling pathway  \n",
       "GO:0006814                               sodium ion transport  \n",
       "GO:0071361                       cellular response to ethanol  \n",
       "GO:0001516                 prostaglandin biosynthetic process  \n",
       "GO:0014059                   regulation of dopamine secretion  \n",
       "GO:0042220                                response to cocaine  \n",
       "GO:0051899                            membrane depolarization  \n",
       "GO:0036150           phosphatidylserine acyl-chain remodeling  \n",
       "GO:0007584                               response to nutrient  \n",
       "GO:1990962    xenobiotic transport across blood-brain barrier  \n",
       "GO:0055088                                  lipid homeostasis  \n",
       "GO:0042908                               xenobiotic transport  \n",
       "GO:0033344                                 cholesterol efflux  \n",
       "GO:0042573                    retinoic acid metabolic process  \n",
       "GO:0019372                               lipoxygenase pathway  \n",
       "GO:0050482                         arachidonic acid secretion  \n",
       "GO:0015695                           organic cation transport  \n",
       "GO:0032264                                        IMP salvage  \n",
       "GO:0007600                                 sensory perception  \n",
       "GO:0043030                regulation of macrophage activation  \n",
       "GO:0009166                       nucleotide catabolic process  \n",
       "GO:0006691                      leukotriene metabolic process  \n",
       "GO:0086005   ventricular cardiac muscle cell action potential  \n",
       "GO:0060307  regulation of ventricular cardiac muscle cell ...  \n",
       "GO:0019371                             cyclooxygenase pathway  \n",
       "GO:0009804                         coumarin metabolic process  \n",
       "GO:0061737                      leukotriene signaling pathway  \n",
       "GO:0051583  dopamine uptake involved in synaptic transmission  \n",
       "GO:0031635  adenylate cyclase-inhibiting opioid receptor s...  \n",
       "GO:0009820                         alkaloid metabolic process  \n",
       "GO:0030154                               cell differentiation  \n",
       "GO:0006955                                    immune response  \n",
       "GO:0051592                            response to calcium ion  \n",
       "GO:0006954                              inflammatory response  \n",
       "GO:0015671                                   oxygen transport  \n",
       "GO:0006935                                         chemotaxis  \n",
       "GO:0007626                                locomotory behavior  \n",
       "GO:0060306              regulation of membrane repolarization  \n",
       "GO:1901379  regulation of potassium ion transmembrane tran...  \n",
       "GO:0019065  receptor-mediated endocytosis of virus by host...  \n",
       "GO:0007271                 synaptic transmission, cholinergic  \n",
       "GO:0051209    release of sequestered calcium ion into cytosol  \n",
       "GO:0007188  adenylate cyclase-modulating G protein-coupled...  \n",
       "GO:0043627                               response to estrogen  \n",
       "GO:0008217                       regulation of blood pressure  \n",
       "GO:0140115                      export across plasma membrane  \n",
       "GO:0098856                        intestinal lipid absorption  \n",
       "GO:0007631                                   feeding behavior  \n",
       "GO:0002906  negative regulation of mature B cell apoptotic...  \n",
       "GO:0098915  membrane repolarization during ventricular car...  \n",
       "GO:0006694                       steroid biosynthetic process  \n",
       "GO:0060177        regulation of angiotensin metabolic process  \n",
       "GO:0043267     negative regulation of potassium ion transport  \n",
       "GO:2000463  positive regulation of excitatory postsynaptic...  \n",
       "GO:0098664  G protein-coupled serotonin receptor signaling...  \n",
       "GO:0006656           phosphatidylcholine biosynthetic process  \n",
       "GO:0051552                          flavone metabolic process  \n",
       "GO:0006744                    ubiquinone biosynthetic process  \n",
       "GO:0001890                               placenta development  \n",
       "GO:0051930           regulation of sensory perception of pain  \n",
       "GO:0035176                                    social behavior  \n",
       "GO:0035690                          cellular response to drug  \n",
       "GO:0035095                    behavioral response to nicotine  \n",
       "GO:0002138                 retinoic acid biosynthetic process  \n",
       "GO:0038003                  opioid receptor signaling pathway  \n",
       "GO:0002430     complement receptor mediated signaling pathway  \n",
       "GO:0002031         G protein-coupled receptor internalization  \n",
       "GO:0042417                         dopamine metabolic process  \n",
       "GO:0007625                                  grooming behavior  \n",
       "GO:0019370                   leukotriene biosynthetic process  \n",
       "GO:0015909                    long-chain fatty acid transport  \n",
       "GO:0086011    membrane repolarization during action potential  \n",
       "GO:0097623        potassium ion export across plasma membrane  \n",
       "GO:1901800  positive regulation of proteasomal protein cat...  \n",
       "GO:0045792                   negative regulation of cell size  \n",
       "GO:0006873                           cellular ion homeostasis  \n",
       "GO:0055064                           chloride ion homeostasis  \n",
       "GO:0009437                        carnitine metabolic process  \n",
       "GO:0098970  postsynaptic neurotransmitter receptor diffusi...  \n",
       "GO:0097105                      presynaptic membrane assembly  \n",
       "GO:0097104                     postsynaptic membrane assembly  \n",
       "GO:0043101                 purine-containing compound salvage  \n",
       "GO:0099054                                presynapse assembly  \n",
       "GO:0071625                              vocalization behavior  \n",
       "GO:0015812                  gamma-aminobutyric acid transport  \n",
       "GO:0086016                      AV node cell action potential  \n",
       "GO:0086045  membrane depolarization during AV node cell ac...  \n",
       "GO:0060371  regulation of atrial cardiac muscle cell membr...  \n",
       "GO:0006559                  L-phenylalanine catabolic process  \n",
       "GO:0032230  positive regulation of synaptic transmission, ...  \n",
       "GO:0006590                         thyroid hormone generation  \n",
       "GO:1902176  negative regulation of oxidative stress-induce...  \n",
       "GO:0045019  negative regulation of nitric oxide biosynthet...  \n",
       "GO:0032270  positive regulation of cellular protein metabo...  \n",
       "GO:0006836                         neurotransmitter transport  \n",
       "GO:0071312                      cellular response to alkaloid  \n",
       "GO:0042416                      dopamine biosynthetic process  \n",
       "GO:0042310                                   vasoconstriction  \n",
       "GO:0071397                   cellular response to cholesterol  \n",
       "GO:0042755                                    eating behavior  \n",
       "GO:0060084      synaptic transmission involved in micturition  \n",
       "GO:1905144                          response to acetylcholine  \n",
       "GO:1902603                  carnitine transmembrane transport  \n",
       "GO:0090325  regulation of locomotion involved in locomotor...  \n",
       "GO:0034776                              response to histamine  \n",
       "GO:0010560  positive regulation of glycoprotein biosynthet...  \n",
       "GO:0045007                                       depurination  \n",
       "GO:2000343  positive regulation of chemokine (C-X-C motif)...  \n",
       "GO:0090276            regulation of peptide hormone secretion  \n",
       "GO:0002720  positive regulation of cytokine production inv...  \n",
       "GO:0002879  positive regulation of acute inflammatory resp...  \n",
       "GO:1903765  negative regulation of potassium ion export ac...  \n",
       "GO:0006489          dolichyl diphosphate biosynthetic process  \n",
       "GO:0006567                        threonine catabolic process  \n",
       "GO:0060024                     rhythmic synaptic transmission  \n",
       "GO:0098903  regulation of membrane repolarization during a...  \n",
       "GO:0086043                bundle of His cell action potential  \n",
       "GO:0098912  membrane depolarization during atrial cardiac ...  \n",
       "GO:0030644                  cellular chloride ion homeostasis  \n",
       "GO:0015722                    canalicular bile acid transport  \n",
       "GO:0086046  membrane depolarization during SA node cell ac...  \n",
       "GO:0051612            negative regulation of serotonin uptake  \n",
       "GO:0070836                                   caveola assembly  \n",
       "GO:0046456                     icosanoid biosynthetic process  \n",
       "GO:0060161  positive regulation of dopamine receptor signa...  \n",
       "GO:0033032       regulation of myeloid cell apoptotic process  \n",
       "GO:0051620                              norepinephrine uptake  \n",
       "GO:0052314                      phytoalexin metabolic process  \n",
       "GO:0046684                             response to pyrethroid  \n",
       "GO:0015842  aminergic neurotransmitter loading into synapt...  \n",
       "GO:0045472                                  response to ether  \n",
       "GO:0045541  negative regulation of cholesterol biosyntheti...  \n",
       "GO:0042713                                  sperm ejaculation  \n",
       "GO:0046219               indolalkylamine biosynthetic process  "
      ],
      "text/html": "<div>\n<style scoped>\n    .dataframe tbody tr th:only-of-type {\n        vertical-align: middle;\n    }\n\n    .dataframe tbody tr th {\n        vertical-align: top;\n    }\n\n    .dataframe thead th {\n        text-align: right;\n    }\n</style>\n<table border=\"1\" class=\"dataframe\">\n  <thead>\n    <tr style=\"text-align: right;\">\n      <th></th>\n      <th>cluster count</th>\n      <th>gene count</th>\n      <th>GO name</th>\n    </tr>\n  </thead>\n  <tbody>\n    <tr>\n      <th>GO:0052695</th>\n      <td>10</td>\n      <td>115</td>\n      <td>cellular glucuronidation</td>\n    </tr>\n    <tr>\n      <th>GO:0055114</th>\n      <td>9</td>\n      <td>361</td>\n      <td>oxidation-reduction process</td>\n    </tr>\n    <tr>\n      <th>GO:0006805</th>\n      <td>9</td>\n      <td>248</td>\n      <td>xenobiotic metabolic process</td>\n    </tr>\n    <tr>\n      <th>GO:0042738</th>\n      <td>9</td>\n      <td>147</td>\n      <td>exogenous drug catabolic process</td>\n    </tr>\n    <tr>\n      <th>GO:1902476</th>\n      <td>9</td>\n      <td>98</td>\n      <td>chloride transmembrane transport</td>\n    </tr>\n    <tr>\n      <th>GO:0042391</th>\n      <td>9</td>\n      <td>73</td>\n      <td>regulation of membrane potential</td>\n    </tr>\n    <tr>\n      <th>GO:0050877</th>\n      <td>9</td>\n      <td>69</td>\n      <td>nervous system process</td>\n    </tr>\n    <tr>\n      <th>GO:0007214</th>\n      <td>9</td>\n      <td>57</td>\n      <td>gamma-aminobutyric acid signaling pathway</td>\n    </tr>\n    <tr>\n      <th>GO:0008202</th>\n      <td>8</td>\n      <td>152</td>\n      <td>steroid metabolic process</td>\n    </tr>\n    <tr>\n      <th>GO:0034220</th>\n      <td>8</td>\n      <td>113</td>\n      <td>ion transmembrane transport</td>\n    </tr>\n    <tr>\n      <th>GO:0017144</th>\n      <td>8</td>\n      <td>110</td>\n      <td>drug metabolic process</td>\n    </tr>\n    <tr>\n      <th>GO:0007268</th>\n      <td>8</td>\n      <td>91</td>\n      <td>chemical synaptic transmission</td>\n    </tr>\n    <tr>\n      <th>GO:0060078</th>\n      <td>8</td>\n      <td>48</td>\n      <td>regulation of postsynaptic membrane potential</td>\n    </tr>\n    <tr>\n      <th>GO:0051932</th>\n      <td>8</td>\n      <td>34</td>\n      <td>synaptic transmission, GABAergic</td>\n    </tr>\n    <tr>\n      <th>GO:0055085</th>\n      <td>7</td>\n      <td>170</td>\n      <td>transmembrane transport</td>\n    </tr>\n    <tr>\n      <th>GO:0006082</th>\n      <td>7</td>\n      <td>104</td>\n      <td>organic acid metabolic process</td>\n    </tr>\n    <tr>\n      <th>GO:0019373</th>\n      <td>7</td>\n      <td>83</td>\n      <td>epoxygenase P450 pathway</td>\n    </tr>\n    <tr>\n      <th>GO:0070588</th>\n      <td>6</td>\n      <td>110</td>\n      <td>calcium ion transmembrane transport</td>\n    </tr>\n    <tr>\n      <th>GO:0015721</th>\n      <td>6</td>\n      <td>75</td>\n      <td>bile acid and bile salt transport</td>\n    </tr>\n    <tr>\n      <th>GO:0046483</th>\n      <td>6</td>\n      <td>55</td>\n      <td>heterocycle metabolic process</td>\n    </tr>\n    <tr>\n      <th>GO:2001225</th>\n      <td>6</td>\n      <td>35</td>\n      <td>regulation of chloride transport</td>\n    </tr>\n    <tr>\n      <th>GO:0051482</th>\n      <td>6</td>\n      <td>34</td>\n      <td>positive regulation of cytosolic calcium ion c...</td>\n    </tr>\n    <tr>\n      <th>GO:0097267</th>\n      <td>6</td>\n      <td>34</td>\n      <td>omega-hydroxylase P450 pathway</td>\n    </tr>\n    <tr>\n      <th>GO:1904862</th>\n      <td>6</td>\n      <td>20</td>\n      <td>inhibitory synapse assembly</td>\n    </tr>\n    <tr>\n      <th>GO:0006979</th>\n      <td>5</td>\n      <td>72</td>\n      <td>response to oxidative stress</td>\n    </tr>\n    <tr>\n      <th>GO:0034765</th>\n      <td>5</td>\n      <td>67</td>\n      <td>regulation of ion transmembrane transport</td>\n    </tr>\n    <tr>\n      <th>GO:0036151</th>\n      <td>5</td>\n      <td>50</td>\n      <td>phosphatidylcholine acyl-chain remodeling</td>\n    </tr>\n    <tr>\n      <th>GO:0052696</th>\n      <td>5</td>\n      <td>41</td>\n      <td>flavonoid glucuronidation</td>\n    </tr>\n    <tr>\n      <th>GO:0052697</th>\n      <td>5</td>\n      <td>40</td>\n      <td>xenobiotic glucuronidation</td>\n    </tr>\n    <tr>\n      <th>GO:0008210</th>\n      <td>5</td>\n      <td>40</td>\n      <td>estrogen metabolic process</td>\n    </tr>\n    <tr>\n      <th>GO:0007218</th>\n      <td>5</td>\n      <td>33</td>\n      <td>neuropeptide signaling pathway</td>\n    </tr>\n    <tr>\n      <th>GO:0015711</th>\n      <td>5</td>\n      <td>32</td>\n      <td>organic anion transport</td>\n    </tr>\n    <tr>\n      <th>GO:0016098</th>\n      <td>5</td>\n      <td>26</td>\n      <td>monoterpenoid metabolic process</td>\n    </tr>\n    <tr>\n      <th>GO:0043252</th>\n      <td>5</td>\n      <td>24</td>\n      <td>sodium-independent organic anion transport</td>\n    </tr>\n    <tr>\n      <th>GO:0008542</th>\n      <td>5</td>\n      <td>24</td>\n      <td>visual learning</td>\n    </tr>\n    <tr>\n      <th>GO:0009082</th>\n      <td>5</td>\n      <td>22</td>\n      <td>branched-chain amino acid biosynthetic process</td>\n    </tr>\n    <tr>\n      <th>GO:0009099</th>\n      <td>5</td>\n      <td>22</td>\n      <td>valine biosynthetic process</td>\n    </tr>\n    <tr>\n      <th>GO:0009098</th>\n      <td>5</td>\n      <td>22</td>\n      <td>leucine biosynthetic process</td>\n    </tr>\n    <tr>\n      <th>GO:0007186</th>\n      <td>4</td>\n      <td>120</td>\n      <td>G protein-coupled receptor signaling pathway</td>\n    </tr>\n    <tr>\n      <th>GO:0061337</th>\n      <td>4</td>\n      <td>43</td>\n      <td>cardiac conduction</td>\n    </tr>\n    <tr>\n      <th>GO:0006646</th>\n      <td>4</td>\n      <td>36</td>\n      <td>phosphatidylethanolamine biosynthetic process</td>\n    </tr>\n    <tr>\n      <th>GO:0019369</th>\n      <td>4</td>\n      <td>26</td>\n      <td>arachidonic acid metabolic process</td>\n    </tr>\n    <tr>\n      <th>GO:0007187</th>\n      <td>4</td>\n      <td>23</td>\n      <td>G protein-coupled receptor signaling pathway, ...</td>\n    </tr>\n    <tr>\n      <th>GO:0006816</th>\n      <td>4</td>\n      <td>23</td>\n      <td>calcium ion transport</td>\n    </tr>\n    <tr>\n      <th>GO:0086091</th>\n      <td>4</td>\n      <td>21</td>\n      <td>regulation of heart rate by cardiac conduction</td>\n    </tr>\n    <tr>\n      <th>GO:0006821</th>\n      <td>4</td>\n      <td>20</td>\n      <td>chloride transport</td>\n    </tr>\n    <tr>\n      <th>GO:0035025</th>\n      <td>4</td>\n      <td>20</td>\n      <td>positive regulation of Rho protein signal tran...</td>\n    </tr>\n    <tr>\n      <th>GO:0071420</th>\n      <td>4</td>\n      <td>16</td>\n      <td>cellular response to histamine</td>\n    </tr>\n    <tr>\n      <th>GO:0006695</th>\n      <td>3</td>\n      <td>85</td>\n      <td>cholesterol biosynthetic process</td>\n    </tr>\n    <tr>\n      <th>GO:0045540</th>\n      <td>3</td>\n      <td>75</td>\n      <td>regulation of cholesterol biosynthetic process</td>\n    </tr>\n    <tr>\n      <th>GO:0007165</th>\n      <td>3</td>\n      <td>67</td>\n      <td>signal transduction</td>\n    </tr>\n    <tr>\n      <th>GO:0042632</th>\n      <td>3</td>\n      <td>48</td>\n      <td>cholesterol homeostasis</td>\n    </tr>\n    <tr>\n      <th>GO:0098869</th>\n      <td>3</td>\n      <td>38</td>\n      <td>cellular oxidant detoxification</td>\n    </tr>\n    <tr>\n      <th>GO:0008299</th>\n      <td>3</td>\n      <td>37</td>\n      <td>isoprenoid biosynthetic process</td>\n    </tr>\n    <tr>\n      <th>GO:0008203</th>\n      <td>3</td>\n      <td>26</td>\n      <td>cholesterol metabolic process</td>\n    </tr>\n    <tr>\n      <th>GO:0036149</th>\n      <td>3</td>\n      <td>25</td>\n      <td>phosphatidylinositol acyl-chain remodeling</td>\n    </tr>\n    <tr>\n      <th>GO:0042493</th>\n      <td>3</td>\n      <td>24</td>\n      <td>response to drug</td>\n    </tr>\n    <tr>\n      <th>GO:0033076</th>\n      <td>3</td>\n      <td>23</td>\n      <td>isoquinoline alkaloid metabolic process</td>\n    </tr>\n    <tr>\n      <th>GO:0086010</th>\n      <td>3</td>\n      <td>22</td>\n      <td>membrane depolarization during action potential</td>\n    </tr>\n    <tr>\n      <th>GO:0006644</th>\n      <td>3</td>\n      <td>21</td>\n      <td>phospholipid metabolic process</td>\n    </tr>\n    <tr>\n      <th>GO:0036152</th>\n      <td>3</td>\n      <td>19</td>\n      <td>phosphatidylethanolamine acyl-chain remodeling</td>\n    </tr>\n    <tr>\n      <th>GO:0042759</th>\n      <td>3</td>\n      <td>18</td>\n      <td>long-chain fatty acid biosynthetic process</td>\n    </tr>\n    <tr>\n      <th>GO:0015701</th>\n      <td>3</td>\n      <td>18</td>\n      <td>bicarbonate transport</td>\n    </tr>\n    <tr>\n      <th>GO:0042572</th>\n      <td>3</td>\n      <td>16</td>\n      <td>retinol metabolic process</td>\n    </tr>\n    <tr>\n      <th>GO:0070509</th>\n      <td>3</td>\n      <td>16</td>\n      <td>calcium ion import</td>\n    </tr>\n    <tr>\n      <th>GO:0036148</th>\n      <td>3</td>\n      <td>15</td>\n      <td>phosphatidylglycerol acyl-chain remodeling</td>\n    </tr>\n    <tr>\n      <th>GO:0019433</th>\n      <td>3</td>\n      <td>15</td>\n      <td>triglyceride catabolic process</td>\n    </tr>\n    <tr>\n      <th>GO:0033384</th>\n      <td>3</td>\n      <td>14</td>\n      <td>geranyl diphosphate biosynthetic process</td>\n    </tr>\n    <tr>\n      <th>GO:0045337</th>\n      <td>3</td>\n      <td>14</td>\n      <td>farnesyl diphosphate biosynthetic process</td>\n    </tr>\n    <tr>\n      <th>GO:0030301</th>\n      <td>3</td>\n      <td>13</td>\n      <td>cholesterol transport</td>\n    </tr>\n    <tr>\n      <th>GO:0086002</th>\n      <td>3</td>\n      <td>11</td>\n      <td>cardiac muscle cell action potential involved ...</td>\n    </tr>\n    <tr>\n      <th>GO:0015844</th>\n      <td>3</td>\n      <td>9</td>\n      <td>monoamine transport</td>\n    </tr>\n    <tr>\n      <th>GO:0006789</th>\n      <td>3</td>\n      <td>8</td>\n      <td>bilirubin conjugation</td>\n    </tr>\n    <tr>\n      <th>GO:0042427</th>\n      <td>3</td>\n      <td>6</td>\n      <td>serotonin biosynthetic process</td>\n    </tr>\n    <tr>\n      <th>GO:0015874</th>\n      <td>3</td>\n      <td>6</td>\n      <td>norepinephrine transport</td>\n    </tr>\n    <tr>\n      <th>GO:0030522</th>\n      <td>2</td>\n      <td>25</td>\n      <td>intracellular receptor signaling pathway</td>\n    </tr>\n    <tr>\n      <th>GO:0035725</th>\n      <td>2</td>\n      <td>22</td>\n      <td>sodium ion transmembrane transport</td>\n    </tr>\n    <tr>\n      <th>GO:0007200</th>\n      <td>2</td>\n      <td>18</td>\n      <td>phospholipase C-activating G protein-coupled r...</td>\n    </tr>\n    <tr>\n      <th>GO:0007204</th>\n      <td>2</td>\n      <td>18</td>\n      <td>positive regulation of cytosolic calcium ion c...</td>\n    </tr>\n    <tr>\n      <th>GO:0042744</th>\n      <td>2</td>\n      <td>18</td>\n      <td>hydrogen peroxide catabolic process</td>\n    </tr>\n    <tr>\n      <th>GO:0006367</th>\n      <td>2</td>\n      <td>17</td>\n      <td>transcription initiation from RNA polymerase I...</td>\n    </tr>\n    <tr>\n      <th>GO:0070989</th>\n      <td>2</td>\n      <td>15</td>\n      <td>oxidative demethylation</td>\n    </tr>\n    <tr>\n      <th>GO:0019228</th>\n      <td>2</td>\n      <td>15</td>\n      <td>neuronal action potential</td>\n    </tr>\n    <tr>\n      <th>GO:0019216</th>\n      <td>2</td>\n      <td>15</td>\n      <td>regulation of lipid metabolic process</td>\n    </tr>\n    <tr>\n      <th>GO:0032496</th>\n      <td>2</td>\n      <td>13</td>\n      <td>response to lipopolysaccharide</td>\n    </tr>\n    <tr>\n      <th>GO:0019287</th>\n      <td>2</td>\n      <td>12</td>\n      <td>isopentenyl diphosphate biosynthetic process, ...</td>\n    </tr>\n    <tr>\n      <th>GO:0007189</th>\n      <td>2</td>\n      <td>12</td>\n      <td>adenylate cyclase-activating G protein-coupled...</td>\n    </tr>\n    <tr>\n      <th>GO:0043401</th>\n      <td>2</td>\n      <td>11</td>\n      <td>steroid hormone mediated signaling pathway</td>\n    </tr>\n    <tr>\n      <th>GO:0006814</th>\n      <td>2</td>\n      <td>11</td>\n      <td>sodium ion transport</td>\n    </tr>\n    <tr>\n      <th>GO:0071361</th>\n      <td>2</td>\n      <td>10</td>\n      <td>cellular response to ethanol</td>\n    </tr>\n    <tr>\n      <th>GO:0001516</th>\n      <td>2</td>\n      <td>10</td>\n      <td>prostaglandin biosynthetic process</td>\n    </tr>\n    <tr>\n      <th>GO:0014059</th>\n      <td>2</td>\n      <td>9</td>\n      <td>regulation of dopamine secretion</td>\n    </tr>\n    <tr>\n      <th>GO:0042220</th>\n      <td>2</td>\n      <td>9</td>\n      <td>response to cocaine</td>\n    </tr>\n    <tr>\n      <th>GO:0051899</th>\n      <td>2</td>\n      <td>9</td>\n      <td>membrane depolarization</td>\n    </tr>\n    <tr>\n      <th>GO:0036150</th>\n      <td>2</td>\n      <td>9</td>\n      <td>phosphatidylserine acyl-chain remodeling</td>\n    </tr>\n    <tr>\n      <th>GO:0007584</th>\n      <td>2</td>\n      <td>9</td>\n      <td>response to nutrient</td>\n    </tr>\n    <tr>\n      <th>GO:1990962</th>\n      <td>2</td>\n      <td>8</td>\n      <td>xenobiotic transport across blood-brain barrier</td>\n    </tr>\n    <tr>\n      <th>GO:0055088</th>\n      <td>2</td>\n      <td>8</td>\n      <td>lipid homeostasis</td>\n    </tr>\n    <tr>\n      <th>GO:0042908</th>\n      <td>2</td>\n      <td>7</td>\n      <td>xenobiotic transport</td>\n    </tr>\n    <tr>\n      <th>GO:0033344</th>\n      <td>2</td>\n      <td>7</td>\n      <td>cholesterol efflux</td>\n    </tr>\n    <tr>\n      <th>GO:0042573</th>\n      <td>2</td>\n      <td>7</td>\n      <td>retinoic acid metabolic process</td>\n    </tr>\n    <tr>\n      <th>GO:0019372</th>\n      <td>2</td>\n      <td>7</td>\n      <td>lipoxygenase pathway</td>\n    </tr>\n    <tr>\n      <th>GO:0050482</th>\n      <td>2</td>\n      <td>7</td>\n      <td>arachidonic acid secretion</td>\n    </tr>\n    <tr>\n      <th>GO:0015695</th>\n      <td>2</td>\n      <td>6</td>\n      <td>organic cation transport</td>\n    </tr>\n    <tr>\n      <th>GO:0032264</th>\n      <td>2</td>\n      <td>6</td>\n      <td>IMP salvage</td>\n    </tr>\n    <tr>\n      <th>GO:0007600</th>\n      <td>2</td>\n      <td>6</td>\n      <td>sensory perception</td>\n    </tr>\n    <tr>\n      <th>GO:0043030</th>\n      <td>2</td>\n      <td>6</td>\n      <td>regulation of macrophage activation</td>\n    </tr>\n    <tr>\n      <th>GO:0009166</th>\n      <td>2</td>\n      <td>6</td>\n      <td>nucleotide catabolic process</td>\n    </tr>\n    <tr>\n      <th>GO:0006691</th>\n      <td>2</td>\n      <td>6</td>\n      <td>leukotriene metabolic process</td>\n    </tr>\n    <tr>\n      <th>GO:0086005</th>\n      <td>2</td>\n      <td>6</td>\n      <td>ventricular cardiac muscle cell action potential</td>\n    </tr>\n    <tr>\n      <th>GO:0060307</th>\n      <td>2</td>\n      <td>6</td>\n      <td>regulation of ventricular cardiac muscle cell ...</td>\n    </tr>\n    <tr>\n      <th>GO:0019371</th>\n      <td>2</td>\n      <td>6</td>\n      <td>cyclooxygenase pathway</td>\n    </tr>\n    <tr>\n      <th>GO:0009804</th>\n      <td>2</td>\n      <td>5</td>\n      <td>coumarin metabolic process</td>\n    </tr>\n    <tr>\n      <th>GO:0061737</th>\n      <td>2</td>\n      <td>5</td>\n      <td>leukotriene signaling pathway</td>\n    </tr>\n    <tr>\n      <th>GO:0051583</th>\n      <td>2</td>\n      <td>5</td>\n      <td>dopamine uptake involved in synaptic transmission</td>\n    </tr>\n    <tr>\n      <th>GO:0031635</th>\n      <td>2</td>\n      <td>4</td>\n      <td>adenylate cyclase-inhibiting opioid receptor s...</td>\n    </tr>\n    <tr>\n      <th>GO:0009820</th>\n      <td>2</td>\n      <td>4</td>\n      <td>alkaloid metabolic process</td>\n    </tr>\n    <tr>\n      <th>GO:0030154</th>\n      <td>1</td>\n      <td>15</td>\n      <td>cell differentiation</td>\n    </tr>\n    <tr>\n      <th>GO:0006955</th>\n      <td>1</td>\n      <td>11</td>\n      <td>immune response</td>\n    </tr>\n    <tr>\n      <th>GO:0051592</th>\n      <td>1</td>\n      <td>10</td>\n      <td>response to calcium ion</td>\n    </tr>\n    <tr>\n      <th>GO:0006954</th>\n      <td>1</td>\n      <td>10</td>\n      <td>inflammatory response</td>\n    </tr>\n    <tr>\n      <th>GO:0015671</th>\n      <td>1</td>\n      <td>8</td>\n      <td>oxygen transport</td>\n    </tr>\n    <tr>\n      <th>GO:0006935</th>\n      <td>1</td>\n      <td>7</td>\n      <td>chemotaxis</td>\n    </tr>\n    <tr>\n      <th>GO:0007626</th>\n      <td>1</td>\n      <td>6</td>\n      <td>locomotory behavior</td>\n    </tr>\n    <tr>\n      <th>GO:0060306</th>\n      <td>1</td>\n      <td>6</td>\n      <td>regulation of membrane repolarization</td>\n    </tr>\n    <tr>\n      <th>GO:1901379</th>\n      <td>1</td>\n      <td>6</td>\n      <td>regulation of potassium ion transmembrane tran...</td>\n    </tr>\n    <tr>\n      <th>GO:0019065</th>\n      <td>1</td>\n      <td>6</td>\n      <td>receptor-mediated endocytosis of virus by host...</td>\n    </tr>\n    <tr>\n      <th>GO:0007271</th>\n      <td>1</td>\n      <td>5</td>\n      <td>synaptic transmission, cholinergic</td>\n    </tr>\n    <tr>\n      <th>GO:0051209</th>\n      <td>1</td>\n      <td>5</td>\n      <td>release of sequestered calcium ion into cytosol</td>\n    </tr>\n    <tr>\n      <th>GO:0007188</th>\n      <td>1</td>\n      <td>5</td>\n      <td>adenylate cyclase-modulating G protein-coupled...</td>\n    </tr>\n    <tr>\n      <th>GO:0043627</th>\n      <td>1</td>\n      <td>5</td>\n      <td>response to estrogen</td>\n    </tr>\n    <tr>\n      <th>GO:0008217</th>\n      <td>1</td>\n      <td>5</td>\n      <td>regulation of blood pressure</td>\n    </tr>\n    <tr>\n      <th>GO:0140115</th>\n      <td>1</td>\n      <td>4</td>\n      <td>export across plasma membrane</td>\n    </tr>\n    <tr>\n      <th>GO:0098856</th>\n      <td>1</td>\n      <td>4</td>\n      <td>intestinal lipid absorption</td>\n    </tr>\n    <tr>\n      <th>GO:0007631</th>\n      <td>1</td>\n      <td>4</td>\n      <td>feeding behavior</td>\n    </tr>\n    <tr>\n      <th>GO:0002906</th>\n      <td>1</td>\n      <td>4</td>\n      <td>negative regulation of mature B cell apoptotic...</td>\n    </tr>\n    <tr>\n      <th>GO:0098915</th>\n      <td>1</td>\n      <td>4</td>\n      <td>membrane repolarization during ventricular car...</td>\n    </tr>\n    <tr>\n      <th>GO:0006694</th>\n      <td>1</td>\n      <td>4</td>\n      <td>steroid biosynthetic process</td>\n    </tr>\n    <tr>\n      <th>GO:0060177</th>\n      <td>1</td>\n      <td>4</td>\n      <td>regulation of angiotensin metabolic process</td>\n    </tr>\n    <tr>\n      <th>GO:0043267</th>\n      <td>1</td>\n      <td>4</td>\n      <td>negative regulation of potassium ion transport</td>\n    </tr>\n    <tr>\n      <th>GO:2000463</th>\n      <td>1</td>\n      <td>4</td>\n      <td>positive regulation of excitatory postsynaptic...</td>\n    </tr>\n    <tr>\n      <th>GO:0098664</th>\n      <td>1</td>\n      <td>4</td>\n      <td>G protein-coupled serotonin receptor signaling...</td>\n    </tr>\n    <tr>\n      <th>GO:0006656</th>\n      <td>1</td>\n      <td>4</td>\n      <td>phosphatidylcholine biosynthetic process</td>\n    </tr>\n    <tr>\n      <th>GO:0051552</th>\n      <td>1</td>\n      <td>4</td>\n      <td>flavone metabolic process</td>\n    </tr>\n    <tr>\n      <th>GO:0006744</th>\n      <td>1</td>\n      <td>4</td>\n      <td>ubiquinone biosynthetic process</td>\n    </tr>\n    <tr>\n      <th>GO:0001890</th>\n      <td>1</td>\n      <td>4</td>\n      <td>placenta development</td>\n    </tr>\n    <tr>\n      <th>GO:0051930</th>\n      <td>1</td>\n      <td>4</td>\n      <td>regulation of sensory perception of pain</td>\n    </tr>\n    <tr>\n      <th>GO:0035176</th>\n      <td>1</td>\n      <td>4</td>\n      <td>social behavior</td>\n    </tr>\n    <tr>\n      <th>GO:0035690</th>\n      <td>1</td>\n      <td>4</td>\n      <td>cellular response to drug</td>\n    </tr>\n    <tr>\n      <th>GO:0035095</th>\n      <td>1</td>\n      <td>3</td>\n      <td>behavioral response to nicotine</td>\n    </tr>\n    <tr>\n      <th>GO:0002138</th>\n      <td>1</td>\n      <td>3</td>\n      <td>retinoic acid biosynthetic process</td>\n    </tr>\n    <tr>\n      <th>GO:0038003</th>\n      <td>1</td>\n      <td>3</td>\n      <td>opioid receptor signaling pathway</td>\n    </tr>\n    <tr>\n      <th>GO:0002430</th>\n      <td>1</td>\n      <td>3</td>\n      <td>complement receptor mediated signaling pathway</td>\n    </tr>\n    <tr>\n      <th>GO:0002031</th>\n      <td>1</td>\n      <td>3</td>\n      <td>G protein-coupled receptor internalization</td>\n    </tr>\n    <tr>\n      <th>GO:0042417</th>\n      <td>1</td>\n      <td>3</td>\n      <td>dopamine metabolic process</td>\n    </tr>\n    <tr>\n      <th>GO:0007625</th>\n      <td>1</td>\n      <td>3</td>\n      <td>grooming behavior</td>\n    </tr>\n    <tr>\n      <th>GO:0019370</th>\n      <td>1</td>\n      <td>3</td>\n      <td>leukotriene biosynthetic process</td>\n    </tr>\n    <tr>\n      <th>GO:0015909</th>\n      <td>1</td>\n      <td>3</td>\n      <td>long-chain fatty acid transport</td>\n    </tr>\n    <tr>\n      <th>GO:0086011</th>\n      <td>1</td>\n      <td>3</td>\n      <td>membrane repolarization during action potential</td>\n    </tr>\n    <tr>\n      <th>GO:0097623</th>\n      <td>1</td>\n      <td>3</td>\n      <td>potassium ion export across plasma membrane</td>\n    </tr>\n    <tr>\n      <th>GO:1901800</th>\n      <td>1</td>\n      <td>3</td>\n      <td>positive regulation of proteasomal protein cat...</td>\n    </tr>\n    <tr>\n      <th>GO:0045792</th>\n      <td>1</td>\n      <td>3</td>\n      <td>negative regulation of cell size</td>\n    </tr>\n    <tr>\n      <th>GO:0006873</th>\n      <td>1</td>\n      <td>3</td>\n      <td>cellular ion homeostasis</td>\n    </tr>\n    <tr>\n      <th>GO:0055064</th>\n      <td>1</td>\n      <td>3</td>\n      <td>chloride ion homeostasis</td>\n    </tr>\n    <tr>\n      <th>GO:0009437</th>\n      <td>1</td>\n      <td>3</td>\n      <td>carnitine metabolic process</td>\n    </tr>\n    <tr>\n      <th>GO:0098970</th>\n      <td>1</td>\n      <td>3</td>\n      <td>postsynaptic neurotransmitter receptor diffusi...</td>\n    </tr>\n    <tr>\n      <th>GO:0097105</th>\n      <td>1</td>\n      <td>3</td>\n      <td>presynaptic membrane assembly</td>\n    </tr>\n    <tr>\n      <th>GO:0097104</th>\n      <td>1</td>\n      <td>3</td>\n      <td>postsynaptic membrane assembly</td>\n    </tr>\n    <tr>\n      <th>GO:0043101</th>\n      <td>1</td>\n      <td>3</td>\n      <td>purine-containing compound salvage</td>\n    </tr>\n    <tr>\n      <th>GO:0099054</th>\n      <td>1</td>\n      <td>3</td>\n      <td>presynapse assembly</td>\n    </tr>\n    <tr>\n      <th>GO:0071625</th>\n      <td>1</td>\n      <td>3</td>\n      <td>vocalization behavior</td>\n    </tr>\n    <tr>\n      <th>GO:0015812</th>\n      <td>1</td>\n      <td>3</td>\n      <td>gamma-aminobutyric acid transport</td>\n    </tr>\n    <tr>\n      <th>GO:0086016</th>\n      <td>1</td>\n      <td>3</td>\n      <td>AV node cell action potential</td>\n    </tr>\n    <tr>\n      <th>GO:0086045</th>\n      <td>1</td>\n      <td>3</td>\n      <td>membrane depolarization during AV node cell ac...</td>\n    </tr>\n    <tr>\n      <th>GO:0060371</th>\n      <td>1</td>\n      <td>3</td>\n      <td>regulation of atrial cardiac muscle cell membr...</td>\n    </tr>\n    <tr>\n      <th>GO:0006559</th>\n      <td>1</td>\n      <td>3</td>\n      <td>L-phenylalanine catabolic process</td>\n    </tr>\n    <tr>\n      <th>GO:0032230</th>\n      <td>1</td>\n      <td>3</td>\n      <td>positive regulation of synaptic transmission, ...</td>\n    </tr>\n    <tr>\n      <th>GO:0006590</th>\n      <td>1</td>\n      <td>3</td>\n      <td>thyroid hormone generation</td>\n    </tr>\n    <tr>\n      <th>GO:1902176</th>\n      <td>1</td>\n      <td>3</td>\n      <td>negative regulation of oxidative stress-induce...</td>\n    </tr>\n    <tr>\n      <th>GO:0045019</th>\n      <td>1</td>\n      <td>3</td>\n      <td>negative regulation of nitric oxide biosynthet...</td>\n    </tr>\n    <tr>\n      <th>GO:0032270</th>\n      <td>1</td>\n      <td>3</td>\n      <td>positive regulation of cellular protein metabo...</td>\n    </tr>\n    <tr>\n      <th>GO:0006836</th>\n      <td>1</td>\n      <td>3</td>\n      <td>neurotransmitter transport</td>\n    </tr>\n    <tr>\n      <th>GO:0071312</th>\n      <td>1</td>\n      <td>3</td>\n      <td>cellular response to alkaloid</td>\n    </tr>\n    <tr>\n      <th>GO:0042416</th>\n      <td>1</td>\n      <td>3</td>\n      <td>dopamine biosynthetic process</td>\n    </tr>\n    <tr>\n      <th>GO:0042310</th>\n      <td>1</td>\n      <td>3</td>\n      <td>vasoconstriction</td>\n    </tr>\n    <tr>\n      <th>GO:0071397</th>\n      <td>1</td>\n      <td>3</td>\n      <td>cellular response to cholesterol</td>\n    </tr>\n    <tr>\n      <th>GO:0042755</th>\n      <td>1</td>\n      <td>3</td>\n      <td>eating behavior</td>\n    </tr>\n    <tr>\n      <th>GO:0060084</th>\n      <td>1</td>\n      <td>2</td>\n      <td>synaptic transmission involved in micturition</td>\n    </tr>\n    <tr>\n      <th>GO:1905144</th>\n      <td>1</td>\n      <td>2</td>\n      <td>response to acetylcholine</td>\n    </tr>\n    <tr>\n      <th>GO:1902603</th>\n      <td>1</td>\n      <td>2</td>\n      <td>carnitine transmembrane transport</td>\n    </tr>\n    <tr>\n      <th>GO:0090325</th>\n      <td>1</td>\n      <td>2</td>\n      <td>regulation of locomotion involved in locomotor...</td>\n    </tr>\n    <tr>\n      <th>GO:0034776</th>\n      <td>1</td>\n      <td>2</td>\n      <td>response to histamine</td>\n    </tr>\n    <tr>\n      <th>GO:0010560</th>\n      <td>1</td>\n      <td>2</td>\n      <td>positive regulation of glycoprotein biosynthet...</td>\n    </tr>\n    <tr>\n      <th>GO:0045007</th>\n      <td>1</td>\n      <td>2</td>\n      <td>depurination</td>\n    </tr>\n    <tr>\n      <th>GO:2000343</th>\n      <td>1</td>\n      <td>2</td>\n      <td>positive regulation of chemokine (C-X-C motif)...</td>\n    </tr>\n    <tr>\n      <th>GO:0090276</th>\n      <td>1</td>\n      <td>2</td>\n      <td>regulation of peptide hormone secretion</td>\n    </tr>\n    <tr>\n      <th>GO:0002720</th>\n      <td>1</td>\n      <td>2</td>\n      <td>positive regulation of cytokine production inv...</td>\n    </tr>\n    <tr>\n      <th>GO:0002879</th>\n      <td>1</td>\n      <td>2</td>\n      <td>positive regulation of acute inflammatory resp...</td>\n    </tr>\n    <tr>\n      <th>GO:1903765</th>\n      <td>1</td>\n      <td>2</td>\n      <td>negative regulation of potassium ion export ac...</td>\n    </tr>\n    <tr>\n      <th>GO:0006489</th>\n      <td>1</td>\n      <td>2</td>\n      <td>dolichyl diphosphate biosynthetic process</td>\n    </tr>\n    <tr>\n      <th>GO:0006567</th>\n      <td>1</td>\n      <td>2</td>\n      <td>threonine catabolic process</td>\n    </tr>\n    <tr>\n      <th>GO:0060024</th>\n      <td>1</td>\n      <td>2</td>\n      <td>rhythmic synaptic transmission</td>\n    </tr>\n    <tr>\n      <th>GO:0098903</th>\n      <td>1</td>\n      <td>2</td>\n      <td>regulation of membrane repolarization during a...</td>\n    </tr>\n    <tr>\n      <th>GO:0086043</th>\n      <td>1</td>\n      <td>2</td>\n      <td>bundle of His cell action potential</td>\n    </tr>\n    <tr>\n      <th>GO:0098912</th>\n      <td>1</td>\n      <td>2</td>\n      <td>membrane depolarization during atrial cardiac ...</td>\n    </tr>\n    <tr>\n      <th>GO:0030644</th>\n      <td>1</td>\n      <td>2</td>\n      <td>cellular chloride ion homeostasis</td>\n    </tr>\n    <tr>\n      <th>GO:0015722</th>\n      <td>1</td>\n      <td>2</td>\n      <td>canalicular bile acid transport</td>\n    </tr>\n    <tr>\n      <th>GO:0086046</th>\n      <td>1</td>\n      <td>2</td>\n      <td>membrane depolarization during SA node cell ac...</td>\n    </tr>\n    <tr>\n      <th>GO:0051612</th>\n      <td>1</td>\n      <td>2</td>\n      <td>negative regulation of serotonin uptake</td>\n    </tr>\n    <tr>\n      <th>GO:0070836</th>\n      <td>1</td>\n      <td>2</td>\n      <td>caveola assembly</td>\n    </tr>\n    <tr>\n      <th>GO:0046456</th>\n      <td>1</td>\n      <td>2</td>\n      <td>icosanoid biosynthetic process</td>\n    </tr>\n    <tr>\n      <th>GO:0060161</th>\n      <td>1</td>\n      <td>2</td>\n      <td>positive regulation of dopamine receptor signa...</td>\n    </tr>\n    <tr>\n      <th>GO:0033032</th>\n      <td>1</td>\n      <td>2</td>\n      <td>regulation of myeloid cell apoptotic process</td>\n    </tr>\n    <tr>\n      <th>GO:0051620</th>\n      <td>1</td>\n      <td>2</td>\n      <td>norepinephrine uptake</td>\n    </tr>\n    <tr>\n      <th>GO:0052314</th>\n      <td>1</td>\n      <td>2</td>\n      <td>phytoalexin metabolic process</td>\n    </tr>\n    <tr>\n      <th>GO:0046684</th>\n      <td>1</td>\n      <td>2</td>\n      <td>response to pyrethroid</td>\n    </tr>\n    <tr>\n      <th>GO:0015842</th>\n      <td>1</td>\n      <td>2</td>\n      <td>aminergic neurotransmitter loading into synapt...</td>\n    </tr>\n    <tr>\n      <th>GO:0045472</th>\n      <td>1</td>\n      <td>2</td>\n      <td>response to ether</td>\n    </tr>\n    <tr>\n      <th>GO:0045541</th>\n      <td>1</td>\n      <td>2</td>\n      <td>negative regulation of cholesterol biosyntheti...</td>\n    </tr>\n    <tr>\n      <th>GO:0042713</th>\n      <td>1</td>\n      <td>2</td>\n      <td>sperm ejaculation</td>\n    </tr>\n    <tr>\n      <th>GO:0046219</th>\n      <td>1</td>\n      <td>2</td>\n      <td>indolalkylamine biosynthetic process</td>\n    </tr>\n  </tbody>\n</table>\n</div>"
     },
     "metadata": {},
     "execution_count": 26
    }
   ],
   "source": [
    "pd.set_option(\"display.max_rows\", None, \"display.max_columns\", None)\n",
    "\n",
    "c1_cat = pd.concat(((c1_go_com > 0).sum(axis=1), c1_go_com.sum(axis=1)), axis=1)\n",
    "c1_cat.columns = ['cluster count', 'gene count']\n",
    "c1_cat['GO name'] = [go_name_dict[i] for i in c1_cat.index]\n",
    "c1_cat.sort_values(by=['cluster count', 'gene count'], ascending=False)"
   ]
  },
  {
   "cell_type": "code",
   "execution_count": 42,
   "metadata": {},
   "outputs": [
    {
     "output_type": "display_data",
     "data": {
      "application/vnd.plotly.v1+json": {
       "config": {
        "plotlyServerURL": "https://plot.ly"
       },
       "data": [
        {
         "name": "Cluster-0",
         "type": "bar",
         "x": [
          "GO:0015701",
          "GO:1990962",
          "GO:2001225",
          "GO:0015721",
          "GO:0002906",
          "GO:2000343",
          "GO:0015695",
          "GO:0006695",
          "GO:0045540",
          "GO:0042632",
          "GO:0008202",
          "GO:0030301",
          "GO:0055114",
          "GO:0042738",
          "GO:0006805",
          "GO:0055085",
          "GO:0017144",
          "GO:0008299",
          "GO:0008203",
          "GO:0033384",
          "GO:0045337",
          "GO:0052695",
          "GO:0008542",
          "GO:0098856",
          "GO:0006082",
          "GO:0006979",
          "GO:0008210",
          "GO:0070588",
          "GO:0061337",
          "GO:0009098",
          "GO:0009099",
          "GO:0009082",
          "GO:0034765",
          "GO:0140115",
          "GO:0016098",
          "GO:0046483",
          "GO:0007268",
          "GO:1902476",
          "GO:0007214",
          "GO:0007186",
          "GO:0050877",
          "GO:0034220",
          "GO:0071420",
          "GO:0007187",
          "GO:0007218",
          "GO:0007200",
          "GO:0042391",
          "GO:0060078",
          "GO:0007600",
          "GO:0036152",
          "GO:0036151",
          "GO:0006644",
          "GO:0038003",
          "GO:0031635",
          "GO:0006821",
          "GO:0014059",
          "GO:0006646",
          "GO:0019373",
          "GO:0052696",
          "GO:0052697",
          "GO:0006816",
          "GO:0070989",
          "GO:0033076",
          "GO:0030522",
          "GO:0042572",
          "GO:0042573",
          "GO:0036149",
          "GO:0036148",
          "GO:0036150",
          "GO:0042759",
          "GO:0019369",
          "GO:0050482",
          "GO:0046475",
          "GO:0001516",
          "GO:0098869",
          "GO:0006654",
          "GO:0006814",
          "GO:0098912",
          "GO:0051481",
          "GO:0043030",
          "GO:0006656",
          "GO:0097267",
          "GO:0086011",
          "GO:0060306",
          "GO:0086091",
          "GO:0098915",
          "GO:0097623",
          "GO:1901379",
          "GO:0086005",
          "GO:0060307",
          "GO:1903765",
          "GO:0090238",
          "GO:0019287",
          "GO:0015844",
          "GO:0051610",
          "GO:0042744",
          "GO:0043401",
          "GO:0009166",
          "GO:0042427",
          "GO:0051932",
          "GO:0043252",
          "GO:0051899",
          "GO:0070509",
          "GO:1904862",
          "GO:0006789",
          "GO:0015874",
          "GO:0006567",
          "GO:0043267",
          "GO:1903779",
          "GO:0006885",
          "GO:0051592",
          "GO:0043627",
          "GO:0042908",
          "GO:0015711",
          "GO:0006699",
          "GO:0051482",
          "GO:0035025",
          "GO:0019065",
          "GO:0032230",
          "GO:0015812",
          "GO:0051620",
          "GO:0086016",
          "GO:0086010",
          "GO:0060371",
          "GO:0086043",
          "GO:0086002",
          "GO:0035725",
          "GO:0015722",
          "GO:0030644",
          "GO:0019228",
          "GO:0086046",
          "GO:0086045",
          "GO:0086015",
          "GO:0070633",
          "GO:0032849",
          "GO:0019371",
          "GO:0009820",
          "GO:0070836",
          "GO:0061737",
          "GO:0006744",
          "GO:0032264",
          "GO:0019372",
          "GO:0006691",
          "GO:0032496",
          "GO:0042493",
          "GO:0042220",
          "GO:0042310",
          "GO:0035690",
          "GO:0009636",
          "GO:0046219",
          "GO:0042713",
          "GO:0051930"
         ],
         "y": [
          0,
          2,
          3,
          12,
          0,
          0,
          0,
          22,
          18,
          7,
          14,
          4,
          39,
          8,
          17,
          25,
          8,
          10,
          5,
          6,
          6,
          7,
          4,
          2,
          6,
          11,
          9,
          0,
          0,
          0,
          0,
          0,
          0,
          0,
          0,
          3,
          0,
          5,
          4,
          0,
          4,
          0,
          0,
          0,
          0,
          0,
          5,
          4,
          0,
          0,
          4,
          0,
          0,
          0,
          0,
          0,
          3,
          0,
          0,
          0,
          0,
          0,
          2,
          0,
          0,
          0,
          3,
          0,
          0,
          0,
          4,
          0,
          0,
          0,
          5,
          0,
          0,
          0,
          0,
          0,
          0,
          0,
          0,
          0,
          0,
          0,
          0,
          0,
          0,
          0,
          0,
          0,
          2,
          0,
          0,
          0,
          0,
          0,
          0,
          4,
          6,
          0,
          0,
          0,
          2,
          0,
          0,
          0,
          0,
          0,
          0,
          0,
          0,
          7,
          0,
          0,
          0,
          0,
          0,
          0,
          0,
          0,
          0,
          0,
          0,
          0,
          0,
          0,
          2,
          0,
          0,
          0,
          0,
          0,
          2,
          0,
          0,
          0,
          0,
          3,
          2,
          0,
          0,
          0,
          0,
          0,
          0,
          0,
          0,
          0,
          0,
          0
         ]
        },
        {
         "name": "Cluster-5",
         "type": "bar",
         "x": [
          "GO:0015701",
          "GO:1990962",
          "GO:2001225",
          "GO:0015721",
          "GO:0002906",
          "GO:2000343",
          "GO:0015695",
          "GO:0006695",
          "GO:0045540",
          "GO:0042632",
          "GO:0008202",
          "GO:0030301",
          "GO:0055114",
          "GO:0042738",
          "GO:0006805",
          "GO:0055085",
          "GO:0017144",
          "GO:0008299",
          "GO:0008203",
          "GO:0033384",
          "GO:0045337",
          "GO:0052695",
          "GO:0008542",
          "GO:0098856",
          "GO:0006082",
          "GO:0006979",
          "GO:0008210",
          "GO:0070588",
          "GO:0061337",
          "GO:0009098",
          "GO:0009099",
          "GO:0009082",
          "GO:0034765",
          "GO:0140115",
          "GO:0016098",
          "GO:0046483",
          "GO:0007268",
          "GO:1902476",
          "GO:0007214",
          "GO:0007186",
          "GO:0050877",
          "GO:0034220",
          "GO:0071420",
          "GO:0007187",
          "GO:0007218",
          "GO:0007200",
          "GO:0042391",
          "GO:0060078",
          "GO:0007600",
          "GO:0036152",
          "GO:0036151",
          "GO:0006644",
          "GO:0038003",
          "GO:0031635",
          "GO:0006821",
          "GO:0014059",
          "GO:0006646",
          "GO:0019373",
          "GO:0052696",
          "GO:0052697",
          "GO:0006816",
          "GO:0070989",
          "GO:0033076",
          "GO:0030522",
          "GO:0042572",
          "GO:0042573",
          "GO:0036149",
          "GO:0036148",
          "GO:0036150",
          "GO:0042759",
          "GO:0019369",
          "GO:0050482",
          "GO:0046475",
          "GO:0001516",
          "GO:0098869",
          "GO:0006654",
          "GO:0006814",
          "GO:0098912",
          "GO:0051481",
          "GO:0043030",
          "GO:0006656",
          "GO:0097267",
          "GO:0086011",
          "GO:0060306",
          "GO:0086091",
          "GO:0098915",
          "GO:0097623",
          "GO:1901379",
          "GO:0086005",
          "GO:0060307",
          "GO:1903765",
          "GO:0090238",
          "GO:0019287",
          "GO:0015844",
          "GO:0051610",
          "GO:0042744",
          "GO:0043401",
          "GO:0009166",
          "GO:0042427",
          "GO:0051932",
          "GO:0043252",
          "GO:0051899",
          "GO:0070509",
          "GO:1904862",
          "GO:0006789",
          "GO:0015874",
          "GO:0006567",
          "GO:0043267",
          "GO:1903779",
          "GO:0006885",
          "GO:0051592",
          "GO:0043627",
          "GO:0042908",
          "GO:0015711",
          "GO:0006699",
          "GO:0051482",
          "GO:0035025",
          "GO:0019065",
          "GO:0032230",
          "GO:0015812",
          "GO:0051620",
          "GO:0086016",
          "GO:0086010",
          "GO:0060371",
          "GO:0086043",
          "GO:0086002",
          "GO:0035725",
          "GO:0015722",
          "GO:0030644",
          "GO:0019228",
          "GO:0086046",
          "GO:0086045",
          "GO:0086015",
          "GO:0070633",
          "GO:0032849",
          "GO:0019371",
          "GO:0009820",
          "GO:0070836",
          "GO:0061737",
          "GO:0006744",
          "GO:0032264",
          "GO:0019372",
          "GO:0006691",
          "GO:0032496",
          "GO:0042493",
          "GO:0042220",
          "GO:0042310",
          "GO:0035690",
          "GO:0009636",
          "GO:0046219",
          "GO:0042713",
          "GO:0051930"
         ],
         "y": [
          13,
          2,
          7,
          8,
          4,
          4,
          3,
          7,
          7,
          0,
          17,
          0,
          0,
          18,
          29,
          6,
          8,
          5,
          0,
          4,
          4,
          3,
          0,
          0,
          7,
          0,
          3,
          0,
          0,
          12,
          12,
          12,
          0,
          2,
          4,
          5,
          0,
          0,
          0,
          0,
          0,
          0,
          0,
          0,
          0,
          0,
          0,
          0,
          0,
          0,
          0,
          0,
          0,
          0,
          0,
          0,
          3,
          3,
          2,
          0,
          0,
          0,
          0,
          6,
          3,
          0,
          0,
          0,
          0,
          0,
          0,
          0,
          0,
          3,
          0,
          0,
          0,
          0,
          0,
          0,
          3,
          0,
          0,
          0,
          0,
          0,
          0,
          0,
          0,
          0,
          0,
          0,
          2,
          6,
          2,
          0,
          0,
          0,
          0,
          0,
          0,
          0,
          0,
          0,
          0,
          2,
          0,
          0,
          0,
          0,
          0,
          5,
          0,
          0,
          0,
          0,
          0,
          0,
          0,
          3,
          2,
          0,
          0,
          0,
          0,
          0,
          0,
          0,
          0,
          0,
          0,
          0,
          0,
          0,
          0,
          0,
          0,
          0,
          0,
          0,
          0,
          0,
          0,
          0,
          0,
          0,
          0,
          0,
          0,
          0,
          0,
          0
         ]
        },
        {
         "name": "Cluster-1",
         "type": "bar",
         "x": [
          "GO:0015701",
          "GO:1990962",
          "GO:2001225",
          "GO:0015721",
          "GO:0002906",
          "GO:2000343",
          "GO:0015695",
          "GO:0006695",
          "GO:0045540",
          "GO:0042632",
          "GO:0008202",
          "GO:0030301",
          "GO:0055114",
          "GO:0042738",
          "GO:0006805",
          "GO:0055085",
          "GO:0017144",
          "GO:0008299",
          "GO:0008203",
          "GO:0033384",
          "GO:0045337",
          "GO:0052695",
          "GO:0008542",
          "GO:0098856",
          "GO:0006082",
          "GO:0006979",
          "GO:0008210",
          "GO:0070588",
          "GO:0061337",
          "GO:0009098",
          "GO:0009099",
          "GO:0009082",
          "GO:0034765",
          "GO:0140115",
          "GO:0016098",
          "GO:0046483",
          "GO:0007268",
          "GO:1902476",
          "GO:0007214",
          "GO:0007186",
          "GO:0050877",
          "GO:0034220",
          "GO:0071420",
          "GO:0007187",
          "GO:0007218",
          "GO:0007200",
          "GO:0042391",
          "GO:0060078",
          "GO:0007600",
          "GO:0036152",
          "GO:0036151",
          "GO:0006644",
          "GO:0038003",
          "GO:0031635",
          "GO:0006821",
          "GO:0014059",
          "GO:0006646",
          "GO:0019373",
          "GO:0052696",
          "GO:0052697",
          "GO:0006816",
          "GO:0070989",
          "GO:0033076",
          "GO:0030522",
          "GO:0042572",
          "GO:0042573",
          "GO:0036149",
          "GO:0036148",
          "GO:0036150",
          "GO:0042759",
          "GO:0019369",
          "GO:0050482",
          "GO:0046475",
          "GO:0001516",
          "GO:0098869",
          "GO:0006654",
          "GO:0006814",
          "GO:0098912",
          "GO:0051481",
          "GO:0043030",
          "GO:0006656",
          "GO:0097267",
          "GO:0086011",
          "GO:0060306",
          "GO:0086091",
          "GO:0098915",
          "GO:0097623",
          "GO:1901379",
          "GO:0086005",
          "GO:0060307",
          "GO:1903765",
          "GO:0090238",
          "GO:0019287",
          "GO:0015844",
          "GO:0051610",
          "GO:0042744",
          "GO:0043401",
          "GO:0009166",
          "GO:0042427",
          "GO:0051932",
          "GO:0043252",
          "GO:0051899",
          "GO:0070509",
          "GO:1904862",
          "GO:0006789",
          "GO:0015874",
          "GO:0006567",
          "GO:0043267",
          "GO:1903779",
          "GO:0006885",
          "GO:0051592",
          "GO:0043627",
          "GO:0042908",
          "GO:0015711",
          "GO:0006699",
          "GO:0051482",
          "GO:0035025",
          "GO:0019065",
          "GO:0032230",
          "GO:0015812",
          "GO:0051620",
          "GO:0086016",
          "GO:0086010",
          "GO:0060371",
          "GO:0086043",
          "GO:0086002",
          "GO:0035725",
          "GO:0015722",
          "GO:0030644",
          "GO:0019228",
          "GO:0086046",
          "GO:0086045",
          "GO:0086015",
          "GO:0070633",
          "GO:0032849",
          "GO:0019371",
          "GO:0009820",
          "GO:0070836",
          "GO:0061737",
          "GO:0006744",
          "GO:0032264",
          "GO:0019372",
          "GO:0006691",
          "GO:0032496",
          "GO:0042493",
          "GO:0042220",
          "GO:0042310",
          "GO:0035690",
          "GO:0009636",
          "GO:0046219",
          "GO:0042713",
          "GO:0051930"
         ],
         "y": [
          4,
          0,
          2,
          4,
          2,
          2,
          0,
          0,
          0,
          0,
          0,
          0,
          0,
          3,
          5,
          13,
          0,
          0,
          0,
          0,
          0,
          3,
          0,
          0,
          3,
          0,
          0,
          50,
          25,
          10,
          10,
          10,
          11,
          0,
          0,
          0,
          0,
          7,
          0,
          0,
          0,
          6,
          0,
          0,
          0,
          0,
          0,
          0,
          0,
          0,
          0,
          0,
          0,
          0,
          0,
          0,
          3,
          0,
          0,
          0,
          4,
          0,
          0,
          0,
          0,
          0,
          0,
          0,
          0,
          0,
          0,
          0,
          0,
          0,
          0,
          0,
          0,
          0,
          0,
          0,
          0,
          0,
          0,
          0,
          0,
          0,
          0,
          0,
          0,
          0,
          0,
          0,
          0,
          0,
          0,
          0,
          0,
          0,
          0,
          3,
          0,
          0,
          0,
          0,
          0,
          0,
          0,
          0,
          0,
          0,
          0,
          0,
          0,
          0,
          0,
          0,
          3,
          0,
          0,
          0,
          0,
          0,
          0,
          0,
          0,
          0,
          0,
          0,
          0,
          0,
          0,
          0,
          0,
          0,
          0,
          0,
          0,
          0,
          2,
          0,
          0,
          0,
          0,
          0,
          0,
          0,
          0,
          0,
          0,
          0,
          0,
          0
         ]
        },
        {
         "name": "Cluster-7",
         "type": "bar",
         "x": [
          "GO:0015701",
          "GO:1990962",
          "GO:2001225",
          "GO:0015721",
          "GO:0002906",
          "GO:2000343",
          "GO:0015695",
          "GO:0006695",
          "GO:0045540",
          "GO:0042632",
          "GO:0008202",
          "GO:0030301",
          "GO:0055114",
          "GO:0042738",
          "GO:0006805",
          "GO:0055085",
          "GO:0017144",
          "GO:0008299",
          "GO:0008203",
          "GO:0033384",
          "GO:0045337",
          "GO:0052695",
          "GO:0008542",
          "GO:0098856",
          "GO:0006082",
          "GO:0006979",
          "GO:0008210",
          "GO:0070588",
          "GO:0061337",
          "GO:0009098",
          "GO:0009099",
          "GO:0009082",
          "GO:0034765",
          "GO:0140115",
          "GO:0016098",
          "GO:0046483",
          "GO:0007268",
          "GO:1902476",
          "GO:0007214",
          "GO:0007186",
          "GO:0050877",
          "GO:0034220",
          "GO:0071420",
          "GO:0007187",
          "GO:0007218",
          "GO:0007200",
          "GO:0042391",
          "GO:0060078",
          "GO:0007600",
          "GO:0036152",
          "GO:0036151",
          "GO:0006644",
          "GO:0038003",
          "GO:0031635",
          "GO:0006821",
          "GO:0014059",
          "GO:0006646",
          "GO:0019373",
          "GO:0052696",
          "GO:0052697",
          "GO:0006816",
          "GO:0070989",
          "GO:0033076",
          "GO:0030522",
          "GO:0042572",
          "GO:0042573",
          "GO:0036149",
          "GO:0036148",
          "GO:0036150",
          "GO:0042759",
          "GO:0019369",
          "GO:0050482",
          "GO:0046475",
          "GO:0001516",
          "GO:0098869",
          "GO:0006654",
          "GO:0006814",
          "GO:0098912",
          "GO:0051481",
          "GO:0043030",
          "GO:0006656",
          "GO:0097267",
          "GO:0086011",
          "GO:0060306",
          "GO:0086091",
          "GO:0098915",
          "GO:0097623",
          "GO:1901379",
          "GO:0086005",
          "GO:0060307",
          "GO:1903765",
          "GO:0090238",
          "GO:0019287",
          "GO:0015844",
          "GO:0051610",
          "GO:0042744",
          "GO:0043401",
          "GO:0009166",
          "GO:0042427",
          "GO:0051932",
          "GO:0043252",
          "GO:0051899",
          "GO:0070509",
          "GO:1904862",
          "GO:0006789",
          "GO:0015874",
          "GO:0006567",
          "GO:0043267",
          "GO:1903779",
          "GO:0006885",
          "GO:0051592",
          "GO:0043627",
          "GO:0042908",
          "GO:0015711",
          "GO:0006699",
          "GO:0051482",
          "GO:0035025",
          "GO:0019065",
          "GO:0032230",
          "GO:0015812",
          "GO:0051620",
          "GO:0086016",
          "GO:0086010",
          "GO:0060371",
          "GO:0086043",
          "GO:0086002",
          "GO:0035725",
          "GO:0015722",
          "GO:0030644",
          "GO:0019228",
          "GO:0086046",
          "GO:0086045",
          "GO:0086015",
          "GO:0070633",
          "GO:0032849",
          "GO:0019371",
          "GO:0009820",
          "GO:0070836",
          "GO:0061737",
          "GO:0006744",
          "GO:0032264",
          "GO:0019372",
          "GO:0006691",
          "GO:0032496",
          "GO:0042493",
          "GO:0042220",
          "GO:0042310",
          "GO:0035690",
          "GO:0009636",
          "GO:0046219",
          "GO:0042713",
          "GO:0051930"
         ],
         "y": [
          0,
          0,
          6,
          7,
          4,
          2,
          3,
          0,
          0,
          0,
          4,
          0,
          69,
          13,
          27,
          14,
          6,
          0,
          0,
          0,
          0,
          15,
          0,
          0,
          13,
          8,
          0,
          0,
          0,
          2,
          2,
          2,
          0,
          2,
          4,
          5,
          0,
          0,
          0,
          0,
          0,
          0,
          0,
          0,
          0,
          0,
          0,
          0,
          0,
          0,
          0,
          0,
          0,
          0,
          0,
          0,
          3,
          3,
          2,
          0,
          0,
          0,
          10,
          3,
          0,
          0,
          0,
          0,
          0,
          0,
          0,
          0,
          0,
          0,
          0,
          0,
          0,
          0,
          0,
          3,
          0,
          0,
          0,
          0,
          0,
          0,
          0,
          0,
          0,
          0,
          0,
          0,
          0,
          0,
          0,
          3,
          0,
          2,
          0,
          0,
          4,
          0,
          0,
          0,
          0,
          0,
          0,
          0,
          0,
          0,
          0,
          0,
          4,
          4,
          4,
          0,
          0,
          0,
          0,
          0,
          0,
          0,
          0,
          0,
          0,
          0,
          0,
          0,
          0,
          0,
          0,
          0,
          0,
          0,
          0,
          0,
          0,
          0,
          0,
          0,
          0,
          0,
          0,
          0,
          0,
          0,
          0,
          0,
          0,
          0,
          0,
          0
         ]
        },
        {
         "name": "Cluster-3",
         "type": "bar",
         "x": [
          "GO:0015701",
          "GO:1990962",
          "GO:2001225",
          "GO:0015721",
          "GO:0002906",
          "GO:2000343",
          "GO:0015695",
          "GO:0006695",
          "GO:0045540",
          "GO:0042632",
          "GO:0008202",
          "GO:0030301",
          "GO:0055114",
          "GO:0042738",
          "GO:0006805",
          "GO:0055085",
          "GO:0017144",
          "GO:0008299",
          "GO:0008203",
          "GO:0033384",
          "GO:0045337",
          "GO:0052695",
          "GO:0008542",
          "GO:0098856",
          "GO:0006082",
          "GO:0006979",
          "GO:0008210",
          "GO:0070588",
          "GO:0061337",
          "GO:0009098",
          "GO:0009099",
          "GO:0009082",
          "GO:0034765",
          "GO:0140115",
          "GO:0016098",
          "GO:0046483",
          "GO:0007268",
          "GO:1902476",
          "GO:0007214",
          "GO:0007186",
          "GO:0050877",
          "GO:0034220",
          "GO:0071420",
          "GO:0007187",
          "GO:0007218",
          "GO:0007200",
          "GO:0042391",
          "GO:0060078",
          "GO:0007600",
          "GO:0036152",
          "GO:0036151",
          "GO:0006644",
          "GO:0038003",
          "GO:0031635",
          "GO:0006821",
          "GO:0014059",
          "GO:0006646",
          "GO:0019373",
          "GO:0052696",
          "GO:0052697",
          "GO:0006816",
          "GO:0070989",
          "GO:0033076",
          "GO:0030522",
          "GO:0042572",
          "GO:0042573",
          "GO:0036149",
          "GO:0036148",
          "GO:0036150",
          "GO:0042759",
          "GO:0019369",
          "GO:0050482",
          "GO:0046475",
          "GO:0001516",
          "GO:0098869",
          "GO:0006654",
          "GO:0006814",
          "GO:0098912",
          "GO:0051481",
          "GO:0043030",
          "GO:0006656",
          "GO:0097267",
          "GO:0086011",
          "GO:0060306",
          "GO:0086091",
          "GO:0098915",
          "GO:0097623",
          "GO:1901379",
          "GO:0086005",
          "GO:0060307",
          "GO:1903765",
          "GO:0090238",
          "GO:0019287",
          "GO:0015844",
          "GO:0051610",
          "GO:0042744",
          "GO:0043401",
          "GO:0009166",
          "GO:0042427",
          "GO:0051932",
          "GO:0043252",
          "GO:0051899",
          "GO:0070509",
          "GO:1904862",
          "GO:0006789",
          "GO:0015874",
          "GO:0006567",
          "GO:0043267",
          "GO:1903779",
          "GO:0006885",
          "GO:0051592",
          "GO:0043627",
          "GO:0042908",
          "GO:0015711",
          "GO:0006699",
          "GO:0051482",
          "GO:0035025",
          "GO:0019065",
          "GO:0032230",
          "GO:0015812",
          "GO:0051620",
          "GO:0086016",
          "GO:0086010",
          "GO:0060371",
          "GO:0086043",
          "GO:0086002",
          "GO:0035725",
          "GO:0015722",
          "GO:0030644",
          "GO:0019228",
          "GO:0086046",
          "GO:0086045",
          "GO:0086015",
          "GO:0070633",
          "GO:0032849",
          "GO:0019371",
          "GO:0009820",
          "GO:0070836",
          "GO:0061737",
          "GO:0006744",
          "GO:0032264",
          "GO:0019372",
          "GO:0006691",
          "GO:0032496",
          "GO:0042493",
          "GO:0042220",
          "GO:0042310",
          "GO:0035690",
          "GO:0009636",
          "GO:0046219",
          "GO:0042713",
          "GO:0051930"
         ],
         "y": [
          0,
          2,
          12,
          8,
          6,
          4,
          0,
          22,
          15,
          14,
          90,
          0,
          169,
          79,
          125,
          16,
          68,
          9,
          0,
          6,
          6,
          50,
          0,
          0,
          63,
          15,
          39,
          28,
          13,
          10,
          10,
          10,
          6,
          4,
          8,
          38,
          0,
          8,
          4,
          0,
          4,
          8,
          0,
          0,
          0,
          0,
          0,
          4,
          0,
          3,
          23,
          0,
          0,
          0,
          4,
          0,
          10,
          53,
          20,
          22,
          5,
          9,
          10,
          5,
          28,
          10,
          12,
          9,
          6,
          10,
          14,
          4,
          0,
          11,
          6,
          0,
          0,
          0,
          0,
          6,
          0,
          18,
          3,
          3,
          9,
          3,
          3,
          3,
          6,
          6,
          2,
          2,
          4,
          3,
          0,
          0,
          5,
          2,
          2,
          4,
          3,
          4,
          0,
          0,
          2,
          0,
          0,
          0,
          0,
          0,
          0,
          4,
          0,
          0,
          0,
          0,
          0,
          4,
          3,
          0,
          0,
          3,
          4,
          3,
          2,
          3,
          4,
          2,
          2,
          3,
          2,
          2,
          2,
          2,
          0,
          7,
          4,
          2,
          3,
          0,
          0,
          4,
          3,
          6,
          0,
          0,
          0,
          0,
          0,
          0,
          0,
          0
         ]
        }
       ],
       "layout": {
        "autosize": false,
        "barmode": "group",
        "height": 700,
        "template": {
         "data": {
          "bar": [
           {
            "error_x": {
             "color": "#2a3f5f"
            },
            "error_y": {
             "color": "#2a3f5f"
            },
            "marker": {
             "line": {
              "color": "#E5ECF6",
              "width": 0.5
             }
            },
            "type": "bar"
           }
          ],
          "barpolar": [
           {
            "marker": {
             "line": {
              "color": "#E5ECF6",
              "width": 0.5
             }
            },
            "type": "barpolar"
           }
          ],
          "carpet": [
           {
            "aaxis": {
             "endlinecolor": "#2a3f5f",
             "gridcolor": "white",
             "linecolor": "white",
             "minorgridcolor": "white",
             "startlinecolor": "#2a3f5f"
            },
            "baxis": {
             "endlinecolor": "#2a3f5f",
             "gridcolor": "white",
             "linecolor": "white",
             "minorgridcolor": "white",
             "startlinecolor": "#2a3f5f"
            },
            "type": "carpet"
           }
          ],
          "choropleth": [
           {
            "colorbar": {
             "outlinewidth": 0,
             "ticks": ""
            },
            "type": "choropleth"
           }
          ],
          "contour": [
           {
            "colorbar": {
             "outlinewidth": 0,
             "ticks": ""
            },
            "colorscale": [
             [
              0,
              "#0d0887"
             ],
             [
              0.1111111111111111,
              "#46039f"
             ],
             [
              0.2222222222222222,
              "#7201a8"
             ],
             [
              0.3333333333333333,
              "#9c179e"
             ],
             [
              0.4444444444444444,
              "#bd3786"
             ],
             [
              0.5555555555555556,
              "#d8576b"
             ],
             [
              0.6666666666666666,
              "#ed7953"
             ],
             [
              0.7777777777777778,
              "#fb9f3a"
             ],
             [
              0.8888888888888888,
              "#fdca26"
             ],
             [
              1,
              "#f0f921"
             ]
            ],
            "type": "contour"
           }
          ],
          "contourcarpet": [
           {
            "colorbar": {
             "outlinewidth": 0,
             "ticks": ""
            },
            "type": "contourcarpet"
           }
          ],
          "heatmap": [
           {
            "colorbar": {
             "outlinewidth": 0,
             "ticks": ""
            },
            "colorscale": [
             [
              0,
              "#0d0887"
             ],
             [
              0.1111111111111111,
              "#46039f"
             ],
             [
              0.2222222222222222,
              "#7201a8"
             ],
             [
              0.3333333333333333,
              "#9c179e"
             ],
             [
              0.4444444444444444,
              "#bd3786"
             ],
             [
              0.5555555555555556,
              "#d8576b"
             ],
             [
              0.6666666666666666,
              "#ed7953"
             ],
             [
              0.7777777777777778,
              "#fb9f3a"
             ],
             [
              0.8888888888888888,
              "#fdca26"
             ],
             [
              1,
              "#f0f921"
             ]
            ],
            "type": "heatmap"
           }
          ],
          "heatmapgl": [
           {
            "colorbar": {
             "outlinewidth": 0,
             "ticks": ""
            },
            "colorscale": [
             [
              0,
              "#0d0887"
             ],
             [
              0.1111111111111111,
              "#46039f"
             ],
             [
              0.2222222222222222,
              "#7201a8"
             ],
             [
              0.3333333333333333,
              "#9c179e"
             ],
             [
              0.4444444444444444,
              "#bd3786"
             ],
             [
              0.5555555555555556,
              "#d8576b"
             ],
             [
              0.6666666666666666,
              "#ed7953"
             ],
             [
              0.7777777777777778,
              "#fb9f3a"
             ],
             [
              0.8888888888888888,
              "#fdca26"
             ],
             [
              1,
              "#f0f921"
             ]
            ],
            "type": "heatmapgl"
           }
          ],
          "histogram": [
           {
            "marker": {
             "colorbar": {
              "outlinewidth": 0,
              "ticks": ""
             }
            },
            "type": "histogram"
           }
          ],
          "histogram2d": [
           {
            "colorbar": {
             "outlinewidth": 0,
             "ticks": ""
            },
            "colorscale": [
             [
              0,
              "#0d0887"
             ],
             [
              0.1111111111111111,
              "#46039f"
             ],
             [
              0.2222222222222222,
              "#7201a8"
             ],
             [
              0.3333333333333333,
              "#9c179e"
             ],
             [
              0.4444444444444444,
              "#bd3786"
             ],
             [
              0.5555555555555556,
              "#d8576b"
             ],
             [
              0.6666666666666666,
              "#ed7953"
             ],
             [
              0.7777777777777778,
              "#fb9f3a"
             ],
             [
              0.8888888888888888,
              "#fdca26"
             ],
             [
              1,
              "#f0f921"
             ]
            ],
            "type": "histogram2d"
           }
          ],
          "histogram2dcontour": [
           {
            "colorbar": {
             "outlinewidth": 0,
             "ticks": ""
            },
            "colorscale": [
             [
              0,
              "#0d0887"
             ],
             [
              0.1111111111111111,
              "#46039f"
             ],
             [
              0.2222222222222222,
              "#7201a8"
             ],
             [
              0.3333333333333333,
              "#9c179e"
             ],
             [
              0.4444444444444444,
              "#bd3786"
             ],
             [
              0.5555555555555556,
              "#d8576b"
             ],
             [
              0.6666666666666666,
              "#ed7953"
             ],
             [
              0.7777777777777778,
              "#fb9f3a"
             ],
             [
              0.8888888888888888,
              "#fdca26"
             ],
             [
              1,
              "#f0f921"
             ]
            ],
            "type": "histogram2dcontour"
           }
          ],
          "mesh3d": [
           {
            "colorbar": {
             "outlinewidth": 0,
             "ticks": ""
            },
            "type": "mesh3d"
           }
          ],
          "parcoords": [
           {
            "line": {
             "colorbar": {
              "outlinewidth": 0,
              "ticks": ""
             }
            },
            "type": "parcoords"
           }
          ],
          "pie": [
           {
            "automargin": true,
            "type": "pie"
           }
          ],
          "scatter": [
           {
            "marker": {
             "colorbar": {
              "outlinewidth": 0,
              "ticks": ""
             }
            },
            "type": "scatter"
           }
          ],
          "scatter3d": [
           {
            "line": {
             "colorbar": {
              "outlinewidth": 0,
              "ticks": ""
             }
            },
            "marker": {
             "colorbar": {
              "outlinewidth": 0,
              "ticks": ""
             }
            },
            "type": "scatter3d"
           }
          ],
          "scattercarpet": [
           {
            "marker": {
             "colorbar": {
              "outlinewidth": 0,
              "ticks": ""
             }
            },
            "type": "scattercarpet"
           }
          ],
          "scattergeo": [
           {
            "marker": {
             "colorbar": {
              "outlinewidth": 0,
              "ticks": ""
             }
            },
            "type": "scattergeo"
           }
          ],
          "scattergl": [
           {
            "marker": {
             "colorbar": {
              "outlinewidth": 0,
              "ticks": ""
             }
            },
            "type": "scattergl"
           }
          ],
          "scattermapbox": [
           {
            "marker": {
             "colorbar": {
              "outlinewidth": 0,
              "ticks": ""
             }
            },
            "type": "scattermapbox"
           }
          ],
          "scatterpolar": [
           {
            "marker": {
             "colorbar": {
              "outlinewidth": 0,
              "ticks": ""
             }
            },
            "type": "scatterpolar"
           }
          ],
          "scatterpolargl": [
           {
            "marker": {
             "colorbar": {
              "outlinewidth": 0,
              "ticks": ""
             }
            },
            "type": "scatterpolargl"
           }
          ],
          "scatterternary": [
           {
            "marker": {
             "colorbar": {
              "outlinewidth": 0,
              "ticks": ""
             }
            },
            "type": "scatterternary"
           }
          ],
          "surface": [
           {
            "colorbar": {
             "outlinewidth": 0,
             "ticks": ""
            },
            "colorscale": [
             [
              0,
              "#0d0887"
             ],
             [
              0.1111111111111111,
              "#46039f"
             ],
             [
              0.2222222222222222,
              "#7201a8"
             ],
             [
              0.3333333333333333,
              "#9c179e"
             ],
             [
              0.4444444444444444,
              "#bd3786"
             ],
             [
              0.5555555555555556,
              "#d8576b"
             ],
             [
              0.6666666666666666,
              "#ed7953"
             ],
             [
              0.7777777777777778,
              "#fb9f3a"
             ],
             [
              0.8888888888888888,
              "#fdca26"
             ],
             [
              1,
              "#f0f921"
             ]
            ],
            "type": "surface"
           }
          ],
          "table": [
           {
            "cells": {
             "fill": {
              "color": "#EBF0F8"
             },
             "line": {
              "color": "white"
             }
            },
            "header": {
             "fill": {
              "color": "#C8D4E3"
             },
             "line": {
              "color": "white"
             }
            },
            "type": "table"
           }
          ]
         },
         "layout": {
          "annotationdefaults": {
           "arrowcolor": "#2a3f5f",
           "arrowhead": 0,
           "arrowwidth": 1
          },
          "autotypenumbers": "strict",
          "coloraxis": {
           "colorbar": {
            "outlinewidth": 0,
            "ticks": ""
           }
          },
          "colorscale": {
           "diverging": [
            [
             0,
             "#8e0152"
            ],
            [
             0.1,
             "#c51b7d"
            ],
            [
             0.2,
             "#de77ae"
            ],
            [
             0.3,
             "#f1b6da"
            ],
            [
             0.4,
             "#fde0ef"
            ],
            [
             0.5,
             "#f7f7f7"
            ],
            [
             0.6,
             "#e6f5d0"
            ],
            [
             0.7,
             "#b8e186"
            ],
            [
             0.8,
             "#7fbc41"
            ],
            [
             0.9,
             "#4d9221"
            ],
            [
             1,
             "#276419"
            ]
           ],
           "sequential": [
            [
             0,
             "#0d0887"
            ],
            [
             0.1111111111111111,
             "#46039f"
            ],
            [
             0.2222222222222222,
             "#7201a8"
            ],
            [
             0.3333333333333333,
             "#9c179e"
            ],
            [
             0.4444444444444444,
             "#bd3786"
            ],
            [
             0.5555555555555556,
             "#d8576b"
            ],
            [
             0.6666666666666666,
             "#ed7953"
            ],
            [
             0.7777777777777778,
             "#fb9f3a"
            ],
            [
             0.8888888888888888,
             "#fdca26"
            ],
            [
             1,
             "#f0f921"
            ]
           ],
           "sequentialminus": [
            [
             0,
             "#0d0887"
            ],
            [
             0.1111111111111111,
             "#46039f"
            ],
            [
             0.2222222222222222,
             "#7201a8"
            ],
            [
             0.3333333333333333,
             "#9c179e"
            ],
            [
             0.4444444444444444,
             "#bd3786"
            ],
            [
             0.5555555555555556,
             "#d8576b"
            ],
            [
             0.6666666666666666,
             "#ed7953"
            ],
            [
             0.7777777777777778,
             "#fb9f3a"
            ],
            [
             0.8888888888888888,
             "#fdca26"
            ],
            [
             1,
             "#f0f921"
            ]
           ]
          },
          "colorway": [
           "#636efa",
           "#EF553B",
           "#00cc96",
           "#ab63fa",
           "#FFA15A",
           "#19d3f3",
           "#FF6692",
           "#B6E880",
           "#FF97FF",
           "#FECB52"
          ],
          "font": {
           "color": "#2a3f5f"
          },
          "geo": {
           "bgcolor": "white",
           "lakecolor": "white",
           "landcolor": "#E5ECF6",
           "showlakes": true,
           "showland": true,
           "subunitcolor": "white"
          },
          "hoverlabel": {
           "align": "left"
          },
          "hovermode": "closest",
          "mapbox": {
           "style": "light"
          },
          "paper_bgcolor": "white",
          "plot_bgcolor": "#E5ECF6",
          "polar": {
           "angularaxis": {
            "gridcolor": "white",
            "linecolor": "white",
            "ticks": ""
           },
           "bgcolor": "#E5ECF6",
           "radialaxis": {
            "gridcolor": "white",
            "linecolor": "white",
            "ticks": ""
           }
          },
          "scene": {
           "xaxis": {
            "backgroundcolor": "#E5ECF6",
            "gridcolor": "white",
            "gridwidth": 2,
            "linecolor": "white",
            "showbackground": true,
            "ticks": "",
            "zerolinecolor": "white"
           },
           "yaxis": {
            "backgroundcolor": "#E5ECF6",
            "gridcolor": "white",
            "gridwidth": 2,
            "linecolor": "white",
            "showbackground": true,
            "ticks": "",
            "zerolinecolor": "white"
           },
           "zaxis": {
            "backgroundcolor": "#E5ECF6",
            "gridcolor": "white",
            "gridwidth": 2,
            "linecolor": "white",
            "showbackground": true,
            "ticks": "",
            "zerolinecolor": "white"
           }
          },
          "shapedefaults": {
           "line": {
            "color": "#2a3f5f"
           }
          },
          "ternary": {
           "aaxis": {
            "gridcolor": "white",
            "linecolor": "white",
            "ticks": ""
           },
           "baxis": {
            "gridcolor": "white",
            "linecolor": "white",
            "ticks": ""
           },
           "bgcolor": "#E5ECF6",
           "caxis": {
            "gridcolor": "white",
            "linecolor": "white",
            "ticks": ""
           }
          },
          "title": {
           "x": 0.05
          },
          "xaxis": {
           "automargin": true,
           "gridcolor": "white",
           "linecolor": "white",
           "ticks": "",
           "title": {
            "standoff": 15
           },
           "zerolinecolor": "white",
           "zerolinewidth": 2
          },
          "yaxis": {
           "automargin": true,
           "gridcolor": "white",
           "linecolor": "white",
           "ticks": "",
           "title": {
            "standoff": 15
           },
           "zerolinecolor": "white",
           "zerolinewidth": 2
          }
         }
        },
        "width": 6000
       }
      },
      "text/html": "<div>                            <div id=\"3ca2e8fd-7f59-4ef3-8eaa-43ba1a0fe78c\" class=\"plotly-graph-div\" style=\"height:700px; width:6000px;\"></div>            <script type=\"text/javascript\">                require([\"plotly\"], function(Plotly) {                    window.PLOTLYENV=window.PLOTLYENV || {};                                    if (document.getElementById(\"3ca2e8fd-7f59-4ef3-8eaa-43ba1a0fe78c\")) {                    Plotly.newPlot(                        \"3ca2e8fd-7f59-4ef3-8eaa-43ba1a0fe78c\",                        [{\"name\": \"Cluster-0\", \"type\": \"bar\", \"x\": [\"GO:0015701\", \"GO:1990962\", \"GO:2001225\", \"GO:0015721\", \"GO:0002906\", \"GO:2000343\", \"GO:0015695\", \"GO:0006695\", \"GO:0045540\", \"GO:0042632\", \"GO:0008202\", \"GO:0030301\", \"GO:0055114\", \"GO:0042738\", \"GO:0006805\", \"GO:0055085\", \"GO:0017144\", \"GO:0008299\", \"GO:0008203\", \"GO:0033384\", \"GO:0045337\", \"GO:0052695\", \"GO:0008542\", \"GO:0098856\", \"GO:0006082\", \"GO:0006979\", \"GO:0008210\", \"GO:0070588\", \"GO:0061337\", \"GO:0009098\", \"GO:0009099\", \"GO:0009082\", \"GO:0034765\", \"GO:0140115\", \"GO:0016098\", \"GO:0046483\", \"GO:0007268\", \"GO:1902476\", \"GO:0007214\", \"GO:0007186\", \"GO:0050877\", \"GO:0034220\", \"GO:0071420\", \"GO:0007187\", \"GO:0007218\", \"GO:0007200\", \"GO:0042391\", \"GO:0060078\", \"GO:0007600\", \"GO:0036152\", \"GO:0036151\", \"GO:0006644\", \"GO:0038003\", \"GO:0031635\", \"GO:0006821\", \"GO:0014059\", \"GO:0006646\", \"GO:0019373\", \"GO:0052696\", \"GO:0052697\", \"GO:0006816\", \"GO:0070989\", \"GO:0033076\", \"GO:0030522\", \"GO:0042572\", \"GO:0042573\", \"GO:0036149\", \"GO:0036148\", \"GO:0036150\", \"GO:0042759\", \"GO:0019369\", \"GO:0050482\", \"GO:0046475\", \"GO:0001516\", \"GO:0098869\", \"GO:0006654\", \"GO:0006814\", \"GO:0098912\", \"GO:0051481\", \"GO:0043030\", \"GO:0006656\", \"GO:0097267\", \"GO:0086011\", \"GO:0060306\", \"GO:0086091\", \"GO:0098915\", \"GO:0097623\", \"GO:1901379\", \"GO:0086005\", \"GO:0060307\", \"GO:1903765\", \"GO:0090238\", \"GO:0019287\", \"GO:0015844\", \"GO:0051610\", \"GO:0042744\", \"GO:0043401\", \"GO:0009166\", \"GO:0042427\", \"GO:0051932\", \"GO:0043252\", \"GO:0051899\", \"GO:0070509\", \"GO:1904862\", \"GO:0006789\", \"GO:0015874\", \"GO:0006567\", \"GO:0043267\", \"GO:1903779\", \"GO:0006885\", \"GO:0051592\", \"GO:0043627\", \"GO:0042908\", \"GO:0015711\", \"GO:0006699\", \"GO:0051482\", \"GO:0035025\", \"GO:0019065\", \"GO:0032230\", \"GO:0015812\", \"GO:0051620\", \"GO:0086016\", \"GO:0086010\", \"GO:0060371\", \"GO:0086043\", \"GO:0086002\", \"GO:0035725\", \"GO:0015722\", \"GO:0030644\", \"GO:0019228\", \"GO:0086046\", \"GO:0086045\", \"GO:0086015\", \"GO:0070633\", \"GO:0032849\", \"GO:0019371\", \"GO:0009820\", \"GO:0070836\", \"GO:0061737\", \"GO:0006744\", \"GO:0032264\", \"GO:0019372\", \"GO:0006691\", \"GO:0032496\", \"GO:0042493\", \"GO:0042220\", \"GO:0042310\", \"GO:0035690\", \"GO:0009636\", \"GO:0046219\", \"GO:0042713\", \"GO:0051930\"], \"y\": [0, 2, 3, 12, 0, 0, 0, 22, 18, 7, 14, 4, 39, 8, 17, 25, 8, 10, 5, 6, 6, 7, 4, 2, 6, 11, 9, 0, 0, 0, 0, 0, 0, 0, 0, 3, 0, 5, 4, 0, 4, 0, 0, 0, 0, 0, 5, 4, 0, 0, 4, 0, 0, 0, 0, 0, 3, 0, 0, 0, 0, 0, 2, 0, 0, 0, 3, 0, 0, 0, 4, 0, 0, 0, 5, 0, 0, 0, 0, 0, 0, 0, 0, 0, 0, 0, 0, 0, 0, 0, 0, 0, 2, 0, 0, 0, 0, 0, 0, 4, 6, 0, 0, 0, 2, 0, 0, 0, 0, 0, 0, 0, 0, 7, 0, 0, 0, 0, 0, 0, 0, 0, 0, 0, 0, 0, 0, 0, 2, 0, 0, 0, 0, 0, 2, 0, 0, 0, 0, 3, 2, 0, 0, 0, 0, 0, 0, 0, 0, 0, 0, 0]}, {\"name\": \"Cluster-5\", \"type\": \"bar\", \"x\": [\"GO:0015701\", \"GO:1990962\", \"GO:2001225\", \"GO:0015721\", \"GO:0002906\", \"GO:2000343\", \"GO:0015695\", \"GO:0006695\", \"GO:0045540\", \"GO:0042632\", \"GO:0008202\", \"GO:0030301\", \"GO:0055114\", \"GO:0042738\", \"GO:0006805\", \"GO:0055085\", \"GO:0017144\", \"GO:0008299\", \"GO:0008203\", \"GO:0033384\", \"GO:0045337\", \"GO:0052695\", \"GO:0008542\", \"GO:0098856\", \"GO:0006082\", \"GO:0006979\", \"GO:0008210\", \"GO:0070588\", \"GO:0061337\", \"GO:0009098\", \"GO:0009099\", \"GO:0009082\", \"GO:0034765\", \"GO:0140115\", \"GO:0016098\", \"GO:0046483\", \"GO:0007268\", \"GO:1902476\", \"GO:0007214\", \"GO:0007186\", \"GO:0050877\", \"GO:0034220\", \"GO:0071420\", \"GO:0007187\", \"GO:0007218\", \"GO:0007200\", \"GO:0042391\", \"GO:0060078\", \"GO:0007600\", \"GO:0036152\", \"GO:0036151\", \"GO:0006644\", \"GO:0038003\", \"GO:0031635\", \"GO:0006821\", \"GO:0014059\", \"GO:0006646\", \"GO:0019373\", \"GO:0052696\", \"GO:0052697\", \"GO:0006816\", \"GO:0070989\", \"GO:0033076\", \"GO:0030522\", \"GO:0042572\", \"GO:0042573\", \"GO:0036149\", \"GO:0036148\", \"GO:0036150\", \"GO:0042759\", \"GO:0019369\", \"GO:0050482\", \"GO:0046475\", \"GO:0001516\", \"GO:0098869\", \"GO:0006654\", \"GO:0006814\", \"GO:0098912\", \"GO:0051481\", \"GO:0043030\", \"GO:0006656\", \"GO:0097267\", \"GO:0086011\", \"GO:0060306\", \"GO:0086091\", \"GO:0098915\", \"GO:0097623\", \"GO:1901379\", \"GO:0086005\", \"GO:0060307\", \"GO:1903765\", \"GO:0090238\", \"GO:0019287\", \"GO:0015844\", \"GO:0051610\", \"GO:0042744\", \"GO:0043401\", \"GO:0009166\", \"GO:0042427\", \"GO:0051932\", \"GO:0043252\", \"GO:0051899\", \"GO:0070509\", \"GO:1904862\", \"GO:0006789\", \"GO:0015874\", \"GO:0006567\", \"GO:0043267\", \"GO:1903779\", \"GO:0006885\", \"GO:0051592\", \"GO:0043627\", \"GO:0042908\", \"GO:0015711\", \"GO:0006699\", \"GO:0051482\", \"GO:0035025\", \"GO:0019065\", \"GO:0032230\", \"GO:0015812\", \"GO:0051620\", \"GO:0086016\", \"GO:0086010\", \"GO:0060371\", \"GO:0086043\", \"GO:0086002\", \"GO:0035725\", \"GO:0015722\", \"GO:0030644\", \"GO:0019228\", \"GO:0086046\", \"GO:0086045\", \"GO:0086015\", \"GO:0070633\", \"GO:0032849\", \"GO:0019371\", \"GO:0009820\", \"GO:0070836\", \"GO:0061737\", \"GO:0006744\", \"GO:0032264\", \"GO:0019372\", \"GO:0006691\", \"GO:0032496\", \"GO:0042493\", \"GO:0042220\", \"GO:0042310\", \"GO:0035690\", \"GO:0009636\", \"GO:0046219\", \"GO:0042713\", \"GO:0051930\"], \"y\": [13, 2, 7, 8, 4, 4, 3, 7, 7, 0, 17, 0, 0, 18, 29, 6, 8, 5, 0, 4, 4, 3, 0, 0, 7, 0, 3, 0, 0, 12, 12, 12, 0, 2, 4, 5, 0, 0, 0, 0, 0, 0, 0, 0, 0, 0, 0, 0, 0, 0, 0, 0, 0, 0, 0, 0, 3, 3, 2, 0, 0, 0, 0, 6, 3, 0, 0, 0, 0, 0, 0, 0, 0, 3, 0, 0, 0, 0, 0, 0, 3, 0, 0, 0, 0, 0, 0, 0, 0, 0, 0, 0, 2, 6, 2, 0, 0, 0, 0, 0, 0, 0, 0, 0, 0, 2, 0, 0, 0, 0, 0, 5, 0, 0, 0, 0, 0, 0, 0, 3, 2, 0, 0, 0, 0, 0, 0, 0, 0, 0, 0, 0, 0, 0, 0, 0, 0, 0, 0, 0, 0, 0, 0, 0, 0, 0, 0, 0, 0, 0, 0, 0]}, {\"name\": \"Cluster-1\", \"type\": \"bar\", \"x\": [\"GO:0015701\", \"GO:1990962\", \"GO:2001225\", \"GO:0015721\", \"GO:0002906\", \"GO:2000343\", \"GO:0015695\", \"GO:0006695\", \"GO:0045540\", \"GO:0042632\", \"GO:0008202\", \"GO:0030301\", \"GO:0055114\", \"GO:0042738\", \"GO:0006805\", \"GO:0055085\", \"GO:0017144\", \"GO:0008299\", \"GO:0008203\", \"GO:0033384\", \"GO:0045337\", \"GO:0052695\", \"GO:0008542\", \"GO:0098856\", \"GO:0006082\", \"GO:0006979\", \"GO:0008210\", \"GO:0070588\", \"GO:0061337\", \"GO:0009098\", \"GO:0009099\", \"GO:0009082\", \"GO:0034765\", \"GO:0140115\", \"GO:0016098\", \"GO:0046483\", \"GO:0007268\", \"GO:1902476\", \"GO:0007214\", \"GO:0007186\", \"GO:0050877\", \"GO:0034220\", \"GO:0071420\", \"GO:0007187\", \"GO:0007218\", \"GO:0007200\", \"GO:0042391\", \"GO:0060078\", \"GO:0007600\", \"GO:0036152\", \"GO:0036151\", \"GO:0006644\", \"GO:0038003\", \"GO:0031635\", \"GO:0006821\", \"GO:0014059\", \"GO:0006646\", \"GO:0019373\", \"GO:0052696\", \"GO:0052697\", \"GO:0006816\", \"GO:0070989\", \"GO:0033076\", \"GO:0030522\", \"GO:0042572\", \"GO:0042573\", \"GO:0036149\", \"GO:0036148\", \"GO:0036150\", \"GO:0042759\", \"GO:0019369\", \"GO:0050482\", \"GO:0046475\", \"GO:0001516\", \"GO:0098869\", \"GO:0006654\", \"GO:0006814\", \"GO:0098912\", \"GO:0051481\", \"GO:0043030\", \"GO:0006656\", \"GO:0097267\", \"GO:0086011\", \"GO:0060306\", \"GO:0086091\", \"GO:0098915\", \"GO:0097623\", \"GO:1901379\", \"GO:0086005\", \"GO:0060307\", \"GO:1903765\", \"GO:0090238\", \"GO:0019287\", \"GO:0015844\", \"GO:0051610\", \"GO:0042744\", \"GO:0043401\", \"GO:0009166\", \"GO:0042427\", \"GO:0051932\", \"GO:0043252\", \"GO:0051899\", \"GO:0070509\", \"GO:1904862\", \"GO:0006789\", \"GO:0015874\", \"GO:0006567\", \"GO:0043267\", \"GO:1903779\", \"GO:0006885\", \"GO:0051592\", \"GO:0043627\", \"GO:0042908\", \"GO:0015711\", \"GO:0006699\", \"GO:0051482\", \"GO:0035025\", \"GO:0019065\", \"GO:0032230\", \"GO:0015812\", \"GO:0051620\", \"GO:0086016\", \"GO:0086010\", \"GO:0060371\", \"GO:0086043\", \"GO:0086002\", \"GO:0035725\", \"GO:0015722\", \"GO:0030644\", \"GO:0019228\", \"GO:0086046\", \"GO:0086045\", \"GO:0086015\", \"GO:0070633\", \"GO:0032849\", \"GO:0019371\", \"GO:0009820\", \"GO:0070836\", \"GO:0061737\", \"GO:0006744\", \"GO:0032264\", \"GO:0019372\", \"GO:0006691\", \"GO:0032496\", \"GO:0042493\", \"GO:0042220\", \"GO:0042310\", \"GO:0035690\", \"GO:0009636\", \"GO:0046219\", \"GO:0042713\", \"GO:0051930\"], \"y\": [4, 0, 2, 4, 2, 2, 0, 0, 0, 0, 0, 0, 0, 3, 5, 13, 0, 0, 0, 0, 0, 3, 0, 0, 3, 0, 0, 50, 25, 10, 10, 10, 11, 0, 0, 0, 0, 7, 0, 0, 0, 6, 0, 0, 0, 0, 0, 0, 0, 0, 0, 0, 0, 0, 0, 0, 3, 0, 0, 0, 4, 0, 0, 0, 0, 0, 0, 0, 0, 0, 0, 0, 0, 0, 0, 0, 0, 0, 0, 0, 0, 0, 0, 0, 0, 0, 0, 0, 0, 0, 0, 0, 0, 0, 0, 0, 0, 0, 0, 3, 0, 0, 0, 0, 0, 0, 0, 0, 0, 0, 0, 0, 0, 0, 0, 0, 3, 0, 0, 0, 0, 0, 0, 0, 0, 0, 0, 0, 0, 0, 0, 0, 0, 0, 0, 0, 0, 0, 2, 0, 0, 0, 0, 0, 0, 0, 0, 0, 0, 0, 0, 0]}, {\"name\": \"Cluster-7\", \"type\": \"bar\", \"x\": [\"GO:0015701\", \"GO:1990962\", \"GO:2001225\", \"GO:0015721\", \"GO:0002906\", \"GO:2000343\", \"GO:0015695\", \"GO:0006695\", \"GO:0045540\", \"GO:0042632\", \"GO:0008202\", \"GO:0030301\", \"GO:0055114\", \"GO:0042738\", \"GO:0006805\", \"GO:0055085\", \"GO:0017144\", \"GO:0008299\", \"GO:0008203\", \"GO:0033384\", \"GO:0045337\", \"GO:0052695\", \"GO:0008542\", \"GO:0098856\", \"GO:0006082\", \"GO:0006979\", \"GO:0008210\", \"GO:0070588\", \"GO:0061337\", \"GO:0009098\", \"GO:0009099\", \"GO:0009082\", \"GO:0034765\", \"GO:0140115\", \"GO:0016098\", \"GO:0046483\", \"GO:0007268\", \"GO:1902476\", \"GO:0007214\", \"GO:0007186\", \"GO:0050877\", \"GO:0034220\", \"GO:0071420\", \"GO:0007187\", \"GO:0007218\", \"GO:0007200\", \"GO:0042391\", \"GO:0060078\", \"GO:0007600\", \"GO:0036152\", \"GO:0036151\", \"GO:0006644\", \"GO:0038003\", \"GO:0031635\", \"GO:0006821\", \"GO:0014059\", \"GO:0006646\", \"GO:0019373\", \"GO:0052696\", \"GO:0052697\", \"GO:0006816\", \"GO:0070989\", \"GO:0033076\", \"GO:0030522\", \"GO:0042572\", \"GO:0042573\", \"GO:0036149\", \"GO:0036148\", \"GO:0036150\", \"GO:0042759\", \"GO:0019369\", \"GO:0050482\", \"GO:0046475\", \"GO:0001516\", \"GO:0098869\", \"GO:0006654\", \"GO:0006814\", \"GO:0098912\", \"GO:0051481\", \"GO:0043030\", \"GO:0006656\", \"GO:0097267\", \"GO:0086011\", \"GO:0060306\", \"GO:0086091\", \"GO:0098915\", \"GO:0097623\", \"GO:1901379\", \"GO:0086005\", \"GO:0060307\", \"GO:1903765\", \"GO:0090238\", \"GO:0019287\", \"GO:0015844\", \"GO:0051610\", \"GO:0042744\", \"GO:0043401\", \"GO:0009166\", \"GO:0042427\", \"GO:0051932\", \"GO:0043252\", \"GO:0051899\", \"GO:0070509\", \"GO:1904862\", \"GO:0006789\", \"GO:0015874\", \"GO:0006567\", \"GO:0043267\", \"GO:1903779\", \"GO:0006885\", \"GO:0051592\", \"GO:0043627\", \"GO:0042908\", \"GO:0015711\", \"GO:0006699\", \"GO:0051482\", \"GO:0035025\", \"GO:0019065\", \"GO:0032230\", \"GO:0015812\", \"GO:0051620\", \"GO:0086016\", \"GO:0086010\", \"GO:0060371\", \"GO:0086043\", \"GO:0086002\", \"GO:0035725\", \"GO:0015722\", \"GO:0030644\", \"GO:0019228\", \"GO:0086046\", \"GO:0086045\", \"GO:0086015\", \"GO:0070633\", \"GO:0032849\", \"GO:0019371\", \"GO:0009820\", \"GO:0070836\", \"GO:0061737\", \"GO:0006744\", \"GO:0032264\", \"GO:0019372\", \"GO:0006691\", \"GO:0032496\", \"GO:0042493\", \"GO:0042220\", \"GO:0042310\", \"GO:0035690\", \"GO:0009636\", \"GO:0046219\", \"GO:0042713\", \"GO:0051930\"], \"y\": [0, 0, 6, 7, 4, 2, 3, 0, 0, 0, 4, 0, 69, 13, 27, 14, 6, 0, 0, 0, 0, 15, 0, 0, 13, 8, 0, 0, 0, 2, 2, 2, 0, 2, 4, 5, 0, 0, 0, 0, 0, 0, 0, 0, 0, 0, 0, 0, 0, 0, 0, 0, 0, 0, 0, 0, 3, 3, 2, 0, 0, 0, 10, 3, 0, 0, 0, 0, 0, 0, 0, 0, 0, 0, 0, 0, 0, 0, 0, 3, 0, 0, 0, 0, 0, 0, 0, 0, 0, 0, 0, 0, 0, 0, 0, 3, 0, 2, 0, 0, 4, 0, 0, 0, 0, 0, 0, 0, 0, 0, 0, 0, 4, 4, 4, 0, 0, 0, 0, 0, 0, 0, 0, 0, 0, 0, 0, 0, 0, 0, 0, 0, 0, 0, 0, 0, 0, 0, 0, 0, 0, 0, 0, 0, 0, 0, 0, 0, 0, 0, 0, 0]}, {\"name\": \"Cluster-3\", \"type\": \"bar\", \"x\": [\"GO:0015701\", \"GO:1990962\", \"GO:2001225\", \"GO:0015721\", \"GO:0002906\", \"GO:2000343\", \"GO:0015695\", \"GO:0006695\", \"GO:0045540\", \"GO:0042632\", \"GO:0008202\", \"GO:0030301\", \"GO:0055114\", \"GO:0042738\", \"GO:0006805\", \"GO:0055085\", \"GO:0017144\", \"GO:0008299\", \"GO:0008203\", \"GO:0033384\", \"GO:0045337\", \"GO:0052695\", \"GO:0008542\", \"GO:0098856\", \"GO:0006082\", \"GO:0006979\", \"GO:0008210\", \"GO:0070588\", \"GO:0061337\", \"GO:0009098\", \"GO:0009099\", \"GO:0009082\", \"GO:0034765\", \"GO:0140115\", \"GO:0016098\", \"GO:0046483\", \"GO:0007268\", \"GO:1902476\", \"GO:0007214\", \"GO:0007186\", \"GO:0050877\", \"GO:0034220\", \"GO:0071420\", \"GO:0007187\", \"GO:0007218\", \"GO:0007200\", \"GO:0042391\", \"GO:0060078\", \"GO:0007600\", \"GO:0036152\", \"GO:0036151\", \"GO:0006644\", \"GO:0038003\", \"GO:0031635\", \"GO:0006821\", \"GO:0014059\", \"GO:0006646\", \"GO:0019373\", \"GO:0052696\", \"GO:0052697\", \"GO:0006816\", \"GO:0070989\", \"GO:0033076\", \"GO:0030522\", \"GO:0042572\", \"GO:0042573\", \"GO:0036149\", \"GO:0036148\", \"GO:0036150\", \"GO:0042759\", \"GO:0019369\", \"GO:0050482\", \"GO:0046475\", \"GO:0001516\", \"GO:0098869\", \"GO:0006654\", \"GO:0006814\", \"GO:0098912\", \"GO:0051481\", \"GO:0043030\", \"GO:0006656\", \"GO:0097267\", \"GO:0086011\", \"GO:0060306\", \"GO:0086091\", \"GO:0098915\", \"GO:0097623\", \"GO:1901379\", \"GO:0086005\", \"GO:0060307\", \"GO:1903765\", \"GO:0090238\", \"GO:0019287\", \"GO:0015844\", \"GO:0051610\", \"GO:0042744\", \"GO:0043401\", \"GO:0009166\", \"GO:0042427\", \"GO:0051932\", \"GO:0043252\", \"GO:0051899\", \"GO:0070509\", \"GO:1904862\", \"GO:0006789\", \"GO:0015874\", \"GO:0006567\", \"GO:0043267\", \"GO:1903779\", \"GO:0006885\", \"GO:0051592\", \"GO:0043627\", \"GO:0042908\", \"GO:0015711\", \"GO:0006699\", \"GO:0051482\", \"GO:0035025\", \"GO:0019065\", \"GO:0032230\", \"GO:0015812\", \"GO:0051620\", \"GO:0086016\", \"GO:0086010\", \"GO:0060371\", \"GO:0086043\", \"GO:0086002\", \"GO:0035725\", \"GO:0015722\", \"GO:0030644\", \"GO:0019228\", \"GO:0086046\", \"GO:0086045\", \"GO:0086015\", \"GO:0070633\", \"GO:0032849\", \"GO:0019371\", \"GO:0009820\", \"GO:0070836\", \"GO:0061737\", \"GO:0006744\", \"GO:0032264\", \"GO:0019372\", \"GO:0006691\", \"GO:0032496\", \"GO:0042493\", \"GO:0042220\", \"GO:0042310\", \"GO:0035690\", \"GO:0009636\", \"GO:0046219\", \"GO:0042713\", \"GO:0051930\"], \"y\": [0, 2, 12, 8, 6, 4, 0, 22, 15, 14, 90, 0, 169, 79, 125, 16, 68, 9, 0, 6, 6, 50, 0, 0, 63, 15, 39, 28, 13, 10, 10, 10, 6, 4, 8, 38, 0, 8, 4, 0, 4, 8, 0, 0, 0, 0, 0, 4, 0, 3, 23, 0, 0, 0, 4, 0, 10, 53, 20, 22, 5, 9, 10, 5, 28, 10, 12, 9, 6, 10, 14, 4, 0, 11, 6, 0, 0, 0, 0, 6, 0, 18, 3, 3, 9, 3, 3, 3, 6, 6, 2, 2, 4, 3, 0, 0, 5, 2, 2, 4, 3, 4, 0, 0, 2, 0, 0, 0, 0, 0, 0, 4, 0, 0, 0, 0, 0, 4, 3, 0, 0, 3, 4, 3, 2, 3, 4, 2, 2, 3, 2, 2, 2, 2, 0, 7, 4, 2, 3, 0, 0, 4, 3, 6, 0, 0, 0, 0, 0, 0, 0, 0]}],                        {\"autosize\": false, \"barmode\": \"group\", \"height\": 700, \"template\": {\"data\": {\"bar\": [{\"error_x\": {\"color\": \"#2a3f5f\"}, \"error_y\": {\"color\": \"#2a3f5f\"}, \"marker\": {\"line\": {\"color\": \"#E5ECF6\", \"width\": 0.5}}, \"type\": \"bar\"}], \"barpolar\": [{\"marker\": {\"line\": {\"color\": \"#E5ECF6\", \"width\": 0.5}}, \"type\": \"barpolar\"}], \"carpet\": [{\"aaxis\": {\"endlinecolor\": \"#2a3f5f\", \"gridcolor\": \"white\", \"linecolor\": \"white\", \"minorgridcolor\": \"white\", \"startlinecolor\": \"#2a3f5f\"}, \"baxis\": {\"endlinecolor\": \"#2a3f5f\", \"gridcolor\": \"white\", \"linecolor\": \"white\", \"minorgridcolor\": \"white\", \"startlinecolor\": \"#2a3f5f\"}, \"type\": \"carpet\"}], \"choropleth\": [{\"colorbar\": {\"outlinewidth\": 0, \"ticks\": \"\"}, \"type\": \"choropleth\"}], \"contour\": [{\"colorbar\": {\"outlinewidth\": 0, \"ticks\": \"\"}, \"colorscale\": [[0.0, \"#0d0887\"], [0.1111111111111111, \"#46039f\"], [0.2222222222222222, \"#7201a8\"], [0.3333333333333333, \"#9c179e\"], [0.4444444444444444, \"#bd3786\"], [0.5555555555555556, \"#d8576b\"], [0.6666666666666666, \"#ed7953\"], [0.7777777777777778, \"#fb9f3a\"], [0.8888888888888888, \"#fdca26\"], [1.0, \"#f0f921\"]], \"type\": \"contour\"}], \"contourcarpet\": [{\"colorbar\": {\"outlinewidth\": 0, \"ticks\": \"\"}, \"type\": \"contourcarpet\"}], \"heatmap\": [{\"colorbar\": {\"outlinewidth\": 0, \"ticks\": \"\"}, \"colorscale\": [[0.0, \"#0d0887\"], [0.1111111111111111, \"#46039f\"], [0.2222222222222222, \"#7201a8\"], [0.3333333333333333, \"#9c179e\"], [0.4444444444444444, \"#bd3786\"], [0.5555555555555556, \"#d8576b\"], [0.6666666666666666, \"#ed7953\"], [0.7777777777777778, \"#fb9f3a\"], [0.8888888888888888, \"#fdca26\"], [1.0, \"#f0f921\"]], \"type\": \"heatmap\"}], \"heatmapgl\": [{\"colorbar\": {\"outlinewidth\": 0, \"ticks\": \"\"}, \"colorscale\": [[0.0, \"#0d0887\"], [0.1111111111111111, \"#46039f\"], [0.2222222222222222, \"#7201a8\"], [0.3333333333333333, \"#9c179e\"], [0.4444444444444444, \"#bd3786\"], [0.5555555555555556, \"#d8576b\"], [0.6666666666666666, \"#ed7953\"], [0.7777777777777778, \"#fb9f3a\"], [0.8888888888888888, \"#fdca26\"], [1.0, \"#f0f921\"]], \"type\": \"heatmapgl\"}], \"histogram\": [{\"marker\": {\"colorbar\": {\"outlinewidth\": 0, \"ticks\": \"\"}}, \"type\": \"histogram\"}], \"histogram2d\": [{\"colorbar\": {\"outlinewidth\": 0, \"ticks\": \"\"}, \"colorscale\": [[0.0, \"#0d0887\"], [0.1111111111111111, \"#46039f\"], [0.2222222222222222, \"#7201a8\"], [0.3333333333333333, \"#9c179e\"], [0.4444444444444444, \"#bd3786\"], [0.5555555555555556, \"#d8576b\"], [0.6666666666666666, \"#ed7953\"], [0.7777777777777778, \"#fb9f3a\"], [0.8888888888888888, \"#fdca26\"], [1.0, \"#f0f921\"]], \"type\": \"histogram2d\"}], \"histogram2dcontour\": [{\"colorbar\": {\"outlinewidth\": 0, \"ticks\": \"\"}, \"colorscale\": [[0.0, \"#0d0887\"], [0.1111111111111111, \"#46039f\"], [0.2222222222222222, \"#7201a8\"], [0.3333333333333333, \"#9c179e\"], [0.4444444444444444, \"#bd3786\"], [0.5555555555555556, \"#d8576b\"], [0.6666666666666666, \"#ed7953\"], [0.7777777777777778, \"#fb9f3a\"], [0.8888888888888888, \"#fdca26\"], [1.0, \"#f0f921\"]], \"type\": \"histogram2dcontour\"}], \"mesh3d\": [{\"colorbar\": {\"outlinewidth\": 0, \"ticks\": \"\"}, \"type\": \"mesh3d\"}], \"parcoords\": [{\"line\": {\"colorbar\": {\"outlinewidth\": 0, \"ticks\": \"\"}}, \"type\": \"parcoords\"}], \"pie\": [{\"automargin\": true, \"type\": \"pie\"}], \"scatter\": [{\"marker\": {\"colorbar\": {\"outlinewidth\": 0, \"ticks\": \"\"}}, \"type\": \"scatter\"}], \"scatter3d\": [{\"line\": {\"colorbar\": {\"outlinewidth\": 0, \"ticks\": \"\"}}, \"marker\": {\"colorbar\": {\"outlinewidth\": 0, \"ticks\": \"\"}}, \"type\": \"scatter3d\"}], \"scattercarpet\": [{\"marker\": {\"colorbar\": {\"outlinewidth\": 0, \"ticks\": \"\"}}, \"type\": \"scattercarpet\"}], \"scattergeo\": [{\"marker\": {\"colorbar\": {\"outlinewidth\": 0, \"ticks\": \"\"}}, \"type\": \"scattergeo\"}], \"scattergl\": [{\"marker\": {\"colorbar\": {\"outlinewidth\": 0, \"ticks\": \"\"}}, \"type\": \"scattergl\"}], \"scattermapbox\": [{\"marker\": {\"colorbar\": {\"outlinewidth\": 0, \"ticks\": \"\"}}, \"type\": \"scattermapbox\"}], \"scatterpolar\": [{\"marker\": {\"colorbar\": {\"outlinewidth\": 0, \"ticks\": \"\"}}, \"type\": \"scatterpolar\"}], \"scatterpolargl\": [{\"marker\": {\"colorbar\": {\"outlinewidth\": 0, \"ticks\": \"\"}}, \"type\": \"scatterpolargl\"}], \"scatterternary\": [{\"marker\": {\"colorbar\": {\"outlinewidth\": 0, \"ticks\": \"\"}}, \"type\": \"scatterternary\"}], \"surface\": [{\"colorbar\": {\"outlinewidth\": 0, \"ticks\": \"\"}, \"colorscale\": [[0.0, \"#0d0887\"], [0.1111111111111111, \"#46039f\"], [0.2222222222222222, \"#7201a8\"], [0.3333333333333333, \"#9c179e\"], [0.4444444444444444, \"#bd3786\"], [0.5555555555555556, \"#d8576b\"], [0.6666666666666666, \"#ed7953\"], [0.7777777777777778, \"#fb9f3a\"], [0.8888888888888888, \"#fdca26\"], [1.0, \"#f0f921\"]], \"type\": \"surface\"}], \"table\": [{\"cells\": {\"fill\": {\"color\": \"#EBF0F8\"}, \"line\": {\"color\": \"white\"}}, \"header\": {\"fill\": {\"color\": \"#C8D4E3\"}, \"line\": {\"color\": \"white\"}}, \"type\": \"table\"}]}, \"layout\": {\"annotationdefaults\": {\"arrowcolor\": \"#2a3f5f\", \"arrowhead\": 0, \"arrowwidth\": 1}, \"autotypenumbers\": \"strict\", \"coloraxis\": {\"colorbar\": {\"outlinewidth\": 0, \"ticks\": \"\"}}, \"colorscale\": {\"diverging\": [[0, \"#8e0152\"], [0.1, \"#c51b7d\"], [0.2, \"#de77ae\"], [0.3, \"#f1b6da\"], [0.4, \"#fde0ef\"], [0.5, \"#f7f7f7\"], [0.6, \"#e6f5d0\"], [0.7, \"#b8e186\"], [0.8, \"#7fbc41\"], [0.9, \"#4d9221\"], [1, \"#276419\"]], \"sequential\": [[0.0, \"#0d0887\"], [0.1111111111111111, \"#46039f\"], [0.2222222222222222, \"#7201a8\"], [0.3333333333333333, \"#9c179e\"], [0.4444444444444444, \"#bd3786\"], [0.5555555555555556, \"#d8576b\"], [0.6666666666666666, \"#ed7953\"], [0.7777777777777778, \"#fb9f3a\"], [0.8888888888888888, \"#fdca26\"], [1.0, \"#f0f921\"]], \"sequentialminus\": [[0.0, \"#0d0887\"], [0.1111111111111111, \"#46039f\"], [0.2222222222222222, \"#7201a8\"], [0.3333333333333333, \"#9c179e\"], [0.4444444444444444, \"#bd3786\"], [0.5555555555555556, \"#d8576b\"], [0.6666666666666666, \"#ed7953\"], [0.7777777777777778, \"#fb9f3a\"], [0.8888888888888888, \"#fdca26\"], [1.0, \"#f0f921\"]]}, \"colorway\": [\"#636efa\", \"#EF553B\", \"#00cc96\", \"#ab63fa\", \"#FFA15A\", \"#19d3f3\", \"#FF6692\", \"#B6E880\", \"#FF97FF\", \"#FECB52\"], \"font\": {\"color\": \"#2a3f5f\"}, \"geo\": {\"bgcolor\": \"white\", \"lakecolor\": \"white\", \"landcolor\": \"#E5ECF6\", \"showlakes\": true, \"showland\": true, \"subunitcolor\": \"white\"}, \"hoverlabel\": {\"align\": \"left\"}, \"hovermode\": \"closest\", \"mapbox\": {\"style\": \"light\"}, \"paper_bgcolor\": \"white\", \"plot_bgcolor\": \"#E5ECF6\", \"polar\": {\"angularaxis\": {\"gridcolor\": \"white\", \"linecolor\": \"white\", \"ticks\": \"\"}, \"bgcolor\": \"#E5ECF6\", \"radialaxis\": {\"gridcolor\": \"white\", \"linecolor\": \"white\", \"ticks\": \"\"}}, \"scene\": {\"xaxis\": {\"backgroundcolor\": \"#E5ECF6\", \"gridcolor\": \"white\", \"gridwidth\": 2, \"linecolor\": \"white\", \"showbackground\": true, \"ticks\": \"\", \"zerolinecolor\": \"white\"}, \"yaxis\": {\"backgroundcolor\": \"#E5ECF6\", \"gridcolor\": \"white\", \"gridwidth\": 2, \"linecolor\": \"white\", \"showbackground\": true, \"ticks\": \"\", \"zerolinecolor\": \"white\"}, \"zaxis\": {\"backgroundcolor\": \"#E5ECF6\", \"gridcolor\": \"white\", \"gridwidth\": 2, \"linecolor\": \"white\", \"showbackground\": true, \"ticks\": \"\", \"zerolinecolor\": \"white\"}}, \"shapedefaults\": {\"line\": {\"color\": \"#2a3f5f\"}}, \"ternary\": {\"aaxis\": {\"gridcolor\": \"white\", \"linecolor\": \"white\", \"ticks\": \"\"}, \"baxis\": {\"gridcolor\": \"white\", \"linecolor\": \"white\", \"ticks\": \"\"}, \"bgcolor\": \"#E5ECF6\", \"caxis\": {\"gridcolor\": \"white\", \"linecolor\": \"white\", \"ticks\": \"\"}}, \"title\": {\"x\": 0.05}, \"xaxis\": {\"automargin\": true, \"gridcolor\": \"white\", \"linecolor\": \"white\", \"ticks\": \"\", \"title\": {\"standoff\": 15}, \"zerolinecolor\": \"white\", \"zerolinewidth\": 2}, \"yaxis\": {\"automargin\": true, \"gridcolor\": \"white\", \"linecolor\": \"white\", \"ticks\": \"\", \"title\": {\"standoff\": 15}, \"zerolinecolor\": \"white\", \"zerolinewidth\": 2}}}, \"width\": 6000},                        {\"responsive\": true}                    ).then(function(){\n                            \nvar gd = document.getElementById('3ca2e8fd-7f59-4ef3-8eaa-43ba1a0fe78c');\nvar x = new MutationObserver(function (mutations, observer) {{\n        var display = window.getComputedStyle(gd).display;\n        if (!display || display === 'none') {{\n            console.log([gd, 'removed!']);\n            Plotly.purge(gd);\n            observer.disconnect();\n        }}\n}});\n\n// Listen for the removal of the full notebook cells\nvar notebookContainer = gd.closest('#notebook-container');\nif (notebookContainer) {{\n    x.observe(notebookContainer, {childList: true});\n}}\n\n// Listen for the clearing of the current output cell\nvar outputEl = gd.closest('.output');\nif (outputEl) {{\n    x.observe(outputEl, {childList: true});\n}}\n\n                        })                };                });            </script>        </div>"
     },
     "metadata": {}
    }
   ],
   "source": [
    "fig = pgo.Figure()\n",
    "for i in [0, 5, 1, 7, 3]:\n",
    "    count = c1_cluster[c1_cluster['cluster'] == str(i)][c1_go.columns].sum()\n",
    "    fig.add_traces(pgo.Bar(name=f'Cluster-{i}', x=c1_go.columns, y = count.values))\n",
    "fig.update_layout(barmode='group', autosize=False, width=6000, height=700)\n",
    "fig.show()"
   ]
  },
  {
   "source": [
    "#### Cellular Component"
   ],
   "cell_type": "markdown",
   "metadata": {}
  },
  {
   "cell_type": "code",
   "execution_count": 79,
   "metadata": {},
   "outputs": [
    {
     "output_type": "execute_result",
     "data": {
      "text/plain": [
       "array([ 18,  27,  34,  60,  93,  98, 101, 115, 120, 128, 133, 154, 170,\n",
       "       176, 182, 184, 223, 228, 268, 270, 279, 337, 347, 369, 370, 386,\n",
       "       388, 429, 496, 543, 544, 556, 557, 645, 650, 660, 685, 710, 712,\n",
       "       713, 714, 728, 737, 793, 801, 815, 828, 845, 849, 850])"
      ]
     },
     "metadata": {},
     "execution_count": 79
    }
   ],
   "source": [
    "c1_idx.values"
   ]
  },
  {
   "cell_type": "code",
   "execution_count": 80,
   "metadata": {
    "tags": []
   },
   "outputs": [],
   "source": [
    "cse, cgo, cda = np.array([], dtype=int), np.array([], dtype=int), np.array([], dtype=float)\n",
    "cgo_dict = {}\n",
    "cgo_full_dict = {}\n",
    "cgo_name_dict = {}\n",
    "\n",
    "for cse_idx in c1_idx.values:\n",
    "    file = './out_new/all-all-{}-2.0-0.99/name_space.csv'.format(cse_idx)\n",
    "    if os.path.exists(file):\n",
    "        cgo_idx = pd.read_csv(file, usecols=[1, 2, 3])\n",
    "        # print(go_idx.head())\n",
    "        cgo_name = cgo_idx['name'][cgo_idx['namespace'] == 'cellular_component'].to_numpy().flatten()\n",
    "        cgo_idx = cgo_idx['id'][cgo_idx['namespace'] == 'cellular_component'].to_numpy().flatten()\n",
    "        if len(cgo_idx):\n",
    "            for i, j in zip(cgo_idx, cgo_name):\n",
    "                tmp_int = int(i[3:])\n",
    "                if cgo_full_dict.get(tmp_int) is None:\n",
    "                    cgo_full_dict[tmp_int] = i\n",
    "                if cgo_name_dict.get(i) is None:\n",
    "                    cgo_name_dict[i] = j\n",
    "\n",
    "            cgo_idx = [int(i[3:]) for i in cgo_idx]\n",
    "            c = Counter(cgo_idx)\n",
    "            # print(c)\n",
    "            cgo_idx, cgo_count = list(zip(*c.items()))\n",
    "            # print(cgo_count)\n",
    "\n",
    "            cgo_new_id = []\n",
    "            for i in cgo_idx:\n",
    "                if cgo_dict.get(i) is None:\n",
    "                    cgo_dict[i] = len(cgo_dict)\n",
    "                cgo_new_id.append(cgo_dict[i])\n",
    "\n",
    "            cse = np.concatenate((cse, [cse_idx] * len(cgo_new_id)))\n",
    "            cgo = np.concatenate((cgo, cgo_new_id))\n",
    "            cda = np.concatenate((cda, cgo_count))\n",
    "\n",
    "ccoo = sp.coo_matrix((cda, (cse, cgo)), shape=(data.n_et, len(cgo_dict)))\n",
    "# sp.save_npz('./out/coo', coo)\n",
    "# print(coo.toarray())\n",
    "inv_cgo_dict = {v:k for k,v in cgo_dict.items()}"
   ]
  },
  {
   "cell_type": "code",
   "execution_count": 81,
   "metadata": {},
   "outputs": [
    {
     "output_type": "execute_result",
     "data": {
      "text/plain": [
       "645                   bacterial pneumonia          10   \n",
       "24              650                         liver abscess           0   \n",
       "25              660           pelvic inflammatory disease           0   \n",
       "26              685                           hepatitis b           5   \n",
       "27              710                            erysipelas           8   \n",
       "28              712                           hepatitis c           0   \n",
       "29              713                         eye infection           0   \n",
       "30              714                         ebv infection           0   \n",
       "31              728                            tracheitis           0   \n",
       "32              793                      epidural abscess           0   \n",
       "33              801                        histoplasmosis           0   \n",
       "34              815                               empyema           0   \n",
       "35              845                                pyuria           7   \n",
       "36              849                                 mumps           0   \n",
       "37              850                           tinea pedis           0   \n",
       "\n",
       "    GO:0098591  GO:0009986  GO:0016324  GO:0070062  GO:0005789  GO:0005891  \\\n",
       "0            2           7           5           0           0           0   \n",
       "1            0           9           0          15           0           0   \n",
       "2            0           0           0           0          17           0   \n",
       "3            0           0           0           0           0           6   \n",
       "4            0           0           0           0           0           5   \n",
       "5            2           6           0           0           0           0   \n",
       "6            0           0           0           0          11           0   \n",
       "7            2           0           0           0           0           0   \n",
       "8            0           0           0           0          11           6   \n",
       "9            0           0           0           0          19           6   \n",
       "10           2           0           0           0          13           0   \n",
       "11           2           0           9           0          16           4   \n",
       "12           2           9           0           0           0           0   \n",
       "13           2          10           0           0          13           0   \n",
       "14           0           0           0           0           0           3   \n",
       "15           0           0           0           0           6           0   \n",
       "16           0           0           0           0          15           4   \n",
       "17           2           0           0           0           0           0   \n",
       "18           0           0           0           0          26           0   \n",
       "19           2          15          13          41          24           9   \n",
       "20           0           0           0           0           0           0   \n",
       "21           0           0          10          31          17           0   \n",
       "22           2           0           0           0           0           6   \n",
       "23           2           0          13          28          19           0   \n",
       "24           0           0           0           0          18           5   \n",
       "25           0           0           0           0           0           0   \n",
       "26           2          10           0           0          12           0   \n",
       "27           0           0           0           0          12           0   \n",
       "28           0           0           0           0          13           0   \n",
       "29           0           0           0           0          19           0   \n",
       "30           0           0           0           0           0           6   \n",
       "31           0           0           0           0          16           0   \n",
       "32           0           0           0           0           0           4   \n",
       "33           0           0           0           0          18           5   \n",
       "34           0           0           0           0          16           0   \n",
       "35           0           0           0           0          16           0   \n",
       "36           0           0           0           0          11           0   \n",
       "37           2           9           7           0          12           0   \n",
       "\n",
       "    GO:0005739  GO:0005887  GO:0034707  GO:0005886  GO:0098982  GO:0043005  \\\n",
       "0            0           0           0           0           0           0   \n",
       "1            0           0           0           0           0           0   \n",
       "2            0           0           0           0           0           0   \n",
       "3            0           0           0           0           0           0   \n",
       "4           19           0           0           0           0           0   \n",
       "5            0           0           0           0           0           0   \n",
       "6            0           0           0           0           0           0   \n",
       "7            0          36           9          59           7          12   \n",
       "8           13           0           0           0           0           0   \n",
       "9            0           0           0           0           0           0   \n",
       "10           0           0           0           0           0           0   \n",
       "11           0          25           0          46           0           0   \n",
       "12           0           0           0           0           0           0   \n",
       "13           0          15           0           0           0           0   \n",
       "14           0           0           0           0           0           0   \n",
       "15           0           0           0           0           0           0   \n",
       "16           0           0           0           0           0           0   \n",
       "17           0           0           0           0           0           0   \n",
       "18           0           0           0           0           0           0   \n",
       "19           0          37           8          76           5           0   \n",
       "20           0           0           0           0           0           0   \n",
       "21           0           0           0           0           0           0   \n",
       "22           0          16           0          34           0           0   \n",
       "23           0          39           7          54           6           0   \n",
       "24          19           0           0           0           0           0   \n",
       "25           0           0           0           0           0           6   \n",
       "26           0          12           0          24           0           0   \n",
       "27           0          16           4           0           4           0   \n",
       "28           0           0           0           0           0           0   \n",
       "29           0          18           7           0           0           0   \n",
       "30          16           0           0           0           0           0   \n",
       "31           0           0           0           0           0           0   \n",
       "32           0          12           0          23           0           0   \n",
       "33           0           0           0           0           0           0   \n",
       "34           0           0           0           0           0           0   \n",
       "35           0          22           0          43           0           0   \n",
       "36           0          14           0           0           0           0   \n",
       "37           0          24           0          39           0           0   \n",
       "\n",
       "    GO:0032590  GO:1902711  GO:0045202  GO:0099056  GO:0099154  GO:0097444  \\\n",
       "0            0           0           0           0           0           0   \n",
       "1            0           0           0           0           0           0   \n",
       "2            0           0           0           0           0           0   \n",
       "3            0           0           0           0           0           0   \n",
       "4            0           0           0           0           0           0   \n",
       "5            0           0           0           0           0           0   \n",
       "6            0           0           0           0           0           0   \n",
       "7            5           4          12           5           2           2   \n",
       "8            0           0           0           0           0           0   \n",
       "9            0           0           0           0           0           0   \n",
       "10           0           0           0           0           0           0   \n",
       "11           0           0           0           0           0           0   \n",
       "12           0           0           0           0           0           0   \n",
       "13           0           0           0           0           0           0   \n",
       "14           0           0           0           0           0           0   \n",
       "15           0           0           0           0           0           0   \n",
       "16           0           0           0           0           0           0   \n",
       "17           0           0           0           0           0           0   \n",
       "18           0           0           0           0           0           0   \n",
       "19           6           5           0           0           0           0   \n",
       "20           0           0           0           0           0           0   \n",
       "21           0           0           0           0           0           0   \n",
       "22           3           3           0           0           0           0   \n",
       "23           0           4           0           0           0           0   \n",
       "24           0           0           0           0           0           0   \n",
       "25           0           0           0           0           0           0   \n",
       "26           0           0           0           0           0           0   \n",
       "27           4           4           0           0           0           0   \n",
       "28           0           0           0           0           2           0   \n",
       "29           5           4           0           0           0           0   \n",
       "30           0           0           0           0           0           0   \n",
       "31           0           0           0           0           0           0   \n",
       "32           0           0           0           0           2           0   \n",
       "33           0           0           0           0           0           0   \n",
       "34           0           0           0           0           0           0   \n",
       "35           0           0           0           0           0           0   \n",
       "36           0           0           0           0           0           0   \n",
       "37           0           0           0           0           2           0   \n",
       "\n",
       "    GO:0008076  GO:0034704  GO:0043231  GO:1990454  GO:0098794  GO:0005783  \\\n",
       "0            0           0           0           0           0           0   \n",
       "1            0           0           0           0           0           0   \n",
       "2            0           0           0           0           0           0   \n",
       "3            0           0           0           0           0           0   \n",
       "4            0           0           0           0           0           0   \n",
       "5            0           0           0           0           0           0   \n",
       "6            0           0           0           0           0           0   \n",
       "7            0           0           0           0           0           0   \n",
       "8            0           0           0           0           0           0   \n",
       "9            0           0           0           0           0           0   \n",
       "10           0           0           0           0           0           0   \n",
       "11           0           0           0           0           0           0   \n",
       "12           0           0           0           0           0           0   \n",
       "13           4           0           0           0           0           0   \n",
       "14           0           0           0           0           0           0   \n",
       "15           0           0           0           0           0           0   \n",
       "16           0           3           0           0           0           0   \n",
       "17           0           0           0           0           0           0   \n",
       "18           0           0          14           0           0           0   \n",
       "19           0           4           0           4           7          24   \n",
       "20           0           0           0           0           0           0   \n",
       "21           0           0           0           0           0           0   \n",
       "22           0           0           0           3           0           0   \n",
       "23           0           0           0           0           0           0   \n",
       "24           0           0          14           0           0           0   \n",
       "25           0           0           0           0           0           0   \n",
       "26           0           0           0           0           0          12   \n",
       "27           0           0           0           0           0           0   \n",
       "28           0           0           0           0           0           0   \n",
       "29           0           0          13           0           0           0   \n",
       "30           0           0           0           0           0           0   \n",
       "31           0           0           0           0           0           0   \n",
       "32           0           0           0           0           0           0   \n",
       "33           0           0           0           0           0           0   \n",
       "34           0           0           0           0           0           0   \n",
       "35           0           0           0           0           0           0   \n",
       "36           0           0           0           0           0           0   \n",
       "37           0           0           0           0           0          12   \n",
       "\n",
       "    GO:0016529  GO:0005623  GO:0099060  GO:0032809  GO:0031526  GO:0002095  \\\n",
       "0            0           0           0           0           0           0   \n",
       "1            0           0           0           0           0           0   \n",
       "2            0           0           0           0           0           0   \n",
       "3            0           0           0           0           0           0   \n",
       "4            0           0           0           0           0           0   \n",
       "5            0           0           0           0           0           0   \n",
       "6            0           0           0           0           0           0   \n",
       "7            0           0           0           0           0           0   \n",
       "8            0           0           0           0           0           0   \n",
       "9            0           0           0           0           0           0   \n",
       "10           0           0           0           0           0           0   \n",
       "11           0           0           0           0           0           0   \n",
       "12           0           0           0           0           0           0   \n",
       "13           0           0           0           0           0           0   \n",
       "14           0           0           0           0           0           0   \n",
       "15           0           0           0           0           0           0   \n",
       "16           0           0           0           0           0           0   \n",
       "17           0           0           0           0           0           0   \n",
       "18           0           0           0           0           0           0   \n",
       "19           5          24           4           4           0           0   \n",
       "20           0           0           0           0           0           0   \n",
       "21           0           0           0           0           0           0   \n",
       "22           0           0           0           0           0           0   \n",
       "23           0          22           0           0           5           2   \n",
       "24           0           0           0           0           0           0   \n",
       "25           0           0           0           0           0           0   \n",
       "26           0           0           0           0           0           0   \n",
       "27           0           0           3           0           0           0   \n",
       "28           0           0           0           0           0           0   \n",
       "29           0           0           0           0           0           0   \n",
       "30           0           0           0           0           0           0   \n",
       "31           0           0           0           0           0           2   \n",
       "32           0           0           0           0           0           0   \n",
       "33           0           0           0           0           0           2   \n",
       "34           0           0           0           0           0           0   \n",
       "35           0           0           0           0           0           0   \n",
       "36           0           0           0           0           0           0   \n",
       "37           0          14           0           0           0           0   \n",
       "\n",
       "    GO:0005833  GO:0072562  GO:0001518  GO:0098983  GO:0005901  GO:0046581  \\\n",
       "0            0           0           0           0           0           0   \n",
       "1            0           0           0           0           0           0   \n",
       "2            0           0           0           0           0           0   \n",
       "3            0           0           0           0           0           0   \n",
       "4            0           0           0           0           0           0   \n",
       "5            0           0           0           0           0           0   \n",
       "6            0           0           0           0           0           0   \n",
       "7            0           0           0           0           0           0   \n",
       "8            0           0           0           0           0           0   \n",
       "9            0           0           0           0           0           0   \n",
       "10           0           0           0           0           0           0   \n",
       "11           0           0           0           0           0           0   \n",
       "12           0           0           0           0           0           0   \n",
       "13           0           0           0           0           0           0   \n",
       "14           0           0           0           0           0           0   \n",
       "15           0           0           0           0           0           0   \n",
       "16           0           0           0           0           0           0   \n",
       "17           0           0           0           0           0           0   \n",
       "18           0           0           0           0           0           0   \n",
       "19           0           0           0           0           0           0   \n",
       "20           0           0           0           0           0           0   \n",
       "21           0           0           0           0           0           0   \n",
       "22           0           0           0           0           0           0   \n",
       "23           0           0           0           0           0           0   \n",
       "24           3           6           3           2           0           0   \n",
       "25           0           0           0           0           0           0   \n",
       "26           0           0           3           0           4           2   \n",
       "27           0           0           0           0           0           0   \n",
       "28           0           0           0           0           0           0   \n",
       "29           0           0           0           0           0           0   \n",
       "30           0           0           0           0           0           0   \n",
       "31           0           0           0           0           0           0   \n",
       "32           0           0           0           0           0           0   \n",
       "33           0           0           0           0           0           0   \n",
       "34           0           0           0           0           0           0   \n",
       "35           0           0           0           0           0           0   \n",
       "36           0           0           0           0           0           0   \n",
       "37           0           0           0           0           0           0   \n",
       "\n",
       "    GO:0065010  \n",
       "0            0  \n",
       "1            0  \n",
       "2            0  \n",
       "3            0  \n",
       "4            0  \n",
       "5            0  \n",
       "6            0  \n",
       "7            0  \n",
       "8            0  \n",
       "9            0  \n",
       "10           0  \n",
       "11           0  \n",
       "12           0  \n",
       "13           0  \n",
       "14           0  \n",
       "15           0  \n",
       "16           0  \n",
       "17           0  \n",
       "18           0  \n",
       "19           0  \n",
       "20           0  \n",
       "21           0  \n",
       "22           0  \n",
       "23           0  \n",
       "24           0  \n",
       "25           0  \n",
       "26           0  \n",
       "27           0  \n",
       "28           0  \n",
       "29           0  \n",
       "30           0  \n",
       "31           0  \n",
       "32           0  \n",
       "33           0  \n",
       "34           2  \n",
       "35           0  \n",
       "36           0  \n",
       "37           0  "
      ],
      "text/html": "<div>\n<style scoped>\n    .dataframe tbody tr th:only-of-type {\n        vertical-align: middle;\n    }\n\n    .dataframe tbody tr th {\n        vertical-align: top;\n    }\n\n    .dataframe thead th {\n        text-align: right;\n    }\n</style>\n<table border=\"1\" class=\"dataframe\">\n  <thead>\n    <tr style=\"text-align: right;\">\n      <th></th>\n      <th>side effect idx</th>\n      <th>side effect</th>\n      <th>GO:0016323</th>\n      <th>GO:0098591</th>\n      <th>GO:0009986</th>\n      <th>GO:0016324</th>\n      <th>GO:0070062</th>\n      <th>GO:0005789</th>\n      <th>GO:0005891</th>\n      <th>GO:0005739</th>\n      <th>GO:0005887</th>\n      <th>GO:0034707</th>\n      <th>GO:0005886</th>\n      <th>GO:0098982</th>\n      <th>GO:0043005</th>\n      <th>GO:0032590</th>\n      <th>GO:1902711</th>\n      <th>GO:0045202</th>\n      <th>GO:0099056</th>\n      <th>GO:0099154</th>\n      <th>GO:0097444</th>\n      <th>GO:0008076</th>\n      <th>GO:0034704</th>\n      <th>GO:0043231</th>\n      <th>GO:1990454</th>\n      <th>GO:0098794</th>\n      <th>GO:0005783</th>\n      <th>GO:0016529</th>\n      <th>GO:0005623</th>\n      <th>GO:0099060</th>\n      <th>GO:0032809</th>\n      <th>GO:0031526</th>\n      <th>GO:0002095</th>\n      <th>GO:0005833</th>\n      <th>GO:0072562</th>\n      <th>GO:0001518</th>\n      <th>GO:0098983</th>\n      <th>GO:0005901</th>\n      <th>GO:0046581</th>\n      <th>GO:0065010</th>\n    </tr>\n  </thead>\n  <tbody>\n    <tr>\n      <th>0</th>\n      <td>18</td>\n      <td>peritonitis</td>\n      <td>5</td>\n      <td>2</td>\n      <td>7</td>\n      <td>5</td>\n      <td>0</td>\n      <td>0</td>\n      <td>0</td>\n      <td>0</td>\n      <td>0</td>\n      <td>0</td>\n      <td>0</td>\n      <td>0</td>\n      <td>0</td>\n      <td>0</td>\n      <td>0</td>\n      <td>0</td>\n      <td>0</td>\n      <td>0</td>\n      <td>0</td>\n      <td>0</td>\n      <td>0</td>\n      <td>0</td>\n      <td>0</td>\n      <td>0</td>\n      <td>0</td>\n      <td>0</td>\n      <td>0</td>\n      <td>0</td>\n      <td>0</td>\n      <td>0</td>\n      <td>0</td>\n      <td>0</td>\n      <td>0</td>\n      <td>0</td>\n      <td>0</td>\n      <td>0</td>\n      <td>0</td>\n      <td>0</td>\n    </tr>\n    <tr>\n      <th>1</th>\n      <td>27</td>\n      <td>sepsis</td>\n      <td>0</td>\n      <td>0</td>\n      <td>9</td>\n      <td>0</td>\n      <td>15</td>\n      <td>0</td>\n      <td>0</td>\n      <td>0</td>\n      <td>0</td>\n      <td>0</td>\n      <td>0</td>\n      <td>0</td>\n      <td>0</td>\n      <td>0</td>\n      <td>0</td>\n      <td>0</td>\n      <td>0</td>\n      <td>0</td>\n      <td>0</td>\n      <td>0</td>\n      <td>0</td>\n      <td>0</td>\n      <td>0</td>\n      <td>0</td>\n      <td>0</td>\n      <td>0</td>\n      <td>0</td>\n      <td>0</td>\n      <td>0</td>\n      <td>0</td>\n      <td>0</td>\n      <td>0</td>\n      <td>0</td>\n      <td>0</td>\n      <td>0</td>\n      <td>0</td>\n      <td>0</td>\n      <td>0</td>\n    </tr>\n    <tr>\n      <th>2</th>\n      <td>34</td>\n      <td>appendicitis</td>\n      <td>0</td>\n      <td>0</td>\n      <td>0</td>\n      <td>0</td>\n      <td>0</td>\n      <td>17</td>\n      <td>0</td>\n      <td>0</td>\n      <td>0</td>\n      <td>0</td>\n      <td>0</td>\n      <td>0</td>\n      <td>0</td>\n      <td>0</td>\n      <td>0</td>\n      <td>0</td>\n      <td>0</td>\n      <td>0</td>\n      <td>0</td>\n      <td>0</td>\n      <td>0</td>\n      <td>0</td>\n      <td>0</td>\n      <td>0</td>\n      <td>0</td>\n      <td>0</td>\n      <td>0</td>\n      <td>0</td>\n      <td>0</td>\n      <td>0</td>\n      <td>0</td>\n      <td>0</td>\n      <td>0</td>\n      <td>0</td>\n      <td>0</td>\n      <td>0</td>\n      <td>0</td>\n      <td>0</td>\n    </tr>\n    <tr>\n      <th>3</th>\n      <td>60</td>\n      <td>neumonia</td>\n      <td>0</td>\n      <td>0</td>\n      <td>0</td>\n      <td>0</td>\n      <td>0</td>\n      <td>0</td>\n      <td>6</td>\n      <td>0</td>\n      <td>0</td>\n      <td>0</td>\n      <td>0</td>\n      <td>0</td>\n      <td>0</td>\n      <td>0</td>\n      <td>0</td>\n      <td>0</td>\n      <td>0</td>\n      <td>0</td>\n      <td>0</td>\n      <td>0</td>\n      <td>0</td>\n      <td>0</td>\n      <td>0</td>\n      <td>0</td>\n      <td>0</td>\n      <td>0</td>\n      <td>0</td>\n      <td>0</td>\n      <td>0</td>\n      <td>0</td>\n      <td>0</td>\n      <td>0</td>\n      <td>0</td>\n      <td>0</td>\n      <td>0</td>\n      <td>0</td>\n      <td>0</td>\n      <td>0</td>\n    </tr>\n    <tr>\n      <th>4</th>\n      <td>93</td>\n      <td>septic shock</td>\n      <td>0</td>\n      <td>0</td>\n      <td>0</td>\n      <td>0</td>\n      <td>0</td>\n      <td>0</td>\n      <td>5</td>\n      <td>19</td>\n      <td>0</td>\n      <td>0</td>\n      <td>0</td>\n      <td>0</td>\n      <td>0</td>\n      <td>0</td>\n      <td>0</td>\n      <td>0</td>\n      <td>0</td>\n      <td>0</td>\n      <td>0</td>\n      <td>0</td>\n      <td>0</td>\n      <td>0</td>\n      <td>0</td>\n      <td>0</td>\n      <td>0</td>\n      <td>0</td>\n      <td>0</td>\n      <td>0</td>\n      <td>0</td>\n      <td>0</td>\n      <td>0</td>\n      <td>0</td>\n      <td>0</td>\n      <td>0</td>\n      <td>0</td>\n      <td>0</td>\n      <td>0</td>\n      <td>0</td>\n    </tr>\n    <tr>\n      <th>5</th>\n      <td>98</td>\n      <td>pneumonia staphylococcal</td>\n      <td>4</td>\n      <td>2</td>\n      <td>6</td>\n      <td>0</td>\n      <td>0</td>\n      <td>0</td>\n      <td>0</td>\n      <td>0</td>\n      <td>0</td>\n      <td>0</td>\n      <td>0</td>\n      <td>0</td>\n      <td>0</td>\n      <td>0</td>\n      <td>0</td>\n      <td>0</td>\n      <td>0</td>\n      <td>0</td>\n      <td>0</td>\n      <td>0</td>\n      <td>0</td>\n      <td>0</td>\n      <td>0</td>\n      <td>0</td>\n      <td>0</td>\n      <td>0</td>\n      <td>0</td>\n      <td>0</td>\n      <td>0</td>\n      <td>0</td>\n      <td>0</td>\n      <td>0</td>\n      <td>0</td>\n      <td>0</td>\n      <td>0</td>\n      <td>0</td>\n      <td>0</td>\n      <td>0</td>\n    </tr>\n    <tr>\n      <th>6</th>\n      <td>101</td>\n      <td>lobar pneumonia</td>\n      <td>0</td>\n      <td>0</td>\n      <td>0</td>\n      <td>0</td>\n      <td>0</td>\n      <td>11</td>\n      <td>0</td>\n      <td>0</td>\n      <td>0</td>\n      <td>0</td>\n      <td>0</td>\n      <td>0</td>\n      <td>0</td>\n      <td>0</td>\n      <td>0</td>\n      <td>0</td>\n      <td>0</td>\n      <td>0</td>\n      <td>0</td>\n      <td>0</td>\n      <td>0</td>\n      <td>0</td>\n      <td>0</td>\n      <td>0</td>\n      <td>0</td>\n      <td>0</td>\n      <td>0</td>\n      <td>0</td>\n      <td>0</td>\n      <td>0</td>\n      <td>0</td>\n      <td>0</td>\n      <td>0</td>\n      <td>0</td>\n      <td>0</td>\n      <td>0</td>\n      <td>0</td>\n      <td>0</td>\n    </tr>\n    <tr>\n      <th>7</th>\n      <td>115</td>\n      <td>pleurisy</td>\n      <td>8</td>\n      <td>2</td>\n      <td>0</td>\n      <td>0</td>\n      <td>0</td>\n      <td>0</td>\n      <td>0</td>\n      <td>0</td>\n      <td>36</td>\n      <td>9</td>\n      <td>59</td>\n      <td>7</td>\n      <td>12</td>\n      <td>5</td>\n      <td>4</td>\n      <td>12</td>\n      <td>5</td>\n      <td>2</td>\n      <td>2</td>\n      <td>0</td>\n      <td>0</td>\n      <td>0</td>\n      <td>0</td>\n      <td>0</td>\n      <td>0</td>\n      <td>0</td>\n      <td>0</td>\n      <td>0</td>\n      <td>0</td>\n      <td>0</td>\n      <td>0</td>\n      <td>0</td>\n      <td>0</td>\n      <td>0</td>\n      <td>0</td>\n      <td>0</td>\n      <td>0</td>\n      <td>0</td>\n    </tr>\n    <tr>\n      <th>8</th>\n      <td>120</td>\n      <td>aspiration pneumonia</td>\n      <td>0</td>\n      <td>0</td>\n      <td>0</td>\n      <td>0</td>\n      <td>0</td>\n      <td>11</td>\n      <td>6</td>\n      <td>13</td>\n      <td>0</td>\n      <td>0</td>\n      <td>0</td>\n      <td>0</td>\n      <td>0</td>\n      <td>0</td>\n      <td>0</td>\n      <td>0</td>\n      <td>0</td>\n      <td>0</td>\n      <td>0</td>\n      <td>0</td>\n      <td>0</td>\n      <td>0</td>\n      <td>0</td>\n      <td>0</td>\n      <td>0</td>\n      <td>0</td>\n      <td>0</td>\n      <td>0</td>\n      <td>0</td>\n      <td>0</td>\n      <td>0</td>\n      <td>0</td>\n      <td>0</td>\n      <td>0</td>\n      <td>0</td>\n      <td>0</td>\n      <td>0</td>\n      <td>0</td>\n    </tr>\n    <tr>\n      <th>9</th>\n      <td>128</td>\n      <td>candida infection</td>\n      <td>0</td>\n      <td>0</td>\n      <td>0</td>\n      <td>0</td>\n      <td>0</td>\n      <td>19</td>\n      <td>6</td>\n      <td>0</td>\n      <td>0</td>\n      <td>0</td>\n      <td>0</td>\n      <td>0</td>\n      <td>0</td>\n      <td>0</td>\n      <td>0</td>\n      <td>0</td>\n      <td>0</td>\n      <td>0</td>\n      <td>0</td>\n      <td>0</td>\n      <td>0</td>\n      <td>0</td>\n      <td>0</td>\n      <td>0</td>\n      <td>0</td>\n      <td>0</td>\n      <td>0</td>\n      <td>0</td>\n      <td>0</td>\n      <td>0</td>\n      <td>0</td>\n      <td>0</td>\n      <td>0</td>\n      <td>0</td>\n      <td>0</td>\n      <td>0</td>\n      <td>0</td>\n      <td>0</td>\n    </tr>\n    <tr>\n      <th>10</th>\n      <td>154</td>\n      <td>fungal disease</td>\n      <td>0</td>\n      <td>2</td>\n      <td>0</td>\n      <td>0</td>\n      <td>0</td>\n      <td>13</td>\n      <td>0</td>\n      <td>0</td>\n      <td>0</td>\n      <td>0</td>\n      <td>0</td>\n      <td>0</td>\n      <td>0</td>\n      <td>0</td>\n      <td>0</td>\n      <td>0</td>\n      <td>0</td>\n      <td>0</td>\n      <td>0</td>\n      <td>0</td>\n      <td>0</td>\n      <td>0</td>\n      <td>0</td>\n      <td>0</td>\n      <td>0</td>\n      <td>0</td>\n      <td>0</td>\n      <td>0</td>\n      <td>0</td>\n      <td>0</td>\n      <td>0</td>\n      <td>0</td>\n      <td>0</td>\n      <td>0</td>\n      <td>0</td>\n      <td>0</td>\n      <td>0</td>\n      <td>0</td>\n    </tr>\n    <tr>\n      <th>11</th>\n      <td>170</td>\n      <td>mycobacterium tuberculosis infection</td>\n      <td>9</td>\n      <td>2</td>\n      <td>0</td>\n      <td>9</td>\n      <td>0</td>\n      <td>16</td>\n      <td>4</td>\n      <td>0</td>\n      <td>25</td>\n      <td>0</td>\n      <td>46</td>\n      <td>0</td>\n      <td>0</td>\n      <td>0</td>\n      <td>0</td>\n      <td>0</td>\n      <td>0</td>\n      <td>0</td>\n      <td>0</td>\n      <td>0</td>\n      <td>0</td>\n      <td>0</td>\n      <td>0</td>\n      <td>0</td>\n      <td>0</td>\n      <td>0</td>\n      <td>0</td>\n      <td>0</td>\n      <td>0</td>\n      <td>0</td>\n      <td>0</td>\n      <td>0</td>\n      <td>0</td>\n      <td>0</td>\n      <td>0</td>\n      <td>0</td>\n      <td>0</td>\n      <td>0</td>\n    </tr>\n    <tr>\n      <th>12</th>\n      <td>176</td>\n      <td>abscess</td>\n      <td>0</td>\n      <td>2</td>\n      <td>9</td>\n      <td>0</td>\n      <td>0</td>\n      <td>0</td>\n      <td>0</td>\n      <td>0</td>\n      <td>0</td>\n      <td>0</td>\n      <td>0</td>\n      <td>0</td>\n      <td>0</td>\n      <td>0</td>\n      <td>0</td>\n      <td>0</td>\n      <td>0</td>\n      <td>0</td>\n      <td>0</td>\n      <td>0</td>\n      <td>0</td>\n      <td>0</td>\n      <td>0</td>\n      <td>0</td>\n      <td>0</td>\n      <td>0</td>\n      <td>0</td>\n      <td>0</td>\n      <td>0</td>\n      <td>0</td>\n      <td>0</td>\n      <td>0</td>\n      <td>0</td>\n      <td>0</td>\n      <td>0</td>\n      <td>0</td>\n      <td>0</td>\n      <td>0</td>\n    </tr>\n    <tr>\n      <th>13</th>\n      <td>184</td>\n      <td>rhinitis</td>\n      <td>0</td>\n      <td>2</td>\n      <td>10</td>\n      <td>0</td>\n      <td>0</td>\n      <td>13</td>\n      <td>0</td>\n      <td>0</td>\n      <td>15</td>\n      <td>0</td>\n      <td>0</td>\n      <td>0</td>\n      <td>0</td>\n      <td>0</td>\n      <td>0</td>\n      <td>0</td>\n      <td>0</td>\n      <td>0</td>\n      <td>0</td>\n      <td>4</td>\n      <td>0</td>\n      <td>0</td>\n      <td>0</td>\n      <td>0</td>\n      <td>0</td>\n      <td>0</td>\n      <td>0</td>\n      <td>0</td>\n      <td>0</td>\n      <td>0</td>\n      <td>0</td>\n      <td>0</td>\n      <td>0</td>\n      <td>0</td>\n      <td>0</td>\n      <td>0</td>\n      <td>0</td>\n      <td>0</td>\n    </tr>\n    <tr>\n      <th>14</th>\n      <td>223</td>\n      <td>pleural pain</td>\n      <td>0</td>\n      <td>0</td>\n      <td>0</td>\n      <td>0</td>\n      <td>0</td>\n      <td>0</td>\n      <td>3</td>\n      <td>0</td>\n      <td>0</td>\n      <td>0</td>\n      <td>0</td>\n      <td>0</td>\n      <td>0</td>\n      <td>0</td>\n      <td>0</td>\n      <td>0</td>\n      <td>0</td>\n      <td>0</td>\n      <td>0</td>\n      <td>0</td>\n      <td>0</td>\n      <td>0</td>\n      <td>0</td>\n      <td>0</td>\n      <td>0</td>\n      <td>0</td>\n      <td>0</td>\n      <td>0</td>\n      <td>0</td>\n      <td>0</td>\n      <td>0</td>\n      <td>0</td>\n      <td>0</td>\n      <td>0</td>\n      <td>0</td>\n      <td>0</td>\n      <td>0</td>\n      <td>0</td>\n    </tr>\n    <tr>\n      <th>15</th>\n      <td>279</td>\n      <td>bacterial infection</td>\n      <td>0</td>\n      <td>0</td>\n      <td>0</td>\n      <td>0</td>\n      <td>0</td>\n      <td>6</td>\n      <td>0</td>\n      <td>0</td>\n      <td>0</td>\n      <td>0</td>\n      <td>0</td>\n      <td>0</td>\n      <td>0</td>\n      <td>0</td>\n      <td>0</td>\n      <td>0</td>\n      <td>0</td>\n      <td>0</td>\n      <td>0</td>\n      <td>0</td>\n      <td>0</td>\n      <td>0</td>\n      <td>0</td>\n      <td>0</td>\n      <td>0</td>\n      <td>0</td>\n      <td>0</td>\n      <td>0</td>\n      <td>0</td>\n      <td>0</td>\n      <td>0</td>\n      <td>0</td>\n      <td>0</td>\n      <td>0</td>\n      <td>0</td>\n      <td>0</td>\n      <td>0</td>\n      <td>0</td>\n    </tr>\n    <tr>\n      <th>16</th>\n      <td>337</td>\n      <td>laryngitis</td>\n      <td>0</td>\n      <td>0</td>\n      <td>0</td>\n      <td>0</td>\n      <td>0</td>\n      <td>15</td>\n      <td>4</td>\n      <td>0</td>\n      <td>0</td>\n      <td>0</td>\n      <td>0</td>\n      <td>0</td>\n      <td>0</td>\n      <td>0</td>\n      <td>0</td>\n      <td>0</td>\n      <td>0</td>\n      <td>0</td>\n      <td>0</td>\n      <td>0</td>\n      <td>3</td>\n      <td>0</td>\n      <td>0</td>\n      <td>0</td>\n      <td>0</td>\n      <td>0</td>\n      <td>0</td>\n      <td>0</td>\n      <td>0</td>\n      <td>0</td>\n      <td>0</td>\n      <td>0</td>\n      <td>0</td>\n      <td>0</td>\n      <td>0</td>\n      <td>0</td>\n      <td>0</td>\n      <td>0</td>\n    </tr>\n    <tr>\n      <th>17</th>\n      <td>369</td>\n      <td>gingivitis</td>\n      <td>5</td>\n      <td>2</td>\n      <td>0</td>\n      <td>0</td>\n      <td>0</td>\n      <td>0</td>\n      <td>0</td>\n      <td>0</td>\n      <td>0</td>\n      <td>0</td>\n      <td>0</td>\n      <td>0</td>\n      <td>0</td>\n      <td>0</td>\n      <td>0</td>\n      <td>0</td>\n      <td>0</td>\n      <td>0</td>\n      <td>0</td>\n      <td>0</td>\n      <td>0</td>\n      <td>0</td>\n      <td>0</td>\n      <td>0</td>\n      <td>0</td>\n      <td>0</td>\n      <td>0</td>\n      <td>0</td>\n      <td>0</td>\n      <td>0</td>\n      <td>0</td>\n      <td>0</td>\n      <td>0</td>\n      <td>0</td>\n      <td>0</td>\n      <td>0</td>\n      <td>0</td>\n      <td>0</td>\n    </tr>\n    <tr>\n      <th>18</th>\n      <td>370</td>\n      <td>soft tissue infection</td>\n      <td>0</td>\n      <td>0</td>\n      <td>0</td>\n      <td>0</td>\n      <td>0</td>\n      <td>26</td>\n      <td>0</td>\n      <td>0</td>\n      <td>0</td>\n      <td>0</td>\n      <td>0</td>\n      <td>0</td>\n      <td>0</td>\n      <td>0</td>\n      <td>0</td>\n      <td>0</td>\n      <td>0</td>\n      <td>0</td>\n      <td>0</td>\n      <td>0</td>\n      <td>0</td>\n      <td>14</td>\n      <td>0</td>\n      <td>0</td>\n      <td>0</td>\n      <td>0</td>\n      <td>0</td>\n      <td>0</td>\n      <td>0</td>\n      <td>0</td>\n      <td>0</td>\n      <td>0</td>\n      <td>0</td>\n      <td>0</td>\n      <td>0</td>\n      <td>0</td>\n      <td>0</td>\n      <td>0</td>\n    </tr>\n    <tr>\n      <th>19</th>\n      <td>429</td>\n      <td>spondylitis</td>\n      <td>12</td>\n      <td>2</td>\n      <td>15</td>\n      <td>13</td>\n      <td>41</td>\n      <td>24</td>\n      <td>9</td>\n      <td>0</td>\n      <td>37</td>\n      <td>8</td>\n      <td>76</td>\n      <td>5</td>\n      <td>0</td>\n      <td>6</td>\n      <td>5</td>\n      <td>0</td>\n      <td>0</td>\n      <td>0</td>\n      <td>0</td>\n      <td>0</td>\n      <td>4</td>\n      <td>0</td>\n      <td>4</td>\n      <td>7</td>\n      <td>24</td>\n      <td>5</td>\n      <td>24</td>\n      <td>4</td>\n      <td>4</td>\n      <td>0</td>\n      <td>0</td>\n      <td>0</td>\n      <td>0</td>\n      <td>0</td>\n      <td>0</td>\n      <td>0</td>\n      <td>0</td>\n      <td>0</td>\n    </tr>\n    <tr>\n      <th>20</th>\n      <td>543</td>\n      <td>streptococcal infection</td>\n      <td>9</td>\n      <td>0</td>\n      <td>0</td>\n      <td>0</td>\n      <td>0</td>\n      <td>0</td>\n      <td>0</td>\n      <td>0</td>\n      <td>0</td>\n      <td>0</td>\n      <td>0</td>\n      <td>0</td>\n      <td>0</td>\n      <td>0</td>\n      <td>0</td>\n      <td>0</td>\n      <td>0</td>\n      <td>0</td>\n      <td>0</td>\n      <td>0</td>\n      <td>0</td>\n      <td>0</td>\n      <td>0</td>\n      <td>0</td>\n      <td>0</td>\n      <td>0</td>\n      <td>0</td>\n      <td>0</td>\n      <td>0</td>\n      <td>0</td>\n      <td>0</td>\n      <td>0</td>\n      <td>0</td>\n      <td>0</td>\n      <td>0</td>\n      <td>0</td>\n      <td>0</td>\n      <td>0</td>\n    </tr>\n    <tr>\n      <th>21</th>\n      <td>544</td>\n      <td>aspergillosis</td>\n      <td>7</td>\n      <td>0</td>\n      <td>0</td>\n      <td>10</td>\n      <td>31</td>\n      <td>17</td>\n      <td>0</td>\n      <td>0</td>\n      <td>0</td>\n      <td>0</td>\n      <td>0</td>\n      <td>0</td>\n      <td>0</td>\n      <td>0</td>\n      <td>0</td>\n      <td>0</td>\n      <td>0</td>\n      <td>0</td>\n      <td>0</td>\n      <td>0</td>\n      <td>0</td>\n      <td>0</td>\n      <td>0</td>\n      <td>0</td>\n      <td>0</td>\n      <td>0</td>\n      <td>0</td>\n      <td>0</td>\n      <td>0</td>\n      <td>0</td>\n      <td>0</td>\n      <td>0</td>\n      <td>0</td>\n      <td>0</td>\n      <td>0</td>\n      <td>0</td>\n      <td>0</td>\n      <td>0</td>\n    </tr>\n    <tr>\n      <th>22</th>\n      <td>557</td>\n      <td>onychomycosis</td>\n      <td>7</td>\n      <td>2</td>\n      <td>0</td>\n      <td>0</td>\n      <td>0</td>\n      <td>0</td>\n      <td>6</td>\n      <td>0</td>\n      <td>16</td>\n      <td>0</td>\n      <td>34</td>\n      <td>0</td>\n      <td>0</td>\n      <td>3</td>\n      <td>3</td>\n      <td>0</td>\n      <td>0</td>\n      <td>0</td>\n      <td>0</td>\n      <td>0</td>\n      <td>0</td>\n      <td>0</td>\n      <td>3</td>\n      <td>0</td>\n      <td>0</td>\n      <td>0</td>\n      <td>0</td>\n      <td>0</td>\n      <td>0</td>\n      <td>0</td>\n      <td>0</td>\n      <td>0</td>\n      <td>0</td>\n      <td>0</td>\n      <td>0</td>\n      <td>0</td>\n      <td>0</td>\n      <td>0</td>\n    </tr>\n    <tr>\n      <th>23</th>\n      <td>645</td>\n      <td>bacterial pneumonia</td>\n      <td>10</td>\n      <td>2</td>\n      <td>0</td>\n      <td>13</td>\n      <td>28</td>\n      <td>19</td>\n      <td>0</td>\n      <td>0</td>\n      <td>39</td>\n      <td>7</td>\n      <td>54</td>\n      <td>6</td>\n      <td>0</td>\n      <td>0</td>\n      <td>4</td>\n      <td>0</td>\n      <td>0</td>\n      <td>0</td>\n      <td>0</td>\n      <td>0</td>\n      <td>0</td>\n      <td>0</td>\n      <td>0</td>\n      <td>0</td>\n      <td>0</td>\n      <td>0</td>\n      <td>22</td>\n      <td>0</td>\n      <td>0</td>\n      <td>5</td>\n      <td>2</td>\n      <td>0</td>\n      <td>0</td>\n      <td>0</td>\n      <td>0</td>\n      <td>0</td>\n      <td>0</td>\n      <td>0</td>\n    </tr>\n    <tr>\n      <th>24</th>\n      <td>650</td>\n      <td>liver abscess</td>\n      <td>0</td>\n      <td>0</td>\n      <td>0</td>\n      <td>0</td>\n      <td>0</td>\n      <td>18</td>\n      <td>5</td>\n      <td>19</td>\n      <td>0</td>\n      <td>0</td>\n      <td>0</td>\n      <td>0</td>\n      <td>0</td>\n      <td>0</td>\n      <td>0</td>\n      <td>0</td>\n      <td>0</td>\n      <td>0</td>\n      <td>0</td>\n      <td>0</td>\n      <td>0</td>\n      <td>14</td>\n      <td>0</td>\n      <td>0</td>\n      <td>0</td>\n      <td>0</td>\n      <td>0</td>\n      <td>0</td>\n      <td>0</td>\n      <td>0</td>\n      <td>0</td>\n      <td>3</td>\n      <td>6</td>\n      <td>3</td>\n      <td>2</td>\n      <td>0</td>\n      <td>0</td>\n      <td>0</td>\n    </tr>\n    <tr>\n      <th>25</th>\n      <td>660</td>\n      <td>pelvic inflammatory disease</td>\n      <td>0</td>\n      <td>0</td>\n      <td>0</td>\n      <td>0</td>\n      <td>0</td>\n      <td>0</td>\n      <td>0</td>\n      <td>0</td>\n      <td>0</td>\n      <td>0</td>\n      <td>0</td>\n      <td>0</td>\n      <td>6</td>\n      <td>0</td>\n      <td>0</td>\n      <td>0</td>\n      <td>0</td>\n      <td>0</td>\n      <td>0</td>\n      <td>0</td>\n      <td>0</td>\n      <td>0</td>\n      <td>0</td>\n      <td>0</td>\n      <td>0</td>\n      <td>0</td>\n      <td>0</td>\n      <td>0</td>\n      <td>0</td>\n      <td>0</td>\n      <td>0</td>\n      <td>0</td>\n      <td>0</td>\n      <td>0</td>\n      <td>0</td>\n      <td>0</td>\n      <td>0</td>\n      <td>0</td>\n    </tr>\n    <tr>\n      <th>26</th>\n      <td>685</td>\n      <td>hepatitis b</td>\n      <td>5</td>\n      <td>2</td>\n      <td>10</td>\n      <td>0</td>\n      <td>0</td>\n      <td>12</td>\n      <td>0</td>\n      <td>0</td>\n      <td>12</td>\n      <td>0</td>\n      <td>24</td>\n      <td>0</td>\n      <td>0</td>\n      <td>0</td>\n      <td>0</td>\n      <td>0</td>\n      <td>0</td>\n      <td>0</td>\n      <td>0</td>\n      <td>0</td>\n      <td>0</td>\n      <td>0</td>\n      <td>0</td>\n      <td>0</td>\n      <td>12</td>\n      <td>0</td>\n      <td>0</td>\n      <td>0</td>\n      <td>0</td>\n      <td>0</td>\n      <td>0</td>\n      <td>0</td>\n      <td>0</td>\n      <td>3</td>\n      <td>0</td>\n      <td>4</td>\n      <td>2</td>\n      <td>0</td>\n    </tr>\n    <tr>\n      <th>27</th>\n      <td>710</td>\n      <td>erysipelas</td>\n      <td>8</td>\n      <td>0</td>\n      <td>0</td>\n      <td>0</td>\n      <td>0</td>\n      <td>12</td>\n      <td>0</td>\n      <td>0</td>\n      <td>16</td>\n      <td>4</td>\n      <td>0</td>\n      <td>4</td>\n      <td>0</td>\n      <td>4</td>\n      <td>4</td>\n      <td>0</td>\n      <td>0</td>\n      <td>0</td>\n      <td>0</td>\n      <td>0</td>\n      <td>0</td>\n      <td>0</td>\n      <td>0</td>\n      <td>0</td>\n      <td>0</td>\n      <td>0</td>\n      <td>0</td>\n      <td>3</td>\n      <td>0</td>\n      <td>0</td>\n      <td>0</td>\n      <td>0</td>\n      <td>0</td>\n      <td>0</td>\n      <td>0</td>\n      <td>0</td>\n      <td>0</td>\n      <td>0</td>\n    </tr>\n    <tr>\n      <th>28</th>\n      <td>712</td>\n      <td>hepatitis c</td>\n      <td>0</td>\n      <td>0</td>\n      <td>0</td>\n      <td>0</td>\n      <td>0</td>\n      <td>13</td>\n      <td>0</td>\n      <td>0</td>\n      <td>0</td>\n      <td>0</td>\n      <td>0</td>\n      <td>0</td>\n      <td>0</td>\n      <td>0</td>\n      <td>0</td>\n      <td>0</td>\n      <td>0</td>\n      <td>2</td>\n      <td>0</td>\n      <td>0</td>\n      <td>0</td>\n      <td>0</td>\n      <td>0</td>\n      <td>0</td>\n      <td>0</td>\n      <td>0</td>\n      <td>0</td>\n      <td>0</td>\n      <td>0</td>\n      <td>0</td>\n      <td>0</td>\n      <td>0</td>\n      <td>0</td>\n      <td>0</td>\n      <td>0</td>\n      <td>0</td>\n      <td>0</td>\n      <td>0</td>\n    </tr>\n    <tr>\n      <th>29</th>\n      <td>713</td>\n      <td>eye infection</td>\n      <td>0</td>\n      <td>0</td>\n      <td>0</td>\n      <td>0</td>\n      <td>0</td>\n      <td>19</td>\n      <td>0</td>\n      <td>0</td>\n      <td>18</td>\n      <td>7</td>\n      <td>0</td>\n      <td>0</td>\n      <td>0</td>\n      <td>5</td>\n      <td>4</td>\n      <td>0</td>\n      <td>0</td>\n      <td>0</td>\n      <td>0</td>\n      <td>0</td>\n      <td>0</td>\n      <td>13</td>\n      <td>0</td>\n      <td>0</td>\n      <td>0</td>\n      <td>0</td>\n      <td>0</td>\n      <td>0</td>\n      <td>0</td>\n      <td>0</td>\n      <td>0</td>\n      <td>0</td>\n      <td>0</td>\n      <td>0</td>\n      <td>0</td>\n      <td>0</td>\n      <td>0</td>\n      <td>0</td>\n    </tr>\n    <tr>\n      <th>30</th>\n      <td>714</td>\n      <td>ebv infection</td>\n      <td>0</td>\n      <td>0</td>\n      <td>0</td>\n      <td>0</td>\n      <td>0</td>\n      <td>0</td>\n      <td>6</td>\n      <td>16</td>\n      <td>0</td>\n      <td>0</td>\n      <td>0</td>\n      <td>0</td>\n      <td>0</td>\n      <td>0</td>\n      <td>0</td>\n      <td>0</td>\n      <td>0</td>\n      <td>0</td>\n      <td>0</td>\n      <td>0</td>\n      <td>0</td>\n      <td>0</td>\n      <td>0</td>\n      <td>0</td>\n      <td>0</td>\n      <td>0</td>\n      <td>0</td>\n      <td>0</td>\n      <td>0</td>\n      <td>0</td>\n      <td>0</td>\n      <td>0</td>\n      <td>0</td>\n      <td>0</td>\n      <td>0</td>\n      <td>0</td>\n      <td>0</td>\n      <td>0</td>\n    </tr>\n    <tr>\n      <th>31</th>\n      <td>728</td>\n      <td>tracheitis</td>\n      <td>0</td>\n      <td>0</td>\n      <td>0</td>\n      <td>0</td>\n      <td>0</td>\n      <td>16</td>\n      <td>0</td>\n      <td>0</td>\n      <td>0</td>\n      <td>0</td>\n      <td>0</td>\n      <td>0</td>\n      <td>0</td>\n      <td>0</td>\n      <td>0</td>\n      <td>0</td>\n      <td>0</td>\n      <td>0</td>\n      <td>0</td>\n      <td>0</td>\n      <td>0</td>\n      <td>0</td>\n      <td>0</td>\n      <td>0</td>\n      <td>0</td>\n      <td>0</td>\n      <td>0</td>\n      <td>0</td>\n      <td>0</td>\n      <td>0</td>\n      <td>2</td>\n      <td>0</td>\n      <td>0</td>\n      <td>0</td>\n      <td>0</td>\n      <td>0</td>\n      <td>0</td>\n      <td>0</td>\n    </tr>\n    <tr>\n      <th>32</th>\n      <td>793</td>\n      <td>epidural abscess</td>\n      <td>0</td>\n      <td>0</td>\n      <td>0</td>\n      <td>0</td>\n      <td>0</td>\n      <td>0</td>\n      <td>4</td>\n      <td>0</td>\n      <td>12</td>\n      <td>0</td>\n      <td>23</td>\n      <td>0</td>\n      <td>0</td>\n      <td>0</td>\n      <td>0</td>\n      <td>0</td>\n      <td>0</td>\n      <td>2</td>\n      <td>0</td>\n      <td>0</td>\n      <td>0</td>\n      <td>0</td>\n      <td>0</td>\n      <td>0</td>\n      <td>0</td>\n      <td>0</td>\n      <td>0</td>\n      <td>0</td>\n      <td>0</td>\n      <td>0</td>\n      <td>0</td>\n      <td>0</td>\n      <td>0</td>\n      <td>0</td>\n      <td>0</td>\n      <td>0</td>\n      <td>0</td>\n      <td>0</td>\n    </tr>\n    <tr>\n      <th>33</th>\n      <td>801</td>\n      <td>histoplasmosis</td>\n      <td>0</td>\n      <td>0</td>\n      <td>0</td>\n      <td>0</td>\n      <td>0</td>\n      <td>18</td>\n      <td>5</td>\n      <td>0</td>\n      <td>0</td>\n      <td>0</td>\n      <td>0</td>\n      <td>0</td>\n      <td>0</td>\n      <td>0</td>\n      <td>0</td>\n      <td>0</td>\n      <td>0</td>\n      <td>0</td>\n      <td>0</td>\n      <td>0</td>\n      <td>0</td>\n      <td>0</td>\n      <td>0</td>\n      <td>0</td>\n      <td>0</td>\n      <td>0</td>\n      <td>0</td>\n      <td>0</td>\n      <td>0</td>\n      <td>0</td>\n      <td>2</td>\n      <td>0</td>\n      <td>0</td>\n      <td>0</td>\n      <td>0</td>\n      <td>0</td>\n      <td>0</td>\n      <td>0</td>\n    </tr>\n    <tr>\n      <th>34</th>\n      <td>815</td>\n      <td>empyema</td>\n      <td>0</td>\n      <td>0</td>\n      <td>0</td>\n      <td>0</td>\n      <td>0</td>\n      <td>16</td>\n      <td>0</td>\n      <td>0</td>\n      <td>0</td>\n      <td>0</td>\n      <td>0</td>\n      <td>0</td>\n      <td>0</td>\n      <td>0</td>\n      <td>0</td>\n      <td>0</td>\n      <td>0</td>\n      <td>0</td>\n      <td>0</td>\n      <td>0</td>\n      <td>0</td>\n      <td>0</td>\n      <td>0</td>\n      <td>0</td>\n      <td>0</td>\n      <td>0</td>\n      <td>0</td>\n      <td>0</td>\n      <td>0</td>\n      <td>0</td>\n      <td>0</td>\n      <td>0</td>\n      <td>0</td>\n      <td>0</td>\n      <td>0</td>\n      <td>0</td>\n      <td>0</td>\n      <td>2</td>\n    </tr>\n    <tr>\n      <th>35</th>\n      <td>845</td>\n      <td>pyuria</td>\n      <td>7</td>\n      <td>0</td>\n      <td>0</td>\n      <td>0</td>\n      <td>0</td>\n      <td>16</td>\n      <td>0</td>\n      <td>0</td>\n      <td>22</td>\n      <td>0</td>\n      <td>43</td>\n      <td>0</td>\n      <td>0</td>\n      <td>0</td>\n      <td>0</td>\n      <td>0</td>\n      <td>0</td>\n      <td>0</td>\n      <td>0</td>\n      <td>0</td>\n      <td>0</td>\n      <td>0</td>\n      <td>0</td>\n      <td>0</td>\n      <td>0</td>\n      <td>0</td>\n      <td>0</td>\n      <td>0</td>\n      <td>0</td>\n      <td>0</td>\n      <td>0</td>\n      <td>0</td>\n      <td>0</td>\n      <td>0</td>\n      <td>0</td>\n      <td>0</td>\n      <td>0</td>\n      <td>0</td>\n    </tr>\n    <tr>\n      <th>36</th>\n      <td>849</td>\n      <td>mumps</td>\n      <td>0</td>\n      <td>0</td>\n      <td>0</td>\n      <td>0</td>\n      <td>0</td>\n      <td>11</td>\n      <td>0</td>\n      <td>0</td>\n      <td>14</td>\n      <td>0</td>\n      <td>0</td>\n      <td>0</td>\n      <td>0</td>\n      <td>0</td>\n      <td>0</td>\n      <td>0</td>\n      <td>0</td>\n      <td>0</td>\n      <td>0</td>\n      <td>0</td>\n      <td>0</td>\n      <td>0</td>\n      <td>0</td>\n      <td>0</td>\n      <td>0</td>\n      <td>0</td>\n      <td>0</td>\n      <td>0</td>\n      <td>0</td>\n      <td>0</td>\n      <td>0</td>\n      <td>0</td>\n      <td>0</td>\n      <td>0</td>\n      <td>0</td>\n      <td>0</td>\n      <td>0</td>\n      <td>0</td>\n    </tr>\n    <tr>\n      <th>37</th>\n      <td>850</td>\n      <td>tinea pedis</td>\n      <td>0</td>\n      <td>2</td>\n      <td>9</td>\n      <td>7</td>\n      <td>0</td>\n      <td>12</td>\n      <td>0</td>\n      <td>0</td>\n      <td>24</td>\n      <td>0</td>\n      <td>39</td>\n      <td>0</td>\n      <td>0</td>\n      <td>0</td>\n      <td>0</td>\n      <td>0</td>\n      <td>0</td>\n      <td>2</td>\n      <td>0</td>\n      <td>0</td>\n      <td>0</td>\n      <td>0</td>\n      <td>0</td>\n      <td>0</td>\n      <td>12</td>\n      <td>0</td>\n      <td>14</td>\n      <td>0</td>\n      <td>0</td>\n      <td>0</td>\n      <td>0</td>\n      <td>0</td>\n      <td>0</td>\n      <td>0</td>\n      <td>0</td>\n      <td>0</td>\n      <td>0</td>\n      <td>0</td>\n    </tr>\n  </tbody>\n</table>\n</div>"
     },
     "metadata": {},
     "execution_count": 81
    }
   ],
   "source": [
    "c1_cgo = pd.DataFrame(ccoo.toarray()).astype(int)\n",
    "c1_cgo = c1_cgo.loc[(c1_cgo!=0).any(1)]\n",
    "\n",
    "c1_ccluster = pd.DataFrame({'side effect idx': c1_cgo.index, 'side effect': [se_idx2name[i] for i in c1_cgo.index]})\n",
    "c1_cgo.columns = [cgo_full_dict[inv_cgo_dict[i]] for i in range(len(c1_cgo.columns))]\n",
    "c1_cgo.index = range(c1_cgo.shape[0])\n",
    "c1_ccluster = pd.concat((c1_ccluster, c1_cgo), axis=1)\n",
    "c1_ccluster"
   ]
  },
  {
   "cell_type": "code",
   "execution_count": 97,
   "metadata": {},
   "outputs": [
    {
     "output_type": "execute_result",
     "data": {
      "text/plain": [
       "array([ 34, 101, 120, 128, 154, 170, 184, 279, 337, 370, 429, 544, 645,\n",
       "       650, 685, 710, 712, 713, 728, 801, 815, 845, 849, 850])"
      ]
     },
     "metadata": {},
     "execution_count": 97
    }
   ],
   "source": [
    "se_5789 = c1_ccluster[c1_ccluster['GO:0005789'] > 0]['side effect idx'].values"
   ]
  },
  {
   "cell_type": "code",
   "execution_count": null,
   "metadata": {},
   "outputs": [],
   "source": [
    "# Drugs which associated with 'GO:005789'\n",
    "\n"
   ]
  },
  {
   "cell_type": "code",
   "execution_count": 61,
   "metadata": {},
   "outputs": [
    {
     "output_type": "stream",
     "name": "stdout",
     "text": [
      "pleural pain -- No.223, the only side effect which is not associated any biological process GO item.\n\npleural pain --> Pleurisy\n"
     ]
    },
    {
     "output_type": "execute_result",
     "data": {
      "text/plain": [
       "                                     name           namespace          id  \\\n",
       "0   voltage-gated calcium channel complex  cellular_component  GO:0005891   \n",
       "1   voltage-gated calcium channel complex  cellular_component  GO:0005891   \n",
       "2   voltage-gated calcium channel complex  cellular_component  GO:0005891   \n",
       "3  voltage-gated calcium channel activity  molecular_function  GO:0005245   \n",
       "4  voltage-gated calcium channel activity  molecular_function  GO:0005245   \n",
       "5  voltage-gated calcium channel activity  molecular_function  GO:0005245   \n",
       "\n",
       "   p_fdr_bh   gene    symbol  \n",
       "0  0.000942  57685    CACHD1  \n",
       "1  0.000942  93589  CACNA2D4  \n",
       "2  0.000942  55799  CACNA2D3  \n",
       "3  0.007618  57685    CACHD1  \n",
       "4  0.007618  93589  CACNA2D4  \n",
       "5  0.007618  55799  CACNA2D3  "
      ],
      "text/html": "<div>\n<style scoped>\n    .dataframe tbody tr th:only-of-type {\n        vertical-align: middle;\n    }\n\n    .dataframe tbody tr th {\n        vertical-align: top;\n    }\n\n    .dataframe thead th {\n        text-align: right;\n    }\n</style>\n<table border=\"1\" class=\"dataframe\">\n  <thead>\n    <tr style=\"text-align: right;\">\n      <th></th>\n      <th>name</th>\n      <th>namespace</th>\n      <th>id</th>\n      <th>p_fdr_bh</th>\n      <th>gene</th>\n      <th>symbol</th>\n    </tr>\n  </thead>\n  <tbody>\n    <tr>\n      <th>0</th>\n      <td>voltage-gated calcium channel complex</td>\n      <td>cellular_component</td>\n      <td>GO:0005891</td>\n      <td>0.000942</td>\n      <td>57685</td>\n      <td>CACHD1</td>\n    </tr>\n    <tr>\n      <th>1</th>\n      <td>voltage-gated calcium channel complex</td>\n      <td>cellular_component</td>\n      <td>GO:0005891</td>\n      <td>0.000942</td>\n      <td>93589</td>\n      <td>CACNA2D4</td>\n    </tr>\n    <tr>\n      <th>2</th>\n      <td>voltage-gated calcium channel complex</td>\n      <td>cellular_component</td>\n      <td>GO:0005891</td>\n      <td>0.000942</td>\n      <td>55799</td>\n      <td>CACNA2D3</td>\n    </tr>\n    <tr>\n      <th>3</th>\n      <td>voltage-gated calcium channel activity</td>\n      <td>molecular_function</td>\n      <td>GO:0005245</td>\n      <td>0.007618</td>\n      <td>57685</td>\n      <td>CACHD1</td>\n    </tr>\n    <tr>\n      <th>4</th>\n      <td>voltage-gated calcium channel activity</td>\n      <td>molecular_function</td>\n      <td>GO:0005245</td>\n      <td>0.007618</td>\n      <td>93589</td>\n      <td>CACNA2D4</td>\n    </tr>\n    <tr>\n      <th>5</th>\n      <td>voltage-gated calcium channel activity</td>\n      <td>molecular_function</td>\n      <td>GO:0005245</td>\n      <td>0.007618</td>\n      <td>55799</td>\n      <td>CACNA2D3</td>\n    </tr>\n  </tbody>\n</table>\n</div>"
     },
     "metadata": {},
     "execution_count": 61
    }
   ],
   "source": [
    "for i, j in list(zip(c1_cluster['side effect idx'].values.tolist(), c1_idx.values.tolist())):\n",
    "    if i != j:\n",
    "        print(f\"{se_idx2name[j]} -- No.{j}, the only side effect which is not associated any biological process GO item.\\n\")\n",
    "        break\n",
    "\n",
    "print(se_idx2name[223], '--> Pleurisy')\n",
    "file = './out_new/all-all-223-2.0-0.99/name_space.csv'\n",
    "if os.path.exists(file):\n",
    "    go_idx = pd.read_csv(file, usecols=[1, 2, 3, 4, 5, 6])\n",
    "go_idx"
   ]
  },
  {
   "cell_type": "code",
   "execution_count": 107,
   "metadata": {},
   "outputs": [
    {
     "output_type": "error",
     "ename": "IndexError",
     "evalue": "The shape of the mask [2, 12062] at index 1 does not match the shape of the indexed tensor [2, 387] at index 1",
     "traceback": [
      "\u001b[0;31m---------------------------------------------------------------------------\u001b[0m",
      "\u001b[0;31mIndexError\u001b[0m                                Traceback (most recent call last)",
      "\u001b[0;32m<ipython-input-107-866fd2b22575>\u001b[0m in \u001b[0;36m<module>\u001b[0;34m\u001b[0m\n\u001b[0;32m----> 1\u001b[0;31m \u001b[0mdata\u001b[0m\u001b[0;34m.\u001b[0m\u001b[0mdd_edge_index\u001b[0m\u001b[0;34m[\u001b[0m\u001b[0;36m0\u001b[0m\u001b[0;34m]\u001b[0m\u001b[0;34m[\u001b[0m\u001b[0mdata\u001b[0m\u001b[0;34m.\u001b[0m\u001b[0mdd_edge_index\u001b[0m\u001b[0;34m[\u001b[0m\u001b[0;36m1\u001b[0m\u001b[0;34m]\u001b[0m \u001b[0;34m==\u001b[0m \u001b[0;36m12\u001b[0m\u001b[0;34m]\u001b[0m\u001b[0;34m\u001b[0m\u001b[0;34m\u001b[0m\u001b[0m\n\u001b[0m",
      "\u001b[0;31mIndexError\u001b[0m: The shape of the mask [2, 12062] at index 1 does not match the shape of the indexed tensor [2, 387] at index 1"
     ]
    }
   ],
   "source": [
    "\n",
    "data.dd_edge_index[0][data.dd_edge_index[1] == 12]"
   ]
  },
  {
   "cell_type": "code",
   "execution_count": 114,
   "metadata": {},
   "outputs": [],
   "source": [
    "for i in range(861):\n",
    "    tmp = data.dd_edge_index[0]\n",
    "    if 88 in tmp[1][np.where(tmp[0] == 12)]:\n",
    "        print(f\"i: {i} -- {se_idx2name[i]}\")"
   ]
  },
  {
   "source": [
    "#### C1 General M"
   ],
   "cell_type": "markdown",
   "metadata": {}
  },
  {
   "source": [
    "### Case Study II: Mental Discorders"
   ],
   "cell_type": "markdown",
   "metadata": {}
  },
  {
   "cell_type": "code",
   "execution_count": 15,
   "metadata": {},
   "outputs": [
    {
     "output_type": "execute_result",
     "data": {
      "text/plain": [
       "[('panic disorder', 452),\n",
       " ('anxiety', 330),\n",
       " ('bipolar disorder', 480),\n",
       " ('major depression', 597),\n",
       " ('alcohol consumption', 646),\n",
       " ('schizoaffective disorder', 664),\n",
       " ('borderline personality disorder', 665),\n",
       " ('agoraphobia', 703),\n",
       " ('conversion disorder', 792)]"
      ]
     },
     "metadata": {},
     "execution_count": 15
    }
   ],
   "source": [
    "md_ids = [se_name2idx[i] for i in psychiaty_psychology]\n",
    "list(zip(psychiaty_psychology, md_ids))"
   ]
  },
  {
   "cell_type": "code",
   "execution_count": null,
   "metadata": {},
   "outputs": [],
   "source": [
    "#### Panic Disorder\n",
    "\n",
    "panicdisorder = pd.read_csv('c1_out/all-all-452')"
   ]
  }
 ]
}